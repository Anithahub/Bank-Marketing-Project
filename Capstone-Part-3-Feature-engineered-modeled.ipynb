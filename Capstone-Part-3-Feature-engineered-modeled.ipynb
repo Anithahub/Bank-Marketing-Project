{
 "cells": [
  {
   "cell_type": "code",
   "execution_count": 2,
   "metadata": {},
   "outputs": [],
   "source": [
    "import pandas as pd\n",
    "import numpy as np\n",
    "import seaborn as sns\n",
    "import matplotlib.pyplot as plt\n",
    "from sklearn.preprocessing import LabelEncoder, MinMaxScaler\n",
    "\n",
    "from sklearn.linear_model import LogisticRegression, SGDClassifier, Ridge, Lasso, ElasticNet, RidgeCV, LassoCV, ElasticNetCV\n",
    "from sklearn.preprocessing import StandardScaler\n",
    "from sklearn.svm import SVC, LinearSVC\n",
    "from sklearn.tree import DecisionTreeClassifier\n",
    "from sklearn.model_selection import cross_val_score, train_test_split, GridSearchCV, StratifiedKFold\n",
    "from sklearn.model_selection import StratifiedKFold\n",
    "from sklearn.neighbors import KNeighborsClassifier\n",
    "from sklearn.ensemble import RandomForestClassifier, ExtraTreesClassifier, BaggingClassifier\n",
    "from sklearn.metrics import confusion_matrix, precision_recall_curve, auc, roc_auc_score, roc_curve, recall_score, classification_report\n",
    "\n",
    "%matplotlib inline"
   ]
  },
  {
   "cell_type": "code",
   "execution_count": 3,
   "metadata": {},
   "outputs": [],
   "source": [
    "from sklearn.feature_selection import SelectKBest, chi2, f_classif"
   ]
  },
  {
   "cell_type": "code",
   "execution_count": 4,
   "metadata": {},
   "outputs": [],
   "source": [
    "from imblearn.over_sampling import SMOTE"
   ]
  },
  {
   "cell_type": "code",
   "execution_count": 5,
   "metadata": {},
   "outputs": [],
   "source": [
    "d = pd.read_csv('data_bank_models.csv')"
   ]
  },
  {
   "cell_type": "code",
   "execution_count": 6,
   "metadata": {},
   "outputs": [
    {
     "data": {
      "text/html": [
       "<div>\n",
       "<style scoped>\n",
       "    .dataframe tbody tr th:only-of-type {\n",
       "        vertical-align: middle;\n",
       "    }\n",
       "\n",
       "    .dataframe tbody tr th {\n",
       "        vertical-align: top;\n",
       "    }\n",
       "\n",
       "    .dataframe thead th {\n",
       "        text-align: right;\n",
       "    }\n",
       "</style>\n",
       "<table border=\"1\" class=\"dataframe\">\n",
       "  <thead>\n",
       "    <tr style=\"text-align: right;\">\n",
       "      <th></th>\n",
       "      <th>age</th>\n",
       "      <th>job</th>\n",
       "      <th>marital</th>\n",
       "      <th>education</th>\n",
       "      <th>default</th>\n",
       "      <th>housing</th>\n",
       "      <th>loan</th>\n",
       "      <th>contact</th>\n",
       "      <th>month</th>\n",
       "      <th>day_of_week</th>\n",
       "      <th>duration</th>\n",
       "      <th>campaign</th>\n",
       "      <th>pdays</th>\n",
       "      <th>previous</th>\n",
       "      <th>poutcome</th>\n",
       "      <th>cons_conf_idx</th>\n",
       "      <th>euribor_3_month</th>\n",
       "      <th>deposit</th>\n",
       "    </tr>\n",
       "  </thead>\n",
       "  <tbody>\n",
       "    <tr>\n",
       "      <th>0</th>\n",
       "      <td>56</td>\n",
       "      <td>3</td>\n",
       "      <td>2</td>\n",
       "      <td>2</td>\n",
       "      <td>0</td>\n",
       "      <td>0</td>\n",
       "      <td>0</td>\n",
       "      <td>1</td>\n",
       "      <td>5</td>\n",
       "      <td>1</td>\n",
       "      <td>4.350000</td>\n",
       "      <td>1</td>\n",
       "      <td>999</td>\n",
       "      <td>0</td>\n",
       "      <td>0</td>\n",
       "      <td>-36.4</td>\n",
       "      <td>4.857</td>\n",
       "      <td>0</td>\n",
       "    </tr>\n",
       "    <tr>\n",
       "      <th>1</th>\n",
       "      <td>57</td>\n",
       "      <td>7</td>\n",
       "      <td>2</td>\n",
       "      <td>3</td>\n",
       "      <td>1</td>\n",
       "      <td>0</td>\n",
       "      <td>0</td>\n",
       "      <td>1</td>\n",
       "      <td>5</td>\n",
       "      <td>1</td>\n",
       "      <td>2.483333</td>\n",
       "      <td>1</td>\n",
       "      <td>999</td>\n",
       "      <td>0</td>\n",
       "      <td>0</td>\n",
       "      <td>-36.4</td>\n",
       "      <td>4.857</td>\n",
       "      <td>0</td>\n",
       "    </tr>\n",
       "    <tr>\n",
       "      <th>2</th>\n",
       "      <td>37</td>\n",
       "      <td>7</td>\n",
       "      <td>2</td>\n",
       "      <td>3</td>\n",
       "      <td>0</td>\n",
       "      <td>2</td>\n",
       "      <td>0</td>\n",
       "      <td>1</td>\n",
       "      <td>5</td>\n",
       "      <td>1</td>\n",
       "      <td>3.766667</td>\n",
       "      <td>1</td>\n",
       "      <td>999</td>\n",
       "      <td>0</td>\n",
       "      <td>0</td>\n",
       "      <td>-36.4</td>\n",
       "      <td>4.857</td>\n",
       "      <td>0</td>\n",
       "    </tr>\n",
       "    <tr>\n",
       "      <th>3</th>\n",
       "      <td>40</td>\n",
       "      <td>0</td>\n",
       "      <td>2</td>\n",
       "      <td>2</td>\n",
       "      <td>0</td>\n",
       "      <td>0</td>\n",
       "      <td>0</td>\n",
       "      <td>1</td>\n",
       "      <td>5</td>\n",
       "      <td>1</td>\n",
       "      <td>2.516667</td>\n",
       "      <td>1</td>\n",
       "      <td>999</td>\n",
       "      <td>0</td>\n",
       "      <td>0</td>\n",
       "      <td>-36.4</td>\n",
       "      <td>4.857</td>\n",
       "      <td>0</td>\n",
       "    </tr>\n",
       "    <tr>\n",
       "      <th>4</th>\n",
       "      <td>56</td>\n",
       "      <td>7</td>\n",
       "      <td>2</td>\n",
       "      <td>3</td>\n",
       "      <td>0</td>\n",
       "      <td>0</td>\n",
       "      <td>2</td>\n",
       "      <td>1</td>\n",
       "      <td>5</td>\n",
       "      <td>1</td>\n",
       "      <td>5.116667</td>\n",
       "      <td>1</td>\n",
       "      <td>999</td>\n",
       "      <td>0</td>\n",
       "      <td>0</td>\n",
       "      <td>-36.4</td>\n",
       "      <td>4.857</td>\n",
       "      <td>0</td>\n",
       "    </tr>\n",
       "  </tbody>\n",
       "</table>\n",
       "</div>"
      ],
      "text/plain": [
       "   age  job  marital  education  default  housing  loan  contact  month  \\\n",
       "0   56    3        2          2        0        0     0        1      5   \n",
       "1   57    7        2          3        1        0     0        1      5   \n",
       "2   37    7        2          3        0        2     0        1      5   \n",
       "3   40    0        2          2        0        0     0        1      5   \n",
       "4   56    7        2          3        0        0     2        1      5   \n",
       "\n",
       "   day_of_week  duration  campaign  pdays  previous  poutcome  cons_conf_idx  \\\n",
       "0            1  4.350000         1    999         0         0          -36.4   \n",
       "1            1  2.483333         1    999         0         0          -36.4   \n",
       "2            1  3.766667         1    999         0         0          -36.4   \n",
       "3            1  2.516667         1    999         0         0          -36.4   \n",
       "4            1  5.116667         1    999         0         0          -36.4   \n",
       "\n",
       "   euribor_3_month  deposit  \n",
       "0            4.857        0  \n",
       "1            4.857        0  \n",
       "2            4.857        0  \n",
       "3            4.857        0  \n",
       "4            4.857        0  "
      ]
     },
     "execution_count": 6,
     "metadata": {},
     "output_type": "execute_result"
    }
   ],
   "source": [
    "d.head()"
   ]
  },
  {
   "cell_type": "code",
   "execution_count": 7,
   "metadata": {},
   "outputs": [],
   "source": [
    "#dropping 'duration column as it is not needed now'\n",
    "d.drop(columns = 'duration', inplace = True)"
   ]
  },
  {
   "cell_type": "code",
   "execution_count": 8,
   "metadata": {},
   "outputs": [
    {
     "data": {
      "text/plain": [
       "Index(['age', 'job', 'marital', 'education', 'default', 'housing', 'loan',\n",
       "       'contact', 'month', 'day_of_week', 'campaign', 'pdays', 'previous',\n",
       "       'poutcome', 'cons_conf_idx', 'euribor_3_month', 'deposit'],\n",
       "      dtype='object')"
      ]
     },
     "execution_count": 8,
     "metadata": {},
     "output_type": "execute_result"
    }
   ],
   "source": [
    "d.columns"
   ]
  },
  {
   "cell_type": "code",
   "execution_count": 9,
   "metadata": {},
   "outputs": [
    {
     "data": {
      "text/plain": [
       "(41184, 17)"
      ]
     },
     "execution_count": 9,
     "metadata": {},
     "output_type": "execute_result"
    }
   ],
   "source": [
    "d.shape"
   ]
  },
  {
   "cell_type": "code",
   "execution_count": 10,
   "metadata": {},
   "outputs": [
    {
     "name": "stdout",
     "output_type": "stream",
     "text": [
      "<class 'pandas.core.frame.DataFrame'>\n",
      "RangeIndex: 41184 entries, 0 to 41183\n",
      "Data columns (total 17 columns):\n",
      "age                41184 non-null int64\n",
      "job                41184 non-null int64\n",
      "marital            41184 non-null int64\n",
      "education          41184 non-null int64\n",
      "default            41184 non-null int64\n",
      "housing            41184 non-null int64\n",
      "loan               41184 non-null int64\n",
      "contact            41184 non-null int64\n",
      "month              41184 non-null int64\n",
      "day_of_week        41184 non-null int64\n",
      "campaign           41184 non-null int64\n",
      "pdays              41184 non-null int64\n",
      "previous           41184 non-null int64\n",
      "poutcome           41184 non-null int64\n",
      "cons_conf_idx      41184 non-null float64\n",
      "euribor_3_month    41184 non-null float64\n",
      "deposit            41184 non-null int64\n",
      "dtypes: float64(2), int64(15)\n",
      "memory usage: 5.3 MB\n"
     ]
    }
   ],
   "source": [
    "d.info()"
   ]
  },
  {
   "cell_type": "code",
   "execution_count": 11,
   "metadata": {},
   "outputs": [],
   "source": [
    "#Changing pdays column to categorical o & 1\n",
    "def prev_days(x):\n",
    "    if x == 999:\n",
    "        x = 0\n",
    "    else:\n",
    "        x = 1\n",
    "    return x"
   ]
  },
  {
   "cell_type": "code",
   "execution_count": 12,
   "metadata": {},
   "outputs": [],
   "source": [
    "#Changing previous column to categorical o & 1\n",
    "def prev(x):\n",
    "    if x == 0:\n",
    "        x = 0\n",
    "    else:\n",
    "        x =1\n",
    "    return x\n",
    "    "
   ]
  },
  {
   "cell_type": "code",
   "execution_count": 13,
   "metadata": {},
   "outputs": [],
   "source": [
    "# bucketing the age group:\n",
    "def age_m(x):\n",
    "    if x <= 32:\n",
    "        x = 1\n",
    "    elif (x > 32) &  ( x <= 47):\n",
    "        x = 2\n",
    "    elif (x > 47) & (x <= 70):\n",
    "        x = 3\n",
    "    elif (x > 70):\n",
    "        x = 4\n",
    "    \n",
    "    return x"
   ]
  },
  {
   "cell_type": "code",
   "execution_count": 14,
   "metadata": {},
   "outputs": [],
   "source": [
    "d['age_bucket'] = d.age.map(age_m)"
   ]
  },
  {
   "cell_type": "code",
   "execution_count": 15,
   "metadata": {},
   "outputs": [
    {
     "data": {
      "text/plain": [
       "array([3, 2, 1, 4], dtype=int64)"
      ]
     },
     "execution_count": 15,
     "metadata": {},
     "output_type": "execute_result"
    }
   ],
   "source": [
    "d.age_bucket.unique()"
   ]
  },
  {
   "cell_type": "code",
   "execution_count": 16,
   "metadata": {},
   "outputs": [
    {
     "data": {
      "text/plain": [
       "array([0, 1, 2], dtype=int64)"
      ]
     },
     "execution_count": 16,
     "metadata": {},
     "output_type": "execute_result"
    }
   ],
   "source": [
    "d.poutcome.unique()"
   ]
  },
  {
   "cell_type": "code",
   "execution_count": 17,
   "metadata": {},
   "outputs": [],
   "source": [
    "#Changing the poutcome code to 1,2,3 from 0,1,2:\n",
    "def change_code(x):\n",
    "    if x == 0:\n",
    "        x =1\n",
    "    elif x ==1:\n",
    "        x = 2\n",
    "    elif x == 2:\n",
    "        x = 3\n",
    "    return x"
   ]
  },
  {
   "cell_type": "code",
   "execution_count": 18,
   "metadata": {},
   "outputs": [],
   "source": [
    "d.poutcome = d.poutcome.map(change_code)"
   ]
  },
  {
   "cell_type": "code",
   "execution_count": 19,
   "metadata": {},
   "outputs": [
    {
     "data": {
      "text/plain": [
       "array([1, 2, 3], dtype=int64)"
      ]
     },
     "execution_count": 19,
     "metadata": {},
     "output_type": "execute_result"
    }
   ],
   "source": [
    "d.poutcome.unique()"
   ]
  },
  {
   "cell_type": "code",
   "execution_count": 20,
   "metadata": {},
   "outputs": [],
   "source": [
    "#Feature engoineering: Combining pdays and previous columns as previous campaign info:\n",
    "previous_campaign = []\n",
    "for i in range(0,41184):\n",
    "    if (d.pdays[i] == 999) & (d.previous[i] == 0):\n",
    "        previous_campaign.append(0)\n",
    "    else:\n",
    "        previous_campaign.append(1)"
   ]
  },
  {
   "cell_type": "code",
   "execution_count": 21,
   "metadata": {},
   "outputs": [
    {
     "data": {
      "text/plain": [
       "41184"
      ]
     },
     "execution_count": 21,
     "metadata": {},
     "output_type": "execute_result"
    }
   ],
   "source": [
    "len(previous_campaign)"
   ]
  },
  {
   "cell_type": "code",
   "execution_count": 22,
   "metadata": {},
   "outputs": [],
   "source": [
    "d['previous_campaign'] = previous_campaign"
   ]
  },
  {
   "cell_type": "code",
   "execution_count": 59,
   "metadata": {},
   "outputs": [
    {
     "data": {
      "text/plain": [
       "0    35559\n",
       "1     5625\n",
       "Name: previous_campaign, dtype: int64"
      ]
     },
     "execution_count": 59,
     "metadata": {},
     "output_type": "execute_result"
    }
   ],
   "source": [
    "d.previous_campaign.value_counts()"
   ]
  },
  {
   "cell_type": "code",
   "execution_count": 24,
   "metadata": {},
   "outputs": [
    {
     "data": {
      "text/plain": [
       "Index(['age', 'job', 'marital', 'education', 'default', 'housing', 'loan',\n",
       "       'contact', 'month', 'day_of_week', 'campaign', 'pdays', 'previous',\n",
       "       'poutcome', 'cons_conf_idx', 'euribor_3_month', 'deposit', 'age_bucket',\n",
       "       'previous_campaign'],\n",
       "      dtype='object')"
      ]
     },
     "execution_count": 24,
     "metadata": {},
     "output_type": "execute_result"
    }
   ],
   "source": [
    "d.columns"
   ]
  },
  {
   "cell_type": "code",
   "execution_count": 60,
   "metadata": {},
   "outputs": [
    {
     "data": {
      "text/html": [
       "<div>\n",
       "<style scoped>\n",
       "    .dataframe tbody tr th:only-of-type {\n",
       "        vertical-align: middle;\n",
       "    }\n",
       "\n",
       "    .dataframe tbody tr th {\n",
       "        vertical-align: top;\n",
       "    }\n",
       "\n",
       "    .dataframe thead th {\n",
       "        text-align: right;\n",
       "    }\n",
       "</style>\n",
       "<table border=\"1\" class=\"dataframe\">\n",
       "  <thead>\n",
       "    <tr style=\"text-align: right;\">\n",
       "      <th></th>\n",
       "      <th>age</th>\n",
       "      <th>job</th>\n",
       "      <th>marital</th>\n",
       "      <th>education</th>\n",
       "      <th>default</th>\n",
       "      <th>housing</th>\n",
       "      <th>loan</th>\n",
       "      <th>contact</th>\n",
       "      <th>month</th>\n",
       "      <th>day_of_week</th>\n",
       "      <th>campaign</th>\n",
       "      <th>pdays</th>\n",
       "      <th>previous</th>\n",
       "      <th>poutcome</th>\n",
       "      <th>cons_conf_idx</th>\n",
       "      <th>euribor_3_month</th>\n",
       "      <th>deposit</th>\n",
       "      <th>age_bucket</th>\n",
       "      <th>previous_campaign</th>\n",
       "    </tr>\n",
       "  </thead>\n",
       "  <tbody>\n",
       "    <tr>\n",
       "      <th>age</th>\n",
       "      <td>1.000000</td>\n",
       "      <td>0.001251</td>\n",
       "      <td>0.389734</td>\n",
       "      <td>-0.161195</td>\n",
       "      <td>0.165005</td>\n",
       "      <td>-0.001694</td>\n",
       "      <td>-0.007346</td>\n",
       "      <td>-0.007065</td>\n",
       "      <td>0.077263</td>\n",
       "      <td>-0.018532</td>\n",
       "      <td>0.004468</td>\n",
       "      <td>-0.034381</td>\n",
       "      <td>0.024384</td>\n",
       "      <td>0.026392</td>\n",
       "      <td>0.129366</td>\n",
       "      <td>0.010745</td>\n",
       "      <td>0.030419</td>\n",
       "      <td>0.910191</td>\n",
       "      <td>0.016397</td>\n",
       "    </tr>\n",
       "    <tr>\n",
       "      <th>job</th>\n",
       "      <td>0.001251</td>\n",
       "      <td>1.000000</td>\n",
       "      <td>-0.027852</td>\n",
       "      <td>0.114367</td>\n",
       "      <td>-0.028309</td>\n",
       "      <td>0.006982</td>\n",
       "      <td>-0.010236</td>\n",
       "      <td>0.025127</td>\n",
       "      <td>0.044803</td>\n",
       "      <td>-0.004977</td>\n",
       "      <td>-0.006917</td>\n",
       "      <td>-0.028457</td>\n",
       "      <td>0.020945</td>\n",
       "      <td>0.021103</td>\n",
       "      <td>0.052737</td>\n",
       "      <td>-0.007912</td>\n",
       "      <td>0.025102</td>\n",
       "      <td>-0.002734</td>\n",
       "      <td>0.014616</td>\n",
       "    </tr>\n",
       "    <tr>\n",
       "      <th>marital</th>\n",
       "      <td>0.389734</td>\n",
       "      <td>-0.027852</td>\n",
       "      <td>1.000000</td>\n",
       "      <td>-0.087581</td>\n",
       "      <td>0.079490</td>\n",
       "      <td>-0.010517</td>\n",
       "      <td>-0.005758</td>\n",
       "      <td>-0.054543</td>\n",
       "      <td>0.018721</td>\n",
       "      <td>-0.014521</td>\n",
       "      <td>0.007214</td>\n",
       "      <td>0.037930</td>\n",
       "      <td>-0.038668</td>\n",
       "      <td>-0.040395</td>\n",
       "      <td>0.033849</td>\n",
       "      <td>0.092005</td>\n",
       "      <td>-0.046181</td>\n",
       "      <td>0.379005</td>\n",
       "      <td>-0.035063</td>\n",
       "    </tr>\n",
       "    <tr>\n",
       "      <th>education</th>\n",
       "      <td>-0.161195</td>\n",
       "      <td>0.114367</td>\n",
       "      <td>-0.087581</td>\n",
       "      <td>1.000000</td>\n",
       "      <td>-0.208313</td>\n",
       "      <td>0.022568</td>\n",
       "      <td>0.010496</td>\n",
       "      <td>0.103720</td>\n",
       "      <td>0.112959</td>\n",
       "      <td>-0.003564</td>\n",
       "      <td>-0.001585</td>\n",
       "      <td>-0.019032</td>\n",
       "      <td>0.012232</td>\n",
       "      <td>0.018353</td>\n",
       "      <td>0.040410</td>\n",
       "      <td>-0.022484</td>\n",
       "      <td>0.027014</td>\n",
       "      <td>-0.142184</td>\n",
       "      <td>0.013567</td>\n",
       "    </tr>\n",
       "    <tr>\n",
       "      <th>default</th>\n",
       "      <td>0.165005</td>\n",
       "      <td>-0.028309</td>\n",
       "      <td>0.079490</td>\n",
       "      <td>-0.208313</td>\n",
       "      <td>1.000000</td>\n",
       "      <td>-0.015794</td>\n",
       "      <td>-0.003805</td>\n",
       "      <td>-0.135233</td>\n",
       "      <td>-0.084354</td>\n",
       "      <td>-0.004303</td>\n",
       "      <td>0.032867</td>\n",
       "      <td>0.080073</td>\n",
       "      <td>-0.102436</td>\n",
       "      <td>-0.108180</td>\n",
       "      <td>0.026514</td>\n",
       "      <td>0.195336</td>\n",
       "      <td>-0.099371</td>\n",
       "      <td>0.162479</td>\n",
       "      <td>-0.103970</td>\n",
       "    </tr>\n",
       "    <tr>\n",
       "      <th>housing</th>\n",
       "      <td>-0.001694</td>\n",
       "      <td>0.006982</td>\n",
       "      <td>-0.010517</td>\n",
       "      <td>0.022568</td>\n",
       "      <td>-0.015794</td>\n",
       "      <td>1.000000</td>\n",
       "      <td>0.044317</td>\n",
       "      <td>0.082208</td>\n",
       "      <td>0.031878</td>\n",
       "      <td>-0.009041</td>\n",
       "      <td>-0.011094</td>\n",
       "      <td>-0.010559</td>\n",
       "      <td>0.021330</td>\n",
       "      <td>0.023758</td>\n",
       "      <td>-0.033891</td>\n",
       "      <td>-0.059324</td>\n",
       "      <td>0.011567</td>\n",
       "      <td>0.000041</td>\n",
       "      <td>0.025175</td>\n",
       "    </tr>\n",
       "    <tr>\n",
       "      <th>loan</th>\n",
       "      <td>-0.007346</td>\n",
       "      <td>-0.010236</td>\n",
       "      <td>-0.005758</td>\n",
       "      <td>0.010496</td>\n",
       "      <td>-0.003805</td>\n",
       "      <td>0.044317</td>\n",
       "      <td>1.000000</td>\n",
       "      <td>0.008567</td>\n",
       "      <td>-0.004217</td>\n",
       "      <td>0.002371</td>\n",
       "      <td>0.005201</td>\n",
       "      <td>0.000354</td>\n",
       "      <td>-0.001343</td>\n",
       "      <td>-0.000482</td>\n",
       "      <td>-0.012034</td>\n",
       "      <td>0.000114</td>\n",
       "      <td>-0.004924</td>\n",
       "      <td>-0.002243</td>\n",
       "      <td>0.000103</td>\n",
       "    </tr>\n",
       "    <tr>\n",
       "      <th>contact</th>\n",
       "      <td>-0.007065</td>\n",
       "      <td>0.025127</td>\n",
       "      <td>-0.054543</td>\n",
       "      <td>0.103720</td>\n",
       "      <td>-0.135233</td>\n",
       "      <td>0.082208</td>\n",
       "      <td>0.008567</td>\n",
       "      <td>1.000000</td>\n",
       "      <td>0.324342</td>\n",
       "      <td>-0.019595</td>\n",
       "      <td>-0.077410</td>\n",
       "      <td>-0.117980</td>\n",
       "      <td>0.212866</td>\n",
       "      <td>0.226833</td>\n",
       "      <td>-0.251581</td>\n",
       "      <td>-0.399755</td>\n",
       "      <td>0.144788</td>\n",
       "      <td>-0.019682</td>\n",
       "      <td>0.242533</td>\n",
       "    </tr>\n",
       "    <tr>\n",
       "      <th>month</th>\n",
       "      <td>0.077263</td>\n",
       "      <td>0.044803</td>\n",
       "      <td>0.018721</td>\n",
       "      <td>0.112959</td>\n",
       "      <td>-0.084354</td>\n",
       "      <td>0.031878</td>\n",
       "      <td>-0.004217</td>\n",
       "      <td>0.324342</td>\n",
       "      <td>1.000000</td>\n",
       "      <td>-0.006944</td>\n",
       "      <td>-0.030672</td>\n",
       "      <td>-0.079549</td>\n",
       "      <td>0.063739</td>\n",
       "      <td>0.060825</td>\n",
       "      <td>0.264187</td>\n",
       "      <td>0.163364</td>\n",
       "      <td>0.037170</td>\n",
       "      <td>0.061046</td>\n",
       "      <td>0.043616</td>\n",
       "    </tr>\n",
       "    <tr>\n",
       "      <th>day_of_week</th>\n",
       "      <td>-0.018532</td>\n",
       "      <td>-0.004977</td>\n",
       "      <td>-0.014521</td>\n",
       "      <td>-0.003564</td>\n",
       "      <td>-0.004303</td>\n",
       "      <td>-0.009041</td>\n",
       "      <td>0.002371</td>\n",
       "      <td>-0.019595</td>\n",
       "      <td>-0.006944</td>\n",
       "      <td>1.000000</td>\n",
       "      <td>0.015142</td>\n",
       "      <td>0.006772</td>\n",
       "      <td>0.004002</td>\n",
       "      <td>0.003267</td>\n",
       "      <td>-0.000061</td>\n",
       "      <td>-0.005530</td>\n",
       "      <td>0.010040</td>\n",
       "      <td>-0.015291</td>\n",
       "      <td>0.007394</td>\n",
       "    </tr>\n",
       "    <tr>\n",
       "      <th>campaign</th>\n",
       "      <td>0.004468</td>\n",
       "      <td>-0.006917</td>\n",
       "      <td>0.007214</td>\n",
       "      <td>-0.001585</td>\n",
       "      <td>0.032867</td>\n",
       "      <td>-0.011094</td>\n",
       "      <td>0.005201</td>\n",
       "      <td>-0.077410</td>\n",
       "      <td>-0.030672</td>\n",
       "      <td>0.015142</td>\n",
       "      <td>1.000000</td>\n",
       "      <td>0.052574</td>\n",
       "      <td>-0.079122</td>\n",
       "      <td>-0.086063</td>\n",
       "      <td>-0.013809</td>\n",
       "      <td>0.135091</td>\n",
       "      <td>-0.066337</td>\n",
       "      <td>0.005462</td>\n",
       "      <td>-0.087623</td>\n",
       "    </tr>\n",
       "    <tr>\n",
       "      <th>pdays</th>\n",
       "      <td>-0.034381</td>\n",
       "      <td>-0.028457</td>\n",
       "      <td>0.037930</td>\n",
       "      <td>-0.019032</td>\n",
       "      <td>0.080073</td>\n",
       "      <td>-0.010559</td>\n",
       "      <td>0.000354</td>\n",
       "      <td>-0.117980</td>\n",
       "      <td>-0.079549</td>\n",
       "      <td>0.006772</td>\n",
       "      <td>0.052574</td>\n",
       "      <td>1.000000</td>\n",
       "      <td>-0.587512</td>\n",
       "      <td>-0.744679</td>\n",
       "      <td>-0.091344</td>\n",
       "      <td>0.296921</td>\n",
       "      <td>-0.324910</td>\n",
       "      <td>-0.018382</td>\n",
       "      <td>-0.491350</td>\n",
       "    </tr>\n",
       "    <tr>\n",
       "      <th>previous</th>\n",
       "      <td>0.024384</td>\n",
       "      <td>0.020945</td>\n",
       "      <td>-0.038668</td>\n",
       "      <td>0.012232</td>\n",
       "      <td>-0.102436</td>\n",
       "      <td>0.021330</td>\n",
       "      <td>-0.001343</td>\n",
       "      <td>0.212866</td>\n",
       "      <td>0.063739</td>\n",
       "      <td>0.004002</td>\n",
       "      <td>-0.079122</td>\n",
       "      <td>-0.587512</td>\n",
       "      <td>1.000000</td>\n",
       "      <td>0.868538</td>\n",
       "      <td>-0.050947</td>\n",
       "      <td>-0.454530</td>\n",
       "      <td>0.230172</td>\n",
       "      <td>0.013041</td>\n",
       "      <td>0.878774</td>\n",
       "    </tr>\n",
       "    <tr>\n",
       "      <th>poutcome</th>\n",
       "      <td>0.026392</td>\n",
       "      <td>0.021103</td>\n",
       "      <td>-0.040395</td>\n",
       "      <td>0.018353</td>\n",
       "      <td>-0.108180</td>\n",
       "      <td>0.023758</td>\n",
       "      <td>-0.000482</td>\n",
       "      <td>0.226833</td>\n",
       "      <td>0.060825</td>\n",
       "      <td>0.003267</td>\n",
       "      <td>-0.086063</td>\n",
       "      <td>-0.744679</td>\n",
       "      <td>0.868538</td>\n",
       "      <td>1.000000</td>\n",
       "      <td>-0.041739</td>\n",
       "      <td>-0.478726</td>\n",
       "      <td>0.270364</td>\n",
       "      <td>0.013676</td>\n",
       "      <td>0.937380</td>\n",
       "    </tr>\n",
       "    <tr>\n",
       "      <th>cons_conf_idx</th>\n",
       "      <td>0.129366</td>\n",
       "      <td>0.052737</td>\n",
       "      <td>0.033849</td>\n",
       "      <td>0.040410</td>\n",
       "      <td>0.026514</td>\n",
       "      <td>-0.033891</td>\n",
       "      <td>-0.012034</td>\n",
       "      <td>-0.251581</td>\n",
       "      <td>0.264187</td>\n",
       "      <td>-0.000061</td>\n",
       "      <td>-0.013809</td>\n",
       "      <td>-0.091344</td>\n",
       "      <td>-0.050947</td>\n",
       "      <td>-0.041739</td>\n",
       "      <td>1.000000</td>\n",
       "      <td>0.277603</td>\n",
       "      <td>0.054875</td>\n",
       "      <td>0.109025</td>\n",
       "      <td>-0.099739</td>\n",
       "    </tr>\n",
       "    <tr>\n",
       "      <th>euribor_3_month</th>\n",
       "      <td>0.010745</td>\n",
       "      <td>-0.007912</td>\n",
       "      <td>0.092005</td>\n",
       "      <td>-0.022484</td>\n",
       "      <td>0.195336</td>\n",
       "      <td>-0.059324</td>\n",
       "      <td>0.000114</td>\n",
       "      <td>-0.399755</td>\n",
       "      <td>0.163364</td>\n",
       "      <td>-0.005530</td>\n",
       "      <td>0.135091</td>\n",
       "      <td>0.296921</td>\n",
       "      <td>-0.454530</td>\n",
       "      <td>-0.478726</td>\n",
       "      <td>0.277603</td>\n",
       "      <td>1.000000</td>\n",
       "      <td>-0.307799</td>\n",
       "      <td>0.031423</td>\n",
       "      <td>-0.488447</td>\n",
       "    </tr>\n",
       "    <tr>\n",
       "      <th>deposit</th>\n",
       "      <td>0.030419</td>\n",
       "      <td>0.025102</td>\n",
       "      <td>-0.046181</td>\n",
       "      <td>0.027014</td>\n",
       "      <td>-0.099371</td>\n",
       "      <td>0.011567</td>\n",
       "      <td>-0.004924</td>\n",
       "      <td>0.144788</td>\n",
       "      <td>0.037170</td>\n",
       "      <td>0.010040</td>\n",
       "      <td>-0.066337</td>\n",
       "      <td>-0.324910</td>\n",
       "      <td>0.230172</td>\n",
       "      <td>0.270364</td>\n",
       "      <td>0.054875</td>\n",
       "      <td>-0.307799</td>\n",
       "      <td>1.000000</td>\n",
       "      <td>0.009850</td>\n",
       "      <td>0.193496</td>\n",
       "    </tr>\n",
       "    <tr>\n",
       "      <th>age_bucket</th>\n",
       "      <td>0.910191</td>\n",
       "      <td>-0.002734</td>\n",
       "      <td>0.379005</td>\n",
       "      <td>-0.142184</td>\n",
       "      <td>0.162479</td>\n",
       "      <td>0.000041</td>\n",
       "      <td>-0.002243</td>\n",
       "      <td>-0.019682</td>\n",
       "      <td>0.061046</td>\n",
       "      <td>-0.015291</td>\n",
       "      <td>0.005462</td>\n",
       "      <td>-0.018382</td>\n",
       "      <td>0.013041</td>\n",
       "      <td>0.013676</td>\n",
       "      <td>0.109025</td>\n",
       "      <td>0.031423</td>\n",
       "      <td>0.009850</td>\n",
       "      <td>1.000000</td>\n",
       "      <td>0.007733</td>\n",
       "    </tr>\n",
       "    <tr>\n",
       "      <th>previous_campaign</th>\n",
       "      <td>0.016397</td>\n",
       "      <td>0.014616</td>\n",
       "      <td>-0.035063</td>\n",
       "      <td>0.013567</td>\n",
       "      <td>-0.103970</td>\n",
       "      <td>0.025175</td>\n",
       "      <td>0.000103</td>\n",
       "      <td>0.242533</td>\n",
       "      <td>0.043616</td>\n",
       "      <td>0.007394</td>\n",
       "      <td>-0.087623</td>\n",
       "      <td>-0.491350</td>\n",
       "      <td>0.878774</td>\n",
       "      <td>0.937380</td>\n",
       "      <td>-0.099739</td>\n",
       "      <td>-0.488447</td>\n",
       "      <td>0.193496</td>\n",
       "      <td>0.007733</td>\n",
       "      <td>1.000000</td>\n",
       "    </tr>\n",
       "  </tbody>\n",
       "</table>\n",
       "</div>"
      ],
      "text/plain": [
       "                        age       job   marital  education   default  \\\n",
       "age                1.000000  0.001251  0.389734  -0.161195  0.165005   \n",
       "job                0.001251  1.000000 -0.027852   0.114367 -0.028309   \n",
       "marital            0.389734 -0.027852  1.000000  -0.087581  0.079490   \n",
       "education         -0.161195  0.114367 -0.087581   1.000000 -0.208313   \n",
       "default            0.165005 -0.028309  0.079490  -0.208313  1.000000   \n",
       "housing           -0.001694  0.006982 -0.010517   0.022568 -0.015794   \n",
       "loan              -0.007346 -0.010236 -0.005758   0.010496 -0.003805   \n",
       "contact           -0.007065  0.025127 -0.054543   0.103720 -0.135233   \n",
       "month              0.077263  0.044803  0.018721   0.112959 -0.084354   \n",
       "day_of_week       -0.018532 -0.004977 -0.014521  -0.003564 -0.004303   \n",
       "campaign           0.004468 -0.006917  0.007214  -0.001585  0.032867   \n",
       "pdays             -0.034381 -0.028457  0.037930  -0.019032  0.080073   \n",
       "previous           0.024384  0.020945 -0.038668   0.012232 -0.102436   \n",
       "poutcome           0.026392  0.021103 -0.040395   0.018353 -0.108180   \n",
       "cons_conf_idx      0.129366  0.052737  0.033849   0.040410  0.026514   \n",
       "euribor_3_month    0.010745 -0.007912  0.092005  -0.022484  0.195336   \n",
       "deposit            0.030419  0.025102 -0.046181   0.027014 -0.099371   \n",
       "age_bucket         0.910191 -0.002734  0.379005  -0.142184  0.162479   \n",
       "previous_campaign  0.016397  0.014616 -0.035063   0.013567 -0.103970   \n",
       "\n",
       "                    housing      loan   contact     month  day_of_week  \\\n",
       "age               -0.001694 -0.007346 -0.007065  0.077263    -0.018532   \n",
       "job                0.006982 -0.010236  0.025127  0.044803    -0.004977   \n",
       "marital           -0.010517 -0.005758 -0.054543  0.018721    -0.014521   \n",
       "education          0.022568  0.010496  0.103720  0.112959    -0.003564   \n",
       "default           -0.015794 -0.003805 -0.135233 -0.084354    -0.004303   \n",
       "housing            1.000000  0.044317  0.082208  0.031878    -0.009041   \n",
       "loan               0.044317  1.000000  0.008567 -0.004217     0.002371   \n",
       "contact            0.082208  0.008567  1.000000  0.324342    -0.019595   \n",
       "month              0.031878 -0.004217  0.324342  1.000000    -0.006944   \n",
       "day_of_week       -0.009041  0.002371 -0.019595 -0.006944     1.000000   \n",
       "campaign          -0.011094  0.005201 -0.077410 -0.030672     0.015142   \n",
       "pdays             -0.010559  0.000354 -0.117980 -0.079549     0.006772   \n",
       "previous           0.021330 -0.001343  0.212866  0.063739     0.004002   \n",
       "poutcome           0.023758 -0.000482  0.226833  0.060825     0.003267   \n",
       "cons_conf_idx     -0.033891 -0.012034 -0.251581  0.264187    -0.000061   \n",
       "euribor_3_month   -0.059324  0.000114 -0.399755  0.163364    -0.005530   \n",
       "deposit            0.011567 -0.004924  0.144788  0.037170     0.010040   \n",
       "age_bucket         0.000041 -0.002243 -0.019682  0.061046    -0.015291   \n",
       "previous_campaign  0.025175  0.000103  0.242533  0.043616     0.007394   \n",
       "\n",
       "                   campaign     pdays  previous  poutcome  cons_conf_idx  \\\n",
       "age                0.004468 -0.034381  0.024384  0.026392       0.129366   \n",
       "job               -0.006917 -0.028457  0.020945  0.021103       0.052737   \n",
       "marital            0.007214  0.037930 -0.038668 -0.040395       0.033849   \n",
       "education         -0.001585 -0.019032  0.012232  0.018353       0.040410   \n",
       "default            0.032867  0.080073 -0.102436 -0.108180       0.026514   \n",
       "housing           -0.011094 -0.010559  0.021330  0.023758      -0.033891   \n",
       "loan               0.005201  0.000354 -0.001343 -0.000482      -0.012034   \n",
       "contact           -0.077410 -0.117980  0.212866  0.226833      -0.251581   \n",
       "month             -0.030672 -0.079549  0.063739  0.060825       0.264187   \n",
       "day_of_week        0.015142  0.006772  0.004002  0.003267      -0.000061   \n",
       "campaign           1.000000  0.052574 -0.079122 -0.086063      -0.013809   \n",
       "pdays              0.052574  1.000000 -0.587512 -0.744679      -0.091344   \n",
       "previous          -0.079122 -0.587512  1.000000  0.868538      -0.050947   \n",
       "poutcome          -0.086063 -0.744679  0.868538  1.000000      -0.041739   \n",
       "cons_conf_idx     -0.013809 -0.091344 -0.050947 -0.041739       1.000000   \n",
       "euribor_3_month    0.135091  0.296921 -0.454530 -0.478726       0.277603   \n",
       "deposit           -0.066337 -0.324910  0.230172  0.270364       0.054875   \n",
       "age_bucket         0.005462 -0.018382  0.013041  0.013676       0.109025   \n",
       "previous_campaign -0.087623 -0.491350  0.878774  0.937380      -0.099739   \n",
       "\n",
       "                   euribor_3_month   deposit  age_bucket  previous_campaign  \n",
       "age                       0.010745  0.030419    0.910191           0.016397  \n",
       "job                      -0.007912  0.025102   -0.002734           0.014616  \n",
       "marital                   0.092005 -0.046181    0.379005          -0.035063  \n",
       "education                -0.022484  0.027014   -0.142184           0.013567  \n",
       "default                   0.195336 -0.099371    0.162479          -0.103970  \n",
       "housing                  -0.059324  0.011567    0.000041           0.025175  \n",
       "loan                      0.000114 -0.004924   -0.002243           0.000103  \n",
       "contact                  -0.399755  0.144788   -0.019682           0.242533  \n",
       "month                     0.163364  0.037170    0.061046           0.043616  \n",
       "day_of_week              -0.005530  0.010040   -0.015291           0.007394  \n",
       "campaign                  0.135091 -0.066337    0.005462          -0.087623  \n",
       "pdays                     0.296921 -0.324910   -0.018382          -0.491350  \n",
       "previous                 -0.454530  0.230172    0.013041           0.878774  \n",
       "poutcome                 -0.478726  0.270364    0.013676           0.937380  \n",
       "cons_conf_idx             0.277603  0.054875    0.109025          -0.099739  \n",
       "euribor_3_month           1.000000 -0.307799    0.031423          -0.488447  \n",
       "deposit                  -0.307799  1.000000    0.009850           0.193496  \n",
       "age_bucket                0.031423  0.009850    1.000000           0.007733  \n",
       "previous_campaign        -0.488447  0.193496    0.007733           1.000000  "
      ]
     },
     "execution_count": 60,
     "metadata": {},
     "output_type": "execute_result"
    }
   ],
   "source": [
    "d.corr()"
   ]
  },
  {
   "cell_type": "code",
   "execution_count": 26,
   "metadata": {},
   "outputs": [
    {
     "data": {
      "text/plain": [
       "<matplotlib.axes._subplots.AxesSubplot at 0x247aef1a7f0>"
      ]
     },
     "execution_count": 26,
     "metadata": {},
     "output_type": "execute_result"
    },
    {
     "data": {
      "image/png": "[encoded data removed]",
      "text/plain": [
       "<Figure size 432x288 with 1 Axes>"
      ]
     },
     "metadata": {
      "needs_background": "light"
     },
     "output_type": "display_data"
    }
   ],
   "source": [
    "d.boxplot('euribor_3_month')"
   ]
  },
  {
   "cell_type": "code",
   "execution_count": 61,
   "metadata": {},
   "outputs": [
    {
     "data": {
      "text/plain": [
       "<matplotlib.axes._subplots.AxesSubplot at 0x247af8d3668>"
      ]
     },
     "execution_count": 61,
     "metadata": {},
     "output_type": "execute_result"
    },
    {
     "data": {
      "image/png": "[encoded data removed]",
      "text/plain": [
       "<Figure size 432x288 with 1 Axes>"
      ]
     },
     "metadata": {
      "needs_background": "light"
     },
     "output_type": "display_data"
    }
   ],
   "source": [
    "d.boxplot('campaign')"
   ]
  },
  {
   "cell_type": "code",
   "execution_count": null,
   "metadata": {},
   "outputs": [],
   "source": [
    "#There was no subscription after 23 calls in current campaign so deleting those observations"
   ]
  },
  {
   "cell_type": "code",
   "execution_count": 62,
   "metadata": {},
   "outputs": [
    {
     "data": {
      "text/plain": [
       "age                  0\n",
       "job                  0\n",
       "marital              0\n",
       "education            0\n",
       "default              0\n",
       "housing              0\n",
       "loan                 0\n",
       "contact              0\n",
       "month                0\n",
       "day_of_week          0\n",
       "campaign             0\n",
       "pdays                0\n",
       "previous             0\n",
       "poutcome             0\n",
       "cons_conf_idx        0\n",
       "euribor_3_month      0\n",
       "deposit              0\n",
       "age_bucket           0\n",
       "previous_campaign    0\n",
       "dtype: int64"
      ]
     },
     "execution_count": 62,
     "metadata": {},
     "output_type": "execute_result"
    }
   ],
   "source": [
    "d[(d.campaign >= 24) & (d.deposit == 1)].count()"
   ]
  },
  {
   "cell_type": "code",
   "execution_count": 65,
   "metadata": {},
   "outputs": [],
   "source": [
    "#Dropping those observations with more than 23 calls in current campaign\n",
    "h = d[(d.campaign >= 24) & (d.deposit == 0)]"
   ]
  },
  {
   "cell_type": "code",
   "execution_count": 66,
   "metadata": {},
   "outputs": [
    {
     "data": {
      "text/plain": [
       "age                  100\n",
       "job                  100\n",
       "marital              100\n",
       "education            100\n",
       "default              100\n",
       "housing              100\n",
       "loan                 100\n",
       "contact              100\n",
       "month                100\n",
       "day_of_week          100\n",
       "campaign             100\n",
       "pdays                100\n",
       "previous             100\n",
       "poutcome             100\n",
       "cons_conf_idx        100\n",
       "euribor_3_month      100\n",
       "deposit              100\n",
       "age_bucket           100\n",
       "previous_campaign    100\n",
       "dtype: int64"
      ]
     },
     "execution_count": 66,
     "metadata": {},
     "output_type": "execute_result"
    }
   ],
   "source": [
    "h.count()"
   ]
  },
  {
   "cell_type": "code",
   "execution_count": 67,
   "metadata": {},
   "outputs": [],
   "source": [
    "d.drop(h.index, axis = 0, inplace = True)"
   ]
  },
  {
   "cell_type": "code",
   "execution_count": 75,
   "metadata": {},
   "outputs": [
    {
     "data": {
      "text/plain": [
       "(41084, 19)"
      ]
     },
     "execution_count": 75,
     "metadata": {},
     "output_type": "execute_result"
    }
   ],
   "source": [
    "d.shape"
   ]
  },
  {
   "cell_type": "code",
   "execution_count": 76,
   "metadata": {},
   "outputs": [
    {
     "data": {
      "text/plain": [
       "Index(['age', 'job', 'marital', 'education', 'default', 'housing', 'loan',\n",
       "       'contact', 'month', 'day_of_week', 'campaign', 'pdays', 'previous',\n",
       "       'poutcome', 'cons_conf_idx', 'euribor_3_month', 'deposit', 'age_bucket',\n",
       "       'previous_campaign'],\n",
       "      dtype='object')"
      ]
     },
     "execution_count": 76,
     "metadata": {},
     "output_type": "execute_result"
    }
   ],
   "source": [
    "d.columns"
   ]
  },
  {
   "cell_type": "code",
   "execution_count": 70,
   "metadata": {},
   "outputs": [],
   "source": [
    "d.to_csv('bank_marketing_for_feature_selection.csv', index = False)"
   ]
  },
  {
   "cell_type": "code",
   "execution_count": null,
   "metadata": {},
   "outputs": [],
   "source": [
    "##Since potcome shows high correlation with previous campaign, will drop that for now, and remove pdays and previous as well"
   ]
  },
  {
   "cell_type": "markdown",
   "metadata": {},
   "source": [
    "#### Modelling with all features, feature engineered ones and dropping the correlated ones"
   ]
  },
  {
   "cell_type": "code",
   "execution_count": 77,
   "metadata": {},
   "outputs": [],
   "source": [
    "c = ['job', 'marital', 'education', 'default', 'housing', 'loan',\n",
    "       'contact', 'month', 'day_of_week', 'campaign','previous_campaign',\n",
    "       'cons_conf_idx', 'euribor_3_month',\n",
    "       'age_bucket']"
   ]
  },
  {
   "cell_type": "code",
   "execution_count": 78,
   "metadata": {},
   "outputs": [],
   "source": [
    "X = d[c]"
   ]
  },
  {
   "cell_type": "code",
   "execution_count": 79,
   "metadata": {},
   "outputs": [
    {
     "data": {
      "text/html": [
       "<div>\n",
       "<style scoped>\n",
       "    .dataframe tbody tr th:only-of-type {\n",
       "        vertical-align: middle;\n",
       "    }\n",
       "\n",
       "    .dataframe tbody tr th {\n",
       "        vertical-align: top;\n",
       "    }\n",
       "\n",
       "    .dataframe thead th {\n",
       "        text-align: right;\n",
       "    }\n",
       "</style>\n",
       "<table border=\"1\" class=\"dataframe\">\n",
       "  <thead>\n",
       "    <tr style=\"text-align: right;\">\n",
       "      <th></th>\n",
       "      <th>job</th>\n",
       "      <th>marital</th>\n",
       "      <th>education</th>\n",
       "      <th>default</th>\n",
       "      <th>housing</th>\n",
       "      <th>loan</th>\n",
       "      <th>contact</th>\n",
       "      <th>month</th>\n",
       "      <th>day_of_week</th>\n",
       "      <th>campaign</th>\n",
       "      <th>previous_campaign</th>\n",
       "      <th>cons_conf_idx</th>\n",
       "      <th>euribor_3_month</th>\n",
       "      <th>age_bucket</th>\n",
       "    </tr>\n",
       "  </thead>\n",
       "  <tbody>\n",
       "    <tr>\n",
       "      <th>job</th>\n",
       "      <td>1.000000</td>\n",
       "      <td>-0.028510</td>\n",
       "      <td>0.114627</td>\n",
       "      <td>-0.028157</td>\n",
       "      <td>0.007076</td>\n",
       "      <td>-0.010315</td>\n",
       "      <td>0.025369</td>\n",
       "      <td>0.044877</td>\n",
       "      <td>-0.005323</td>\n",
       "      <td>-0.006730</td>\n",
       "      <td>0.014588</td>\n",
       "      <td>0.052774</td>\n",
       "      <td>-0.007832</td>\n",
       "      <td>-0.002773</td>\n",
       "    </tr>\n",
       "    <tr>\n",
       "      <th>marital</th>\n",
       "      <td>-0.028510</td>\n",
       "      <td>1.000000</td>\n",
       "      <td>-0.087487</td>\n",
       "      <td>0.079566</td>\n",
       "      <td>-0.010524</td>\n",
       "      <td>-0.005780</td>\n",
       "      <td>-0.054484</td>\n",
       "      <td>0.018847</td>\n",
       "      <td>-0.014298</td>\n",
       "      <td>0.008918</td>\n",
       "      <td>-0.035112</td>\n",
       "      <td>0.033771</td>\n",
       "      <td>0.092177</td>\n",
       "      <td>0.378805</td>\n",
       "    </tr>\n",
       "    <tr>\n",
       "      <th>education</th>\n",
       "      <td>0.114627</td>\n",
       "      <td>-0.087487</td>\n",
       "      <td>1.000000</td>\n",
       "      <td>-0.208382</td>\n",
       "      <td>0.022657</td>\n",
       "      <td>0.010497</td>\n",
       "      <td>0.103535</td>\n",
       "      <td>0.113062</td>\n",
       "      <td>-0.003627</td>\n",
       "      <td>-0.001559</td>\n",
       "      <td>0.013527</td>\n",
       "      <td>0.040463</td>\n",
       "      <td>-0.022414</td>\n",
       "      <td>-0.142421</td>\n",
       "    </tr>\n",
       "    <tr>\n",
       "      <th>default</th>\n",
       "      <td>-0.028157</td>\n",
       "      <td>0.079566</td>\n",
       "      <td>-0.208382</td>\n",
       "      <td>1.000000</td>\n",
       "      <td>-0.015896</td>\n",
       "      <td>-0.003799</td>\n",
       "      <td>-0.135302</td>\n",
       "      <td>-0.084350</td>\n",
       "      <td>-0.004059</td>\n",
       "      <td>0.036997</td>\n",
       "      <td>-0.104095</td>\n",
       "      <td>0.026486</td>\n",
       "      <td>0.195674</td>\n",
       "      <td>0.162628</td>\n",
       "    </tr>\n",
       "    <tr>\n",
       "      <th>housing</th>\n",
       "      <td>0.007076</td>\n",
       "      <td>-0.010524</td>\n",
       "      <td>0.022657</td>\n",
       "      <td>-0.015896</td>\n",
       "      <td>1.000000</td>\n",
       "      <td>0.044149</td>\n",
       "      <td>0.082444</td>\n",
       "      <td>0.031923</td>\n",
       "      <td>-0.009116</td>\n",
       "      <td>-0.013710</td>\n",
       "      <td>0.025229</td>\n",
       "      <td>-0.033923</td>\n",
       "      <td>-0.059480</td>\n",
       "      <td>-0.000128</td>\n",
       "    </tr>\n",
       "    <tr>\n",
       "      <th>loan</th>\n",
       "      <td>-0.010315</td>\n",
       "      <td>-0.005780</td>\n",
       "      <td>0.010497</td>\n",
       "      <td>-0.003799</td>\n",
       "      <td>0.044149</td>\n",
       "      <td>1.000000</td>\n",
       "      <td>0.008698</td>\n",
       "      <td>-0.004214</td>\n",
       "      <td>0.002274</td>\n",
       "      <td>0.009085</td>\n",
       "      <td>-0.000028</td>\n",
       "      <td>-0.012052</td>\n",
       "      <td>0.000357</td>\n",
       "      <td>-0.002193</td>\n",
       "    </tr>\n",
       "    <tr>\n",
       "      <th>contact</th>\n",
       "      <td>0.025369</td>\n",
       "      <td>-0.054484</td>\n",
       "      <td>0.103535</td>\n",
       "      <td>-0.135302</td>\n",
       "      <td>0.082444</td>\n",
       "      <td>0.008698</td>\n",
       "      <td>1.000000</td>\n",
       "      <td>0.324120</td>\n",
       "      <td>-0.019333</td>\n",
       "      <td>-0.076311</td>\n",
       "      <td>0.242516</td>\n",
       "      <td>-0.251854</td>\n",
       "      <td>-0.399845</td>\n",
       "      <td>-0.019910</td>\n",
       "    </tr>\n",
       "    <tr>\n",
       "      <th>month</th>\n",
       "      <td>0.044877</td>\n",
       "      <td>0.018847</td>\n",
       "      <td>0.113062</td>\n",
       "      <td>-0.084350</td>\n",
       "      <td>0.031923</td>\n",
       "      <td>-0.004214</td>\n",
       "      <td>0.324120</td>\n",
       "      <td>1.000000</td>\n",
       "      <td>-0.006929</td>\n",
       "      <td>-0.032253</td>\n",
       "      <td>0.043537</td>\n",
       "      <td>0.264517</td>\n",
       "      <td>0.163671</td>\n",
       "      <td>0.061086</td>\n",
       "    </tr>\n",
       "    <tr>\n",
       "      <th>day_of_week</th>\n",
       "      <td>-0.005323</td>\n",
       "      <td>-0.014298</td>\n",
       "      <td>-0.003627</td>\n",
       "      <td>-0.004059</td>\n",
       "      <td>-0.009116</td>\n",
       "      <td>0.002274</td>\n",
       "      <td>-0.019333</td>\n",
       "      <td>-0.006929</td>\n",
       "      <td>1.000000</td>\n",
       "      <td>0.012647</td>\n",
       "      <td>0.007618</td>\n",
       "      <td>0.000199</td>\n",
       "      <td>-0.005959</td>\n",
       "      <td>-0.015298</td>\n",
       "    </tr>\n",
       "    <tr>\n",
       "      <th>campaign</th>\n",
       "      <td>-0.006730</td>\n",
       "      <td>0.008918</td>\n",
       "      <td>-0.001559</td>\n",
       "      <td>0.036997</td>\n",
       "      <td>-0.013710</td>\n",
       "      <td>0.009085</td>\n",
       "      <td>-0.076311</td>\n",
       "      <td>-0.032253</td>\n",
       "      <td>0.012647</td>\n",
       "      <td>1.000000</td>\n",
       "      <td>-0.089803</td>\n",
       "      <td>-0.010535</td>\n",
       "      <td>0.134475</td>\n",
       "      <td>0.006116</td>\n",
       "    </tr>\n",
       "    <tr>\n",
       "      <th>previous_campaign</th>\n",
       "      <td>0.014588</td>\n",
       "      <td>-0.035112</td>\n",
       "      <td>0.013527</td>\n",
       "      <td>-0.104095</td>\n",
       "      <td>0.025229</td>\n",
       "      <td>-0.000028</td>\n",
       "      <td>0.242516</td>\n",
       "      <td>0.043537</td>\n",
       "      <td>0.007618</td>\n",
       "      <td>-0.089803</td>\n",
       "      <td>1.000000</td>\n",
       "      <td>-0.099993</td>\n",
       "      <td>-0.488149</td>\n",
       "      <td>0.007772</td>\n",
       "    </tr>\n",
       "    <tr>\n",
       "      <th>cons_conf_idx</th>\n",
       "      <td>0.052774</td>\n",
       "      <td>0.033771</td>\n",
       "      <td>0.040463</td>\n",
       "      <td>0.026486</td>\n",
       "      <td>-0.033923</td>\n",
       "      <td>-0.012052</td>\n",
       "      <td>-0.251854</td>\n",
       "      <td>0.264517</td>\n",
       "      <td>0.000199</td>\n",
       "      <td>-0.010535</td>\n",
       "      <td>-0.099993</td>\n",
       "      <td>1.000000</td>\n",
       "      <td>0.278295</td>\n",
       "      <td>0.109113</td>\n",
       "    </tr>\n",
       "    <tr>\n",
       "      <th>euribor_3_month</th>\n",
       "      <td>-0.007832</td>\n",
       "      <td>0.092177</td>\n",
       "      <td>-0.022414</td>\n",
       "      <td>0.195674</td>\n",
       "      <td>-0.059480</td>\n",
       "      <td>0.000357</td>\n",
       "      <td>-0.399845</td>\n",
       "      <td>0.163671</td>\n",
       "      <td>-0.005959</td>\n",
       "      <td>0.134475</td>\n",
       "      <td>-0.488149</td>\n",
       "      <td>0.278295</td>\n",
       "      <td>1.000000</td>\n",
       "      <td>0.031426</td>\n",
       "    </tr>\n",
       "    <tr>\n",
       "      <th>age_bucket</th>\n",
       "      <td>-0.002773</td>\n",
       "      <td>0.378805</td>\n",
       "      <td>-0.142421</td>\n",
       "      <td>0.162628</td>\n",
       "      <td>-0.000128</td>\n",
       "      <td>-0.002193</td>\n",
       "      <td>-0.019910</td>\n",
       "      <td>0.061086</td>\n",
       "      <td>-0.015298</td>\n",
       "      <td>0.006116</td>\n",
       "      <td>0.007772</td>\n",
       "      <td>0.109113</td>\n",
       "      <td>0.031426</td>\n",
       "      <td>1.000000</td>\n",
       "    </tr>\n",
       "  </tbody>\n",
       "</table>\n",
       "</div>"
      ],
      "text/plain": [
       "                        job   marital  education   default   housing  \\\n",
       "job                1.000000 -0.028510   0.114627 -0.028157  0.007076   \n",
       "marital           -0.028510  1.000000  -0.087487  0.079566 -0.010524   \n",
       "education          0.114627 -0.087487   1.000000 -0.208382  0.022657   \n",
       "default           -0.028157  0.079566  -0.208382  1.000000 -0.015896   \n",
       "housing            0.007076 -0.010524   0.022657 -0.015896  1.000000   \n",
       "loan              -0.010315 -0.005780   0.010497 -0.003799  0.044149   \n",
       "contact            0.025369 -0.054484   0.103535 -0.135302  0.082444   \n",
       "month              0.044877  0.018847   0.113062 -0.084350  0.031923   \n",
       "day_of_week       -0.005323 -0.014298  -0.003627 -0.004059 -0.009116   \n",
       "campaign          -0.006730  0.008918  -0.001559  0.036997 -0.013710   \n",
       "previous_campaign  0.014588 -0.035112   0.013527 -0.104095  0.025229   \n",
       "cons_conf_idx      0.052774  0.033771   0.040463  0.026486 -0.033923   \n",
       "euribor_3_month   -0.007832  0.092177  -0.022414  0.195674 -0.059480   \n",
       "age_bucket        -0.002773  0.378805  -0.142421  0.162628 -0.000128   \n",
       "\n",
       "                       loan   contact     month  day_of_week  campaign  \\\n",
       "job               -0.010315  0.025369  0.044877    -0.005323 -0.006730   \n",
       "marital           -0.005780 -0.054484  0.018847    -0.014298  0.008918   \n",
       "education          0.010497  0.103535  0.113062    -0.003627 -0.001559   \n",
       "default           -0.003799 -0.135302 -0.084350    -0.004059  0.036997   \n",
       "housing            0.044149  0.082444  0.031923    -0.009116 -0.013710   \n",
       "loan               1.000000  0.008698 -0.004214     0.002274  0.009085   \n",
       "contact            0.008698  1.000000  0.324120    -0.019333 -0.076311   \n",
       "month             -0.004214  0.324120  1.000000    -0.006929 -0.032253   \n",
       "day_of_week        0.002274 -0.019333 -0.006929     1.000000  0.012647   \n",
       "campaign           0.009085 -0.076311 -0.032253     0.012647  1.000000   \n",
       "previous_campaign -0.000028  0.242516  0.043537     0.007618 -0.089803   \n",
       "cons_conf_idx     -0.012052 -0.251854  0.264517     0.000199 -0.010535   \n",
       "euribor_3_month    0.000357 -0.399845  0.163671    -0.005959  0.134475   \n",
       "age_bucket        -0.002193 -0.019910  0.061086    -0.015298  0.006116   \n",
       "\n",
       "                   previous_campaign  cons_conf_idx  euribor_3_month  \\\n",
       "job                         0.014588       0.052774        -0.007832   \n",
       "marital                    -0.035112       0.033771         0.092177   \n",
       "education                   0.013527       0.040463        -0.022414   \n",
       "default                    -0.104095       0.026486         0.195674   \n",
       "housing                     0.025229      -0.033923        -0.059480   \n",
       "loan                       -0.000028      -0.012052         0.000357   \n",
       "contact                     0.242516      -0.251854        -0.399845   \n",
       "month                       0.043537       0.264517         0.163671   \n",
       "day_of_week                 0.007618       0.000199        -0.005959   \n",
       "campaign                   -0.089803      -0.010535         0.134475   \n",
       "previous_campaign           1.000000      -0.099993        -0.488149   \n",
       "cons_conf_idx              -0.099993       1.000000         0.278295   \n",
       "euribor_3_month            -0.488149       0.278295         1.000000   \n",
       "age_bucket                  0.007772       0.109113         0.031426   \n",
       "\n",
       "                   age_bucket  \n",
       "job                 -0.002773  \n",
       "marital              0.378805  \n",
       "education           -0.142421  \n",
       "default              0.162628  \n",
       "housing             -0.000128  \n",
       "loan                -0.002193  \n",
       "contact             -0.019910  \n",
       "month                0.061086  \n",
       "day_of_week         -0.015298  \n",
       "campaign             0.006116  \n",
       "previous_campaign    0.007772  \n",
       "cons_conf_idx        0.109113  \n",
       "euribor_3_month      0.031426  \n",
       "age_bucket           1.000000  "
      ]
     },
     "execution_count": 79,
     "metadata": {},
     "output_type": "execute_result"
    }
   ],
   "source": [
    "X.corr()"
   ]
  },
  {
   "cell_type": "code",
   "execution_count": 80,
   "metadata": {},
   "outputs": [],
   "source": [
    "y = d.deposit"
   ]
  },
  {
   "cell_type": "code",
   "execution_count": 81,
   "metadata": {},
   "outputs": [
    {
     "data": {
      "text/plain": [
       "Index(['job', 'marital', 'education', 'default', 'housing', 'loan', 'contact',\n",
       "       'month', 'day_of_week', 'campaign', 'previous_campaign',\n",
       "       'cons_conf_idx', 'euribor_3_month', 'age_bucket'],\n",
       "      dtype='object')"
      ]
     },
     "execution_count": 81,
     "metadata": {},
     "output_type": "execute_result"
    }
   ],
   "source": [
    "X.columns"
   ]
  },
  {
   "cell_type": "code",
   "execution_count": 82,
   "metadata": {},
   "outputs": [
    {
     "name": "stderr",
     "output_type": "stream",
     "text": [
      "C:\\Users\\r_ani\\Anaconda3\\lib\\site-packages\\sklearn\\preprocessing\\data.py:625: DataConversionWarning: Data with input dtype int64, float64 were all converted to float64 by StandardScaler.\n",
      "  return self.partial_fit(X, y)\n",
      "C:\\Users\\r_ani\\Anaconda3\\lib\\site-packages\\sklearn\\base.py:462: DataConversionWarning: Data with input dtype int64, float64 were all converted to float64 by StandardScaler.\n",
      "  return self.fit(X, **fit_params).transform(X)\n"
     ]
    }
   ],
   "source": [
    "ss = StandardScaler()\n",
    "Xs = ss.fit_transform(X)"
   ]
  },
  {
   "cell_type": "code",
   "execution_count": 83,
   "metadata": {},
   "outputs": [
    {
     "data": {
      "text/plain": [
       "(41084,)"
      ]
     },
     "execution_count": 83,
     "metadata": {},
     "output_type": "execute_result"
    }
   ],
   "source": [
    "y.shape"
   ]
  },
  {
   "cell_type": "code",
   "execution_count": 84,
   "metadata": {},
   "outputs": [
    {
     "data": {
      "text/plain": [
       "(41084, 14)"
      ]
     },
     "execution_count": 84,
     "metadata": {},
     "output_type": "execute_result"
    }
   ],
   "source": [
    "Xs.shape"
   ]
  },
  {
   "cell_type": "code",
   "execution_count": null,
   "metadata": {},
   "outputs": [],
   "source": [
    "#### Splitting train and test set and stratifying it on target"
   ]
  },
  {
   "cell_type": "code",
   "execution_count": 88,
   "metadata": {},
   "outputs": [],
   "source": [
    "X_train, X_test, y_train, y_test = train_test_split(Xs, y, test_size=0.3, random_state=0, stratify = y)\n"
   ]
  },
  {
   "cell_type": "code",
   "execution_count": 89,
   "metadata": {},
   "outputs": [
    {
     "name": "stdout",
     "output_type": "stream",
     "text": [
      "Number Of Observations X_train dataset:  (28758, 14)\n",
      "Number Of Observations y_train dataset:  (28758,)\n",
      "Number Of Observations X_test dataset:  (12326, 14)\n",
      "Number Of Observations y_test dataset:  (12326,)\n"
     ]
    }
   ],
   "source": [
    "print(\"Number Of Observations X_train dataset: \", X_train.shape)\n",
    "print(\"Number Of Observations y_train dataset: \", y_train.shape)\n",
    "print(\"Number Of Observations X_test dataset: \", X_test.shape)\n",
    "print(\"Number Of Observations y_test dataset: \", y_test.shape)"
   ]
  },
  {
   "cell_type": "code",
   "execution_count": 90,
   "metadata": {},
   "outputs": [
    {
     "name": "stdout",
     "output_type": "stream",
     "text": [
      "Before OverSampling, counts of label '1': 3248\n",
      "Before OverSampling, counts of label '0': 25510 \n",
      "\n"
     ]
    }
   ],
   "source": [
    "print(\"Before OverSampling, counts of label '1': {}\".format(sum(y_train==1)))\n",
    "print(\"Before OverSampling, counts of label '0': {} \\n\".format(sum(y_train==0)))"
   ]
  },
  {
   "cell_type": "code",
   "execution_count": 157,
   "metadata": {},
   "outputs": [],
   "source": [
    "#### Goal is to look at model with high recall rate"
   ]
  },
  {
   "cell_type": "code",
   "execution_count": 91,
   "metadata": {},
   "outputs": [],
   "source": [
    "sm = SMOTE(random_state=2)\n",
    "X_train_resample, y_train_resample = sm.fit_sample(X_train, y_train.ravel())"
   ]
  },
  {
   "cell_type": "code",
   "execution_count": 92,
   "metadata": {},
   "outputs": [
    {
     "name": "stdout",
     "output_type": "stream",
     "text": [
      "After OverSampling, the shape of train_X: (51020, 14)\n",
      "After OverSampling, the shape of train_y: (51020,) \n",
      "\n",
      "After OverSampling, counts of label '1': 25510\n",
      "After OverSampling, counts of label '0': 25510\n"
     ]
    }
   ],
   "source": [
    "print('After OverSampling, the shape of train_X: {}'.format(X_train_resample.shape))\n",
    "print('After OverSampling, the shape of train_y: {} \\n'.format(y_train_resample.shape))\n",
    "print(\"After OverSampling, counts of label '1': {}\".format(sum(y_train_resample==1)))\n",
    "print(\"After OverSampling, counts of label '0': {}\".format(sum(y_train_resample==0)))"
   ]
  },
  {
   "cell_type": "code",
   "execution_count": null,
   "metadata": {},
   "outputs": [],
   "source": [
    "#Now the base accuracy is 50%"
   ]
  },
  {
   "cell_type": "code",
   "execution_count": 93,
   "metadata": {},
   "outputs": [
    {
     "name": "stdout",
     "output_type": "stream",
     "text": [
      "Fitting 5 folds for each of 10 candidates, totalling 50 fits\n"
     ]
    },
    {
     "name": "stderr",
     "output_type": "stream",
     "text": [
      "[Parallel(n_jobs=3)]: Using backend LokyBackend with 3 concurrent workers.\n",
      "[Parallel(n_jobs=3)]: Done  12 tasks      | elapsed:    1.8s\n",
      "[Parallel(n_jobs=3)]: Done  50 out of  50 | elapsed:    3.3s finished\n",
      "C:\\Users\\r_ani\\Anaconda3\\lib\\site-packages\\sklearn\\linear_model\\logistic.py:433: FutureWarning: Default solver will be changed to 'lbfgs' in 0.22. Specify a solver to silence this warning.\n",
      "  FutureWarning)\n"
     ]
    },
    {
     "data": {
      "text/plain": [
       "GridSearchCV(cv=5, error_score='raise-deprecating',\n",
       "       estimator=LogisticRegression(C=1.0, class_weight=None, dual=False, fit_intercept=True,\n",
       "          intercept_scaling=1, max_iter=100, multi_class='warn',\n",
       "          n_jobs=None, penalty='l2', random_state=None, solver='warn',\n",
       "          tol=0.0001, verbose=0, warm_start=False),\n",
       "       fit_params=None, iid='warn', n_jobs=3,\n",
       "       param_grid={'C': array([ 1.,  2.,  3.,  4.,  5.,  6.,  7.,  8.,  9., 10.])},\n",
       "       pre_dispatch='2*n_jobs', refit=True, return_train_score='warn',\n",
       "       scoring=None, verbose=5)"
      ]
     },
     "execution_count": 93,
     "metadata": {},
     "output_type": "execute_result"
    }
   ],
   "source": [
    "\n",
    "parameters = {\n",
    "    'C': np.linspace(1, 10, 10)\n",
    "             }\n",
    "lr = LogisticRegression()\n",
    "clf = GridSearchCV(lr, parameters, cv=5, verbose=5, n_jobs=3)\n",
    "clf.fit(X_train_resample, y_train_resample.ravel())"
   ]
  },
  {
   "cell_type": "code",
   "execution_count": 94,
   "metadata": {},
   "outputs": [
    {
     "data": {
      "text/plain": [
       "{'C': 1.0}"
      ]
     },
     "execution_count": 94,
     "metadata": {},
     "output_type": "execute_result"
    }
   ],
   "source": [
    "clf.best_params_"
   ]
  },
  {
   "cell_type": "code",
   "execution_count": 96,
   "metadata": {},
   "outputs": [
    {
     "data": {
      "text/plain": [
       "LogisticRegression(C=1.0, class_weight=None, dual=False, fit_intercept=True,\n",
       "          intercept_scaling=1, max_iter=100, multi_class='warn',\n",
       "          n_jobs=None, penalty='l2', random_state=None, solver='warn',\n",
       "          tol=0.0001, verbose=0, warm_start=False)"
      ]
     },
     "execution_count": 96,
     "metadata": {},
     "output_type": "execute_result"
    }
   ],
   "source": [
    "clf.best_estimator_"
   ]
  },
  {
   "cell_type": "code",
   "execution_count": 97,
   "metadata": {},
   "outputs": [
    {
     "name": "stderr",
     "output_type": "stream",
     "text": [
      "C:\\Users\\r_ani\\Anaconda3\\lib\\site-packages\\sklearn\\linear_model\\logistic.py:433: FutureWarning: Default solver will be changed to 'lbfgs' in 0.22. Specify a solver to silence this warning.\n",
      "  FutureWarning)\n"
     ]
    },
    {
     "data": {
      "text/plain": [
       "LogisticRegression(C=1, class_weight=None, dual=False, fit_intercept=True,\n",
       "          intercept_scaling=1, max_iter=100, multi_class='warn',\n",
       "          n_jobs=None, penalty='l2', random_state=None, solver='warn',\n",
       "          tol=0.0001, verbose=0, warm_start=False)"
      ]
     },
     "execution_count": 97,
     "metadata": {},
     "output_type": "execute_result"
    }
   ],
   "source": [
    "lr1 = LogisticRegression(C=1, verbose=0)\n",
    "lr1.fit(X_train_resample, y_train_resample.ravel())"
   ]
  },
  {
   "cell_type": "code",
   "execution_count": 98,
   "metadata": {},
   "outputs": [],
   "source": [
    "import itertools\n",
    "\n",
    "def plot_confusion_matrix(cm, classes,\n",
    "                          normalize=False,\n",
    "                          title='Confusion matrix',\n",
    "                          cmap=plt.cm.Blues):\n",
    "    \"\"\"\n",
    "    This function prints and plots the confusion matrix.\n",
    "    Normalization can be applied by setting `normalize=True`.\n",
    "    \"\"\"\n",
    "    plt.imshow(cm, interpolation='nearest', cmap=cmap)\n",
    "    plt.title(title)\n",
    "    plt.colorbar()\n",
    "    tick_marks = np.arange(len(classes))\n",
    "    plt.xticks(tick_marks, classes, rotation=0)\n",
    "    plt.yticks(tick_marks, classes)\n",
    "\n",
    "    if normalize:\n",
    "        cm = cm.astype('float') / cm.sum(axis=1)[:, np.newaxis]\n",
    "        #print(\"Normalized confusion matrix\")\n",
    "    else:\n",
    "        1#print('Confusion matrix, without normalization')\n",
    "\n",
    "    #print(cm)\n",
    "\n",
    "    thresh = cm.max() / 2.\n",
    "    for i, j in itertools.product(range(cm.shape[0]), range(cm.shape[1])):\n",
    "        plt.text(j, i, cm[i, j],\n",
    "                 horizontalalignment=\"center\",\n",
    "                 color=\"white\" if cm[i, j] > thresh else \"black\")\n",
    "    plt.tight_layout()\n",
    "    plt.ylabel('True label')\n",
    "    plt.xlabel('Predicted label')"
   ]
  },
  {
   "cell_type": "code",
   "execution_count": 99,
   "metadata": {},
   "outputs": [],
   "source": [
    "# #On training data original, checking the values:\n",
    "# y_train_pre = lr1.predict(X_train)\n",
    "\n",
    "# cnf_matrix_tra = confusion_matrix(y_train, y_train_pre)\n",
    "\n",
    "# print(\"Recall metric in the train dataset: {}%\".format(100*cnf_matrix_tra[1,1]/(cnf_matrix_tra[1,0]+cnf_matrix_tra[1,1])))\n",
    "\n",
    "\n",
    "# class_names = [0,1]\n",
    "# plt.figure()\n",
    "# plot_confusion_matrix(cnf_matrix_tra , classes=class_names, title='Confusion matrix')\n",
    "# plt.show()"
   ]
  },
  {
   "cell_type": "code",
   "execution_count": 115,
   "metadata": {},
   "outputs": [
    {
     "name": "stdout",
     "output_type": "stream",
     "text": [
      "Recall metric in the testing dataset: 68.46264367816092%\n"
     ]
    },
    {
     "data": {
      "image/png": "[encoded data removed]",
      "text/plain": [
       "<Figure size 432x288 with 2 Axes>"
      ]
     },
     "metadata": {
      "needs_background": "light"
     },
     "output_type": "display_data"
    }
   ],
   "source": [
    "#predicting on test set\n",
    "y_pre = lr1.predict(X_test)\n",
    "\n",
    "cnf_matrix = confusion_matrix(y_test, y_pre)\n",
    "\n",
    "print(\"Recall metric in the testing dataset: {}%\".format(100*cnf_matrix[1,1]/(cnf_matrix[1,0]+cnf_matrix[1,1])))\n",
    "#print(\"Precision metric in the testing dataset: {}%\".format(100*cnf_matrix[0,0]/(cnf_matrix[0,0]+cnf_matrix[1,0])))\n",
    "# Plot non-normalized confusion matrix\n",
    "class_names = [0,1]\n",
    "plt.figure()\n",
    "plot_confusion_matrix(cnf_matrix , classes=class_names, title='Confusion matrix')\n",
    "plt.show()"
   ]
  },
  {
   "cell_type": "code",
   "execution_count": 116,
   "metadata": {},
   "outputs": [
    {
     "name": "stdout",
     "output_type": "stream",
     "text": [
      "[[7987 2947]\n",
      " [ 439  953]]\n"
     ]
    }
   ],
   "source": [
    "print(confusion_matrix(y_test, y_pre))"
   ]
  },
  {
   "cell_type": "code",
   "execution_count": 117,
   "metadata": {},
   "outputs": [
    {
     "name": "stdout",
     "output_type": "stream",
     "text": [
      "              precision    recall  f1-score   support\n",
      "\n",
      "           0       0.95      0.73      0.83     10934\n",
      "           1       0.24      0.68      0.36      1392\n",
      "\n",
      "   micro avg       0.73      0.73      0.73     12326\n",
      "   macro avg       0.60      0.71      0.59     12326\n",
      "weighted avg       0.87      0.73      0.77     12326\n",
      "\n"
     ]
    }
   ],
   "source": [
    "print(classification_report(y_test, y_pre))"
   ]
  },
  {
   "cell_type": "code",
   "execution_count": 103,
   "metadata": {},
   "outputs": [
    {
     "name": "stderr",
     "output_type": "stream",
     "text": [
      "C:\\Users\\r_ani\\Anaconda3\\lib\\site-packages\\sklearn\\linear_model\\logistic.py:433: FutureWarning: Default solver will be changed to 'lbfgs' in 0.22. Specify a solver to silence this warning.\n",
      "  FutureWarning)\n"
     ]
    }
   ],
   "source": [
    "#On sampled data\n",
    "tmp = lr1.fit(X_train_resample, y_train_resample.ravel())"
   ]
  },
  {
   "cell_type": "code",
   "execution_count": 118,
   "metadata": {},
   "outputs": [
    {
     "data": {
      "image/png": "[encoded data removed]",
      "text/plain": [
       "<Figure size 432x288 with 1 Axes>"
      ]
     },
     "metadata": {
      "needs_background": "light"
     },
     "output_type": "display_data"
    }
   ],
   "source": [
    "#after training resample, checking on original test set\n",
    "y_pred_sample_score = tmp.decision_function(X_test)\n",
    "\n",
    "y_pred_sample = lr1.predict(X_test)\n",
    "fpr, tpr, thresholds = roc_curve(y_test, y_pred_sample_score)\n",
    "\n",
    "roc_auc = auc(fpr,tpr)\n",
    "\n",
    "# Plot ROC\n",
    "plt.title('Receiver Operating Characteristic')\n",
    "plt.plot(fpr, tpr, 'b',label='AUC = %0.3f'% roc_auc)\n",
    "plt.legend(loc='lower right')\n",
    "plt.plot([0,1],[0,1],'r--')\n",
    "plt.xlim([-0.1,1.0])\n",
    "plt.ylim([-0.1,1.01])\n",
    "plt.ylabel('True Positive Rate')\n",
    "plt.xlabel('False Positive Rate')\n",
    "plt.show()"
   ]
  },
  {
   "cell_type": "code",
   "execution_count": 119,
   "metadata": {},
   "outputs": [
    {
     "name": "stdout",
     "output_type": "stream",
     "text": [
      "              precision    recall  f1-score   support\n",
      "\n",
      "           0       0.95      0.73      0.83     10934\n",
      "           1       0.24      0.68      0.36      1392\n",
      "\n",
      "   micro avg       0.73      0.73      0.73     12326\n",
      "   macro avg       0.60      0.71      0.59     12326\n",
      "weighted avg       0.87      0.73      0.77     12326\n",
      "\n"
     ]
    }
   ],
   "source": [
    "print(classification_report(y_test, y_pred_sample))"
   ]
  },
  {
   "cell_type": "code",
   "execution_count": 120,
   "metadata": {},
   "outputs": [
    {
     "data": {
      "text/plain": [
       "0.7252961220184975"
      ]
     },
     "execution_count": 120,
     "metadata": {},
     "output_type": "execute_result"
    }
   ],
   "source": [
    "tmp.score(X_test, y_test)"
   ]
  },
  {
   "cell_type": "code",
   "execution_count": 108,
   "metadata": {},
   "outputs": [
    {
     "data": {
      "text/plain": [
       "array([0.76793414, 0.96756174, 0.96648373, 0.96520972, 0.96628773])"
      ]
     },
     "execution_count": 108,
     "metadata": {},
     "output_type": "execute_result"
    }
   ],
   "source": [
    "bg = BaggingClassifier(n_estimators=100)\n",
    "cross_val_score(bg, X_train_resample, y_train_resample, cv = 5)"
   ]
  },
  {
   "cell_type": "code",
   "execution_count": 110,
   "metadata": {},
   "outputs": [
    {
     "data": {
      "text/plain": [
       "BaggingClassifier(base_estimator=None, bootstrap=True,\n",
       "         bootstrap_features=False, max_features=1.0, max_samples=1.0,\n",
       "         n_estimators=100, n_jobs=None, oob_score=False, random_state=None,\n",
       "         verbose=0, warm_start=False)"
      ]
     },
     "execution_count": 110,
     "metadata": {},
     "output_type": "execute_result"
    }
   ],
   "source": [
    "bg.fit(X_train_resample, y_train_resample.ravel())"
   ]
  },
  {
   "cell_type": "code",
   "execution_count": 111,
   "metadata": {},
   "outputs": [],
   "source": [
    "yhat = bg.predict(X_test)"
   ]
  },
  {
   "cell_type": "code",
   "execution_count": 112,
   "metadata": {},
   "outputs": [
    {
     "data": {
      "text/plain": [
       "0.8768456920331008"
      ]
     },
     "execution_count": 112,
     "metadata": {},
     "output_type": "execute_result"
    }
   ],
   "source": [
    "bg.score(X_test, y_test)"
   ]
  },
  {
   "cell_type": "code",
   "execution_count": 113,
   "metadata": {},
   "outputs": [
    {
     "data": {
      "text/plain": [
       "array([[10354,   580],\n",
       "       [  938,   454]], dtype=int64)"
      ]
     },
     "execution_count": 113,
     "metadata": {},
     "output_type": "execute_result"
    }
   ],
   "source": [
    "confusion_matrix(y_test, yhat)"
   ]
  },
  {
   "cell_type": "code",
   "execution_count": 114,
   "metadata": {},
   "outputs": [
    {
     "name": "stdout",
     "output_type": "stream",
     "text": [
      "              precision    recall  f1-score   support\n",
      "\n",
      "           0       0.92      0.95      0.93     10934\n",
      "           1       0.44      0.33      0.37      1392\n",
      "\n",
      "   micro avg       0.88      0.88      0.88     12326\n",
      "   macro avg       0.68      0.64      0.65     12326\n",
      "weighted avg       0.86      0.88      0.87     12326\n",
      "\n"
     ]
    }
   ],
   "source": [
    "print(classification_report(y_test, yhat))"
   ]
  },
  {
   "cell_type": "code",
   "execution_count": 121,
   "metadata": {},
   "outputs": [
    {
     "data": {
      "image/png": "[encoded data removed]",
      "text/plain": [
       "<Figure size 432x288 with 1 Axes>"
      ]
     },
     "metadata": {
      "needs_background": "light"
     },
     "output_type": "display_data"
    }
   ],
   "source": [
    "fpr, tpr, thresholds = roc_curve(y_test, yhat)\n",
    "\n",
    "roc_auc = auc(fpr,tpr)\n",
    "\n",
    "# Plot ROC\n",
    "plt.title('Receiver Operating Characteristic')\n",
    "plt.plot(fpr, tpr, 'b',label='AUC = %0.3f'% roc_auc)\n",
    "plt.legend(loc='lower right')\n",
    "plt.plot([0,1],[0,1],'r--')\n",
    "plt.xlim([-0.1,1.0])\n",
    "plt.ylim([-0.1,1.01])\n",
    "plt.ylabel('True Positive Rate')\n",
    "plt.xlabel('False Positive Rate')\n",
    "plt.show()"
   ]
  },
  {
   "cell_type": "code",
   "execution_count": 121,
   "metadata": {},
   "outputs": [
    {
     "data": {
      "text/plain": [
       "array([0.74945941, 0.93198349, 0.93129546, 0.92911915, 0.92587495])"
      ]
     },
     "execution_count": 121,
     "metadata": {},
     "output_type": "execute_result"
    }
   ],
   "source": [
    "dt = DecisionTreeClassifier()\n",
    "cross_val_score(dt, X_train_resample, y_train_resample, cv = 5)"
   ]
  },
  {
   "cell_type": "code",
   "execution_count": 217,
   "metadata": {},
   "outputs": [
    {
     "data": {
      "text/plain": [
       "DecisionTreeClassifier(class_weight=None, criterion='gini', max_depth=None,\n",
       "            max_features=None, max_leaf_nodes=None,\n",
       "            min_impurity_decrease=0.0, min_impurity_split=None,\n",
       "            min_samples_leaf=1, min_samples_split=2,\n",
       "            min_weight_fraction_leaf=0.0, presort=False, random_state=None,\n",
       "            splitter='best')"
      ]
     },
     "execution_count": 217,
     "metadata": {},
     "output_type": "execute_result"
    }
   ],
   "source": [
    "dt.fit(X_train_resample, y_train_resample)"
   ]
  },
  {
   "cell_type": "code",
   "execution_count": 218,
   "metadata": {},
   "outputs": [],
   "source": [
    "yhat1 = dt.predict(X_test)"
   ]
  },
  {
   "cell_type": "code",
   "execution_count": 219,
   "metadata": {},
   "outputs": [
    {
     "data": {
      "text/plain": [
       "0.8396884634106766"
      ]
     },
     "execution_count": 219,
     "metadata": {},
     "output_type": "execute_result"
    }
   ],
   "source": [
    "dt.score(X_test, y_test)"
   ]
  },
  {
   "cell_type": "code",
   "execution_count": 220,
   "metadata": {},
   "outputs": [
    {
     "data": {
      "text/plain": [
       "array([[9892, 1042],\n",
       "       [ 934,  458]], dtype=int64)"
      ]
     },
     "execution_count": 220,
     "metadata": {},
     "output_type": "execute_result"
    }
   ],
   "source": [
    "confusion_matrix(y_test, yhat1)"
   ]
  },
  {
   "cell_type": "code",
   "execution_count": 221,
   "metadata": {},
   "outputs": [
    {
     "name": "stdout",
     "output_type": "stream",
     "text": [
      "              precision    recall  f1-score   support\n",
      "\n",
      "           0       0.91      0.90      0.91     10934\n",
      "           1       0.31      0.33      0.32      1392\n",
      "\n",
      "   micro avg       0.84      0.84      0.84     12326\n",
      "   macro avg       0.61      0.62      0.61     12326\n",
      "weighted avg       0.85      0.84      0.84     12326\n",
      "\n"
     ]
    }
   ],
   "source": [
    "print(classification_report(y_test, yhat1))"
   ]
  },
  {
   "cell_type": "code",
   "execution_count": 222,
   "metadata": {},
   "outputs": [
    {
     "data": {
      "image/png": "[encoded data removed]",
      "text/plain": [
       "<Figure size 432x288 with 1 Axes>"
      ]
     },
     "metadata": {
      "needs_background": "light"
     },
     "output_type": "display_data"
    }
   ],
   "source": [
    "fpr, tpr, thresholds = roc_curve(y_test, yhat1)\n",
    "\n",
    "roc_auc = auc(fpr,tpr)\n",
    "\n",
    "# Plot ROC\n",
    "plt.title('Receiver Operating Characteristic')\n",
    "plt.plot(fpr, tpr, 'b',label='AUC = %0.3f'% roc_auc)\n",
    "plt.legend(loc='lower right')\n",
    "plt.plot([0,1],[0,1],'r--')\n",
    "plt.xlim([-0.1,1.0])\n",
    "plt.ylim([-0.1,1.01])\n",
    "plt.ylabel('True Positive Rate')\n",
    "plt.xlabel('False Positive Rate')\n",
    "plt.show()"
   ]
  },
  {
   "cell_type": "code",
   "execution_count": 122,
   "metadata": {},
   "outputs": [
    {
     "name": "stderr",
     "output_type": "stream",
     "text": [
      "C:\\Users\\r_ani\\Anaconda3\\lib\\site-packages\\sklearn\\ensemble\\forest.py:246: FutureWarning: The default value of n_estimators will change from 10 in version 0.20 to 100 in 0.22.\n",
      "  \"10 in version 0.20 to 100 in 0.22.\", FutureWarning)\n",
      "C:\\Users\\r_ani\\Anaconda3\\lib\\site-packages\\sklearn\\ensemble\\forest.py:246: FutureWarning: The default value of n_estimators will change from 10 in version 0.20 to 100 in 0.22.\n",
      "  \"10 in version 0.20 to 100 in 0.22.\", FutureWarning)\n",
      "C:\\Users\\r_ani\\Anaconda3\\lib\\site-packages\\sklearn\\ensemble\\forest.py:246: FutureWarning: The default value of n_estimators will change from 10 in version 0.20 to 100 in 0.22.\n",
      "  \"10 in version 0.20 to 100 in 0.22.\", FutureWarning)\n",
      "C:\\Users\\r_ani\\Anaconda3\\lib\\site-packages\\sklearn\\ensemble\\forest.py:246: FutureWarning: The default value of n_estimators will change from 10 in version 0.20 to 100 in 0.22.\n",
      "  \"10 in version 0.20 to 100 in 0.22.\", FutureWarning)\n",
      "C:\\Users\\r_ani\\Anaconda3\\lib\\site-packages\\sklearn\\ensemble\\forest.py:246: FutureWarning: The default value of n_estimators will change from 10 in version 0.20 to 100 in 0.22.\n",
      "  \"10 in version 0.20 to 100 in 0.22.\", FutureWarning)\n"
     ]
    },
    {
     "data": {
      "text/plain": [
       "array([0.78008624, 0.96462172, 0.96707174, 0.96364171, 0.9630537 ])"
      ]
     },
     "execution_count": 122,
     "metadata": {},
     "output_type": "execute_result"
    }
   ],
   "source": [
    "rf2 = RandomForestClassifier()\n",
    "cross_val_score(rf2, X_train_resample, y_train_resample, cv = 5)"
   ]
  },
  {
   "cell_type": "code",
   "execution_count": 123,
   "metadata": {},
   "outputs": [
    {
     "name": "stderr",
     "output_type": "stream",
     "text": [
      "C:\\Users\\r_ani\\Anaconda3\\lib\\site-packages\\sklearn\\ensemble\\forest.py:246: FutureWarning: The default value of n_estimators will change from 10 in version 0.20 to 100 in 0.22.\n",
      "  \"10 in version 0.20 to 100 in 0.22.\", FutureWarning)\n"
     ]
    },
    {
     "data": {
      "text/plain": [
       "RandomForestClassifier(bootstrap=True, class_weight=None, criterion='gini',\n",
       "            max_depth=None, max_features='auto', max_leaf_nodes=None,\n",
       "            min_impurity_decrease=0.0, min_impurity_split=None,\n",
       "            min_samples_leaf=1, min_samples_split=2,\n",
       "            min_weight_fraction_leaf=0.0, n_estimators=10, n_jobs=None,\n",
       "            oob_score=False, random_state=None, verbose=0,\n",
       "            warm_start=False)"
      ]
     },
     "execution_count": 123,
     "metadata": {},
     "output_type": "execute_result"
    }
   ],
   "source": [
    "rf2.fit(X_train_resample, y_train_resample)"
   ]
  },
  {
   "cell_type": "code",
   "execution_count": 124,
   "metadata": {},
   "outputs": [
    {
     "data": {
      "text/plain": [
       "0.8762777867921466"
      ]
     },
     "execution_count": 124,
     "metadata": {},
     "output_type": "execute_result"
    }
   ],
   "source": [
    "rf2.score(X_test, y_test)"
   ]
  },
  {
   "cell_type": "code",
   "execution_count": 125,
   "metadata": {},
   "outputs": [],
   "source": [
    "yhat2 = rf2.predict(X_test)"
   ]
  },
  {
   "cell_type": "code",
   "execution_count": 126,
   "metadata": {},
   "outputs": [
    {
     "data": {
      "text/plain": [
       "array([[10381,   553],\n",
       "       [  972,   420]], dtype=int64)"
      ]
     },
     "execution_count": 126,
     "metadata": {},
     "output_type": "execute_result"
    }
   ],
   "source": [
    "confusion_matrix(y_test, yhat2)"
   ]
  },
  {
   "cell_type": "code",
   "execution_count": 127,
   "metadata": {},
   "outputs": [
    {
     "name": "stdout",
     "output_type": "stream",
     "text": [
      "              precision    recall  f1-score   support\n",
      "\n",
      "           0       0.91      0.95      0.93     10934\n",
      "           1       0.43      0.30      0.36      1392\n",
      "\n",
      "   micro avg       0.88      0.88      0.88     12326\n",
      "   macro avg       0.67      0.63      0.64     12326\n",
      "weighted avg       0.86      0.88      0.87     12326\n",
      "\n"
     ]
    }
   ],
   "source": [
    "print(classification_report(y_test, yhat2))"
   ]
  },
  {
   "cell_type": "code",
   "execution_count": 215,
   "metadata": {},
   "outputs": [
    {
     "data": {
      "image/png": "[encoded data removed]",
      "text/plain": [
       "<Figure size 432x288 with 1 Axes>"
      ]
     },
     "metadata": {
      "needs_background": "light"
     },
     "output_type": "display_data"
    }
   ],
   "source": [
    "fpr, tpr, thresholds = roc_curve(y_test, yhat2)\n",
    "\n",
    "roc_auc = auc(fpr,tpr)\n",
    "\n",
    "# Plot ROC\n",
    "plt.title('Receiver Operating Characteristic')\n",
    "plt.plot(fpr, tpr, 'b',label='AUC = %0.3f'% roc_auc)\n",
    "plt.legend(loc='lower right')\n",
    "plt.plot([0,1],[0,1],'r--')\n",
    "plt.xlim([-0.1,1.0])\n",
    "plt.ylim([-0.1,1.01])\n",
    "plt.ylabel('True Positive Rate')\n",
    "plt.xlabel('False Positive Rate')\n",
    "plt.show()"
   ]
  },
  {
   "cell_type": "code",
   "execution_count": 128,
   "metadata": {},
   "outputs": [],
   "source": [
    "from xgboost import XGBClassifier"
   ]
  },
  {
   "cell_type": "code",
   "execution_count": 129,
   "metadata": {},
   "outputs": [],
   "source": [
    "xg = XGBClassifier()"
   ]
  },
  {
   "cell_type": "code",
   "execution_count": 130,
   "metadata": {},
   "outputs": [
    {
     "data": {
      "text/plain": [
       "array([0.75411603, 0.93502548, 0.93296746, 0.93923951, 0.93228146])"
      ]
     },
     "execution_count": 130,
     "metadata": {},
     "output_type": "execute_result"
    }
   ],
   "source": [
    "cross_val_score(xg, X_train_resample, y_train_resample, cv = 5)"
   ]
  },
  {
   "cell_type": "code",
   "execution_count": 131,
   "metadata": {},
   "outputs": [
    {
     "data": {
      "text/plain": [
       "XGBClassifier(base_score=0.5, booster='gbtree', colsample_bylevel=1,\n",
       "       colsample_bytree=1, gamma=0, learning_rate=0.1, max_delta_step=0,\n",
       "       max_depth=3, min_child_weight=1, missing=None, n_estimators=100,\n",
       "       n_jobs=1, nthread=None, objective='binary:logistic', random_state=0,\n",
       "       reg_alpha=0, reg_lambda=1, scale_pos_weight=1, seed=None,\n",
       "       silent=True, subsample=1)"
      ]
     },
     "execution_count": 131,
     "metadata": {},
     "output_type": "execute_result"
    }
   ],
   "source": [
    "xg.fit(X_train_resample, y_train_resample)"
   ]
  },
  {
   "cell_type": "code",
   "execution_count": 132,
   "metadata": {},
   "outputs": [
    {
     "data": {
      "text/plain": [
       "0.8753042349505111"
      ]
     },
     "execution_count": 132,
     "metadata": {},
     "output_type": "execute_result"
    }
   ],
   "source": [
    "xg.score(X_test, y_test)"
   ]
  },
  {
   "cell_type": "code",
   "execution_count": 133,
   "metadata": {},
   "outputs": [],
   "source": [
    "yhatx = xg.predict(X_test)"
   ]
  },
  {
   "cell_type": "code",
   "execution_count": null,
   "metadata": {},
   "outputs": [],
   "source": []
  },
  {
   "cell_type": "code",
   "execution_count": 134,
   "metadata": {},
   "outputs": [
    {
     "data": {
      "text/plain": [
       "array([[10152,   782],\n",
       "       [  755,   637]], dtype=int64)"
      ]
     },
     "execution_count": 134,
     "metadata": {},
     "output_type": "execute_result"
    }
   ],
   "source": [
    "confusion_matrix(y_test, yhatx)"
   ]
  },
  {
   "cell_type": "code",
   "execution_count": 135,
   "metadata": {},
   "outputs": [
    {
     "name": "stdout",
     "output_type": "stream",
     "text": [
      "              precision    recall  f1-score   support\n",
      "\n",
      "           0       0.93      0.93      0.93     10934\n",
      "           1       0.45      0.46      0.45      1392\n",
      "\n",
      "   micro avg       0.88      0.88      0.88     12326\n",
      "   macro avg       0.69      0.69      0.69     12326\n",
      "weighted avg       0.88      0.88      0.88     12326\n",
      "\n"
     ]
    }
   ],
   "source": [
    "print(classification_report(y_test, yhatx))"
   ]
  },
  {
   "cell_type": "code",
   "execution_count": 136,
   "metadata": {},
   "outputs": [
    {
     "data": {
      "image/png": "[encoded data removed]",
      "text/plain": [
       "<Figure size 432x288 with 1 Axes>"
      ]
     },
     "metadata": {
      "needs_background": "light"
     },
     "output_type": "display_data"
    }
   ],
   "source": [
    "fpr, tpr, thresholds = roc_curve(y_test, yhatx)\n",
    "\n",
    "roc_auc = auc(fpr,tpr)\n",
    "\n",
    "# Plot ROC\n",
    "plt.title('Receiver Operating Characteristic')\n",
    "plt.plot(fpr, tpr, 'b',label='AUC = %0.3f'% roc_auc)\n",
    "plt.legend(loc='lower right')\n",
    "plt.plot([0,1],[0,1],'r--')\n",
    "plt.xlim([-0.1,1.0])\n",
    "plt.ylim([-0.1,1.01])\n",
    "plt.ylabel('True Positive Rate')\n",
    "plt.xlabel('False Positive Rate')\n",
    "plt.show()"
   ]
  },
  {
   "cell_type": "code",
   "execution_count": null,
   "metadata": {},
   "outputs": [],
   "source": [
    "##taking euribor, job, campaign, day of week, agebucket, education, marital, consconfi, housing, month pdays previous"
   ]
  },
  {
   "cell_type": "code",
   "execution_count": 137,
   "metadata": {},
   "outputs": [],
   "source": [
    "sv = LinearSVC()"
   ]
  },
  {
   "cell_type": "code",
   "execution_count": 138,
   "metadata": {},
   "outputs": [
    {
     "name": "stderr",
     "output_type": "stream",
     "text": [
      "C:\\Users\\r_ani\\Anaconda3\\lib\\site-packages\\sklearn\\svm\\base.py:922: ConvergenceWarning: Liblinear failed to converge, increase the number of iterations.\n",
      "  \"the number of iterations.\", ConvergenceWarning)\n",
      "C:\\Users\\r_ani\\Anaconda3\\lib\\site-packages\\sklearn\\svm\\base.py:922: ConvergenceWarning: Liblinear failed to converge, increase the number of iterations.\n",
      "  \"the number of iterations.\", ConvergenceWarning)\n",
      "C:\\Users\\r_ani\\Anaconda3\\lib\\site-packages\\sklearn\\svm\\base.py:922: ConvergenceWarning: Liblinear failed to converge, increase the number of iterations.\n",
      "  \"the number of iterations.\", ConvergenceWarning)\n",
      "C:\\Users\\r_ani\\Anaconda3\\lib\\site-packages\\sklearn\\svm\\base.py:922: ConvergenceWarning: Liblinear failed to converge, increase the number of iterations.\n",
      "  \"the number of iterations.\", ConvergenceWarning)\n",
      "C:\\Users\\r_ani\\Anaconda3\\lib\\site-packages\\sklearn\\svm\\base.py:922: ConvergenceWarning: Liblinear failed to converge, increase the number of iterations.\n",
      "  \"the number of iterations.\", ConvergenceWarning)\n",
      "C:\\Users\\r_ani\\Anaconda3\\lib\\site-packages\\sklearn\\svm\\base.py:922: ConvergenceWarning: Liblinear failed to converge, increase the number of iterations.\n",
      "  \"the number of iterations.\", ConvergenceWarning)\n",
      "C:\\Users\\r_ani\\Anaconda3\\lib\\site-packages\\sklearn\\svm\\base.py:922: ConvergenceWarning: Liblinear failed to converge, increase the number of iterations.\n",
      "  \"the number of iterations.\", ConvergenceWarning)\n",
      "C:\\Users\\r_ani\\Anaconda3\\lib\\site-packages\\sklearn\\svm\\base.py:922: ConvergenceWarning: Liblinear failed to converge, increase the number of iterations.\n",
      "  \"the number of iterations.\", ConvergenceWarning)\n",
      "C:\\Users\\r_ani\\Anaconda3\\lib\\site-packages\\sklearn\\svm\\base.py:922: ConvergenceWarning: Liblinear failed to converge, increase the number of iterations.\n",
      "  \"the number of iterations.\", ConvergenceWarning)\n",
      "C:\\Users\\r_ani\\Anaconda3\\lib\\site-packages\\sklearn\\svm\\base.py:922: ConvergenceWarning: Liblinear failed to converge, increase the number of iterations.\n",
      "  \"the number of iterations.\", ConvergenceWarning)\n"
     ]
    },
    {
     "data": {
      "text/plain": [
       "array([0.72167777, 0.73304586, 0.72265778, 0.7244218 , 0.72285378,\n",
       "       0.7252058 , 0.72422579, 0.70893767, 0.71677773, 0.72696982])"
      ]
     },
     "execution_count": 138,
     "metadata": {},
     "output_type": "execute_result"
    }
   ],
   "source": [
    "cross_val_score(sv, X_train_resample, y_train_resample, cv =10)"
   ]
  },
  {
   "cell_type": "code",
   "execution_count": 139,
   "metadata": {},
   "outputs": [
    {
     "name": "stderr",
     "output_type": "stream",
     "text": [
      "C:\\Users\\r_ani\\Anaconda3\\lib\\site-packages\\sklearn\\svm\\base.py:922: ConvergenceWarning: Liblinear failed to converge, increase the number of iterations.\n",
      "  \"the number of iterations.\", ConvergenceWarning)\n"
     ]
    },
    {
     "data": {
      "text/plain": [
       "LinearSVC(C=1.0, class_weight=None, dual=True, fit_intercept=True,\n",
       "     intercept_scaling=1, loss='squared_hinge', max_iter=1000,\n",
       "     multi_class='ovr', penalty='l2', random_state=None, tol=0.0001,\n",
       "     verbose=0)"
      ]
     },
     "execution_count": 139,
     "metadata": {},
     "output_type": "execute_result"
    }
   ],
   "source": [
    "sv.fit(X_train_resample, y_train_resample)"
   ]
  },
  {
   "cell_type": "code",
   "execution_count": 140,
   "metadata": {},
   "outputs": [],
   "source": [
    "yhatc = sv.predict(X_test)"
   ]
  },
  {
   "cell_type": "code",
   "execution_count": 141,
   "metadata": {},
   "outputs": [
    {
     "data": {
      "text/plain": [
       "0.7189680350478663"
      ]
     },
     "execution_count": 141,
     "metadata": {},
     "output_type": "execute_result"
    }
   ],
   "source": [
    "sv.score(X_test, y_test)"
   ]
  },
  {
   "cell_type": "code",
   "execution_count": 142,
   "metadata": {},
   "outputs": [
    {
     "data": {
      "text/plain": [
       "array([[7903, 3031],\n",
       "       [ 433,  959]], dtype=int64)"
      ]
     },
     "execution_count": 142,
     "metadata": {},
     "output_type": "execute_result"
    }
   ],
   "source": [
    "confusion_matrix(y_test, yhatc)"
   ]
  },
  {
   "cell_type": "code",
   "execution_count": 143,
   "metadata": {},
   "outputs": [
    {
     "name": "stdout",
     "output_type": "stream",
     "text": [
      "              precision    recall  f1-score   support\n",
      "\n",
      "           0       0.95      0.72      0.82     10934\n",
      "           1       0.24      0.69      0.36      1392\n",
      "\n",
      "   micro avg       0.72      0.72      0.72     12326\n",
      "   macro avg       0.59      0.71      0.59     12326\n",
      "weighted avg       0.87      0.72      0.77     12326\n",
      "\n"
     ]
    }
   ],
   "source": [
    "print(classification_report(y_test, yhatc))"
   ]
  },
  {
   "cell_type": "code",
   "execution_count": 144,
   "metadata": {},
   "outputs": [],
   "source": [
    "score_pred_y = sv.decision_function(X_test)"
   ]
  },
  {
   "cell_type": "code",
   "execution_count": 145,
   "metadata": {},
   "outputs": [
    {
     "data": {
      "image/png": "[encoded data removed]",
      "text/plain": [
       "<Figure size 432x288 with 1 Axes>"
      ]
     },
     "metadata": {
      "needs_background": "light"
     },
     "output_type": "display_data"
    }
   ],
   "source": [
    "fpr, tpr, thresholds = roc_curve(y_test, yhatc)\n",
    "\n",
    "roc_auc = auc(fpr,tpr)\n",
    "\n",
    "# Plot ROC\n",
    "plt.title('Receiver Operating Characteristic')\n",
    "plt.plot(fpr, tpr, 'b',label='AUC = %0.3f'% roc_auc)\n",
    "plt.legend(loc='lower right')\n",
    "plt.plot([0,1],[0,1],'r--')\n",
    "plt.xlim([-0.1,1.0])\n",
    "plt.ylim([-0.1,1.01])\n",
    "plt.ylabel('True Positive Rate')\n",
    "plt.xlabel('False Positive Rate')\n",
    "plt.show()"
   ]
  },
  {
   "cell_type": "code",
   "execution_count": 184,
   "metadata": {},
   "outputs": [
    {
     "data": {
      "text/plain": [
       "array([0.86005488, 0.86152489, 0.86025088, 0.8620149 , 0.86779694])"
      ]
     },
     "execution_count": 184,
     "metadata": {},
     "output_type": "execute_result"
    }
   ],
   "source": [
    "knn = KNeighborsClassifier()\n",
    "cross_val_score(knn, X_train_resample, y_train_resample, cv =5)"
   ]
  },
  {
   "cell_type": "code",
   "execution_count": 185,
   "metadata": {},
   "outputs": [
    {
     "data": {
      "text/plain": [
       "KNeighborsClassifier(algorithm='auto', leaf_size=30, metric='minkowski',\n",
       "           metric_params=None, n_jobs=None, n_neighbors=5, p=2,\n",
       "           weights='uniform')"
      ]
     },
     "execution_count": 185,
     "metadata": {},
     "output_type": "execute_result"
    }
   ],
   "source": [
    "knn.fit(X_train_resample, y_train_resample)"
   ]
  },
  {
   "cell_type": "code",
   "execution_count": 186,
   "metadata": {},
   "outputs": [
    {
     "data": {
      "text/plain": [
       "0.754097030666883"
      ]
     },
     "execution_count": 186,
     "metadata": {},
     "output_type": "execute_result"
    }
   ],
   "source": [
    "knn.score(X_test, y_test)"
   ]
  },
  {
   "cell_type": "code",
   "execution_count": 187,
   "metadata": {},
   "outputs": [],
   "source": [
    "yhatk = knn.predict(X_test)"
   ]
  },
  {
   "cell_type": "code",
   "execution_count": 188,
   "metadata": {},
   "outputs": [
    {
     "data": {
      "text/plain": [
       "array([[8563, 2371],\n",
       "       [ 660,  732]], dtype=int64)"
      ]
     },
     "execution_count": 188,
     "metadata": {},
     "output_type": "execute_result"
    }
   ],
   "source": [
    "confusion_matrix(y_test, yhatk)"
   ]
  },
  {
   "cell_type": "code",
   "execution_count": 189,
   "metadata": {},
   "outputs": [
    {
     "name": "stdout",
     "output_type": "stream",
     "text": [
      "              precision    recall  f1-score   support\n",
      "\n",
      "           0       0.93      0.78      0.85     10934\n",
      "           1       0.24      0.53      0.33      1392\n",
      "\n",
      "   micro avg       0.75      0.75      0.75     12326\n",
      "   macro avg       0.58      0.65      0.59     12326\n",
      "weighted avg       0.85      0.75      0.79     12326\n",
      "\n"
     ]
    }
   ],
   "source": [
    "print(classification_report(y_test, yhatk))"
   ]
  },
  {
   "cell_type": "code",
   "execution_count": 190,
   "metadata": {},
   "outputs": [
    {
     "data": {
      "image/png": "[encoded data removed]",
      "text/plain": [
       "<Figure size 432x288 with 1 Axes>"
      ]
     },
     "metadata": {
      "needs_background": "light"
     },
     "output_type": "display_data"
    }
   ],
   "source": [
    "fpr, tpr, thresholds = roc_curve(y_test, yhatk)\n",
    "\n",
    "roc_auc = auc(fpr,tpr)\n",
    "\n",
    "# Plot ROC\n",
    "plt.title('Receiver Operating Characteristic')\n",
    "plt.plot(fpr, tpr, 'b',label='AUC = %0.3f'% roc_auc)\n",
    "plt.legend(loc='lower right')\n",
    "plt.plot([0,1],[0,1],'r--')\n",
    "plt.xlim([-0.1,1.0])\n",
    "plt.ylim([-0.1,1.01])\n",
    "plt.ylabel('True Positive Rate')\n",
    "plt.xlabel('False Positive Rate')\n",
    "plt.show()"
   ]
  },
  {
   "cell_type": "code",
   "execution_count": 148,
   "metadata": {},
   "outputs": [],
   "source": [
    "from sklearn.naive_bayes import GaussianNB"
   ]
  },
  {
   "cell_type": "code",
   "execution_count": 149,
   "metadata": {},
   "outputs": [],
   "source": [
    "gb = GaussianNB()"
   ]
  },
  {
   "cell_type": "code",
   "execution_count": 150,
   "metadata": {},
   "outputs": [
    {
     "data": {
      "text/plain": [
       "array([0.69835359, 0.71148569, 0.71109369, 0.70207762, 0.70972168,\n",
       "       0.71070169, 0.70188162, 0.69345355, 0.68953352, 0.70815367])"
      ]
     },
     "execution_count": 150,
     "metadata": {},
     "output_type": "execute_result"
    }
   ],
   "source": [
    "cross_val_score(gb, X_train_resample, y_train_resample, cv = 10)"
   ]
  },
  {
   "cell_type": "code",
   "execution_count": 151,
   "metadata": {},
   "outputs": [
    {
     "data": {
      "text/plain": [
       "GaussianNB(priors=None, var_smoothing=1e-09)"
      ]
     },
     "execution_count": 151,
     "metadata": {},
     "output_type": "execute_result"
    }
   ],
   "source": [
    "gb.fit(X_train_resample, y_train_resample)"
   ]
  },
  {
   "cell_type": "code",
   "execution_count": 152,
   "metadata": {},
   "outputs": [],
   "source": [
    "yhatg = gb.predict(X_test)"
   ]
  },
  {
   "cell_type": "code",
   "execution_count": 153,
   "metadata": {},
   "outputs": [
    {
     "data": {
      "text/plain": [
       "0.6889501865974363"
      ]
     },
     "execution_count": 153,
     "metadata": {},
     "output_type": "execute_result"
    }
   ],
   "source": [
    "gb.score(X_test, y_test)"
   ]
  },
  {
   "cell_type": "code",
   "execution_count": 154,
   "metadata": {},
   "outputs": [
    {
     "data": {
      "text/plain": [
       "array([[7517, 3417],\n",
       "       [ 417,  975]], dtype=int64)"
      ]
     },
     "execution_count": 154,
     "metadata": {},
     "output_type": "execute_result"
    }
   ],
   "source": [
    "confusion_matrix(y_test, yhatg)"
   ]
  },
  {
   "cell_type": "code",
   "execution_count": 155,
   "metadata": {},
   "outputs": [
    {
     "name": "stdout",
     "output_type": "stream",
     "text": [
      "              precision    recall  f1-score   support\n",
      "\n",
      "           0       0.95      0.69      0.80     10934\n",
      "           1       0.22      0.70      0.34      1392\n",
      "\n",
      "   micro avg       0.69      0.69      0.69     12326\n",
      "   macro avg       0.58      0.69      0.57     12326\n",
      "weighted avg       0.87      0.69      0.74     12326\n",
      "\n"
     ]
    }
   ],
   "source": [
    "print(classification_report(y_test, yhatg))"
   ]
  },
  {
   "cell_type": "code",
   "execution_count": 156,
   "metadata": {},
   "outputs": [
    {
     "data": {
      "image/png": "[encoded data removed]",
      "text/plain": [
       "<Figure size 432x288 with 1 Axes>"
      ]
     },
     "metadata": {
      "needs_background": "light"
     },
     "output_type": "display_data"
    }
   ],
   "source": [
    "fpr, tpr, thresholds = roc_curve(y_test, yhatg)\n",
    "\n",
    "roc_auc = auc(fpr,tpr)\n",
    "\n",
    "# Plot ROC\n",
    "plt.title('Receiver Operating Characteristic')\n",
    "plt.plot(fpr, tpr, 'b',label='AUC = %0.3f'% roc_auc)\n",
    "plt.legend(loc='lower right')\n",
    "plt.plot([0,1],[0,1],'r--')\n",
    "plt.xlim([-0.1,1.0])\n",
    "plt.ylim([-0.1,1.01])\n",
    "plt.ylabel('True Positive Rate')\n",
    "plt.xlabel('False Positive Rate')\n",
    "plt.show()"
   ]
  },
  {
   "cell_type": "code",
   "execution_count": 158,
   "metadata": {},
   "outputs": [],
   "source": [
    "# #Though the recall score Will try feature selection to see good pred"
   ]
  },
  {
   "cell_type": "code",
   "execution_count": 166,
   "metadata": {},
   "outputs": [],
   "source": [
    "d.to_csv('bank_marketing_data_feature_engineered.csv', index = False)"
   ]
  },
  {
   "cell_type": "code",
   "execution_count": 165,
   "metadata": {},
   "outputs": [
    {
     "data": {
      "text/plain": [
       "Index(['job', 'marital', 'education', 'default', 'housing', 'loan', 'contact',\n",
       "       'month', 'day_of_week', 'campaign', 'cons_conf_idx', 'euribor_3_month',\n",
       "       'deposit', 'age_bucket', 'previous_campaign'],\n",
       "      dtype='object')"
      ]
     },
     "execution_count": 165,
     "metadata": {},
     "output_type": "execute_result"
    }
   ],
   "source": [
    "d.columns"
   ]
  },
  {
   "cell_type": "code",
   "execution_count": null,
   "metadata": {},
   "outputs": [],
   "source": []
  }
 ],
 "metadata": {
  "kernelspec": {
   "display_name": "Python 3",
   "language": "python",
   "name": "python3"
  },
  "language_info": {
   "codemirror_mode": {
    "name": "ipython",
    "version": 3
   },
   "file_extension": ".py",
   "mimetype": "text/x-python",
   "name": "python",
   "nbconvert_exporter": "python",
   "pygments_lexer": "ipython3",
   "version": "3.7.1"
  }
 },
 "nbformat": 4,
 "nbformat_minor": 2
}
