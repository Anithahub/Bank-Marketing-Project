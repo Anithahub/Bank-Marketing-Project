{
 "cells": [
  {
   "cell_type": "code",
   "execution_count": 28,
   "metadata": {},
   "outputs": [],
   "source": [
    "import pandas as pd\n",
    "import numpy as np\n",
    "import seaborn as sns\n",
    "import matplotlib.pyplot as plt\n",
    "from sklearn.preprocessing import LabelEncoder, StandardScaler\n",
    "\n",
    "from sklearn.linear_model import LogisticRegression, SGDClassifier, Ridge, Lasso, ElasticNet, RidgeCV, LassoCV\n",
    "from sklearn.preprocessing import StandardScaler\n",
    "from sklearn.svm import SVC\n",
    "from sklearn.tree import DecisionTreeClassifier\n",
    "from sklearn.model_selection import cross_val_score, train_test_split, GridSearchCV\n",
    "from sklearn.model_selection import StratifiedKFold\n",
    "from sklearn.neighbors import KNeighborsClassifier\n",
    "from sklearn.ensemble import RandomForestClassifier, ExtraTreesClassifier, BaggingClassifier\n",
    "\n",
    "%matplotlib inline"
   ]
  },
  {
   "cell_type": "code",
   "execution_count": 4,
   "metadata": {},
   "outputs": [],
   "source": [
    "data = pd.read_csv('data_bank_models.csv', sep = ',')"
   ]
  },
  {
   "cell_type": "code",
   "execution_count": 5,
   "metadata": {},
   "outputs": [
    {
     "data": {
      "text/html": [
       "<div>\n",
       "<style scoped>\n",
       "    .dataframe tbody tr th:only-of-type {\n",
       "        vertical-align: middle;\n",
       "    }\n",
       "\n",
       "    .dataframe tbody tr th {\n",
       "        vertical-align: top;\n",
       "    }\n",
       "\n",
       "    .dataframe thead th {\n",
       "        text-align: right;\n",
       "    }\n",
       "</style>\n",
       "<table border=\"1\" class=\"dataframe\">\n",
       "  <thead>\n",
       "    <tr style=\"text-align: right;\">\n",
       "      <th></th>\n",
       "      <th>age</th>\n",
       "      <th>job</th>\n",
       "      <th>marital</th>\n",
       "      <th>education</th>\n",
       "      <th>default</th>\n",
       "      <th>housing</th>\n",
       "      <th>loan</th>\n",
       "      <th>contact</th>\n",
       "      <th>month</th>\n",
       "      <th>day_of_week</th>\n",
       "      <th>duration</th>\n",
       "      <th>campaign</th>\n",
       "      <th>pdays</th>\n",
       "      <th>previous</th>\n",
       "      <th>poutcome</th>\n",
       "      <th>cons_conf_idx</th>\n",
       "      <th>euribor_3_month</th>\n",
       "      <th>deposit</th>\n",
       "    </tr>\n",
       "  </thead>\n",
       "  <tbody>\n",
       "    <tr>\n",
       "      <th>0</th>\n",
       "      <td>56</td>\n",
       "      <td>3</td>\n",
       "      <td>2</td>\n",
       "      <td>2</td>\n",
       "      <td>0</td>\n",
       "      <td>0</td>\n",
       "      <td>0</td>\n",
       "      <td>1</td>\n",
       "      <td>5</td>\n",
       "      <td>1</td>\n",
       "      <td>4.350000</td>\n",
       "      <td>1</td>\n",
       "      <td>999</td>\n",
       "      <td>0</td>\n",
       "      <td>0</td>\n",
       "      <td>-36.4</td>\n",
       "      <td>4.857</td>\n",
       "      <td>0</td>\n",
       "    </tr>\n",
       "    <tr>\n",
       "      <th>1</th>\n",
       "      <td>57</td>\n",
       "      <td>7</td>\n",
       "      <td>2</td>\n",
       "      <td>3</td>\n",
       "      <td>1</td>\n",
       "      <td>0</td>\n",
       "      <td>0</td>\n",
       "      <td>1</td>\n",
       "      <td>5</td>\n",
       "      <td>1</td>\n",
       "      <td>2.483333</td>\n",
       "      <td>1</td>\n",
       "      <td>999</td>\n",
       "      <td>0</td>\n",
       "      <td>0</td>\n",
       "      <td>-36.4</td>\n",
       "      <td>4.857</td>\n",
       "      <td>0</td>\n",
       "    </tr>\n",
       "    <tr>\n",
       "      <th>2</th>\n",
       "      <td>37</td>\n",
       "      <td>7</td>\n",
       "      <td>2</td>\n",
       "      <td>3</td>\n",
       "      <td>0</td>\n",
       "      <td>2</td>\n",
       "      <td>0</td>\n",
       "      <td>1</td>\n",
       "      <td>5</td>\n",
       "      <td>1</td>\n",
       "      <td>3.766667</td>\n",
       "      <td>1</td>\n",
       "      <td>999</td>\n",
       "      <td>0</td>\n",
       "      <td>0</td>\n",
       "      <td>-36.4</td>\n",
       "      <td>4.857</td>\n",
       "      <td>0</td>\n",
       "    </tr>\n",
       "    <tr>\n",
       "      <th>3</th>\n",
       "      <td>40</td>\n",
       "      <td>0</td>\n",
       "      <td>2</td>\n",
       "      <td>2</td>\n",
       "      <td>0</td>\n",
       "      <td>0</td>\n",
       "      <td>0</td>\n",
       "      <td>1</td>\n",
       "      <td>5</td>\n",
       "      <td>1</td>\n",
       "      <td>2.516667</td>\n",
       "      <td>1</td>\n",
       "      <td>999</td>\n",
       "      <td>0</td>\n",
       "      <td>0</td>\n",
       "      <td>-36.4</td>\n",
       "      <td>4.857</td>\n",
       "      <td>0</td>\n",
       "    </tr>\n",
       "    <tr>\n",
       "      <th>4</th>\n",
       "      <td>56</td>\n",
       "      <td>7</td>\n",
       "      <td>2</td>\n",
       "      <td>3</td>\n",
       "      <td>0</td>\n",
       "      <td>0</td>\n",
       "      <td>2</td>\n",
       "      <td>1</td>\n",
       "      <td>5</td>\n",
       "      <td>1</td>\n",
       "      <td>5.116667</td>\n",
       "      <td>1</td>\n",
       "      <td>999</td>\n",
       "      <td>0</td>\n",
       "      <td>0</td>\n",
       "      <td>-36.4</td>\n",
       "      <td>4.857</td>\n",
       "      <td>0</td>\n",
       "    </tr>\n",
       "  </tbody>\n",
       "</table>\n",
       "</div>"
      ],
      "text/plain": [
       "   age  job  marital  education  default  housing  loan  contact  month  \\\n",
       "0   56    3        2          2        0        0     0        1      5   \n",
       "1   57    7        2          3        1        0     0        1      5   \n",
       "2   37    7        2          3        0        2     0        1      5   \n",
       "3   40    0        2          2        0        0     0        1      5   \n",
       "4   56    7        2          3        0        0     2        1      5   \n",
       "\n",
       "   day_of_week  duration  campaign  pdays  previous  poutcome  cons_conf_idx  \\\n",
       "0            1  4.350000         1    999         0         0          -36.4   \n",
       "1            1  2.483333         1    999         0         0          -36.4   \n",
       "2            1  3.766667         1    999         0         0          -36.4   \n",
       "3            1  2.516667         1    999         0         0          -36.4   \n",
       "4            1  5.116667         1    999         0         0          -36.4   \n",
       "\n",
       "   euribor_3_month  deposit  \n",
       "0            4.857        0  \n",
       "1            4.857        0  \n",
       "2            4.857        0  \n",
       "3            4.857        0  \n",
       "4            4.857        0  "
      ]
     },
     "execution_count": 5,
     "metadata": {},
     "output_type": "execute_result"
    }
   ],
   "source": [
    "data.head()"
   ]
  },
  {
   "cell_type": "code",
   "execution_count": 131,
   "metadata": {},
   "outputs": [
    {
     "data": {
      "text/plain": [
       "0    36544\n",
       "1     4640\n",
       "Name: deposit, dtype: int64"
      ]
     },
     "execution_count": 131,
     "metadata": {},
     "output_type": "execute_result"
    }
   ],
   "source": [
    "data.deposit.value_counts()"
   ]
  },
  {
   "cell_type": "code",
   "execution_count": 130,
   "metadata": {},
   "outputs": [
    {
     "data": {
      "text/plain": [
       "age                3691\n",
       "job                3691\n",
       "marital            3691\n",
       "education          3691\n",
       "default            3691\n",
       "housing            3691\n",
       "loan               3691\n",
       "contact            3691\n",
       "month              3691\n",
       "day_of_week        3691\n",
       "duration           3691\n",
       "campaign           3691\n",
       "pdays              3691\n",
       "previous           3691\n",
       "poutcome           3691\n",
       "cons_conf_idx      3691\n",
       "euribor_3_month    3691\n",
       "deposit            3691\n",
       "dtype: int64"
      ]
     },
     "execution_count": 130,
     "metadata": {},
     "output_type": "execute_result"
    }
   ],
   "source": [
    "data[(data.loan == 2) & (data.housing == 2)].count()"
   ]
  },
  {
   "cell_type": "code",
   "execution_count": 74,
   "metadata": {},
   "outputs": [
    {
     "data": {
      "text/plain": [
       "0    32584\n",
       "1     8597\n",
       "2        3\n",
       "Name: default, dtype: int64"
      ]
     },
     "execution_count": 74,
     "metadata": {},
     "output_type": "execute_result"
    }
   ],
   "source": [
    "data.default.value_counts()"
   ]
  },
  {
   "cell_type": "code",
   "execution_count": 75,
   "metadata": {},
   "outputs": [
    {
     "data": {
      "text/plain": [
       "0    33946\n",
       "2     6248\n",
       "1      990\n",
       "Name: loan, dtype: int64"
      ]
     },
     "execution_count": 75,
     "metadata": {},
     "output_type": "execute_result"
    }
   ],
   "source": [
    "data.loan.value_counts()"
   ]
  },
  {
   "cell_type": "code",
   "execution_count": 76,
   "metadata": {},
   "outputs": [
    {
     "data": {
      "text/plain": [
       "2    21573\n",
       "0    18621\n",
       "1      990\n",
       "Name: housing, dtype: int64"
      ]
     },
     "execution_count": 76,
     "metadata": {},
     "output_type": "execute_result"
    }
   ],
   "source": [
    "data.housing.value_counts()"
   ]
  },
  {
   "cell_type": "code",
   "execution_count": 4,
   "metadata": {},
   "outputs": [],
   "source": [
    "def impute_unknown(x):\n",
    "    if x == 2:\n",
    "        x = 0\n",
    "    return x"
   ]
  },
  {
   "cell_type": "code",
   "execution_count": 5,
   "metadata": {},
   "outputs": [],
   "source": [
    "##imputing the missing value in housing, loan & default coulmns with '0' - going by majority as they were not correlated with other variables:\n",
    "data.housing = data.housing.map(impute_unknown)\n",
    "data.default = data.default.map(impute_unknown)\n",
    "data.loan = data.loan.map(impute_unknown)"
   ]
  },
  {
   "cell_type": "code",
   "execution_count": 79,
   "metadata": {},
   "outputs": [
    {
     "data": {
      "text/plain": [
       "array([0, 1], dtype=int64)"
      ]
     },
     "execution_count": 79,
     "metadata": {},
     "output_type": "execute_result"
    }
   ],
   "source": [
    "data.housing.unique()"
   ]
  },
  {
   "cell_type": "code",
   "execution_count": 80,
   "metadata": {},
   "outputs": [
    {
     "data": {
      "text/plain": [
       "0    40194\n",
       "1      990\n",
       "Name: housing, dtype: int64"
      ]
     },
     "execution_count": 80,
     "metadata": {},
     "output_type": "execute_result"
    }
   ],
   "source": [
    "data.housing.value_counts()"
   ]
  },
  {
   "cell_type": "code",
   "execution_count": 83,
   "metadata": {},
   "outputs": [
    {
     "data": {
      "text/plain": [
       "0    40194\n",
       "1      990\n",
       "Name: loan, dtype: int64"
      ]
     },
     "execution_count": 83,
     "metadata": {},
     "output_type": "execute_result"
    }
   ],
   "source": [
    "data.loan.value_counts()"
   ]
  },
  {
   "cell_type": "code",
   "execution_count": 84,
   "metadata": {},
   "outputs": [
    {
     "data": {
      "text/plain": [
       "0    32587\n",
       "1     8597\n",
       "Name: default, dtype: int64"
      ]
     },
     "execution_count": 84,
     "metadata": {},
     "output_type": "execute_result"
    }
   ],
   "source": [
    "data.default.value_counts()"
   ]
  },
  {
   "cell_type": "code",
   "execution_count": 85,
   "metadata": {},
   "outputs": [
    {
     "data": {
      "text/plain": [
       "array([0, 1], dtype=int64)"
      ]
     },
     "execution_count": 85,
     "metadata": {},
     "output_type": "execute_result"
    }
   ],
   "source": [
    "data.loan.unique()"
   ]
  },
  {
   "cell_type": "code",
   "execution_count": 86,
   "metadata": {},
   "outputs": [
    {
     "data": {
      "text/plain": [
       "array([0, 1], dtype=int64)"
      ]
     },
     "execution_count": 86,
     "metadata": {},
     "output_type": "execute_result"
    }
   ],
   "source": [
    "data.default.unique()"
   ]
  },
  {
   "cell_type": "code",
   "execution_count": 87,
   "metadata": {},
   "outputs": [
    {
     "data": {
      "text/plain": [
       "2    24925\n",
       "1    11568\n",
       "3     4611\n",
       "0       80\n",
       "Name: marital, dtype: int64"
      ]
     },
     "execution_count": 87,
     "metadata": {},
     "output_type": "execute_result"
    }
   ],
   "source": [
    "data.marital.value_counts()"
   ]
  },
  {
   "cell_type": "code",
   "execution_count": 6,
   "metadata": {},
   "outputs": [],
   "source": [
    "def unknown(x):\n",
    "    if x == 0:\n",
    "        x = 2\n",
    "    return x"
   ]
  },
  {
   "cell_type": "code",
   "execution_count": 7,
   "metadata": {},
   "outputs": [],
   "source": [
    "data.marital = data.marital.map(unknown)"
   ]
  },
  {
   "cell_type": "code",
   "execution_count": 90,
   "metadata": {},
   "outputs": [
    {
     "data": {
      "text/plain": [
       "2    25005\n",
       "1    11568\n",
       "3     4611\n",
       "Name: marital, dtype: int64"
      ]
     },
     "execution_count": 90,
     "metadata": {},
     "output_type": "execute_result"
    }
   ],
   "source": [
    "data.marital.value_counts()"
   ]
  },
  {
   "cell_type": "code",
   "execution_count": 6,
   "metadata": {},
   "outputs": [
    {
     "data": {
      "text/plain": [
       "4    17410\n",
       "3    15557\n",
       "2     6468\n",
       "1     1731\n",
       "0       18\n",
       "Name: education, dtype: int64"
      ]
     },
     "execution_count": 6,
     "metadata": {},
     "output_type": "execute_result"
    }
   ],
   "source": [
    "data.education.value_counts()"
   ]
  },
  {
   "cell_type": "code",
   "execution_count": 7,
   "metadata": {},
   "outputs": [],
   "source": [
    "#function for unknown education\n",
    "def unknown_edu(x):\n",
    "    if x == 1:\n",
    "        x = 4\n",
    "    return x"
   ]
  },
  {
   "cell_type": "code",
   "execution_count": 8,
   "metadata": {},
   "outputs": [],
   "source": [
    "#imputung unknown education with the majority class, tertiary(4):\n",
    "data.education = data.education.map(unknown_edu)"
   ]
  },
  {
   "cell_type": "code",
   "execution_count": 9,
   "metadata": {},
   "outputs": [
    {
     "data": {
      "text/plain": [
       "4    19141\n",
       "3    15557\n",
       "2     6468\n",
       "0       18\n",
       "Name: education, dtype: int64"
      ]
     },
     "execution_count": 9,
     "metadata": {},
     "output_type": "execute_result"
    }
   ],
   "source": [
    "data.education.value_counts()"
   ]
  },
  {
   "cell_type": "code",
   "execution_count": 10,
   "metadata": {},
   "outputs": [
    {
     "data": {
      "text/plain": [
       "0     10421\n",
       "1      9252\n",
       "9      6743\n",
       "7      3969\n",
       "4      2923\n",
       "5      1720\n",
       "2      1456\n",
       "6      1421\n",
       "3      1060\n",
       "10     1014\n",
       "8       875\n",
       "11      330\n",
       "Name: job, dtype: int64"
      ]
     },
     "execution_count": 10,
     "metadata": {},
     "output_type": "execute_result"
    }
   ],
   "source": [
    "data.job.value_counts()"
   ]
  },
  {
   "cell_type": "code",
   "execution_count": 11,
   "metadata": {},
   "outputs": [],
   "source": [
    "# for unknown job:\n",
    "def unknown_job(x):\n",
    "    if x == 11:\n",
    "        x = 0\n",
    "    return x"
   ]
  },
  {
   "cell_type": "code",
   "execution_count": 12,
   "metadata": {},
   "outputs": [],
   "source": [
    "#imputing the unknown value majority class, the admin (0):\n",
    "data.job = data.job.map(unknown_job)"
   ]
  },
  {
   "cell_type": "code",
   "execution_count": 13,
   "metadata": {},
   "outputs": [
    {
     "data": {
      "text/plain": [
       "0     10751\n",
       "1      9252\n",
       "9      6743\n",
       "7      3969\n",
       "4      2923\n",
       "5      1720\n",
       "2      1456\n",
       "6      1421\n",
       "3      1060\n",
       "10     1014\n",
       "8       875\n",
       "Name: job, dtype: int64"
      ]
     },
     "execution_count": 13,
     "metadata": {},
     "output_type": "execute_result"
    }
   ],
   "source": [
    "data.job.value_counts()"
   ]
  },
  {
   "cell_type": "code",
   "execution_count": 14,
   "metadata": {},
   "outputs": [
    {
     "data": {
      "text/html": [
       "<div>\n",
       "<style scoped>\n",
       "    .dataframe tbody tr th:only-of-type {\n",
       "        vertical-align: middle;\n",
       "    }\n",
       "\n",
       "    .dataframe tbody tr th {\n",
       "        vertical-align: top;\n",
       "    }\n",
       "\n",
       "    .dataframe thead th {\n",
       "        text-align: right;\n",
       "    }\n",
       "</style>\n",
       "<table border=\"1\" class=\"dataframe\">\n",
       "  <thead>\n",
       "    <tr style=\"text-align: right;\">\n",
       "      <th></th>\n",
       "      <th>age</th>\n",
       "      <th>job</th>\n",
       "      <th>marital</th>\n",
       "      <th>education</th>\n",
       "      <th>default</th>\n",
       "      <th>housing</th>\n",
       "      <th>loan</th>\n",
       "      <th>contact</th>\n",
       "      <th>month</th>\n",
       "      <th>day_of_week</th>\n",
       "      <th>duration</th>\n",
       "      <th>campaign</th>\n",
       "      <th>pdays</th>\n",
       "      <th>previous</th>\n",
       "      <th>poutcome</th>\n",
       "      <th>cons_conf_idx</th>\n",
       "      <th>euribor_3_month</th>\n",
       "      <th>deposit</th>\n",
       "    </tr>\n",
       "  </thead>\n",
       "  <tbody>\n",
       "    <tr>\n",
       "      <th>0</th>\n",
       "      <td>56</td>\n",
       "      <td>3</td>\n",
       "      <td>2</td>\n",
       "      <td>2</td>\n",
       "      <td>0</td>\n",
       "      <td>0</td>\n",
       "      <td>0</td>\n",
       "      <td>1</td>\n",
       "      <td>5</td>\n",
       "      <td>1</td>\n",
       "      <td>4.350000</td>\n",
       "      <td>1</td>\n",
       "      <td>999</td>\n",
       "      <td>0</td>\n",
       "      <td>0</td>\n",
       "      <td>-36.4</td>\n",
       "      <td>4.857</td>\n",
       "      <td>0</td>\n",
       "    </tr>\n",
       "    <tr>\n",
       "      <th>1</th>\n",
       "      <td>57</td>\n",
       "      <td>7</td>\n",
       "      <td>2</td>\n",
       "      <td>3</td>\n",
       "      <td>1</td>\n",
       "      <td>0</td>\n",
       "      <td>0</td>\n",
       "      <td>1</td>\n",
       "      <td>5</td>\n",
       "      <td>1</td>\n",
       "      <td>2.483333</td>\n",
       "      <td>1</td>\n",
       "      <td>999</td>\n",
       "      <td>0</td>\n",
       "      <td>0</td>\n",
       "      <td>-36.4</td>\n",
       "      <td>4.857</td>\n",
       "      <td>0</td>\n",
       "    </tr>\n",
       "    <tr>\n",
       "      <th>2</th>\n",
       "      <td>37</td>\n",
       "      <td>7</td>\n",
       "      <td>2</td>\n",
       "      <td>3</td>\n",
       "      <td>0</td>\n",
       "      <td>2</td>\n",
       "      <td>0</td>\n",
       "      <td>1</td>\n",
       "      <td>5</td>\n",
       "      <td>1</td>\n",
       "      <td>3.766667</td>\n",
       "      <td>1</td>\n",
       "      <td>999</td>\n",
       "      <td>0</td>\n",
       "      <td>0</td>\n",
       "      <td>-36.4</td>\n",
       "      <td>4.857</td>\n",
       "      <td>0</td>\n",
       "    </tr>\n",
       "    <tr>\n",
       "      <th>3</th>\n",
       "      <td>40</td>\n",
       "      <td>0</td>\n",
       "      <td>2</td>\n",
       "      <td>2</td>\n",
       "      <td>0</td>\n",
       "      <td>0</td>\n",
       "      <td>0</td>\n",
       "      <td>1</td>\n",
       "      <td>5</td>\n",
       "      <td>1</td>\n",
       "      <td>2.516667</td>\n",
       "      <td>1</td>\n",
       "      <td>999</td>\n",
       "      <td>0</td>\n",
       "      <td>0</td>\n",
       "      <td>-36.4</td>\n",
       "      <td>4.857</td>\n",
       "      <td>0</td>\n",
       "    </tr>\n",
       "    <tr>\n",
       "      <th>4</th>\n",
       "      <td>56</td>\n",
       "      <td>7</td>\n",
       "      <td>2</td>\n",
       "      <td>3</td>\n",
       "      <td>0</td>\n",
       "      <td>0</td>\n",
       "      <td>2</td>\n",
       "      <td>1</td>\n",
       "      <td>5</td>\n",
       "      <td>1</td>\n",
       "      <td>5.116667</td>\n",
       "      <td>1</td>\n",
       "      <td>999</td>\n",
       "      <td>0</td>\n",
       "      <td>0</td>\n",
       "      <td>-36.4</td>\n",
       "      <td>4.857</td>\n",
       "      <td>0</td>\n",
       "    </tr>\n",
       "  </tbody>\n",
       "</table>\n",
       "</div>"
      ],
      "text/plain": [
       "   age  job  marital  education  default  housing  loan  contact  month  \\\n",
       "0   56    3        2          2        0        0     0        1      5   \n",
       "1   57    7        2          3        1        0     0        1      5   \n",
       "2   37    7        2          3        0        2     0        1      5   \n",
       "3   40    0        2          2        0        0     0        1      5   \n",
       "4   56    7        2          3        0        0     2        1      5   \n",
       "\n",
       "   day_of_week  duration  campaign  pdays  previous  poutcome  cons_conf_idx  \\\n",
       "0            1  4.350000         1    999         0         0          -36.4   \n",
       "1            1  2.483333         1    999         0         0          -36.4   \n",
       "2            1  3.766667         1    999         0         0          -36.4   \n",
       "3            1  2.516667         1    999         0         0          -36.4   \n",
       "4            1  5.116667         1    999         0         0          -36.4   \n",
       "\n",
       "   euribor_3_month  deposit  \n",
       "0            4.857        0  \n",
       "1            4.857        0  \n",
       "2            4.857        0  \n",
       "3            4.857        0  \n",
       "4            4.857        0  "
      ]
     },
     "execution_count": 14,
     "metadata": {},
     "output_type": "execute_result"
    }
   ],
   "source": [
    "data.head()"
   ]
  },
  {
   "cell_type": "code",
   "execution_count": 15,
   "metadata": {},
   "outputs": [
    {
     "data": {
      "text/plain": [
       "age                  int64\n",
       "job                  int64\n",
       "marital              int64\n",
       "education            int64\n",
       "default              int64\n",
       "housing              int64\n",
       "loan                 int64\n",
       "contact              int64\n",
       "month                int64\n",
       "day_of_week          int64\n",
       "duration           float64\n",
       "campaign             int64\n",
       "pdays                int64\n",
       "previous             int64\n",
       "poutcome             int64\n",
       "cons_conf_idx      float64\n",
       "euribor_3_month    float64\n",
       "deposit              int64\n",
       "dtype: object"
      ]
     },
     "execution_count": 15,
     "metadata": {},
     "output_type": "execute_result"
    }
   ],
   "source": [
    "data.dtypes"
   ]
  },
  {
   "cell_type": "code",
   "execution_count": 16,
   "metadata": {},
   "outputs": [],
   "source": [
    "#dropping duration column as though it is a good predictor in saying higher the duration, customer will subscribe for term deposit.\n",
    "#Since before making the call, we will not know the duration and after the call it is obvious. So dropping it\n",
    "data.drop(columns = ['duration'], axis = 1, inplace = True)"
   ]
  },
  {
   "cell_type": "code",
   "execution_count": 17,
   "metadata": {},
   "outputs": [
    {
     "data": {
      "text/plain": [
       "Index(['age', 'job', 'marital', 'education', 'default', 'housing', 'loan',\n",
       "       'contact', 'month', 'day_of_week', 'campaign', 'pdays', 'previous',\n",
       "       'poutcome', 'cons_conf_idx', 'euribor_3_month', 'deposit'],\n",
       "      dtype='object')"
      ]
     },
     "execution_count": 17,
     "metadata": {},
     "output_type": "execute_result"
    }
   ],
   "source": [
    "data.columns"
   ]
  },
  {
   "cell_type": "code",
   "execution_count": 18,
   "metadata": {},
   "outputs": [
    {
     "data": {
      "text/html": [
       "<div>\n",
       "<style scoped>\n",
       "    .dataframe tbody tr th:only-of-type {\n",
       "        vertical-align: middle;\n",
       "    }\n",
       "\n",
       "    .dataframe tbody tr th {\n",
       "        vertical-align: top;\n",
       "    }\n",
       "\n",
       "    .dataframe thead th {\n",
       "        text-align: right;\n",
       "    }\n",
       "</style>\n",
       "<table border=\"1\" class=\"dataframe\">\n",
       "  <thead>\n",
       "    <tr style=\"text-align: right;\">\n",
       "      <th></th>\n",
       "      <th>count</th>\n",
       "      <th>mean</th>\n",
       "      <th>std</th>\n",
       "      <th>min</th>\n",
       "      <th>25%</th>\n",
       "      <th>50%</th>\n",
       "      <th>75%</th>\n",
       "      <th>max</th>\n",
       "    </tr>\n",
       "  </thead>\n",
       "  <tbody>\n",
       "    <tr>\n",
       "      <th>age</th>\n",
       "      <td>41184.0</td>\n",
       "      <td>40.023529</td>\n",
       "      <td>10.421044</td>\n",
       "      <td>17.000</td>\n",
       "      <td>32.000</td>\n",
       "      <td>38.000</td>\n",
       "      <td>47.000</td>\n",
       "      <td>98.000</td>\n",
       "    </tr>\n",
       "    <tr>\n",
       "      <th>job</th>\n",
       "      <td>41184.0</td>\n",
       "      <td>3.636655</td>\n",
       "      <td>3.549747</td>\n",
       "      <td>0.000</td>\n",
       "      <td>0.000</td>\n",
       "      <td>2.000</td>\n",
       "      <td>7.000</td>\n",
       "      <td>10.000</td>\n",
       "    </tr>\n",
       "    <tr>\n",
       "      <th>marital</th>\n",
       "      <td>41184.0</td>\n",
       "      <td>1.827190</td>\n",
       "      <td>0.608903</td>\n",
       "      <td>0.000</td>\n",
       "      <td>1.000</td>\n",
       "      <td>2.000</td>\n",
       "      <td>2.000</td>\n",
       "      <td>3.000</td>\n",
       "    </tr>\n",
       "    <tr>\n",
       "      <th>education</th>\n",
       "      <td>41184.0</td>\n",
       "      <td>3.306405</td>\n",
       "      <td>0.729302</td>\n",
       "      <td>0.000</td>\n",
       "      <td>3.000</td>\n",
       "      <td>3.000</td>\n",
       "      <td>4.000</td>\n",
       "      <td>4.000</td>\n",
       "    </tr>\n",
       "    <tr>\n",
       "      <th>default</th>\n",
       "      <td>41184.0</td>\n",
       "      <td>0.208892</td>\n",
       "      <td>0.406701</td>\n",
       "      <td>0.000</td>\n",
       "      <td>0.000</td>\n",
       "      <td>0.000</td>\n",
       "      <td>0.000</td>\n",
       "      <td>2.000</td>\n",
       "    </tr>\n",
       "    <tr>\n",
       "      <th>housing</th>\n",
       "      <td>41184.0</td>\n",
       "      <td>1.071678</td>\n",
       "      <td>0.985316</td>\n",
       "      <td>0.000</td>\n",
       "      <td>0.000</td>\n",
       "      <td>2.000</td>\n",
       "      <td>2.000</td>\n",
       "      <td>2.000</td>\n",
       "    </tr>\n",
       "    <tr>\n",
       "      <th>loan</th>\n",
       "      <td>41184.0</td>\n",
       "      <td>0.327457</td>\n",
       "      <td>0.723644</td>\n",
       "      <td>0.000</td>\n",
       "      <td>0.000</td>\n",
       "      <td>0.000</td>\n",
       "      <td>0.000</td>\n",
       "      <td>2.000</td>\n",
       "    </tr>\n",
       "    <tr>\n",
       "      <th>contact</th>\n",
       "      <td>41184.0</td>\n",
       "      <td>1.634737</td>\n",
       "      <td>0.481510</td>\n",
       "      <td>1.000</td>\n",
       "      <td>1.000</td>\n",
       "      <td>2.000</td>\n",
       "      <td>2.000</td>\n",
       "      <td>2.000</td>\n",
       "    </tr>\n",
       "    <tr>\n",
       "      <th>month</th>\n",
       "      <td>41184.0</td>\n",
       "      <td>6.608003</td>\n",
       "      <td>2.041014</td>\n",
       "      <td>3.000</td>\n",
       "      <td>5.000</td>\n",
       "      <td>6.000</td>\n",
       "      <td>8.000</td>\n",
       "      <td>12.000</td>\n",
       "    </tr>\n",
       "    <tr>\n",
       "      <th>day_of_week</th>\n",
       "      <td>41184.0</td>\n",
       "      <td>2.979628</td>\n",
       "      <td>1.411497</td>\n",
       "      <td>1.000</td>\n",
       "      <td>2.000</td>\n",
       "      <td>3.000</td>\n",
       "      <td>4.000</td>\n",
       "      <td>5.000</td>\n",
       "    </tr>\n",
       "    <tr>\n",
       "      <th>campaign</th>\n",
       "      <td>41184.0</td>\n",
       "      <td>2.567381</td>\n",
       "      <td>2.769895</td>\n",
       "      <td>1.000</td>\n",
       "      <td>1.000</td>\n",
       "      <td>2.000</td>\n",
       "      <td>3.000</td>\n",
       "      <td>56.000</td>\n",
       "    </tr>\n",
       "    <tr>\n",
       "      <th>pdays</th>\n",
       "      <td>41184.0</td>\n",
       "      <td>962.471907</td>\n",
       "      <td>186.919638</td>\n",
       "      <td>0.000</td>\n",
       "      <td>999.000</td>\n",
       "      <td>999.000</td>\n",
       "      <td>999.000</td>\n",
       "      <td>999.000</td>\n",
       "    </tr>\n",
       "    <tr>\n",
       "      <th>previous</th>\n",
       "      <td>41184.0</td>\n",
       "      <td>0.172980</td>\n",
       "      <td>0.494922</td>\n",
       "      <td>0.000</td>\n",
       "      <td>0.000</td>\n",
       "      <td>0.000</td>\n",
       "      <td>0.000</td>\n",
       "      <td>7.000</td>\n",
       "    </tr>\n",
       "    <tr>\n",
       "      <th>poutcome</th>\n",
       "      <td>41184.0</td>\n",
       "      <td>0.169920</td>\n",
       "      <td>0.455773</td>\n",
       "      <td>0.000</td>\n",
       "      <td>0.000</td>\n",
       "      <td>0.000</td>\n",
       "      <td>0.000</td>\n",
       "      <td>2.000</td>\n",
       "    </tr>\n",
       "    <tr>\n",
       "      <th>cons_conf_idx</th>\n",
       "      <td>41184.0</td>\n",
       "      <td>-40.502508</td>\n",
       "      <td>4.628128</td>\n",
       "      <td>-50.800</td>\n",
       "      <td>-42.700</td>\n",
       "      <td>-41.800</td>\n",
       "      <td>-36.400</td>\n",
       "      <td>-26.900</td>\n",
       "    </tr>\n",
       "    <tr>\n",
       "      <th>euribor_3_month</th>\n",
       "      <td>41184.0</td>\n",
       "      <td>3.621337</td>\n",
       "      <td>1.734438</td>\n",
       "      <td>0.634</td>\n",
       "      <td>1.344</td>\n",
       "      <td>4.857</td>\n",
       "      <td>4.961</td>\n",
       "      <td>5.045</td>\n",
       "    </tr>\n",
       "    <tr>\n",
       "      <th>deposit</th>\n",
       "      <td>41184.0</td>\n",
       "      <td>0.112665</td>\n",
       "      <td>0.316187</td>\n",
       "      <td>0.000</td>\n",
       "      <td>0.000</td>\n",
       "      <td>0.000</td>\n",
       "      <td>0.000</td>\n",
       "      <td>1.000</td>\n",
       "    </tr>\n",
       "  </tbody>\n",
       "</table>\n",
       "</div>"
      ],
      "text/plain": [
       "                   count        mean         std     min      25%      50%  \\\n",
       "age              41184.0   40.023529   10.421044  17.000   32.000   38.000   \n",
       "job              41184.0    3.636655    3.549747   0.000    0.000    2.000   \n",
       "marital          41184.0    1.827190    0.608903   0.000    1.000    2.000   \n",
       "education        41184.0    3.306405    0.729302   0.000    3.000    3.000   \n",
       "default          41184.0    0.208892    0.406701   0.000    0.000    0.000   \n",
       "housing          41184.0    1.071678    0.985316   0.000    0.000    2.000   \n",
       "loan             41184.0    0.327457    0.723644   0.000    0.000    0.000   \n",
       "contact          41184.0    1.634737    0.481510   1.000    1.000    2.000   \n",
       "month            41184.0    6.608003    2.041014   3.000    5.000    6.000   \n",
       "day_of_week      41184.0    2.979628    1.411497   1.000    2.000    3.000   \n",
       "campaign         41184.0    2.567381    2.769895   1.000    1.000    2.000   \n",
       "pdays            41184.0  962.471907  186.919638   0.000  999.000  999.000   \n",
       "previous         41184.0    0.172980    0.494922   0.000    0.000    0.000   \n",
       "poutcome         41184.0    0.169920    0.455773   0.000    0.000    0.000   \n",
       "cons_conf_idx    41184.0  -40.502508    4.628128 -50.800  -42.700  -41.800   \n",
       "euribor_3_month  41184.0    3.621337    1.734438   0.634    1.344    4.857   \n",
       "deposit          41184.0    0.112665    0.316187   0.000    0.000    0.000   \n",
       "\n",
       "                     75%      max  \n",
       "age               47.000   98.000  \n",
       "job                7.000   10.000  \n",
       "marital            2.000    3.000  \n",
       "education          4.000    4.000  \n",
       "default            0.000    2.000  \n",
       "housing            2.000    2.000  \n",
       "loan               0.000    2.000  \n",
       "contact            2.000    2.000  \n",
       "month              8.000   12.000  \n",
       "day_of_week        4.000    5.000  \n",
       "campaign           3.000   56.000  \n",
       "pdays            999.000  999.000  \n",
       "previous           0.000    7.000  \n",
       "poutcome           0.000    2.000  \n",
       "cons_conf_idx    -36.400  -26.900  \n",
       "euribor_3_month    4.961    5.045  \n",
       "deposit            0.000    1.000  "
      ]
     },
     "execution_count": 18,
     "metadata": {},
     "output_type": "execute_result"
    }
   ],
   "source": [
    "data.describe().T"
   ]
  },
  {
   "cell_type": "code",
   "execution_count": 19,
   "metadata": {},
   "outputs": [
    {
     "data": {
      "text/html": [
       "<div>\n",
       "<style scoped>\n",
       "    .dataframe tbody tr th:only-of-type {\n",
       "        vertical-align: middle;\n",
       "    }\n",
       "\n",
       "    .dataframe tbody tr th {\n",
       "        vertical-align: top;\n",
       "    }\n",
       "\n",
       "    .dataframe thead th {\n",
       "        text-align: right;\n",
       "    }\n",
       "</style>\n",
       "<table border=\"1\" class=\"dataframe\">\n",
       "  <thead>\n",
       "    <tr style=\"text-align: right;\">\n",
       "      <th></th>\n",
       "      <th>age</th>\n",
       "      <th>job</th>\n",
       "      <th>marital</th>\n",
       "      <th>education</th>\n",
       "      <th>default</th>\n",
       "      <th>housing</th>\n",
       "      <th>loan</th>\n",
       "      <th>contact</th>\n",
       "      <th>month</th>\n",
       "      <th>day_of_week</th>\n",
       "      <th>campaign</th>\n",
       "      <th>pdays</th>\n",
       "      <th>previous</th>\n",
       "      <th>poutcome</th>\n",
       "      <th>cons_conf_idx</th>\n",
       "      <th>euribor_3_month</th>\n",
       "      <th>deposit</th>\n",
       "    </tr>\n",
       "  </thead>\n",
       "  <tbody>\n",
       "    <tr>\n",
       "      <th>age</th>\n",
       "      <td>1.000000</td>\n",
       "      <td>-0.011934</td>\n",
       "      <td>0.389734</td>\n",
       "      <td>-0.130095</td>\n",
       "      <td>0.165005</td>\n",
       "      <td>-0.001694</td>\n",
       "      <td>-0.007346</td>\n",
       "      <td>-0.007065</td>\n",
       "      <td>0.077263</td>\n",
       "      <td>-0.018532</td>\n",
       "      <td>0.004468</td>\n",
       "      <td>-0.034381</td>\n",
       "      <td>0.024384</td>\n",
       "      <td>0.026392</td>\n",
       "      <td>0.129366</td>\n",
       "      <td>0.010745</td>\n",
       "      <td>0.030419</td>\n",
       "    </tr>\n",
       "    <tr>\n",
       "      <th>job</th>\n",
       "      <td>-0.011934</td>\n",
       "      <td>1.000000</td>\n",
       "      <td>-0.025489</td>\n",
       "      <td>0.170706</td>\n",
       "      <td>-0.044035</td>\n",
       "      <td>0.007426</td>\n",
       "      <td>-0.011503</td>\n",
       "      <td>0.031924</td>\n",
       "      <td>0.047937</td>\n",
       "      <td>-0.000867</td>\n",
       "      <td>-0.007732</td>\n",
       "      <td>-0.025662</td>\n",
       "      <td>0.022134</td>\n",
       "      <td>0.021382</td>\n",
       "      <td>0.044258</td>\n",
       "      <td>-0.012703</td>\n",
       "      <td>0.025462</td>\n",
       "    </tr>\n",
       "    <tr>\n",
       "      <th>marital</th>\n",
       "      <td>0.389734</td>\n",
       "      <td>-0.025489</td>\n",
       "      <td>1.000000</td>\n",
       "      <td>-0.103963</td>\n",
       "      <td>0.079490</td>\n",
       "      <td>-0.010517</td>\n",
       "      <td>-0.005758</td>\n",
       "      <td>-0.054543</td>\n",
       "      <td>0.018721</td>\n",
       "      <td>-0.014521</td>\n",
       "      <td>0.007214</td>\n",
       "      <td>0.037930</td>\n",
       "      <td>-0.038668</td>\n",
       "      <td>-0.040395</td>\n",
       "      <td>0.033849</td>\n",
       "      <td>0.092005</td>\n",
       "      <td>-0.046181</td>\n",
       "    </tr>\n",
       "    <tr>\n",
       "      <th>education</th>\n",
       "      <td>-0.130095</td>\n",
       "      <td>0.170706</td>\n",
       "      <td>-0.103963</td>\n",
       "      <td>1.000000</td>\n",
       "      <td>-0.196477</td>\n",
       "      <td>0.019649</td>\n",
       "      <td>0.006295</td>\n",
       "      <td>0.103668</td>\n",
       "      <td>0.120333</td>\n",
       "      <td>0.004861</td>\n",
       "      <td>-0.000045</td>\n",
       "      <td>-0.040301</td>\n",
       "      <td>0.032908</td>\n",
       "      <td>0.034683</td>\n",
       "      <td>0.070332</td>\n",
       "      <td>-0.031156</td>\n",
       "      <td>0.049099</td>\n",
       "    </tr>\n",
       "    <tr>\n",
       "      <th>default</th>\n",
       "      <td>0.165005</td>\n",
       "      <td>-0.044035</td>\n",
       "      <td>0.079490</td>\n",
       "      <td>-0.196477</td>\n",
       "      <td>1.000000</td>\n",
       "      <td>-0.015794</td>\n",
       "      <td>-0.003805</td>\n",
       "      <td>-0.135233</td>\n",
       "      <td>-0.084354</td>\n",
       "      <td>-0.004303</td>\n",
       "      <td>0.032867</td>\n",
       "      <td>0.080073</td>\n",
       "      <td>-0.102436</td>\n",
       "      <td>-0.108180</td>\n",
       "      <td>0.026514</td>\n",
       "      <td>0.195336</td>\n",
       "      <td>-0.099371</td>\n",
       "    </tr>\n",
       "    <tr>\n",
       "      <th>housing</th>\n",
       "      <td>-0.001694</td>\n",
       "      <td>0.007426</td>\n",
       "      <td>-0.010517</td>\n",
       "      <td>0.019649</td>\n",
       "      <td>-0.015794</td>\n",
       "      <td>1.000000</td>\n",
       "      <td>0.044317</td>\n",
       "      <td>0.082208</td>\n",
       "      <td>0.031878</td>\n",
       "      <td>-0.009041</td>\n",
       "      <td>-0.011094</td>\n",
       "      <td>-0.010559</td>\n",
       "      <td>0.021330</td>\n",
       "      <td>0.023758</td>\n",
       "      <td>-0.033891</td>\n",
       "      <td>-0.059324</td>\n",
       "      <td>0.011567</td>\n",
       "    </tr>\n",
       "    <tr>\n",
       "      <th>loan</th>\n",
       "      <td>-0.007346</td>\n",
       "      <td>-0.011503</td>\n",
       "      <td>-0.005758</td>\n",
       "      <td>0.006295</td>\n",
       "      <td>-0.003805</td>\n",
       "      <td>0.044317</td>\n",
       "      <td>1.000000</td>\n",
       "      <td>0.008567</td>\n",
       "      <td>-0.004217</td>\n",
       "      <td>0.002371</td>\n",
       "      <td>0.005201</td>\n",
       "      <td>0.000354</td>\n",
       "      <td>-0.001343</td>\n",
       "      <td>-0.000482</td>\n",
       "      <td>-0.012034</td>\n",
       "      <td>0.000114</td>\n",
       "      <td>-0.004924</td>\n",
       "    </tr>\n",
       "    <tr>\n",
       "      <th>contact</th>\n",
       "      <td>-0.007065</td>\n",
       "      <td>0.031924</td>\n",
       "      <td>-0.054543</td>\n",
       "      <td>0.103668</td>\n",
       "      <td>-0.135233</td>\n",
       "      <td>0.082208</td>\n",
       "      <td>0.008567</td>\n",
       "      <td>1.000000</td>\n",
       "      <td>0.324342</td>\n",
       "      <td>-0.019595</td>\n",
       "      <td>-0.077410</td>\n",
       "      <td>-0.117980</td>\n",
       "      <td>0.212866</td>\n",
       "      <td>0.226833</td>\n",
       "      <td>-0.251581</td>\n",
       "      <td>-0.399755</td>\n",
       "      <td>0.144788</td>\n",
       "    </tr>\n",
       "    <tr>\n",
       "      <th>month</th>\n",
       "      <td>0.077263</td>\n",
       "      <td>0.047937</td>\n",
       "      <td>0.018721</td>\n",
       "      <td>0.120333</td>\n",
       "      <td>-0.084354</td>\n",
       "      <td>0.031878</td>\n",
       "      <td>-0.004217</td>\n",
       "      <td>0.324342</td>\n",
       "      <td>1.000000</td>\n",
       "      <td>-0.006944</td>\n",
       "      <td>-0.030672</td>\n",
       "      <td>-0.079549</td>\n",
       "      <td>0.063739</td>\n",
       "      <td>0.060825</td>\n",
       "      <td>0.264187</td>\n",
       "      <td>0.163364</td>\n",
       "      <td>0.037170</td>\n",
       "    </tr>\n",
       "    <tr>\n",
       "      <th>day_of_week</th>\n",
       "      <td>-0.018532</td>\n",
       "      <td>-0.000867</td>\n",
       "      <td>-0.014521</td>\n",
       "      <td>0.004861</td>\n",
       "      <td>-0.004303</td>\n",
       "      <td>-0.009041</td>\n",
       "      <td>0.002371</td>\n",
       "      <td>-0.019595</td>\n",
       "      <td>-0.006944</td>\n",
       "      <td>1.000000</td>\n",
       "      <td>0.015142</td>\n",
       "      <td>0.006772</td>\n",
       "      <td>0.004002</td>\n",
       "      <td>0.003267</td>\n",
       "      <td>-0.000061</td>\n",
       "      <td>-0.005530</td>\n",
       "      <td>0.010040</td>\n",
       "    </tr>\n",
       "    <tr>\n",
       "      <th>campaign</th>\n",
       "      <td>0.004468</td>\n",
       "      <td>-0.007732</td>\n",
       "      <td>0.007214</td>\n",
       "      <td>-0.000045</td>\n",
       "      <td>0.032867</td>\n",
       "      <td>-0.011094</td>\n",
       "      <td>0.005201</td>\n",
       "      <td>-0.077410</td>\n",
       "      <td>-0.030672</td>\n",
       "      <td>0.015142</td>\n",
       "      <td>1.000000</td>\n",
       "      <td>0.052574</td>\n",
       "      <td>-0.079122</td>\n",
       "      <td>-0.086063</td>\n",
       "      <td>-0.013809</td>\n",
       "      <td>0.135091</td>\n",
       "      <td>-0.066337</td>\n",
       "    </tr>\n",
       "    <tr>\n",
       "      <th>pdays</th>\n",
       "      <td>-0.034381</td>\n",
       "      <td>-0.025662</td>\n",
       "      <td>0.037930</td>\n",
       "      <td>-0.040301</td>\n",
       "      <td>0.080073</td>\n",
       "      <td>-0.010559</td>\n",
       "      <td>0.000354</td>\n",
       "      <td>-0.117980</td>\n",
       "      <td>-0.079549</td>\n",
       "      <td>0.006772</td>\n",
       "      <td>0.052574</td>\n",
       "      <td>1.000000</td>\n",
       "      <td>-0.587512</td>\n",
       "      <td>-0.744679</td>\n",
       "      <td>-0.091344</td>\n",
       "      <td>0.296921</td>\n",
       "      <td>-0.324910</td>\n",
       "    </tr>\n",
       "    <tr>\n",
       "      <th>previous</th>\n",
       "      <td>0.024384</td>\n",
       "      <td>0.022134</td>\n",
       "      <td>-0.038668</td>\n",
       "      <td>0.032908</td>\n",
       "      <td>-0.102436</td>\n",
       "      <td>0.021330</td>\n",
       "      <td>-0.001343</td>\n",
       "      <td>0.212866</td>\n",
       "      <td>0.063739</td>\n",
       "      <td>0.004002</td>\n",
       "      <td>-0.079122</td>\n",
       "      <td>-0.587512</td>\n",
       "      <td>1.000000</td>\n",
       "      <td>0.868538</td>\n",
       "      <td>-0.050947</td>\n",
       "      <td>-0.454530</td>\n",
       "      <td>0.230172</td>\n",
       "    </tr>\n",
       "    <tr>\n",
       "      <th>poutcome</th>\n",
       "      <td>0.026392</td>\n",
       "      <td>0.021382</td>\n",
       "      <td>-0.040395</td>\n",
       "      <td>0.034683</td>\n",
       "      <td>-0.108180</td>\n",
       "      <td>0.023758</td>\n",
       "      <td>-0.000482</td>\n",
       "      <td>0.226833</td>\n",
       "      <td>0.060825</td>\n",
       "      <td>0.003267</td>\n",
       "      <td>-0.086063</td>\n",
       "      <td>-0.744679</td>\n",
       "      <td>0.868538</td>\n",
       "      <td>1.000000</td>\n",
       "      <td>-0.041739</td>\n",
       "      <td>-0.478726</td>\n",
       "      <td>0.270364</td>\n",
       "    </tr>\n",
       "    <tr>\n",
       "      <th>cons_conf_idx</th>\n",
       "      <td>0.129366</td>\n",
       "      <td>0.044258</td>\n",
       "      <td>0.033849</td>\n",
       "      <td>0.070332</td>\n",
       "      <td>0.026514</td>\n",
       "      <td>-0.033891</td>\n",
       "      <td>-0.012034</td>\n",
       "      <td>-0.251581</td>\n",
       "      <td>0.264187</td>\n",
       "      <td>-0.000061</td>\n",
       "      <td>-0.013809</td>\n",
       "      <td>-0.091344</td>\n",
       "      <td>-0.050947</td>\n",
       "      <td>-0.041739</td>\n",
       "      <td>1.000000</td>\n",
       "      <td>0.277603</td>\n",
       "      <td>0.054875</td>\n",
       "    </tr>\n",
       "    <tr>\n",
       "      <th>euribor_3_month</th>\n",
       "      <td>0.010745</td>\n",
       "      <td>-0.012703</td>\n",
       "      <td>0.092005</td>\n",
       "      <td>-0.031156</td>\n",
       "      <td>0.195336</td>\n",
       "      <td>-0.059324</td>\n",
       "      <td>0.000114</td>\n",
       "      <td>-0.399755</td>\n",
       "      <td>0.163364</td>\n",
       "      <td>-0.005530</td>\n",
       "      <td>0.135091</td>\n",
       "      <td>0.296921</td>\n",
       "      <td>-0.454530</td>\n",
       "      <td>-0.478726</td>\n",
       "      <td>0.277603</td>\n",
       "      <td>1.000000</td>\n",
       "      <td>-0.307799</td>\n",
       "    </tr>\n",
       "    <tr>\n",
       "      <th>deposit</th>\n",
       "      <td>0.030419</td>\n",
       "      <td>0.025462</td>\n",
       "      <td>-0.046181</td>\n",
       "      <td>0.049099</td>\n",
       "      <td>-0.099371</td>\n",
       "      <td>0.011567</td>\n",
       "      <td>-0.004924</td>\n",
       "      <td>0.144788</td>\n",
       "      <td>0.037170</td>\n",
       "      <td>0.010040</td>\n",
       "      <td>-0.066337</td>\n",
       "      <td>-0.324910</td>\n",
       "      <td>0.230172</td>\n",
       "      <td>0.270364</td>\n",
       "      <td>0.054875</td>\n",
       "      <td>-0.307799</td>\n",
       "      <td>1.000000</td>\n",
       "    </tr>\n",
       "  </tbody>\n",
       "</table>\n",
       "</div>"
      ],
      "text/plain": [
       "                      age       job   marital  education   default   housing  \\\n",
       "age              1.000000 -0.011934  0.389734  -0.130095  0.165005 -0.001694   \n",
       "job             -0.011934  1.000000 -0.025489   0.170706 -0.044035  0.007426   \n",
       "marital          0.389734 -0.025489  1.000000  -0.103963  0.079490 -0.010517   \n",
       "education       -0.130095  0.170706 -0.103963   1.000000 -0.196477  0.019649   \n",
       "default          0.165005 -0.044035  0.079490  -0.196477  1.000000 -0.015794   \n",
       "housing         -0.001694  0.007426 -0.010517   0.019649 -0.015794  1.000000   \n",
       "loan            -0.007346 -0.011503 -0.005758   0.006295 -0.003805  0.044317   \n",
       "contact         -0.007065  0.031924 -0.054543   0.103668 -0.135233  0.082208   \n",
       "month            0.077263  0.047937  0.018721   0.120333 -0.084354  0.031878   \n",
       "day_of_week     -0.018532 -0.000867 -0.014521   0.004861 -0.004303 -0.009041   \n",
       "campaign         0.004468 -0.007732  0.007214  -0.000045  0.032867 -0.011094   \n",
       "pdays           -0.034381 -0.025662  0.037930  -0.040301  0.080073 -0.010559   \n",
       "previous         0.024384  0.022134 -0.038668   0.032908 -0.102436  0.021330   \n",
       "poutcome         0.026392  0.021382 -0.040395   0.034683 -0.108180  0.023758   \n",
       "cons_conf_idx    0.129366  0.044258  0.033849   0.070332  0.026514 -0.033891   \n",
       "euribor_3_month  0.010745 -0.012703  0.092005  -0.031156  0.195336 -0.059324   \n",
       "deposit          0.030419  0.025462 -0.046181   0.049099 -0.099371  0.011567   \n",
       "\n",
       "                     loan   contact     month  day_of_week  campaign  \\\n",
       "age             -0.007346 -0.007065  0.077263    -0.018532  0.004468   \n",
       "job             -0.011503  0.031924  0.047937    -0.000867 -0.007732   \n",
       "marital         -0.005758 -0.054543  0.018721    -0.014521  0.007214   \n",
       "education        0.006295  0.103668  0.120333     0.004861 -0.000045   \n",
       "default         -0.003805 -0.135233 -0.084354    -0.004303  0.032867   \n",
       "housing          0.044317  0.082208  0.031878    -0.009041 -0.011094   \n",
       "loan             1.000000  0.008567 -0.004217     0.002371  0.005201   \n",
       "contact          0.008567  1.000000  0.324342    -0.019595 -0.077410   \n",
       "month           -0.004217  0.324342  1.000000    -0.006944 -0.030672   \n",
       "day_of_week      0.002371 -0.019595 -0.006944     1.000000  0.015142   \n",
       "campaign         0.005201 -0.077410 -0.030672     0.015142  1.000000   \n",
       "pdays            0.000354 -0.117980 -0.079549     0.006772  0.052574   \n",
       "previous        -0.001343  0.212866  0.063739     0.004002 -0.079122   \n",
       "poutcome        -0.000482  0.226833  0.060825     0.003267 -0.086063   \n",
       "cons_conf_idx   -0.012034 -0.251581  0.264187    -0.000061 -0.013809   \n",
       "euribor_3_month  0.000114 -0.399755  0.163364    -0.005530  0.135091   \n",
       "deposit         -0.004924  0.144788  0.037170     0.010040 -0.066337   \n",
       "\n",
       "                    pdays  previous  poutcome  cons_conf_idx  euribor_3_month  \\\n",
       "age             -0.034381  0.024384  0.026392       0.129366         0.010745   \n",
       "job             -0.025662  0.022134  0.021382       0.044258        -0.012703   \n",
       "marital          0.037930 -0.038668 -0.040395       0.033849         0.092005   \n",
       "education       -0.040301  0.032908  0.034683       0.070332        -0.031156   \n",
       "default          0.080073 -0.102436 -0.108180       0.026514         0.195336   \n",
       "housing         -0.010559  0.021330  0.023758      -0.033891        -0.059324   \n",
       "loan             0.000354 -0.001343 -0.000482      -0.012034         0.000114   \n",
       "contact         -0.117980  0.212866  0.226833      -0.251581        -0.399755   \n",
       "month           -0.079549  0.063739  0.060825       0.264187         0.163364   \n",
       "day_of_week      0.006772  0.004002  0.003267      -0.000061        -0.005530   \n",
       "campaign         0.052574 -0.079122 -0.086063      -0.013809         0.135091   \n",
       "pdays            1.000000 -0.587512 -0.744679      -0.091344         0.296921   \n",
       "previous        -0.587512  1.000000  0.868538      -0.050947        -0.454530   \n",
       "poutcome        -0.744679  0.868538  1.000000      -0.041739        -0.478726   \n",
       "cons_conf_idx   -0.091344 -0.050947 -0.041739       1.000000         0.277603   \n",
       "euribor_3_month  0.296921 -0.454530 -0.478726       0.277603         1.000000   \n",
       "deposit         -0.324910  0.230172  0.270364       0.054875        -0.307799   \n",
       "\n",
       "                  deposit  \n",
       "age              0.030419  \n",
       "job              0.025462  \n",
       "marital         -0.046181  \n",
       "education        0.049099  \n",
       "default         -0.099371  \n",
       "housing          0.011567  \n",
       "loan            -0.004924  \n",
       "contact          0.144788  \n",
       "month            0.037170  \n",
       "day_of_week      0.010040  \n",
       "campaign        -0.066337  \n",
       "pdays           -0.324910  \n",
       "previous         0.230172  \n",
       "poutcome         0.270364  \n",
       "cons_conf_idx    0.054875  \n",
       "euribor_3_month -0.307799  \n",
       "deposit          1.000000  "
      ]
     },
     "execution_count": 19,
     "metadata": {},
     "output_type": "execute_result"
    }
   ],
   "source": [
    "data.corr()"
   ]
  },
  {
   "cell_type": "code",
   "execution_count": 20,
   "metadata": {},
   "outputs": [
    {
     "data": {
      "text/plain": [
       "<matplotlib.axes._subplots.AxesSubplot at 0x1b875960048>"
      ]
     },
     "execution_count": 20,
     "metadata": {},
     "output_type": "execute_result"
    },
    {
     "data": {
      "image/png": "[encoded data removed]",
      "text/plain": [
       "<Figure size 864x576 with 2 Axes>"
      ]
     },
     "metadata": {
      "needs_background": "light"
     },
     "output_type": "display_data"
    }
   ],
   "source": [
    "plt.figure(figsize = (12,8))\n",
    "sns.heatmap(data.corr(), annot = True)"
   ]
  },
  {
   "cell_type": "markdown",
   "metadata": {},
   "source": [
    "#### Since poutcome shows high correlation with previous and pdays will drop that for now as predictor and choose other features to build model"
   ]
  },
  {
   "cell_type": "code",
   "execution_count": 57,
   "metadata": {},
   "outputs": [],
   "source": [
    "c = ['age', 'job', 'marital', 'education', 'default', 'housing', 'loan',\n",
    "       'contact', 'month', 'day_of_week', 'campaign', 'pdays', 'previous', 'cons_conf_idx',\n",
    "       'euribor_3_month']"
   ]
  },
  {
   "cell_type": "code",
   "execution_count": 21,
   "metadata": {},
   "outputs": [
    {
     "data": {
      "text/plain": [
       "Index(['age', 'job', 'marital', 'education', 'default', 'housing', 'loan',\n",
       "       'contact', 'month', 'day_of_week', 'campaign', 'pdays', 'previous',\n",
       "       'poutcome', 'cons_conf_idx', 'euribor_3_month', 'deposit'],\n",
       "      dtype='object')"
      ]
     },
     "execution_count": 21,
     "metadata": {},
     "output_type": "execute_result"
    }
   ],
   "source": [
    "data.columns"
   ]
  },
  {
   "cell_type": "code",
   "execution_count": 58,
   "metadata": {},
   "outputs": [],
   "source": [
    "X = data[c]"
   ]
  },
  {
   "cell_type": "code",
   "execution_count": 59,
   "metadata": {},
   "outputs": [
    {
     "data": {
      "text/plain": [
       "Index(['age', 'job', 'marital', 'education', 'default', 'housing', 'loan',\n",
       "       'contact', 'month', 'day_of_week', 'campaign', 'pdays', 'previous',\n",
       "       'cons_conf_idx', 'euribor_3_month'],\n",
       "      dtype='object')"
      ]
     },
     "execution_count": 59,
     "metadata": {},
     "output_type": "execute_result"
    }
   ],
   "source": [
    "X.columns"
   ]
  },
  {
   "cell_type": "code",
   "execution_count": 60,
   "metadata": {},
   "outputs": [
    {
     "data": {
      "text/plain": [
       "(41184, 15)"
      ]
     },
     "execution_count": 60,
     "metadata": {},
     "output_type": "execute_result"
    }
   ],
   "source": [
    "X.shape"
   ]
  },
  {
   "cell_type": "code",
   "execution_count": 61,
   "metadata": {},
   "outputs": [],
   "source": [
    "y = data['deposit']"
   ]
  },
  {
   "cell_type": "code",
   "execution_count": 62,
   "metadata": {},
   "outputs": [
    {
     "data": {
      "text/plain": [
       "(41184,)"
      ]
     },
     "execution_count": 62,
     "metadata": {},
     "output_type": "execute_result"
    }
   ],
   "source": [
    "y.shape"
   ]
  },
  {
   "cell_type": "code",
   "execution_count": 63,
   "metadata": {},
   "outputs": [
    {
     "data": {
      "text/plain": [
       "0.8873348873348873"
      ]
     },
     "execution_count": 63,
     "metadata": {},
     "output_type": "execute_result"
    }
   ],
   "source": [
    "#Baseline accuracy\n",
    "1. - np.mean(y)"
   ]
  },
  {
   "cell_type": "code",
   "execution_count": null,
   "metadata": {},
   "outputs": [],
   "source": [
    "# 88.7 - baseline accuracy"
   ]
  },
  {
   "cell_type": "code",
   "execution_count": 64,
   "metadata": {},
   "outputs": [
    {
     "name": "stderr",
     "output_type": "stream",
     "text": [
      "C:\\Users\\r_ani\\Anaconda3\\lib\\site-packages\\sklearn\\preprocessing\\data.py:625: DataConversionWarning: Data with input dtype int64, float64 were all converted to float64 by StandardScaler.\n",
      "  return self.partial_fit(X, y)\n",
      "C:\\Users\\r_ani\\Anaconda3\\lib\\site-packages\\sklearn\\base.py:462: DataConversionWarning: Data with input dtype int64, float64 were all converted to float64 by StandardScaler.\n",
      "  return self.fit(X, **fit_params).transform(X)\n"
     ]
    }
   ],
   "source": [
    "# Standardising the X using standard scalar\n",
    "ss = StandardScaler()\n",
    "Xs = ss.fit_transform(X)"
   ]
  },
  {
   "cell_type": "code",
   "execution_count": null,
   "metadata": {},
   "outputs": [],
   "source": [
    "# Trying out all basic classification models"
   ]
  },
  {
   "cell_type": "code",
   "execution_count": 65,
   "metadata": {},
   "outputs": [],
   "source": [
    "lg = LogisticRegression()\n",
    "dt = DecisionTreeClassifier()\n",
    "knn = KNeighborsClassifier()\n",
    "sv = SVC()"
   ]
  },
  {
   "cell_type": "code",
   "execution_count": 39,
   "metadata": {},
   "outputs": [],
   "source": [
    "# Since the classes are imbalanced have took stratified samples for equal representation"
   ]
  },
  {
   "cell_type": "code",
   "execution_count": 66,
   "metadata": {},
   "outputs": [],
   "source": [
    "X_train, X_test, y_train, y_test = train_test_split(Xs, y, test_size = 0.33, stratify = y)"
   ]
  },
  {
   "cell_type": "code",
   "execution_count": 41,
   "metadata": {},
   "outputs": [],
   "source": [
    "##Trying out the models with cross validation"
   ]
  },
  {
   "cell_type": "code",
   "execution_count": 67,
   "metadata": {},
   "outputs": [
    {
     "name": "stderr",
     "output_type": "stream",
     "text": [
      "C:\\Users\\r_ani\\Anaconda3\\lib\\site-packages\\sklearn\\linear_model\\logistic.py:433: FutureWarning: Default solver will be changed to 'lbfgs' in 0.22. Specify a solver to silence this warning.\n",
      "  FutureWarning)\n",
      "C:\\Users\\r_ani\\Anaconda3\\lib\\site-packages\\sklearn\\linear_model\\logistic.py:433: FutureWarning: Default solver will be changed to 'lbfgs' in 0.22. Specify a solver to silence this warning.\n",
      "  FutureWarning)\n",
      "C:\\Users\\r_ani\\Anaconda3\\lib\\site-packages\\sklearn\\linear_model\\logistic.py:433: FutureWarning: Default solver will be changed to 'lbfgs' in 0.22. Specify a solver to silence this warning.\n",
      "  FutureWarning)\n",
      "C:\\Users\\r_ani\\Anaconda3\\lib\\site-packages\\sklearn\\linear_model\\logistic.py:433: FutureWarning: Default solver will be changed to 'lbfgs' in 0.22. Specify a solver to silence this warning.\n",
      "  FutureWarning)\n",
      "C:\\Users\\r_ani\\Anaconda3\\lib\\site-packages\\sklearn\\linear_model\\logistic.py:433: FutureWarning: Default solver will be changed to 'lbfgs' in 0.22. Specify a solver to silence this warning.\n",
      "  FutureWarning)\n",
      "C:\\Users\\r_ani\\Anaconda3\\lib\\site-packages\\sklearn\\svm\\base.py:196: FutureWarning: The default value of gamma will change from 'auto' to 'scale' in version 0.22 to account better for unscaled features. Set gamma explicitly to 'auto' or 'scale' to avoid this warning.\n",
      "  \"avoid this warning.\", FutureWarning)\n",
      "C:\\Users\\r_ani\\Anaconda3\\lib\\site-packages\\sklearn\\svm\\base.py:196: FutureWarning: The default value of gamma will change from 'auto' to 'scale' in version 0.22 to account better for unscaled features. Set gamma explicitly to 'auto' or 'scale' to avoid this warning.\n",
      "  \"avoid this warning.\", FutureWarning)\n",
      "C:\\Users\\r_ani\\Anaconda3\\lib\\site-packages\\sklearn\\svm\\base.py:196: FutureWarning: The default value of gamma will change from 'auto' to 'scale' in version 0.22 to account better for unscaled features. Set gamma explicitly to 'auto' or 'scale' to avoid this warning.\n",
      "  \"avoid this warning.\", FutureWarning)\n",
      "C:\\Users\\r_ani\\Anaconda3\\lib\\site-packages\\sklearn\\svm\\base.py:196: FutureWarning: The default value of gamma will change from 'auto' to 'scale' in version 0.22 to account better for unscaled features. Set gamma explicitly to 'auto' or 'scale' to avoid this warning.\n",
      "  \"avoid this warning.\", FutureWarning)\n"
     ]
    }
   ],
   "source": [
    "l_score = cross_val_score(lg, X_train, y_train, cv = 5)\n",
    "sv_score = cross_val_score(dt, X_train, y_train, cv = 5)\n",
    "dt_score = cross_val_score(knn, X_train, y_train, cv = 5)\n",
    "k_score = cross_val_score(sv, X_train, y_train, cv = 5)"
   ]
  },
  {
   "cell_type": "code",
   "execution_count": 68,
   "metadata": {},
   "outputs": [
    {
     "name": "stdout",
     "output_type": "stream",
     "text": [
      "Logistic Regression:  0.8987060338265593\n",
      "Support Vector Classification : 0.8390166315563586\n",
      "Decision Tree:  0.8918563101159954\n",
      "Knn Classifier:  0.8991409083515043\n"
     ]
    }
   ],
   "source": [
    "print(\"Logistic Regression: \", np.mean(l_score))\n",
    "print(\"Support Vector Classification :\", np.mean(sv_score))\n",
    "print(\"Decision Tree: \", np.mean(dt_score))\n",
    "print(\"Knn Classifier: \", np.mean(k_score))"
   ]
  },
  {
   "cell_type": "code",
   "execution_count": 99,
   "metadata": {},
   "outputs": [
    {
     "name": "stderr",
     "output_type": "stream",
     "text": [
      "C:\\Users\\r_ani\\Anaconda3\\lib\\site-packages\\sklearn\\linear_model\\logistic.py:433: FutureWarning: Default solver will be changed to 'lbfgs' in 0.22. Specify a solver to silence this warning.\n",
      "  FutureWarning)\n"
     ]
    },
    {
     "ename": "AttributeError",
     "evalue": "'LogisticRegression' object has no attribute 'pred'",
     "output_type": "error",
     "traceback": [
      "\u001b[1;31m---------------------------------------------------------------------------\u001b[0m",
      "\u001b[1;31mAttributeError\u001b[0m                            Traceback (most recent call last)",
      "\u001b[1;32m<ipython-input-99-1e5b1b69357d>\u001b[0m in \u001b[0;36m<module>\u001b[1;34m\u001b[0m\n\u001b[0;32m      1\u001b[0m \u001b[0mlg\u001b[0m\u001b[1;33m.\u001b[0m\u001b[0mfit\u001b[0m\u001b[1;33m(\u001b[0m\u001b[0mX_train\u001b[0m\u001b[1;33m,\u001b[0m \u001b[0my_train\u001b[0m\u001b[1;33m)\u001b[0m\u001b[1;33m\u001b[0m\u001b[1;33m\u001b[0m\u001b[0m\n\u001b[1;32m----> 2\u001b[1;33m \u001b[0myhatlg\u001b[0m \u001b[1;33m=\u001b[0m \u001b[0mlg\u001b[0m\u001b[1;33m.\u001b[0m\u001b[0mpred\u001b[0m\u001b[1;33m(\u001b[0m\u001b[0mX_test\u001b[0m\u001b[1;33m)\u001b[0m\u001b[1;33m\u001b[0m\u001b[1;33m\u001b[0m\u001b[0m\n\u001b[0m\u001b[0;32m      3\u001b[0m \u001b[0mprint\u001b[0m\u001b[1;33m(\u001b[0m\u001b[0mlg\u001b[0m\u001b[1;33m.\u001b[0m\u001b[0mscore\u001b[0m\u001b[1;33m(\u001b[0m\u001b[0mX_test\u001b[0m\u001b[1;33m,\u001b[0m \u001b[0my_test\u001b[0m\u001b[1;33m)\u001b[0m\u001b[1;33m)\u001b[0m\u001b[1;33m\u001b[0m\u001b[1;33m\u001b[0m\u001b[0m\n",
      "\u001b[1;31mAttributeError\u001b[0m: 'LogisticRegression' object has no attribute 'pred'"
     ]
    }
   ],
   "source": [
    "lg.fit(X_train, y_train)\n",
    "yhatlg = lg.pred(X_test)\n",
    "print(lg.score(X_test, y_test))"
   ]
  },
  {
   "cell_type": "code",
   "execution_count": 73,
   "metadata": {},
   "outputs": [
    {
     "name": "stderr",
     "output_type": "stream",
     "text": [
      "C:\\Users\\r_ani\\Anaconda3\\lib\\site-packages\\sklearn\\svm\\base.py:196: FutureWarning: The default value of gamma will change from 'auto' to 'scale' in version 0.22 to account better for unscaled features. Set gamma explicitly to 'auto' or 'scale' to avoid this warning.\n",
      "  \"avoid this warning.\", FutureWarning)\n"
     ]
    },
    {
     "name": "stdout",
     "output_type": "stream",
     "text": [
      "0.8972849679935251\n"
     ]
    }
   ],
   "source": [
    "sv.fit(X_train, y_train)\n",
    "yhatsv = sv.predict(X_test)\n",
    "print(sv.score(X_test, y_test))"
   ]
  },
  {
   "cell_type": "code",
   "execution_count": 75,
   "metadata": {},
   "outputs": [
    {
     "name": "stdout",
     "output_type": "stream",
     "text": [
      "0.8395261570156721\n"
     ]
    }
   ],
   "source": [
    "dt.fit(X_train, y_train)\n",
    "dt.predict(X_test)\n",
    "print(dt.score(X_test, y_test))"
   ]
  },
  {
   "cell_type": "code",
   "execution_count": 76,
   "metadata": {},
   "outputs": [
    {
     "name": "stdout",
     "output_type": "stream",
     "text": [
      "0.8902214700905011\n"
     ]
    }
   ],
   "source": [
    "knn.fit(X_train, y_train)\n",
    "knn.predict(X_test)\n",
    "print(knn.score(X_test, y_test))"
   ]
  },
  {
   "cell_type": "markdown",
   "metadata": {},
   "source": [
    "### Feature Selection "
   ]
  },
  {
   "cell_type": "code",
   "execution_count": 77,
   "metadata": {},
   "outputs": [
    {
     "data": {
      "text/plain": [
       "LogisticRegressionCV(Cs=100, class_weight=None, cv=10, dual=False,\n",
       "           fit_intercept=True, intercept_scaling=1.0, max_iter=100,\n",
       "           multi_class='warn', n_jobs=None, penalty='l2',\n",
       "           random_state=None, refit=True, scoring=None, solver='liblinear',\n",
       "           tol=0.0001, verbose=0)"
      ]
     },
     "execution_count": 77,
     "metadata": {},
     "output_type": "execute_result"
    }
   ],
   "source": [
    "# to avoid multicollinearity lets do lasso\n",
    "from sklearn.linear_model import LogisticRegressionCV\n",
    "\n",
    "lrcv = LogisticRegressionCV(penalty='l2', Cs=100, cv=10, solver='liblinear')\n",
    "lrcv.fit(Xs, y)\n"
   ]
  },
  {
   "cell_type": "code",
   "execution_count": 81,
   "metadata": {},
   "outputs": [
    {
     "data": {
      "text/html": [
       "<div>\n",
       "<style scoped>\n",
       "    .dataframe tbody tr th:only-of-type {\n",
       "        vertical-align: middle;\n",
       "    }\n",
       "\n",
       "    .dataframe tbody tr th {\n",
       "        vertical-align: top;\n",
       "    }\n",
       "\n",
       "    .dataframe thead th {\n",
       "        text-align: right;\n",
       "    }\n",
       "</style>\n",
       "<table border=\"1\" class=\"dataframe\">\n",
       "  <thead>\n",
       "    <tr style=\"text-align: right;\">\n",
       "      <th></th>\n",
       "      <th>ridge_coefs</th>\n",
       "    </tr>\n",
       "  </thead>\n",
       "  <tbody>\n",
       "    <tr>\n",
       "      <th>euribor_3_month</th>\n",
       "      <td>0.164107</td>\n",
       "    </tr>\n",
       "    <tr>\n",
       "      <th>pdays</th>\n",
       "      <td>0.162648</td>\n",
       "    </tr>\n",
       "    <tr>\n",
       "      <th>previous</th>\n",
       "      <td>0.062098</td>\n",
       "    </tr>\n",
       "    <tr>\n",
       "      <th>cons_conf_idx</th>\n",
       "      <td>0.054476</td>\n",
       "    </tr>\n",
       "    <tr>\n",
       "      <th>contact</th>\n",
       "      <td>0.053979</td>\n",
       "    </tr>\n",
       "    <tr>\n",
       "      <th>default</th>\n",
       "      <td>0.040234</td>\n",
       "    </tr>\n",
       "    <tr>\n",
       "      <th>campaign</th>\n",
       "      <td>0.026668</td>\n",
       "    </tr>\n",
       "    <tr>\n",
       "      <th>age</th>\n",
       "      <td>0.022454</td>\n",
       "    </tr>\n",
       "    <tr>\n",
       "      <th>marital</th>\n",
       "      <td>0.021663</td>\n",
       "    </tr>\n",
       "    <tr>\n",
       "      <th>education</th>\n",
       "      <td>0.018556</td>\n",
       "    </tr>\n",
       "    <tr>\n",
       "      <th>month</th>\n",
       "      <td>0.010713</td>\n",
       "    </tr>\n",
       "    <tr>\n",
       "      <th>job</th>\n",
       "      <td>0.009188</td>\n",
       "    </tr>\n",
       "    <tr>\n",
       "      <th>day_of_week</th>\n",
       "      <td>0.007729</td>\n",
       "    </tr>\n",
       "    <tr>\n",
       "      <th>loan</th>\n",
       "      <td>0.003212</td>\n",
       "    </tr>\n",
       "    <tr>\n",
       "      <th>housing</th>\n",
       "      <td>0.000086</td>\n",
       "    </tr>\n",
       "  </tbody>\n",
       "</table>\n",
       "</div>"
      ],
      "text/plain": [
       "                 ridge_coefs\n",
       "euribor_3_month     0.164107\n",
       "pdays               0.162648\n",
       "previous            0.062098\n",
       "cons_conf_idx       0.054476\n",
       "contact             0.053979\n",
       "default             0.040234\n",
       "campaign            0.026668\n",
       "age                 0.022454\n",
       "marital             0.021663\n",
       "education           0.018556\n",
       "month               0.010713\n",
       "job                 0.009188\n",
       "day_of_week         0.007729\n",
       "loan                0.003212\n",
       "housing             0.000086"
      ]
     },
     "execution_count": 81,
     "metadata": {},
     "output_type": "execute_result"
    }
   ],
   "source": [
    "# What are the best coefficients according to a model using lasso?\n",
    "coeffs = pd.DataFrame(lrcv.coef_, columns=X.columns)\n",
    "coeffs_t = coeffs.transpose()\n",
    "coeffs_t.columns = ['ridge_coefs']\n",
    "coeffs_abs = coeffs_t.abs().sort_values('ridge_coefs', ascending=False)\n",
    "coeffs_abs"
   ]
  },
  {
   "cell_type": "code",
   "execution_count": 85,
   "metadata": {},
   "outputs": [
    {
     "name": "stderr",
     "output_type": "stream",
     "text": [
      "C:\\Users\\r_ani\\Anaconda3\\lib\\site-packages\\sklearn\\preprocessing\\data.py:323: DataConversionWarning: Data with input dtype int64, float64 were all converted to float64 by MinMaxScaler.\n",
      "  return self.partial_fit(X, y)\n"
     ]
    }
   ],
   "source": [
    "##Lets normalise the data using min max scalar as we have a column with negative values:\n",
    "from sklearn.preprocessing import MinMaxScaler\n",
    "X_norm = MinMaxScaler().fit_transform(X)"
   ]
  },
  {
   "cell_type": "code",
   "execution_count": 86,
   "metadata": {},
   "outputs": [],
   "source": [
    "##Choosing features with selectkbest f_classif, and chi square\n",
    "from sklearn.feature_selection import SelectKBest, chi2, f_classif"
   ]
  },
  {
   "cell_type": "code",
   "execution_count": 88,
   "metadata": {},
   "outputs": [
    {
     "data": {
      "text/html": [
       "<div>\n",
       "<style scoped>\n",
       "    .dataframe tbody tr th:only-of-type {\n",
       "        vertical-align: middle;\n",
       "    }\n",
       "\n",
       "    .dataframe tbody tr th {\n",
       "        vertical-align: top;\n",
       "    }\n",
       "\n",
       "    .dataframe thead th {\n",
       "        text-align: right;\n",
       "    }\n",
       "</style>\n",
       "<table border=\"1\" class=\"dataframe\">\n",
       "  <thead>\n",
       "    <tr style=\"text-align: right;\">\n",
       "      <th></th>\n",
       "      <th>feature</th>\n",
       "      <th>f_classif</th>\n",
       "      <th>chi 2</th>\n",
       "    </tr>\n",
       "  </thead>\n",
       "  <tbody>\n",
       "    <tr>\n",
       "      <th>11</th>\n",
       "      <td>pdays</td>\n",
       "      <td>4860.56</td>\n",
       "      <td>157.98</td>\n",
       "    </tr>\n",
       "    <tr>\n",
       "      <th>14</th>\n",
       "      <td>euribor_3_month</td>\n",
       "      <td>4309.92</td>\n",
       "      <td>890.737</td>\n",
       "    </tr>\n",
       "    <tr>\n",
       "      <th>12</th>\n",
       "      <td>previous</td>\n",
       "      <td>2303.84</td>\n",
       "      <td>441.369</td>\n",
       "    </tr>\n",
       "    <tr>\n",
       "      <th>7</th>\n",
       "      <td>contact</td>\n",
       "      <td>881.811</td>\n",
       "      <td>315.356</td>\n",
       "    </tr>\n",
       "    <tr>\n",
       "      <th>4</th>\n",
       "      <td>default</td>\n",
       "      <td>410.715</td>\n",
       "      <td>161.005</td>\n",
       "    </tr>\n",
       "    <tr>\n",
       "      <th>10</th>\n",
       "      <td>campaign</td>\n",
       "      <td>182.024</td>\n",
       "      <td>16.1292</td>\n",
       "    </tr>\n",
       "    <tr>\n",
       "      <th>13</th>\n",
       "      <td>cons_conf_idx</td>\n",
       "      <td>124.383</td>\n",
       "      <td>10.793</td>\n",
       "    </tr>\n",
       "    <tr>\n",
       "      <th>3</th>\n",
       "      <td>education</td>\n",
       "      <td>99.5197</td>\n",
       "      <td>3.99273</td>\n",
       "    </tr>\n",
       "    <tr>\n",
       "      <th>2</th>\n",
       "      <td>marital</td>\n",
       "      <td>88.0162</td>\n",
       "      <td>5.94069</td>\n",
       "    </tr>\n",
       "    <tr>\n",
       "      <th>8</th>\n",
       "      <td>month</td>\n",
       "      <td>56.9755</td>\n",
       "      <td>7.29929</td>\n",
       "    </tr>\n",
       "    <tr>\n",
       "      <th>0</th>\n",
       "      <td>age</td>\n",
       "      <td>38.1423</td>\n",
       "      <td>2.21912</td>\n",
       "    </tr>\n",
       "    <tr>\n",
       "      <th>1</th>\n",
       "      <td>job</td>\n",
       "      <td>26.7156</td>\n",
       "      <td>9.25096</td>\n",
       "    </tr>\n",
       "    <tr>\n",
       "      <th>5</th>\n",
       "      <td>housing</td>\n",
       "      <td>5.51103</td>\n",
       "      <td>2.49598</td>\n",
       "    </tr>\n",
       "    <tr>\n",
       "      <th>9</th>\n",
       "      <td>day_of_week</td>\n",
       "      <td>4.15129</td>\n",
       "      <td>1.0444</td>\n",
       "    </tr>\n",
       "    <tr>\n",
       "      <th>6</th>\n",
       "      <td>loan</td>\n",
       "      <td>0.998648</td>\n",
       "      <td>0.798505</td>\n",
       "    </tr>\n",
       "  </tbody>\n",
       "</table>\n",
       "</div>"
      ],
      "text/plain": [
       "            feature f_classif     chi 2\n",
       "11            pdays   4860.56    157.98\n",
       "14  euribor_3_month   4309.92   890.737\n",
       "12         previous   2303.84   441.369\n",
       "7           contact   881.811   315.356\n",
       "4           default   410.715   161.005\n",
       "10         campaign   182.024   16.1292\n",
       "13    cons_conf_idx   124.383    10.793\n",
       "3         education   99.5197   3.99273\n",
       "2           marital   88.0162   5.94069\n",
       "8             month   56.9755   7.29929\n",
       "0               age   38.1423   2.21912\n",
       "1               job   26.7156   9.25096\n",
       "5           housing   5.51103   2.49598\n",
       "9       day_of_week   4.15129    1.0444\n",
       "6              loan  0.998648  0.798505"
      ]
     },
     "execution_count": 88,
     "metadata": {},
     "output_type": "execute_result"
    }
   ],
   "source": [
    "# build the selector (we'll build one with each score type)\n",
    "cols = list(X.columns)\n",
    "skb_f = SelectKBest(f_classif, k=5)\n",
    "skb_chi2 = SelectKBest(chi2, k=5)\n",
    "\n",
    "# train the selector on our data\n",
    "skb_f.fit(X_norm, y)\n",
    "skb_chi2.fit(X_norm, y)\n",
    "\n",
    "kbest = pd.DataFrame([cols, list(skb_f.scores_), list(skb_chi2.scores_)], \n",
    "                     index=['feature','f_classif', 'chi 2']).T.sort_values('f_classif', ascending=False)\n",
    "kbest\n"
   ]
  },
  {
   "cell_type": "code",
   "execution_count": 91,
   "metadata": {},
   "outputs": [
    {
     "name": "stderr",
     "output_type": "stream",
     "text": [
      "C:\\Users\\r_ani\\Anaconda3\\lib\\site-packages\\sklearn\\linear_model\\logistic.py:433: FutureWarning: Default solver will be changed to 'lbfgs' in 0.22. Specify a solver to silence this warning.\n",
      "  FutureWarning)\n",
      "C:\\Users\\r_ani\\Anaconda3\\lib\\site-packages\\sklearn\\linear_model\\logistic.py:433: FutureWarning: Default solver will be changed to 'lbfgs' in 0.22. Specify a solver to silence this warning.\n",
      "  FutureWarning)\n",
      "C:\\Users\\r_ani\\Anaconda3\\lib\\site-packages\\sklearn\\linear_model\\logistic.py:433: FutureWarning: Default solver will be changed to 'lbfgs' in 0.22. Specify a solver to silence this warning.\n",
      "  FutureWarning)\n",
      "C:\\Users\\r_ani\\Anaconda3\\lib\\site-packages\\sklearn\\linear_model\\logistic.py:433: FutureWarning: Default solver will be changed to 'lbfgs' in 0.22. Specify a solver to silence this warning.\n",
      "  FutureWarning)\n",
      "C:\\Users\\r_ani\\Anaconda3\\lib\\site-packages\\sklearn\\linear_model\\logistic.py:433: FutureWarning: Default solver will be changed to 'lbfgs' in 0.22. Specify a solver to silence this warning.\n",
      "  FutureWarning)\n",
      "C:\\Users\\r_ani\\Anaconda3\\lib\\site-packages\\sklearn\\linear_model\\logistic.py:433: FutureWarning: Default solver will be changed to 'lbfgs' in 0.22. Specify a solver to silence this warning.\n",
      "  FutureWarning)\n",
      "C:\\Users\\r_ani\\Anaconda3\\lib\\site-packages\\sklearn\\linear_model\\logistic.py:433: FutureWarning: Default solver will be changed to 'lbfgs' in 0.22. Specify a solver to silence this warning.\n",
      "  FutureWarning)\n",
      "C:\\Users\\r_ani\\Anaconda3\\lib\\site-packages\\sklearn\\linear_model\\logistic.py:433: FutureWarning: Default solver will be changed to 'lbfgs' in 0.22. Specify a solver to silence this warning.\n",
      "  FutureWarning)\n",
      "C:\\Users\\r_ani\\Anaconda3\\lib\\site-packages\\sklearn\\linear_model\\logistic.py:433: FutureWarning: Default solver will be changed to 'lbfgs' in 0.22. Specify a solver to silence this warning.\n",
      "  FutureWarning)\n",
      "C:\\Users\\r_ani\\Anaconda3\\lib\\site-packages\\sklearn\\linear_model\\logistic.py:433: FutureWarning: Default solver will be changed to 'lbfgs' in 0.22. Specify a solver to silence this warning.\n",
      "  FutureWarning)\n",
      "C:\\Users\\r_ani\\Anaconda3\\lib\\site-packages\\sklearn\\linear_model\\logistic.py:433: FutureWarning: Default solver will be changed to 'lbfgs' in 0.22. Specify a solver to silence this warning.\n",
      "  FutureWarning)\n",
      "C:\\Users\\r_ani\\Anaconda3\\lib\\site-packages\\sklearn\\linear_model\\logistic.py:433: FutureWarning: Default solver will be changed to 'lbfgs' in 0.22. Specify a solver to silence this warning.\n",
      "  FutureWarning)\n",
      "C:\\Users\\r_ani\\Anaconda3\\lib\\site-packages\\sklearn\\linear_model\\logistic.py:433: FutureWarning: Default solver will be changed to 'lbfgs' in 0.22. Specify a solver to silence this warning.\n",
      "  FutureWarning)\n",
      "C:\\Users\\r_ani\\Anaconda3\\lib\\site-packages\\sklearn\\linear_model\\logistic.py:433: FutureWarning: Default solver will be changed to 'lbfgs' in 0.22. Specify a solver to silence this warning.\n",
      "  FutureWarning)\n",
      "C:\\Users\\r_ani\\Anaconda3\\lib\\site-packages\\sklearn\\linear_model\\logistic.py:433: FutureWarning: Default solver will be changed to 'lbfgs' in 0.22. Specify a solver to silence this warning.\n",
      "  FutureWarning)\n",
      "C:\\Users\\r_ani\\Anaconda3\\lib\\site-packages\\sklearn\\linear_model\\logistic.py:433: FutureWarning: Default solver will be changed to 'lbfgs' in 0.22. Specify a solver to silence this warning.\n",
      "  FutureWarning)\n",
      "C:\\Users\\r_ani\\Anaconda3\\lib\\site-packages\\sklearn\\linear_model\\logistic.py:433: FutureWarning: Default solver will be changed to 'lbfgs' in 0.22. Specify a solver to silence this warning.\n",
      "  FutureWarning)\n",
      "C:\\Users\\r_ani\\Anaconda3\\lib\\site-packages\\sklearn\\linear_model\\logistic.py:433: FutureWarning: Default solver will be changed to 'lbfgs' in 0.22. Specify a solver to silence this warning.\n",
      "  FutureWarning)\n",
      "C:\\Users\\r_ani\\Anaconda3\\lib\\site-packages\\sklearn\\linear_model\\logistic.py:433: FutureWarning: Default solver will be changed to 'lbfgs' in 0.22. Specify a solver to silence this warning.\n",
      "  FutureWarning)\n",
      "C:\\Users\\r_ani\\Anaconda3\\lib\\site-packages\\sklearn\\linear_model\\logistic.py:433: FutureWarning: Default solver will be changed to 'lbfgs' in 0.22. Specify a solver to silence this warning.\n",
      "  FutureWarning)\n",
      "C:\\Users\\r_ani\\Anaconda3\\lib\\site-packages\\sklearn\\linear_model\\logistic.py:433: FutureWarning: Default solver will be changed to 'lbfgs' in 0.22. Specify a solver to silence this warning.\n",
      "  FutureWarning)\n",
      "C:\\Users\\r_ani\\Anaconda3\\lib\\site-packages\\sklearn\\linear_model\\logistic.py:433: FutureWarning: Default solver will be changed to 'lbfgs' in 0.22. Specify a solver to silence this warning.\n",
      "  FutureWarning)\n",
      "C:\\Users\\r_ani\\Anaconda3\\lib\\site-packages\\sklearn\\linear_model\\logistic.py:433: FutureWarning: Default solver will be changed to 'lbfgs' in 0.22. Specify a solver to silence this warning.\n",
      "  FutureWarning)\n",
      "C:\\Users\\r_ani\\Anaconda3\\lib\\site-packages\\sklearn\\linear_model\\logistic.py:433: FutureWarning: Default solver will be changed to 'lbfgs' in 0.22. Specify a solver to silence this warning.\n",
      "  FutureWarning)\n",
      "C:\\Users\\r_ani\\Anaconda3\\lib\\site-packages\\sklearn\\linear_model\\logistic.py:433: FutureWarning: Default solver will be changed to 'lbfgs' in 0.22. Specify a solver to silence this warning.\n",
      "  FutureWarning)\n",
      "C:\\Users\\r_ani\\Anaconda3\\lib\\site-packages\\sklearn\\linear_model\\logistic.py:433: FutureWarning: Default solver will be changed to 'lbfgs' in 0.22. Specify a solver to silence this warning.\n",
      "  FutureWarning)\n",
      "C:\\Users\\r_ani\\Anaconda3\\lib\\site-packages\\sklearn\\linear_model\\logistic.py:433: FutureWarning: Default solver will be changed to 'lbfgs' in 0.22. Specify a solver to silence this warning.\n",
      "  FutureWarning)\n",
      "C:\\Users\\r_ani\\Anaconda3\\lib\\site-packages\\sklearn\\linear_model\\logistic.py:433: FutureWarning: Default solver will be changed to 'lbfgs' in 0.22. Specify a solver to silence this warning.\n",
      "  FutureWarning)\n",
      "C:\\Users\\r_ani\\Anaconda3\\lib\\site-packages\\sklearn\\linear_model\\logistic.py:433: FutureWarning: Default solver will be changed to 'lbfgs' in 0.22. Specify a solver to silence this warning.\n",
      "  FutureWarning)\n",
      "C:\\Users\\r_ani\\Anaconda3\\lib\\site-packages\\sklearn\\linear_model\\logistic.py:433: FutureWarning: Default solver will be changed to 'lbfgs' in 0.22. Specify a solver to silence this warning.\n",
      "  FutureWarning)\n",
      "C:\\Users\\r_ani\\Anaconda3\\lib\\site-packages\\sklearn\\linear_model\\logistic.py:433: FutureWarning: Default solver will be changed to 'lbfgs' in 0.22. Specify a solver to silence this warning.\n",
      "  FutureWarning)\n",
      "C:\\Users\\r_ani\\Anaconda3\\lib\\site-packages\\sklearn\\linear_model\\logistic.py:433: FutureWarning: Default solver will be changed to 'lbfgs' in 0.22. Specify a solver to silence this warning.\n",
      "  FutureWarning)\n",
      "C:\\Users\\r_ani\\Anaconda3\\lib\\site-packages\\sklearn\\linear_model\\logistic.py:433: FutureWarning: Default solver will be changed to 'lbfgs' in 0.22. Specify a solver to silence this warning.\n",
      "  FutureWarning)\n",
      "C:\\Users\\r_ani\\Anaconda3\\lib\\site-packages\\sklearn\\linear_model\\logistic.py:433: FutureWarning: Default solver will be changed to 'lbfgs' in 0.22. Specify a solver to silence this warning.\n",
      "  FutureWarning)\n",
      "C:\\Users\\r_ani\\Anaconda3\\lib\\site-packages\\sklearn\\linear_model\\logistic.py:433: FutureWarning: Default solver will be changed to 'lbfgs' in 0.22. Specify a solver to silence this warning.\n",
      "  FutureWarning)\n",
      "C:\\Users\\r_ani\\Anaconda3\\lib\\site-packages\\sklearn\\linear_model\\logistic.py:433: FutureWarning: Default solver will be changed to 'lbfgs' in 0.22. Specify a solver to silence this warning.\n",
      "  FutureWarning)\n",
      "C:\\Users\\r_ani\\Anaconda3\\lib\\site-packages\\sklearn\\linear_model\\logistic.py:433: FutureWarning: Default solver will be changed to 'lbfgs' in 0.22. Specify a solver to silence this warning.\n",
      "  FutureWarning)\n",
      "C:\\Users\\r_ani\\Anaconda3\\lib\\site-packages\\sklearn\\linear_model\\logistic.py:433: FutureWarning: Default solver will be changed to 'lbfgs' in 0.22. Specify a solver to silence this warning.\n",
      "  FutureWarning)\n",
      "C:\\Users\\r_ani\\Anaconda3\\lib\\site-packages\\sklearn\\linear_model\\logistic.py:433: FutureWarning: Default solver will be changed to 'lbfgs' in 0.22. Specify a solver to silence this warning.\n",
      "  FutureWarning)\n",
      "C:\\Users\\r_ani\\Anaconda3\\lib\\site-packages\\sklearn\\linear_model\\logistic.py:433: FutureWarning: Default solver will be changed to 'lbfgs' in 0.22. Specify a solver to silence this warning.\n",
      "  FutureWarning)\n",
      "C:\\Users\\r_ani\\Anaconda3\\lib\\site-packages\\sklearn\\linear_model\\logistic.py:433: FutureWarning: Default solver will be changed to 'lbfgs' in 0.22. Specify a solver to silence this warning.\n",
      "  FutureWarning)\n",
      "C:\\Users\\r_ani\\Anaconda3\\lib\\site-packages\\sklearn\\linear_model\\logistic.py:433: FutureWarning: Default solver will be changed to 'lbfgs' in 0.22. Specify a solver to silence this warning.\n",
      "  FutureWarning)\n"
     ]
    },
    {
     "name": "stderr",
     "output_type": "stream",
     "text": [
      "C:\\Users\\r_ani\\Anaconda3\\lib\\site-packages\\sklearn\\linear_model\\logistic.py:433: FutureWarning: Default solver will be changed to 'lbfgs' in 0.22. Specify a solver to silence this warning.\n",
      "  FutureWarning)\n",
      "C:\\Users\\r_ani\\Anaconda3\\lib\\site-packages\\sklearn\\linear_model\\logistic.py:433: FutureWarning: Default solver will be changed to 'lbfgs' in 0.22. Specify a solver to silence this warning.\n",
      "  FutureWarning)\n",
      "C:\\Users\\r_ani\\Anaconda3\\lib\\site-packages\\sklearn\\linear_model\\logistic.py:433: FutureWarning: Default solver will be changed to 'lbfgs' in 0.22. Specify a solver to silence this warning.\n",
      "  FutureWarning)\n",
      "C:\\Users\\r_ani\\Anaconda3\\lib\\site-packages\\sklearn\\linear_model\\logistic.py:433: FutureWarning: Default solver will be changed to 'lbfgs' in 0.22. Specify a solver to silence this warning.\n",
      "  FutureWarning)\n",
      "C:\\Users\\r_ani\\Anaconda3\\lib\\site-packages\\sklearn\\linear_model\\logistic.py:433: FutureWarning: Default solver will be changed to 'lbfgs' in 0.22. Specify a solver to silence this warning.\n",
      "  FutureWarning)\n",
      "C:\\Users\\r_ani\\Anaconda3\\lib\\site-packages\\sklearn\\linear_model\\logistic.py:433: FutureWarning: Default solver will be changed to 'lbfgs' in 0.22. Specify a solver to silence this warning.\n",
      "  FutureWarning)\n",
      "C:\\Users\\r_ani\\Anaconda3\\lib\\site-packages\\sklearn\\linear_model\\logistic.py:433: FutureWarning: Default solver will be changed to 'lbfgs' in 0.22. Specify a solver to silence this warning.\n",
      "  FutureWarning)\n",
      "C:\\Users\\r_ani\\Anaconda3\\lib\\site-packages\\sklearn\\linear_model\\logistic.py:433: FutureWarning: Default solver will be changed to 'lbfgs' in 0.22. Specify a solver to silence this warning.\n",
      "  FutureWarning)\n",
      "C:\\Users\\r_ani\\Anaconda3\\lib\\site-packages\\sklearn\\linear_model\\logistic.py:433: FutureWarning: Default solver will be changed to 'lbfgs' in 0.22. Specify a solver to silence this warning.\n",
      "  FutureWarning)\n",
      "C:\\Users\\r_ani\\Anaconda3\\lib\\site-packages\\sklearn\\linear_model\\logistic.py:433: FutureWarning: Default solver will be changed to 'lbfgs' in 0.22. Specify a solver to silence this warning.\n",
      "  FutureWarning)\n",
      "C:\\Users\\r_ani\\Anaconda3\\lib\\site-packages\\sklearn\\linear_model\\logistic.py:433: FutureWarning: Default solver will be changed to 'lbfgs' in 0.22. Specify a solver to silence this warning.\n",
      "  FutureWarning)\n",
      "C:\\Users\\r_ani\\Anaconda3\\lib\\site-packages\\sklearn\\linear_model\\logistic.py:433: FutureWarning: Default solver will be changed to 'lbfgs' in 0.22. Specify a solver to silence this warning.\n",
      "  FutureWarning)\n",
      "C:\\Users\\r_ani\\Anaconda3\\lib\\site-packages\\sklearn\\linear_model\\logistic.py:433: FutureWarning: Default solver will be changed to 'lbfgs' in 0.22. Specify a solver to silence this warning.\n",
      "  FutureWarning)\n",
      "C:\\Users\\r_ani\\Anaconda3\\lib\\site-packages\\sklearn\\linear_model\\logistic.py:433: FutureWarning: Default solver will be changed to 'lbfgs' in 0.22. Specify a solver to silence this warning.\n",
      "  FutureWarning)\n",
      "C:\\Users\\r_ani\\Anaconda3\\lib\\site-packages\\sklearn\\linear_model\\logistic.py:433: FutureWarning: Default solver will be changed to 'lbfgs' in 0.22. Specify a solver to silence this warning.\n",
      "  FutureWarning)\n",
      "C:\\Users\\r_ani\\Anaconda3\\lib\\site-packages\\sklearn\\linear_model\\logistic.py:433: FutureWarning: Default solver will be changed to 'lbfgs' in 0.22. Specify a solver to silence this warning.\n",
      "  FutureWarning)\n",
      "C:\\Users\\r_ani\\Anaconda3\\lib\\site-packages\\sklearn\\linear_model\\logistic.py:433: FutureWarning: Default solver will be changed to 'lbfgs' in 0.22. Specify a solver to silence this warning.\n",
      "  FutureWarning)\n",
      "C:\\Users\\r_ani\\Anaconda3\\lib\\site-packages\\sklearn\\linear_model\\logistic.py:433: FutureWarning: Default solver will be changed to 'lbfgs' in 0.22. Specify a solver to silence this warning.\n",
      "  FutureWarning)\n",
      "C:\\Users\\r_ani\\Anaconda3\\lib\\site-packages\\sklearn\\linear_model\\logistic.py:433: FutureWarning: Default solver will be changed to 'lbfgs' in 0.22. Specify a solver to silence this warning.\n",
      "  FutureWarning)\n",
      "C:\\Users\\r_ani\\Anaconda3\\lib\\site-packages\\sklearn\\linear_model\\logistic.py:433: FutureWarning: Default solver will be changed to 'lbfgs' in 0.22. Specify a solver to silence this warning.\n",
      "  FutureWarning)\n",
      "C:\\Users\\r_ani\\Anaconda3\\lib\\site-packages\\sklearn\\linear_model\\logistic.py:433: FutureWarning: Default solver will be changed to 'lbfgs' in 0.22. Specify a solver to silence this warning.\n",
      "  FutureWarning)\n",
      "C:\\Users\\r_ani\\Anaconda3\\lib\\site-packages\\sklearn\\linear_model\\logistic.py:433: FutureWarning: Default solver will be changed to 'lbfgs' in 0.22. Specify a solver to silence this warning.\n",
      "  FutureWarning)\n",
      "C:\\Users\\r_ani\\Anaconda3\\lib\\site-packages\\sklearn\\linear_model\\logistic.py:433: FutureWarning: Default solver will be changed to 'lbfgs' in 0.22. Specify a solver to silence this warning.\n",
      "  FutureWarning)\n",
      "C:\\Users\\r_ani\\Anaconda3\\lib\\site-packages\\sklearn\\linear_model\\logistic.py:433: FutureWarning: Default solver will be changed to 'lbfgs' in 0.22. Specify a solver to silence this warning.\n",
      "  FutureWarning)\n",
      "C:\\Users\\r_ani\\Anaconda3\\lib\\site-packages\\sklearn\\linear_model\\logistic.py:433: FutureWarning: Default solver will be changed to 'lbfgs' in 0.22. Specify a solver to silence this warning.\n",
      "  FutureWarning)\n",
      "C:\\Users\\r_ani\\Anaconda3\\lib\\site-packages\\sklearn\\linear_model\\logistic.py:433: FutureWarning: Default solver will be changed to 'lbfgs' in 0.22. Specify a solver to silence this warning.\n",
      "  FutureWarning)\n",
      "C:\\Users\\r_ani\\Anaconda3\\lib\\site-packages\\sklearn\\linear_model\\logistic.py:433: FutureWarning: Default solver will be changed to 'lbfgs' in 0.22. Specify a solver to silence this warning.\n",
      "  FutureWarning)\n",
      "C:\\Users\\r_ani\\Anaconda3\\lib\\site-packages\\sklearn\\linear_model\\logistic.py:433: FutureWarning: Default solver will be changed to 'lbfgs' in 0.22. Specify a solver to silence this warning.\n",
      "  FutureWarning)\n",
      "C:\\Users\\r_ani\\Anaconda3\\lib\\site-packages\\sklearn\\linear_model\\logistic.py:433: FutureWarning: Default solver will be changed to 'lbfgs' in 0.22. Specify a solver to silence this warning.\n",
      "  FutureWarning)\n",
      "C:\\Users\\r_ani\\Anaconda3\\lib\\site-packages\\sklearn\\linear_model\\logistic.py:433: FutureWarning: Default solver will be changed to 'lbfgs' in 0.22. Specify a solver to silence this warning.\n",
      "  FutureWarning)\n",
      "C:\\Users\\r_ani\\Anaconda3\\lib\\site-packages\\sklearn\\linear_model\\logistic.py:433: FutureWarning: Default solver will be changed to 'lbfgs' in 0.22. Specify a solver to silence this warning.\n",
      "  FutureWarning)\n",
      "C:\\Users\\r_ani\\Anaconda3\\lib\\site-packages\\sklearn\\linear_model\\logistic.py:433: FutureWarning: Default solver will be changed to 'lbfgs' in 0.22. Specify a solver to silence this warning.\n",
      "  FutureWarning)\n",
      "C:\\Users\\r_ani\\Anaconda3\\lib\\site-packages\\sklearn\\linear_model\\logistic.py:433: FutureWarning: Default solver will be changed to 'lbfgs' in 0.22. Specify a solver to silence this warning.\n",
      "  FutureWarning)\n",
      "C:\\Users\\r_ani\\Anaconda3\\lib\\site-packages\\sklearn\\linear_model\\logistic.py:433: FutureWarning: Default solver will be changed to 'lbfgs' in 0.22. Specify a solver to silence this warning.\n",
      "  FutureWarning)\n",
      "C:\\Users\\r_ani\\Anaconda3\\lib\\site-packages\\sklearn\\linear_model\\logistic.py:433: FutureWarning: Default solver will be changed to 'lbfgs' in 0.22. Specify a solver to silence this warning.\n",
      "  FutureWarning)\n",
      "C:\\Users\\r_ani\\Anaconda3\\lib\\site-packages\\sklearn\\linear_model\\logistic.py:433: FutureWarning: Default solver will be changed to 'lbfgs' in 0.22. Specify a solver to silence this warning.\n",
      "  FutureWarning)\n",
      "C:\\Users\\r_ani\\Anaconda3\\lib\\site-packages\\sklearn\\linear_model\\logistic.py:433: FutureWarning: Default solver will be changed to 'lbfgs' in 0.22. Specify a solver to silence this warning.\n",
      "  FutureWarning)\n",
      "C:\\Users\\r_ani\\Anaconda3\\lib\\site-packages\\sklearn\\linear_model\\logistic.py:433: FutureWarning: Default solver will be changed to 'lbfgs' in 0.22. Specify a solver to silence this warning.\n",
      "  FutureWarning)\n",
      "C:\\Users\\r_ani\\Anaconda3\\lib\\site-packages\\sklearn\\linear_model\\logistic.py:433: FutureWarning: Default solver will be changed to 'lbfgs' in 0.22. Specify a solver to silence this warning.\n",
      "  FutureWarning)\n",
      "C:\\Users\\r_ani\\Anaconda3\\lib\\site-packages\\sklearn\\linear_model\\logistic.py:433: FutureWarning: Default solver will be changed to 'lbfgs' in 0.22. Specify a solver to silence this warning.\n",
      "  FutureWarning)\n",
      "C:\\Users\\r_ani\\Anaconda3\\lib\\site-packages\\sklearn\\linear_model\\logistic.py:433: FutureWarning: Default solver will be changed to 'lbfgs' in 0.22. Specify a solver to silence this warning.\n",
      "  FutureWarning)\n",
      "C:\\Users\\r_ani\\Anaconda3\\lib\\site-packages\\sklearn\\linear_model\\logistic.py:433: FutureWarning: Default solver will be changed to 'lbfgs' in 0.22. Specify a solver to silence this warning.\n",
      "  FutureWarning)\n"
     ]
    },
    {
     "name": "stderr",
     "output_type": "stream",
     "text": [
      "C:\\Users\\r_ani\\Anaconda3\\lib\\site-packages\\sklearn\\linear_model\\logistic.py:433: FutureWarning: Default solver will be changed to 'lbfgs' in 0.22. Specify a solver to silence this warning.\n",
      "  FutureWarning)\n",
      "C:\\Users\\r_ani\\Anaconda3\\lib\\site-packages\\sklearn\\linear_model\\logistic.py:433: FutureWarning: Default solver will be changed to 'lbfgs' in 0.22. Specify a solver to silence this warning.\n",
      "  FutureWarning)\n",
      "C:\\Users\\r_ani\\Anaconda3\\lib\\site-packages\\sklearn\\linear_model\\logistic.py:433: FutureWarning: Default solver will be changed to 'lbfgs' in 0.22. Specify a solver to silence this warning.\n",
      "  FutureWarning)\n",
      "C:\\Users\\r_ani\\Anaconda3\\lib\\site-packages\\sklearn\\linear_model\\logistic.py:433: FutureWarning: Default solver will be changed to 'lbfgs' in 0.22. Specify a solver to silence this warning.\n",
      "  FutureWarning)\n",
      "C:\\Users\\r_ani\\Anaconda3\\lib\\site-packages\\sklearn\\linear_model\\logistic.py:433: FutureWarning: Default solver will be changed to 'lbfgs' in 0.22. Specify a solver to silence this warning.\n",
      "  FutureWarning)\n",
      "C:\\Users\\r_ani\\Anaconda3\\lib\\site-packages\\sklearn\\linear_model\\logistic.py:433: FutureWarning: Default solver will be changed to 'lbfgs' in 0.22. Specify a solver to silence this warning.\n",
      "  FutureWarning)\n",
      "C:\\Users\\r_ani\\Anaconda3\\lib\\site-packages\\sklearn\\linear_model\\logistic.py:433: FutureWarning: Default solver will be changed to 'lbfgs' in 0.22. Specify a solver to silence this warning.\n",
      "  FutureWarning)\n",
      "C:\\Users\\r_ani\\Anaconda3\\lib\\site-packages\\sklearn\\linear_model\\logistic.py:433: FutureWarning: Default solver will be changed to 'lbfgs' in 0.22. Specify a solver to silence this warning.\n",
      "  FutureWarning)\n",
      "C:\\Users\\r_ani\\Anaconda3\\lib\\site-packages\\sklearn\\linear_model\\logistic.py:433: FutureWarning: Default solver will be changed to 'lbfgs' in 0.22. Specify a solver to silence this warning.\n",
      "  FutureWarning)\n",
      "C:\\Users\\r_ani\\Anaconda3\\lib\\site-packages\\sklearn\\linear_model\\logistic.py:433: FutureWarning: Default solver will be changed to 'lbfgs' in 0.22. Specify a solver to silence this warning.\n",
      "  FutureWarning)\n",
      "C:\\Users\\r_ani\\Anaconda3\\lib\\site-packages\\sklearn\\linear_model\\logistic.py:433: FutureWarning: Default solver will be changed to 'lbfgs' in 0.22. Specify a solver to silence this warning.\n",
      "  FutureWarning)\n",
      "C:\\Users\\r_ani\\Anaconda3\\lib\\site-packages\\sklearn\\linear_model\\logistic.py:433: FutureWarning: Default solver will be changed to 'lbfgs' in 0.22. Specify a solver to silence this warning.\n",
      "  FutureWarning)\n",
      "C:\\Users\\r_ani\\Anaconda3\\lib\\site-packages\\sklearn\\linear_model\\logistic.py:433: FutureWarning: Default solver will be changed to 'lbfgs' in 0.22. Specify a solver to silence this warning.\n",
      "  FutureWarning)\n",
      "C:\\Users\\r_ani\\Anaconda3\\lib\\site-packages\\sklearn\\linear_model\\logistic.py:433: FutureWarning: Default solver will be changed to 'lbfgs' in 0.22. Specify a solver to silence this warning.\n",
      "  FutureWarning)\n",
      "C:\\Users\\r_ani\\Anaconda3\\lib\\site-packages\\sklearn\\linear_model\\logistic.py:433: FutureWarning: Default solver will be changed to 'lbfgs' in 0.22. Specify a solver to silence this warning.\n",
      "  FutureWarning)\n",
      "C:\\Users\\r_ani\\Anaconda3\\lib\\site-packages\\sklearn\\linear_model\\logistic.py:433: FutureWarning: Default solver will be changed to 'lbfgs' in 0.22. Specify a solver to silence this warning.\n",
      "  FutureWarning)\n",
      "C:\\Users\\r_ani\\Anaconda3\\lib\\site-packages\\sklearn\\linear_model\\logistic.py:433: FutureWarning: Default solver will be changed to 'lbfgs' in 0.22. Specify a solver to silence this warning.\n",
      "  FutureWarning)\n",
      "C:\\Users\\r_ani\\Anaconda3\\lib\\site-packages\\sklearn\\linear_model\\logistic.py:433: FutureWarning: Default solver will be changed to 'lbfgs' in 0.22. Specify a solver to silence this warning.\n",
      "  FutureWarning)\n",
      "C:\\Users\\r_ani\\Anaconda3\\lib\\site-packages\\sklearn\\linear_model\\logistic.py:433: FutureWarning: Default solver will be changed to 'lbfgs' in 0.22. Specify a solver to silence this warning.\n",
      "  FutureWarning)\n",
      "C:\\Users\\r_ani\\Anaconda3\\lib\\site-packages\\sklearn\\linear_model\\logistic.py:433: FutureWarning: Default solver will be changed to 'lbfgs' in 0.22. Specify a solver to silence this warning.\n",
      "  FutureWarning)\n",
      "C:\\Users\\r_ani\\Anaconda3\\lib\\site-packages\\sklearn\\linear_model\\logistic.py:433: FutureWarning: Default solver will be changed to 'lbfgs' in 0.22. Specify a solver to silence this warning.\n",
      "  FutureWarning)\n",
      "C:\\Users\\r_ani\\Anaconda3\\lib\\site-packages\\sklearn\\linear_model\\logistic.py:433: FutureWarning: Default solver will be changed to 'lbfgs' in 0.22. Specify a solver to silence this warning.\n",
      "  FutureWarning)\n",
      "C:\\Users\\r_ani\\Anaconda3\\lib\\site-packages\\sklearn\\linear_model\\logistic.py:433: FutureWarning: Default solver will be changed to 'lbfgs' in 0.22. Specify a solver to silence this warning.\n",
      "  FutureWarning)\n",
      "C:\\Users\\r_ani\\Anaconda3\\lib\\site-packages\\sklearn\\linear_model\\logistic.py:433: FutureWarning: Default solver will be changed to 'lbfgs' in 0.22. Specify a solver to silence this warning.\n",
      "  FutureWarning)\n",
      "C:\\Users\\r_ani\\Anaconda3\\lib\\site-packages\\sklearn\\linear_model\\logistic.py:433: FutureWarning: Default solver will be changed to 'lbfgs' in 0.22. Specify a solver to silence this warning.\n",
      "  FutureWarning)\n",
      "C:\\Users\\r_ani\\Anaconda3\\lib\\site-packages\\sklearn\\linear_model\\logistic.py:433: FutureWarning: Default solver will be changed to 'lbfgs' in 0.22. Specify a solver to silence this warning.\n",
      "  FutureWarning)\n",
      "C:\\Users\\r_ani\\Anaconda3\\lib\\site-packages\\sklearn\\linear_model\\logistic.py:433: FutureWarning: Default solver will be changed to 'lbfgs' in 0.22. Specify a solver to silence this warning.\n",
      "  FutureWarning)\n",
      "C:\\Users\\r_ani\\Anaconda3\\lib\\site-packages\\sklearn\\linear_model\\logistic.py:433: FutureWarning: Default solver will be changed to 'lbfgs' in 0.22. Specify a solver to silence this warning.\n",
      "  FutureWarning)\n",
      "C:\\Users\\r_ani\\Anaconda3\\lib\\site-packages\\sklearn\\linear_model\\logistic.py:433: FutureWarning: Default solver will be changed to 'lbfgs' in 0.22. Specify a solver to silence this warning.\n",
      "  FutureWarning)\n",
      "C:\\Users\\r_ani\\Anaconda3\\lib\\site-packages\\sklearn\\linear_model\\logistic.py:433: FutureWarning: Default solver will be changed to 'lbfgs' in 0.22. Specify a solver to silence this warning.\n",
      "  FutureWarning)\n",
      "C:\\Users\\r_ani\\Anaconda3\\lib\\site-packages\\sklearn\\linear_model\\logistic.py:433: FutureWarning: Default solver will be changed to 'lbfgs' in 0.22. Specify a solver to silence this warning.\n",
      "  FutureWarning)\n",
      "C:\\Users\\r_ani\\Anaconda3\\lib\\site-packages\\sklearn\\linear_model\\logistic.py:433: FutureWarning: Default solver will be changed to 'lbfgs' in 0.22. Specify a solver to silence this warning.\n",
      "  FutureWarning)\n",
      "C:\\Users\\r_ani\\Anaconda3\\lib\\site-packages\\sklearn\\linear_model\\logistic.py:433: FutureWarning: Default solver will be changed to 'lbfgs' in 0.22. Specify a solver to silence this warning.\n",
      "  FutureWarning)\n",
      "C:\\Users\\r_ani\\Anaconda3\\lib\\site-packages\\sklearn\\linear_model\\logistic.py:433: FutureWarning: Default solver will be changed to 'lbfgs' in 0.22. Specify a solver to silence this warning.\n",
      "  FutureWarning)\n",
      "C:\\Users\\r_ani\\Anaconda3\\lib\\site-packages\\sklearn\\linear_model\\logistic.py:433: FutureWarning: Default solver will be changed to 'lbfgs' in 0.22. Specify a solver to silence this warning.\n",
      "  FutureWarning)\n",
      "C:\\Users\\r_ani\\Anaconda3\\lib\\site-packages\\sklearn\\linear_model\\logistic.py:433: FutureWarning: Default solver will be changed to 'lbfgs' in 0.22. Specify a solver to silence this warning.\n",
      "  FutureWarning)\n",
      "C:\\Users\\r_ani\\Anaconda3\\lib\\site-packages\\sklearn\\linear_model\\logistic.py:433: FutureWarning: Default solver will be changed to 'lbfgs' in 0.22. Specify a solver to silence this warning.\n",
      "  FutureWarning)\n",
      "C:\\Users\\r_ani\\Anaconda3\\lib\\site-packages\\sklearn\\linear_model\\logistic.py:433: FutureWarning: Default solver will be changed to 'lbfgs' in 0.22. Specify a solver to silence this warning.\n",
      "  FutureWarning)\n",
      "C:\\Users\\r_ani\\Anaconda3\\lib\\site-packages\\sklearn\\linear_model\\logistic.py:433: FutureWarning: Default solver will be changed to 'lbfgs' in 0.22. Specify a solver to silence this warning.\n",
      "  FutureWarning)\n",
      "C:\\Users\\r_ani\\Anaconda3\\lib\\site-packages\\sklearn\\linear_model\\logistic.py:433: FutureWarning: Default solver will be changed to 'lbfgs' in 0.22. Specify a solver to silence this warning.\n",
      "  FutureWarning)\n",
      "C:\\Users\\r_ani\\Anaconda3\\lib\\site-packages\\sklearn\\linear_model\\logistic.py:433: FutureWarning: Default solver will be changed to 'lbfgs' in 0.22. Specify a solver to silence this warning.\n",
      "  FutureWarning)\n",
      "C:\\Users\\r_ani\\Anaconda3\\lib\\site-packages\\sklearn\\linear_model\\logistic.py:433: FutureWarning: Default solver will be changed to 'lbfgs' in 0.22. Specify a solver to silence this warning.\n",
      "  FutureWarning)\n"
     ]
    },
    {
     "name": "stderr",
     "output_type": "stream",
     "text": [
      "C:\\Users\\r_ani\\Anaconda3\\lib\\site-packages\\sklearn\\linear_model\\logistic.py:433: FutureWarning: Default solver will be changed to 'lbfgs' in 0.22. Specify a solver to silence this warning.\n",
      "  FutureWarning)\n",
      "C:\\Users\\r_ani\\Anaconda3\\lib\\site-packages\\sklearn\\linear_model\\logistic.py:433: FutureWarning: Default solver will be changed to 'lbfgs' in 0.22. Specify a solver to silence this warning.\n",
      "  FutureWarning)\n",
      "C:\\Users\\r_ani\\Anaconda3\\lib\\site-packages\\sklearn\\linear_model\\logistic.py:433: FutureWarning: Default solver will be changed to 'lbfgs' in 0.22. Specify a solver to silence this warning.\n",
      "  FutureWarning)\n",
      "C:\\Users\\r_ani\\Anaconda3\\lib\\site-packages\\sklearn\\linear_model\\logistic.py:433: FutureWarning: Default solver will be changed to 'lbfgs' in 0.22. Specify a solver to silence this warning.\n",
      "  FutureWarning)\n",
      "C:\\Users\\r_ani\\Anaconda3\\lib\\site-packages\\sklearn\\linear_model\\logistic.py:433: FutureWarning: Default solver will be changed to 'lbfgs' in 0.22. Specify a solver to silence this warning.\n",
      "  FutureWarning)\n",
      "C:\\Users\\r_ani\\Anaconda3\\lib\\site-packages\\sklearn\\linear_model\\logistic.py:433: FutureWarning: Default solver will be changed to 'lbfgs' in 0.22. Specify a solver to silence this warning.\n",
      "  FutureWarning)\n",
      "C:\\Users\\r_ani\\Anaconda3\\lib\\site-packages\\sklearn\\linear_model\\logistic.py:433: FutureWarning: Default solver will be changed to 'lbfgs' in 0.22. Specify a solver to silence this warning.\n",
      "  FutureWarning)\n",
      "C:\\Users\\r_ani\\Anaconda3\\lib\\site-packages\\sklearn\\linear_model\\logistic.py:433: FutureWarning: Default solver will be changed to 'lbfgs' in 0.22. Specify a solver to silence this warning.\n",
      "  FutureWarning)\n",
      "C:\\Users\\r_ani\\Anaconda3\\lib\\site-packages\\sklearn\\linear_model\\logistic.py:433: FutureWarning: Default solver will be changed to 'lbfgs' in 0.22. Specify a solver to silence this warning.\n",
      "  FutureWarning)\n",
      "C:\\Users\\r_ani\\Anaconda3\\lib\\site-packages\\sklearn\\linear_model\\logistic.py:433: FutureWarning: Default solver will be changed to 'lbfgs' in 0.22. Specify a solver to silence this warning.\n",
      "  FutureWarning)\n",
      "C:\\Users\\r_ani\\Anaconda3\\lib\\site-packages\\sklearn\\linear_model\\logistic.py:433: FutureWarning: Default solver will be changed to 'lbfgs' in 0.22. Specify a solver to silence this warning.\n",
      "  FutureWarning)\n",
      "C:\\Users\\r_ani\\Anaconda3\\lib\\site-packages\\sklearn\\linear_model\\logistic.py:433: FutureWarning: Default solver will be changed to 'lbfgs' in 0.22. Specify a solver to silence this warning.\n",
      "  FutureWarning)\n",
      "C:\\Users\\r_ani\\Anaconda3\\lib\\site-packages\\sklearn\\linear_model\\logistic.py:433: FutureWarning: Default solver will be changed to 'lbfgs' in 0.22. Specify a solver to silence this warning.\n",
      "  FutureWarning)\n",
      "C:\\Users\\r_ani\\Anaconda3\\lib\\site-packages\\sklearn\\linear_model\\logistic.py:433: FutureWarning: Default solver will be changed to 'lbfgs' in 0.22. Specify a solver to silence this warning.\n",
      "  FutureWarning)\n",
      "C:\\Users\\r_ani\\Anaconda3\\lib\\site-packages\\sklearn\\linear_model\\logistic.py:433: FutureWarning: Default solver will be changed to 'lbfgs' in 0.22. Specify a solver to silence this warning.\n",
      "  FutureWarning)\n",
      "C:\\Users\\r_ani\\Anaconda3\\lib\\site-packages\\sklearn\\linear_model\\logistic.py:433: FutureWarning: Default solver will be changed to 'lbfgs' in 0.22. Specify a solver to silence this warning.\n",
      "  FutureWarning)\n",
      "C:\\Users\\r_ani\\Anaconda3\\lib\\site-packages\\sklearn\\linear_model\\logistic.py:433: FutureWarning: Default solver will be changed to 'lbfgs' in 0.22. Specify a solver to silence this warning.\n",
      "  FutureWarning)\n",
      "C:\\Users\\r_ani\\Anaconda3\\lib\\site-packages\\sklearn\\linear_model\\logistic.py:433: FutureWarning: Default solver will be changed to 'lbfgs' in 0.22. Specify a solver to silence this warning.\n",
      "  FutureWarning)\n",
      "C:\\Users\\r_ani\\Anaconda3\\lib\\site-packages\\sklearn\\linear_model\\logistic.py:433: FutureWarning: Default solver will be changed to 'lbfgs' in 0.22. Specify a solver to silence this warning.\n",
      "  FutureWarning)\n",
      "C:\\Users\\r_ani\\Anaconda3\\lib\\site-packages\\sklearn\\linear_model\\logistic.py:433: FutureWarning: Default solver will be changed to 'lbfgs' in 0.22. Specify a solver to silence this warning.\n",
      "  FutureWarning)\n",
      "C:\\Users\\r_ani\\Anaconda3\\lib\\site-packages\\sklearn\\linear_model\\logistic.py:433: FutureWarning: Default solver will be changed to 'lbfgs' in 0.22. Specify a solver to silence this warning.\n",
      "  FutureWarning)\n",
      "C:\\Users\\r_ani\\Anaconda3\\lib\\site-packages\\sklearn\\linear_model\\logistic.py:433: FutureWarning: Default solver will be changed to 'lbfgs' in 0.22. Specify a solver to silence this warning.\n",
      "  FutureWarning)\n",
      "C:\\Users\\r_ani\\Anaconda3\\lib\\site-packages\\sklearn\\linear_model\\logistic.py:433: FutureWarning: Default solver will be changed to 'lbfgs' in 0.22. Specify a solver to silence this warning.\n",
      "  FutureWarning)\n",
      "C:\\Users\\r_ani\\Anaconda3\\lib\\site-packages\\sklearn\\linear_model\\logistic.py:433: FutureWarning: Default solver will be changed to 'lbfgs' in 0.22. Specify a solver to silence this warning.\n",
      "  FutureWarning)\n",
      "C:\\Users\\r_ani\\Anaconda3\\lib\\site-packages\\sklearn\\linear_model\\logistic.py:433: FutureWarning: Default solver will be changed to 'lbfgs' in 0.22. Specify a solver to silence this warning.\n",
      "  FutureWarning)\n",
      "C:\\Users\\r_ani\\Anaconda3\\lib\\site-packages\\sklearn\\linear_model\\logistic.py:433: FutureWarning: Default solver will be changed to 'lbfgs' in 0.22. Specify a solver to silence this warning.\n",
      "  FutureWarning)\n",
      "C:\\Users\\r_ani\\Anaconda3\\lib\\site-packages\\sklearn\\linear_model\\logistic.py:433: FutureWarning: Default solver will be changed to 'lbfgs' in 0.22. Specify a solver to silence this warning.\n",
      "  FutureWarning)\n",
      "C:\\Users\\r_ani\\Anaconda3\\lib\\site-packages\\sklearn\\linear_model\\logistic.py:433: FutureWarning: Default solver will be changed to 'lbfgs' in 0.22. Specify a solver to silence this warning.\n",
      "  FutureWarning)\n",
      "C:\\Users\\r_ani\\Anaconda3\\lib\\site-packages\\sklearn\\linear_model\\logistic.py:433: FutureWarning: Default solver will be changed to 'lbfgs' in 0.22. Specify a solver to silence this warning.\n",
      "  FutureWarning)\n",
      "C:\\Users\\r_ani\\Anaconda3\\lib\\site-packages\\sklearn\\linear_model\\logistic.py:433: FutureWarning: Default solver will be changed to 'lbfgs' in 0.22. Specify a solver to silence this warning.\n",
      "  FutureWarning)\n",
      "C:\\Users\\r_ani\\Anaconda3\\lib\\site-packages\\sklearn\\linear_model\\logistic.py:433: FutureWarning: Default solver will be changed to 'lbfgs' in 0.22. Specify a solver to silence this warning.\n",
      "  FutureWarning)\n",
      "C:\\Users\\r_ani\\Anaconda3\\lib\\site-packages\\sklearn\\linear_model\\logistic.py:433: FutureWarning: Default solver will be changed to 'lbfgs' in 0.22. Specify a solver to silence this warning.\n",
      "  FutureWarning)\n",
      "C:\\Users\\r_ani\\Anaconda3\\lib\\site-packages\\sklearn\\linear_model\\logistic.py:433: FutureWarning: Default solver will be changed to 'lbfgs' in 0.22. Specify a solver to silence this warning.\n",
      "  FutureWarning)\n",
      "C:\\Users\\r_ani\\Anaconda3\\lib\\site-packages\\sklearn\\linear_model\\logistic.py:433: FutureWarning: Default solver will be changed to 'lbfgs' in 0.22. Specify a solver to silence this warning.\n",
      "  FutureWarning)\n",
      "C:\\Users\\r_ani\\Anaconda3\\lib\\site-packages\\sklearn\\linear_model\\logistic.py:433: FutureWarning: Default solver will be changed to 'lbfgs' in 0.22. Specify a solver to silence this warning.\n",
      "  FutureWarning)\n",
      "C:\\Users\\r_ani\\Anaconda3\\lib\\site-packages\\sklearn\\linear_model\\logistic.py:433: FutureWarning: Default solver will be changed to 'lbfgs' in 0.22. Specify a solver to silence this warning.\n",
      "  FutureWarning)\n",
      "C:\\Users\\r_ani\\Anaconda3\\lib\\site-packages\\sklearn\\linear_model\\logistic.py:433: FutureWarning: Default solver will be changed to 'lbfgs' in 0.22. Specify a solver to silence this warning.\n",
      "  FutureWarning)\n"
     ]
    },
    {
     "name": "stdout",
     "output_type": "stream",
     "text": [
      "[False False False False False False False False False False False False\n",
      " False False  True]\n",
      "[ 9 13  8 10  5 14 15  4 12 11  6  2  7  3  1]\n"
     ]
    },
    {
     "name": "stderr",
     "output_type": "stream",
     "text": [
      "C:\\Users\\r_ani\\Anaconda3\\lib\\site-packages\\sklearn\\linear_model\\logistic.py:433: FutureWarning: Default solver will be changed to 'lbfgs' in 0.22. Specify a solver to silence this warning.\n",
      "  FutureWarning)\n",
      "C:\\Users\\r_ani\\Anaconda3\\lib\\site-packages\\sklearn\\linear_model\\logistic.py:433: FutureWarning: Default solver will be changed to 'lbfgs' in 0.22. Specify a solver to silence this warning.\n",
      "  FutureWarning)\n",
      "C:\\Users\\r_ani\\Anaconda3\\lib\\site-packages\\sklearn\\linear_model\\logistic.py:433: FutureWarning: Default solver will be changed to 'lbfgs' in 0.22. Specify a solver to silence this warning.\n",
      "  FutureWarning)\n"
     ]
    }
   ],
   "source": [
    "##Using Recursive feature selection technique\n",
    "from sklearn.feature_selection import RFECV\n",
    "from sklearn.linear_model import LogisticRegression\n",
    "\n",
    "lr = LogisticRegression()\n",
    "selector = RFECV(lr, step=1, cv=10)\n",
    "selector = selector.fit(Xs, y)\n",
    "\n",
    "print(selector.support_)\n",
    "print(selector.ranking_)\n"
   ]
  },
  {
   "cell_type": "code",
   "execution_count": 92,
   "metadata": {},
   "outputs": [
    {
     "data": {
      "text/plain": [
       "array(['euribor_3_month'], dtype='<U15')"
      ]
     },
     "execution_count": 92,
     "metadata": {},
     "output_type": "execute_result"
    }
   ],
   "source": [
    " #the column names correspond to the one below.  Only one feature!\n",
    "rfecv_columns = np.array(cols)[selector.support_]\n",
    "rfecv_columns"
   ]
  },
  {
   "cell_type": "code",
   "execution_count": 98,
   "metadata": {},
   "outputs": [
    {
     "name": "stdout",
     "output_type": "stream",
     "text": [
      "Fitting 5 folds for each of 24 candidates, totalling 120 fits\n"
     ]
    },
    {
     "name": "stderr",
     "output_type": "stream",
     "text": [
      "[Parallel(n_jobs=1)]: Using backend SequentialBackend with 1 concurrent workers.\n",
      "[Parallel(n_jobs=1)]: Done 120 out of 120 | elapsed: 13.2min finished\n"
     ]
    },
    {
     "data": {
      "text/plain": [
       "GridSearchCV(cv=5, error_score='raise-deprecating',\n",
       "       estimator=KNeighborsClassifier(algorithm='auto', leaf_size=30, metric='minkowski',\n",
       "           metric_params=None, n_jobs=None, n_neighbors=5, p=2,\n",
       "           weights='uniform'),\n",
       "       fit_params=None, iid='warn', n_jobs=None,\n",
       "       param_grid={'n_neighbors': [1, 3, 5, 9, 15, 21], 'weights': ['uniform', 'distance'], 'metric': ['euclidean', 'manhattan']},\n",
       "       pre_dispatch='2*n_jobs', refit=True, return_train_score='warn',\n",
       "       scoring=None, verbose=1)"
      ]
     },
     "execution_count": 98,
     "metadata": {},
     "output_type": "execute_result"
    }
   ],
   "source": [
    "#gridsearch for knn classifier\n",
    "knn_params = {\n",
    "    'n_neighbors':[1,3,5,9,15,21],\n",
    "    'weights':['uniform','distance'],\n",
    "    'metric':['euclidean','manhattan']\n",
    "}\n",
    "\n",
    "knn_gridsearch = GridSearchCV(KNeighborsClassifier(), knn_params, cv=5, verbose=1)\n",
    "\n",
    "knn_gridsearch.fit(X_train, y_train)"
   ]
  },
  {
   "cell_type": "code",
   "execution_count": 69,
   "metadata": {},
   "outputs": [
    {
     "data": {
      "text/plain": [
       "0.8873264958503968"
      ]
     },
     "execution_count": 69,
     "metadata": {},
     "output_type": "execute_result"
    }
   ],
   "source": [
    "knn_gridsearch.best_score_"
   ]
  },
  {
   "cell_type": "code",
   "execution_count": 70,
   "metadata": {},
   "outputs": [
    {
     "data": {
      "text/plain": [
       "{'metric': 'euclidean', 'n_neighbors': 21, 'weights': 'uniform'}"
      ]
     },
     "execution_count": 70,
     "metadata": {},
     "output_type": "execute_result"
    }
   ],
   "source": [
    "knn_gridsearch.best_params_"
   ]
  },
  {
   "cell_type": "code",
   "execution_count": 73,
   "metadata": {},
   "outputs": [
    {
     "data": {
      "text/plain": [
       "0.8873519240673975"
      ]
     },
     "execution_count": 73,
     "metadata": {},
     "output_type": "execute_result"
    }
   ],
   "source": [
    "best_knn = knn_gridsearch.best_estimator_\n",
    "best_knn.score(X_test, y_test)"
   ]
  },
  {
   "cell_type": "code",
   "execution_count": 75,
   "metadata": {},
   "outputs": [],
   "source": [
    "gs_params = {\n",
    "    'penalty':['l1','l2'],\n",
    "    'solver':['liblinear'],\n",
    "    'C':np.logspace(-5,0,100)\n",
    "}\n",
    "\n",
    "lr_gridsearch = GridSearchCV(LogisticRegression(), gs_params, cv=5, verbose=1)\n"
   ]
  },
  {
   "cell_type": "code",
   "execution_count": 76,
   "metadata": {},
   "outputs": [
    {
     "name": "stdout",
     "output_type": "stream",
     "text": [
      "Fitting 5 folds for each of 200 candidates, totalling 1000 fits\n"
     ]
    },
    {
     "name": "stderr",
     "output_type": "stream",
     "text": [
      "[Parallel(n_jobs=1)]: Using backend SequentialBackend with 1 concurrent workers.\n",
      "[Parallel(n_jobs=1)]: Done 1000 out of 1000 | elapsed:  2.6min finished\n"
     ]
    },
    {
     "data": {
      "text/plain": [
       "GridSearchCV(cv=5, error_score='raise-deprecating',\n",
       "       estimator=LogisticRegression(C=1.0, class_weight=None, dual=False, fit_intercept=True,\n",
       "          intercept_scaling=1, max_iter=100, multi_class='warn',\n",
       "          n_jobs=None, penalty='l2', random_state=None, solver='warn',\n",
       "          tol=0.0001, verbose=0, warm_start=False),\n",
       "       fit_params=None, iid='warn', n_jobs=None,\n",
       "       param_grid={'penalty': ['l1', 'l2'], 'solver': ['liblinear'], 'C': array([1.00000e-05, 1.12332e-05, ..., 8.90215e-01, 1.00000e+00])},\n",
       "       pre_dispatch='2*n_jobs', refit=True, return_train_score='warn',\n",
       "       scoring=None, verbose=1)"
      ]
     },
     "execution_count": 76,
     "metadata": {},
     "output_type": "execute_result"
    }
   ],
   "source": [
    "lr_gridsearch.fit(Xs, y)"
   ]
  },
  {
   "cell_type": "code",
   "execution_count": 77,
   "metadata": {},
   "outputs": [
    {
     "data": {
      "text/plain": [
       "0.8906128593628594"
      ]
     },
     "execution_count": 77,
     "metadata": {},
     "output_type": "execute_result"
    }
   ],
   "source": [
    "lr_gridsearch.best_score_"
   ]
  },
  {
   "cell_type": "raw",
   "metadata": {},
   "source": [
    "lr_gridsearch.best_params_"
   ]
  },
  {
   "cell_type": "code",
   "execution_count": 78,
   "metadata": {},
   "outputs": [
    {
     "data": {
      "text/plain": [
       "{'C': 0.0007390722033525775, 'penalty': 'l1', 'solver': 'liblinear'}"
      ]
     },
     "execution_count": 78,
     "metadata": {},
     "output_type": "execute_result"
    }
   ],
   "source": [
    "lr_gridsearch.best_params_"
   ]
  },
  {
   "cell_type": "code",
   "execution_count": 79,
   "metadata": {},
   "outputs": [
    {
     "data": {
      "text/plain": [
       "LogisticRegression(C=0.0007390722033525775, class_weight=None, dual=False,\n",
       "          fit_intercept=True, intercept_scaling=1, max_iter=100,\n",
       "          multi_class='warn', n_jobs=None, penalty='l1', random_state=None,\n",
       "          solver='liblinear', tol=0.0001, verbose=0, warm_start=False)"
      ]
     },
     "execution_count": 79,
     "metadata": {},
     "output_type": "execute_result"
    }
   ],
   "source": [
    "lr_gridsearch.best_estimator_"
   ]
  },
  {
   "cell_type": "code",
   "execution_count": 80,
   "metadata": {},
   "outputs": [
    {
     "name": "stderr",
     "output_type": "stream",
     "text": [
      "C:\\Users\\r_ani\\Anaconda3\\lib\\site-packages\\sklearn\\utils\\deprecation.py:125: FutureWarning: You are accessing a training score ('split0_train_score'), which will not be available by default any more in 0.21. If you need training scores, please set return_train_score=True\n",
      "  warnings.warn(*warn_args, **warn_kwargs)\n",
      "C:\\Users\\r_ani\\Anaconda3\\lib\\site-packages\\sklearn\\utils\\deprecation.py:125: FutureWarning: You are accessing a training score ('split1_train_score'), which will not be available by default any more in 0.21. If you need training scores, please set return_train_score=True\n",
      "  warnings.warn(*warn_args, **warn_kwargs)\n",
      "C:\\Users\\r_ani\\Anaconda3\\lib\\site-packages\\sklearn\\utils\\deprecation.py:125: FutureWarning: You are accessing a training score ('split2_train_score'), which will not be available by default any more in 0.21. If you need training scores, please set return_train_score=True\n",
      "  warnings.warn(*warn_args, **warn_kwargs)\n",
      "C:\\Users\\r_ani\\Anaconda3\\lib\\site-packages\\sklearn\\utils\\deprecation.py:125: FutureWarning: You are accessing a training score ('split3_train_score'), which will not be available by default any more in 0.21. If you need training scores, please set return_train_score=True\n",
      "  warnings.warn(*warn_args, **warn_kwargs)\n",
      "C:\\Users\\r_ani\\Anaconda3\\lib\\site-packages\\sklearn\\utils\\deprecation.py:125: FutureWarning: You are accessing a training score ('split4_train_score'), which will not be available by default any more in 0.21. If you need training scores, please set return_train_score=True\n",
      "  warnings.warn(*warn_args, **warn_kwargs)\n",
      "C:\\Users\\r_ani\\Anaconda3\\lib\\site-packages\\sklearn\\utils\\deprecation.py:125: FutureWarning: You are accessing a training score ('mean_train_score'), which will not be available by default any more in 0.21. If you need training scores, please set return_train_score=True\n",
      "  warnings.warn(*warn_args, **warn_kwargs)\n",
      "C:\\Users\\r_ani\\Anaconda3\\lib\\site-packages\\sklearn\\utils\\deprecation.py:125: FutureWarning: You are accessing a training score ('std_train_score'), which will not be available by default any more in 0.21. If you need training scores, please set return_train_score=True\n",
      "  warnings.warn(*warn_args, **warn_kwargs)\n"
     ]
    },
    {
     "data": {
      "text/plain": [
       "{'mean_fit_time': array([0.04562807, 0.08693919, 0.0547276 , 0.09271255, 0.05376096,\n",
       "        0.09226217, 0.05957246, 0.08820968, 0.05001321, 0.08531213,\n",
       "        0.05294409, 0.09392018, 0.05422802, 0.10740771, 0.06031055,\n",
       "        0.08952351, 0.05424089, 0.08875599, 0.05821857, 0.08470769,\n",
       "        0.06223655, 0.09764886, 0.06188354, 0.09875479, 0.05606613,\n",
       "        0.08834553, 0.05492854, 0.09180541, 0.0520453 , 0.10133677,\n",
       "        0.05974612, 0.09683366, 0.05534353, 0.10055122, 0.04709015,\n",
       "        0.10698881, 0.06159186, 0.10791354, 0.0639782 , 0.11178527,\n",
       "        0.06099138, 0.10518684, 0.06204576, 0.11272473, 0.07848883,\n",
       "        0.1108048 , 0.06673794, 0.12791467, 0.07474656, 0.13936424,\n",
       "        0.06800761, 0.11578283, 0.0684967 , 0.1197506 , 0.07563114,\n",
       "        0.12034688, 0.07396321, 0.1207108 , 0.07054987, 0.13291821,\n",
       "        0.07141304, 0.12117782, 0.06327338, 0.12228951, 0.06675487,\n",
       "        0.12426472, 0.06472564, 0.13964972, 0.07666783, 0.12249207,\n",
       "        0.07011156, 0.12114711, 0.07828798, 0.13052368, 0.06517429,\n",
       "        0.13151693, 0.08912292, 0.14638276, 0.1034596 , 0.16115413,\n",
       "        0.09997816, 0.1485116 , 0.10738554, 0.14556003, 0.10086246,\n",
       "        0.15179119, 0.10284467, 0.1473176 , 0.10424595, 0.16237965,\n",
       "        0.10193095, 0.15443864, 0.10115314, 0.16772723, 0.10652599,\n",
       "        0.16072083, 0.10733805, 0.15929279, 0.11677036, 0.16692715,\n",
       "        0.10554872, 0.20030909, 0.1188756 , 0.17679543, 0.11678414,\n",
       "        0.16616764, 0.12808037, 0.1852716 , 0.12363939, 0.17171106,\n",
       "        0.13147769, 0.17189722, 0.14625669, 0.17045069, 0.16255755,\n",
       "        0.17794414, 0.16732907, 0.18547835, 0.18357406, 0.18169889,\n",
       "        0.22140341, 0.17471175, 0.19423757, 0.17723107, 0.18768139,\n",
       "        0.17522554, 0.23371234, 0.18790369, 0.19986138, 0.17660589,\n",
       "        0.20213737, 0.18260293, 0.20265203, 0.17997384, 0.20174084,\n",
       "        0.1833817 , 0.2371212 , 0.17833023, 0.16687751, 0.18801889,\n",
       "        0.17224216, 0.18088837, 0.17653923, 0.1813652 , 0.20746565,\n",
       "        0.18675327, 0.21144671, 0.18618765, 0.23872962, 0.1857923 ,\n",
       "        0.22226629, 0.18819509, 0.20213394, 0.18001809, 0.21133728,\n",
       "        0.1915441 , 0.23511329, 0.2013454 , 0.22016888, 0.19637055,\n",
       "        0.24602284, 0.19533224, 0.25637603, 0.19549685, 0.23588595,\n",
       "        0.19096751, 0.25582695, 0.19248676, 0.24406905, 0.20170593,\n",
       "        0.25698662, 0.18832402, 0.26064944, 0.19303579, 0.28566422,\n",
       "        0.19889045, 0.25680294, 0.19544444, 0.27758842, 0.20842457,\n",
       "        0.26735187, 0.19622707, 0.29713874, 0.19028635, 0.28461738,\n",
       "        0.19472661, 0.25790796, 0.19407949, 0.27808757, 0.20669532,\n",
       "        0.2898243 , 0.19298677, 0.27837539, 0.20715222, 0.28026643,\n",
       "        0.18390021, 0.23508773, 0.18385043, 0.24503455, 0.19385858]),\n",
       " 'std_fit_time': array([0.01282908, 0.00729614, 0.00714242, 0.01411302, 0.00639207,\n",
       "        0.01424776, 0.00561148, 0.01230271, 0.00163177, 0.00707029,\n",
       "        0.00675575, 0.01032909, 0.00899182, 0.01384297, 0.0107541 ,\n",
       "        0.01430894, 0.00766607, 0.00730145, 0.00583235, 0.00848003,\n",
       "        0.00492771, 0.01327128, 0.0069982 , 0.01310379, 0.00822369,\n",
       "        0.0165264 , 0.00650829, 0.00800691, 0.00422313, 0.01290158,\n",
       "        0.00718903, 0.00839068, 0.00847539, 0.00641465, 0.00567549,\n",
       "        0.00651015, 0.0070757 , 0.00431208, 0.00610136, 0.00927168,\n",
       "        0.00382542, 0.00935456, 0.00730415, 0.00532505, 0.00291392,\n",
       "        0.01208617, 0.00217702, 0.01886141, 0.01108355, 0.00891729,\n",
       "        0.0121894 , 0.00528665, 0.00733075, 0.00771416, 0.00726506,\n",
       "        0.00813326, 0.00823393, 0.00584119, 0.0078309 , 0.01649068,\n",
       "        0.00651767, 0.00966231, 0.00247478, 0.01475059, 0.00277185,\n",
       "        0.00953859, 0.00696006, 0.01649516, 0.00745295, 0.01243882,\n",
       "        0.00659708, 0.00526034, 0.01364961, 0.00325653, 0.00435902,\n",
       "        0.0059806 , 0.01334203, 0.00749135, 0.00931645, 0.01716103,\n",
       "        0.00738728, 0.01211821, 0.00705756, 0.00303255, 0.01319421,\n",
       "        0.00798638, 0.01048868, 0.0102081 , 0.00776551, 0.01895202,\n",
       "        0.00983648, 0.01604863, 0.01209446, 0.02210567, 0.00840248,\n",
       "        0.00874181, 0.01246222, 0.01572665, 0.01053851, 0.02234126,\n",
       "        0.01733999, 0.01153827, 0.0119416 , 0.02229173, 0.00626273,\n",
       "        0.00898802, 0.01289137, 0.01736199, 0.01165134, 0.01251555,\n",
       "        0.02318012, 0.01497025, 0.03616429, 0.01239363, 0.02807394,\n",
       "        0.01200901, 0.02285604, 0.01144176, 0.02384825, 0.00737658,\n",
       "        0.02705759, 0.01553757, 0.02738548, 0.0116099 , 0.01292597,\n",
       "        0.00541808, 0.00752395, 0.01158496, 0.0295749 , 0.0047456 ,\n",
       "        0.0317237 , 0.00717492, 0.02659492, 0.00505337, 0.03252984,\n",
       "        0.01188833, 0.04793634, 0.00664146, 0.02600902, 0.02302726,\n",
       "        0.02615142, 0.00628104, 0.02504712, 0.01286328, 0.01234592,\n",
       "        0.0129031 , 0.02045625, 0.00786354, 0.02060161, 0.01259704,\n",
       "        0.03047331, 0.01198471, 0.02348834, 0.01040959, 0.01686389,\n",
       "        0.02109353, 0.01137129, 0.01581629, 0.02733284, 0.01313148,\n",
       "        0.01737671, 0.00987443, 0.01623045, 0.01538902, 0.03629974,\n",
       "        0.01491452, 0.05378685, 0.02122153, 0.02909741, 0.01246148,\n",
       "        0.02079473, 0.01923527, 0.01984574, 0.01646164, 0.02461452,\n",
       "        0.01146575, 0.02097832, 0.01909468, 0.03124102, 0.02880868,\n",
       "        0.04719978, 0.01704454, 0.05079383, 0.01629874, 0.05976935,\n",
       "        0.01620945, 0.04061331, 0.01720247, 0.0595167 , 0.0049957 ,\n",
       "        0.0390655 , 0.01758277, 0.04680179, 0.0234793 , 0.05984402,\n",
       "        0.01266731, 0.0377731 , 0.01677466, 0.04055026, 0.01547137]),\n",
       " 'mean_score_time': array([1.99460983e-04, 8.63313675e-04, 6.27675056e-03, 3.32703590e-03,\n",
       "        3.92570496e-03, 3.14483643e-03, 1.99270248e-04, 8.22353363e-04,\n",
       "        0.00000000e+00, 3.16219330e-03, 3.92627716e-03, 4.20045853e-04,\n",
       "        3.14364433e-03, 0.00000000e+00, 2.83002853e-04, 3.69405746e-03,\n",
       "        3.33819389e-03, 3.34935188e-03, 0.00000000e+00, 1.99413300e-04,\n",
       "        3.32555771e-03, 8.08477402e-04, 1.98411942e-04, 3.12628746e-03,\n",
       "        6.29744530e-03, 1.02346420e-02, 0.00000000e+00, 3.19151878e-03,\n",
       "        1.99317932e-04, 1.99317932e-04, 0.00000000e+00, 8.02564621e-04,\n",
       "        0.00000000e+00, 1.99365616e-04, 0.00000000e+00, 0.00000000e+00,\n",
       "        4.12654877e-03, 0.00000000e+00, 3.12409401e-03, 0.00000000e+00,\n",
       "        7.99322128e-04, 0.00000000e+00, 3.32546234e-03, 1.98221207e-04,\n",
       "        0.00000000e+00, 0.00000000e+00, 8.13531876e-04, 3.36399078e-03,\n",
       "        1.99222565e-04, 1.99508667e-04, 3.15275192e-03, 1.99270248e-04,\n",
       "        3.12628746e-03, 1.99413300e-04, 0.00000000e+00, 3.18861008e-03,\n",
       "        2.05707550e-04, 3.92785072e-03, 0.00000000e+00, 6.25038147e-03,\n",
       "        3.31716537e-03, 4.05931473e-04, 1.31125450e-03, 1.47781372e-03,\n",
       "        1.29375458e-03, 3.98683548e-04, 2.57616043e-03, 6.04629517e-04,\n",
       "        3.58290672e-03, 7.97510147e-04, 1.43752098e-03, 3.71737480e-03,\n",
       "        1.25703812e-03, 1.84025764e-03, 7.52305984e-04, 2.85658836e-03,\n",
       "        6.44912720e-03, 0.00000000e+00, 0.00000000e+00, 0.00000000e+00,\n",
       "        0.00000000e+00, 0.00000000e+00, 0.00000000e+00, 0.00000000e+00,\n",
       "        1.00178719e-03, 0.00000000e+00, 0.00000000e+00, 0.00000000e+00,\n",
       "        0.00000000e+00, 1.49741173e-03, 4.02927399e-05, 3.32651138e-03,\n",
       "        1.98173523e-04, 6.25095367e-03, 4.61068153e-03, 0.00000000e+00,\n",
       "        6.28309250e-03, 3.12428474e-03, 1.98364258e-04, 0.00000000e+00,\n",
       "        1.01878643e-02, 3.14455032e-03, 1.99127197e-04, 6.25247955e-03,\n",
       "        6.24876022e-03, 3.80988121e-03, 3.12738419e-03, 0.00000000e+00,\n",
       "        3.16433907e-03, 3.14798355e-03, 3.16271782e-03, 6.24866486e-03,\n",
       "        0.00000000e+00, 3.12414169e-03, 0.00000000e+00, 0.00000000e+00,\n",
       "        3.15022469e-03, 3.12471390e-03, 1.98316574e-04, 6.25119209e-03,\n",
       "        3.51161957e-03, 3.14602852e-03, 3.96184921e-03, 3.42369080e-04,\n",
       "        1.36737823e-03, 1.40423775e-03, 4.57425117e-03, 8.00037384e-04,\n",
       "        5.98907471e-04, 7.66801834e-04, 1.99460983e-04, 4.04691696e-04,\n",
       "        2.55866051e-03, 6.01387024e-04, 1.06930733e-03, 1.62687302e-03,\n",
       "        0.00000000e+00, 4.83336449e-03, 3.11107635e-03, 2.14390755e-03,\n",
       "        1.34410858e-03, 1.34196281e-03, 2.47311592e-03, 1.39141083e-03,\n",
       "        4.76551056e-04, 1.04985237e-03, 2.59442329e-03, 3.21164131e-03,\n",
       "        3.14011574e-03, 3.16209793e-03, 5.97000122e-04, 6.63137436e-04,\n",
       "        1.06363297e-03, 6.99520111e-04, 3.98540497e-04, 6.45112991e-03,\n",
       "        3.52544785e-03, 3.17349434e-03, 1.99842453e-04, 0.00000000e+00,\n",
       "        1.21812820e-03, 3.12376022e-03, 0.00000000e+00, 0.00000000e+00,\n",
       "        6.44693375e-03, 8.37087631e-04, 1.01509094e-03, 2.93684006e-04,\n",
       "        8.63170624e-04, 0.00000000e+00, 1.99985504e-04, 3.62057686e-03,\n",
       "        0.00000000e+00, 3.12724113e-03, 7.07092285e-03, 0.00000000e+00,\n",
       "        0.00000000e+00, 8.00275803e-04, 0.00000000e+00, 1.99413300e-04,\n",
       "        3.51409912e-03, 0.00000000e+00, 0.00000000e+00, 0.00000000e+00,\n",
       "        0.00000000e+00, 0.00000000e+00, 3.98826599e-04, 1.99794769e-04,\n",
       "        3.12414169e-03, 0.00000000e+00, 6.48226738e-03, 0.00000000e+00,\n",
       "        3.15489769e-03, 0.00000000e+00, 1.01280212e-04, 5.33437729e-04,\n",
       "        1.74746513e-03, 2.08621025e-03, 1.96800232e-03, 5.98287582e-04]),\n",
       " 'std_score_time': array([3.98921967e-04, 1.72662735e-03, 7.68754807e-03, 6.16718667e-03,\n",
       "        6.05028827e-03, 6.28967285e-03, 3.98540497e-04, 1.64470673e-03,\n",
       "        0.00000000e+00, 6.32438660e-03, 6.05368367e-03, 5.15652470e-04,\n",
       "        6.28728867e-03, 0.00000000e+00, 5.66005707e-04, 6.08264494e-03,\n",
       "        6.67638779e-03, 6.69870377e-03, 0.00000000e+00, 3.98826599e-04,\n",
       "        6.16480204e-03, 1.61695480e-03, 3.96823883e-04, 6.25257492e-03,\n",
       "        7.71320566e-03, 6.83870073e-03, 0.00000000e+00, 6.22077260e-03,\n",
       "        3.98635864e-04, 3.98635864e-04, 0.00000000e+00, 1.60512924e-03,\n",
       "        0.00000000e+00, 3.98731232e-04, 0.00000000e+00, 0.00000000e+00,\n",
       "        5.93591661e-03, 0.00000000e+00, 6.24818802e-03, 0.00000000e+00,\n",
       "        1.59864426e-03, 0.00000000e+00, 6.16381937e-03, 3.96442413e-04,\n",
       "        0.00000000e+00, 0.00000000e+00, 1.62706375e-03, 6.19442490e-03,\n",
       "        3.98445129e-04, 3.99017334e-04, 6.30550385e-03, 3.98540497e-04,\n",
       "        6.25257492e-03, 3.98826599e-04, 0.00000000e+00, 6.37722015e-03,\n",
       "        4.11415100e-04, 6.05443632e-03, 0.00000000e+00, 7.65512330e-03,\n",
       "        6.20586401e-03, 4.97266667e-04, 1.33966217e-03, 1.51044732e-03,\n",
       "        1.80208241e-03, 4.88285916e-04, 5.15232086e-03, 4.93815955e-04,\n",
       "        2.56453890e-03, 3.98755170e-04, 1.43204815e-03, 2.33837056e-03,\n",
       "        2.29787636e-03, 2.04235805e-03, 3.89526801e-04, 2.12605190e-03,\n",
       "        7.50060563e-03, 0.00000000e+00, 0.00000000e+00, 0.00000000e+00,\n",
       "        0.00000000e+00, 0.00000000e+00, 0.00000000e+00, 0.00000000e+00,\n",
       "        1.55351462e-03, 0.00000000e+00, 0.00000000e+00, 0.00000000e+00,\n",
       "        0.00000000e+00, 2.52536013e-03, 8.05854797e-05, 6.16625288e-03,\n",
       "        3.96347046e-04, 7.65582431e-03, 6.88024977e-03, 0.00000000e+00,\n",
       "        7.69537998e-03, 6.24856949e-03, 3.96728516e-04, 0.00000000e+00,\n",
       "        6.77542131e-03, 6.28910065e-03, 3.98254395e-04, 7.65769388e-03,\n",
       "        7.65313704e-03, 7.13248995e-03, 6.25476837e-03, 0.00000000e+00,\n",
       "        6.32867813e-03, 6.29596710e-03, 6.32543564e-03, 7.65302024e-03,\n",
       "        0.00000000e+00, 6.24828339e-03, 0.00000000e+00, 0.00000000e+00,\n",
       "        6.30044937e-03, 6.24942780e-03, 3.96633148e-04, 7.65611766e-03,\n",
       "        6.14508146e-03, 6.29205704e-03, 6.05030546e-03, 6.84738159e-04,\n",
       "        1.79327320e-03, 1.35471078e-03, 5.73543939e-03, 1.60007477e-03,\n",
       "        4.89007165e-04, 1.09355639e-03, 3.98921967e-04, 4.95717295e-04,\n",
       "        2.37257931e-03, 4.91275529e-04, 1.78406750e-03, 1.20539662e-03,\n",
       "        0.00000000e+00, 6.90151017e-03, 2.83311548e-03, 1.34935168e-03,\n",
       "        1.15853444e-03, 4.30891217e-04, 1.81124566e-03, 1.62290273e-03,\n",
       "        9.53102112e-04, 1.64755095e-03, 3.18532865e-03, 6.42328262e-03,\n",
       "        6.28023148e-03, 6.32419586e-03, 3.73767796e-04, 5.54095152e-04,\n",
       "        1.67379043e-03, 6.05442245e-04, 4.88110453e-04, 7.50947486e-03,\n",
       "        6.11580347e-03, 6.34698868e-03, 3.99684906e-04, 0.00000000e+00,\n",
       "        1.63320288e-03, 6.24752045e-03, 0.00000000e+00, 0.00000000e+00,\n",
       "        7.49777818e-03, 1.67417526e-03, 1.55072877e-03, 5.87368011e-04,\n",
       "        1.72634125e-03, 0.00000000e+00, 3.99971008e-04, 7.24115372e-03,\n",
       "        0.00000000e+00, 6.25448227e-03, 7.17690272e-03, 0.00000000e+00,\n",
       "        0.00000000e+00, 1.60055161e-03, 0.00000000e+00, 3.98826599e-04,\n",
       "        6.10097331e-03, 0.00000000e+00, 0.00000000e+00, 0.00000000e+00,\n",
       "        0.00000000e+00, 0.00000000e+00, 4.88460855e-04, 3.99589539e-04,\n",
       "        6.24828339e-03, 0.00000000e+00, 7.94724794e-03, 0.00000000e+00,\n",
       "        6.30979538e-03, 0.00000000e+00, 2.02560425e-04, 6.87354067e-04,\n",
       "        2.66726392e-03, 2.31549824e-03, 2.29862141e-03, 4.88890225e-04]),\n",
       " 'param_C': masked_array(data=[1e-05, 1e-05, 1.1233240329780266e-05,\n",
       "                    1.1233240329780266e-05, 1.2618568830660211e-05,\n",
       "                    1.2618568830660211e-05, 1.4174741629268048e-05,\n",
       "                    1.4174741629268048e-05, 1.5922827933410938e-05,\n",
       "                    1.5922827933410938e-05, 1.7886495290574353e-05,\n",
       "                    1.7886495290574353e-05, 2.0092330025650458e-05,\n",
       "                    2.0092330025650458e-05, 2.2570197196339216e-05,\n",
       "                    2.2570197196339216e-05, 2.5353644939701114e-05,\n",
       "                    2.5353644939701114e-05, 2.848035868435799e-05,\n",
       "                    2.848035868435799e-05, 3.199267137797385e-05,\n",
       "                    3.199267137797385e-05, 3.5938136638046256e-05,\n",
       "                    3.5938136638046256e-05, 4.037017258596558e-05,\n",
       "                    4.037017258596558e-05, 4.534878508128582e-05,\n",
       "                    4.534878508128582e-05, 5.0941380148163754e-05,\n",
       "                    5.0941380148163754e-05, 5.72236765935022e-05,\n",
       "                    5.72236765935022e-05, 6.428073117284319e-05,\n",
       "                    6.428073117284319e-05, 7.220809018385456e-05,\n",
       "                    7.220809018385456e-05, 8.111308307896872e-05,\n",
       "                    8.111308307896872e-05, 9.111627561154887e-05,\n",
       "                    9.111627561154887e-05, 0.00010235310218990269,\n",
       "                    0.00010235310218990269, 0.00011497569953977356,\n",
       "                    0.00011497569953977356, 0.0001291549665014884,\n",
       "                    0.0001291549665014884, 0.000145082877849594,\n",
       "                    0.000145082877849594, 0.00016297508346206434,\n",
       "                    0.00016297508346206434, 0.0001830738280295368,\n",
       "                    0.0001830738280295368, 0.00020565123083486514,\n",
       "                    0.00020565123083486514, 0.0002310129700083158,\n",
       "                    0.0002310129700083158, 0.00025950242113997375,\n",
       "                    0.00025950242113997375, 0.0002915053062825176,\n",
       "                    0.0002915053062825176, 0.00032745491628777284,\n",
       "                    0.00032745491628777284, 0.0003678379771828634,\n",
       "                    0.0003678379771828634, 0.00041320124001153346,\n",
       "                    0.00041320124001153346, 0.0004641588833612782,\n",
       "                    0.0004641588833612782, 0.0005214008287999684,\n",
       "                    0.0005214008287999684, 0.0005857020818056667,\n",
       "                    0.0005857020818056667, 0.0006579332246575682,\n",
       "                    0.0006579332246575682, 0.0007390722033525775,\n",
       "                    0.0007390722033525775, 0.0008302175681319744,\n",
       "                    0.0008302175681319744, 0.0009326033468832199,\n",
       "                    0.0009326033468832199, 0.001047615752789665,\n",
       "                    0.001047615752789665, 0.0011768119524349979,\n",
       "                    0.0011768119524349979, 0.0013219411484660286,\n",
       "                    0.0013219411484660286, 0.001484968262254465,\n",
       "                    0.001484968262254465, 0.0016681005372000592,\n",
       "                    0.0016681005372000592, 0.001873817422860383,\n",
       "                    0.001873817422860383, 0.00210490414451202,\n",
       "                    0.00210490414451202, 0.002364489412645407,\n",
       "                    0.002364489412645407, 0.0026560877829466868,\n",
       "                    0.0026560877829466868, 0.0029836472402833404,\n",
       "                    0.0029836472402833404, 0.003351602650938841,\n",
       "                    0.003351602650938841, 0.0037649358067924675,\n",
       "                    0.0037649358067924675, 0.0042292428743894986,\n",
       "                    0.0042292428743894986, 0.0047508101621027985,\n",
       "                    0.0047508101621027985, 0.005336699231206307,\n",
       "                    0.005336699231206307, 0.005994842503189409,\n",
       "                    0.005994842503189409, 0.006734150657750821,\n",
       "                    0.006734150657750821, 0.007564633275546291,\n",
       "                    0.007564633275546291, 0.008497534359086439,\n",
       "                    0.008497534359086439, 0.009545484566618337,\n",
       "                    0.009545484566618337, 0.010722672220103232,\n",
       "                    0.010722672220103232, 0.012045035402587823,\n",
       "                    0.012045035402587823, 0.013530477745798061,\n",
       "                    0.013530477745798061, 0.01519911082952933,\n",
       "                    0.01519911082952933, 0.017073526474706904,\n",
       "                    0.017073526474706904, 0.019179102616724886,\n",
       "                    0.019179102616724886, 0.021544346900318846,\n",
       "                    0.021544346900318846, 0.02420128264794381,\n",
       "                    0.02420128264794381, 0.027185882427329403,\n",
       "                    0.027185882427329403, 0.030538555088334154,\n",
       "                    0.030538555088334154, 0.03430469286314919,\n",
       "                    0.03430469286314919, 0.03853528593710527,\n",
       "                    0.03853528593710527, 0.04328761281083057,\n",
       "                    0.04328761281083057, 0.04862601580065353,\n",
       "                    0.04862601580065353, 0.05462277217684343,\n",
       "                    0.05462277217684343, 0.061359072734131694,\n",
       "                    0.061359072734131694, 0.06892612104349695,\n",
       "                    0.06892612104349695, 0.0774263682681127,\n",
       "                    0.0774263682681127, 0.08697490026177834,\n",
       "                    0.08697490026177834, 0.09770099572992247,\n",
       "                    0.09770099572992247, 0.10974987654930568,\n",
       "                    0.10974987654930568, 0.12328467394420659,\n",
       "                    0.12328467394420659, 0.13848863713938717,\n",
       "                    0.13848863713938717, 0.15556761439304723,\n",
       "                    0.15556761439304723, 0.1747528400007683,\n",
       "                    0.1747528400007683, 0.19630406500402725,\n",
       "                    0.19630406500402725, 0.22051307399030456,\n",
       "                    0.22051307399030456, 0.2477076355991709,\n",
       "                    0.2477076355991709, 0.2782559402207126,\n",
       "                    0.2782559402207126, 0.31257158496882353,\n",
       "                    0.31257158496882353, 0.3511191734215127,\n",
       "                    0.3511191734215127, 0.3944206059437656,\n",
       "                    0.3944206059437656, 0.44306214575838776,\n",
       "                    0.44306214575838776, 0.49770235643321137,\n",
       "                    0.49770235643321137, 0.5590810182512223,\n",
       "                    0.5590810182512223, 0.6280291441834247,\n",
       "                    0.6280291441834247, 0.7054802310718645,\n",
       "                    0.7054802310718645, 0.7924828983539169,\n",
       "                    0.7924828983539169, 0.8902150854450392,\n",
       "                    0.8902150854450392, 1.0, 1.0],\n",
       "              mask=[False, False, False, False, False, False, False, False,\n",
       "                    False, False, False, False, False, False, False, False,\n",
       "                    False, False, False, False, False, False, False, False,\n",
       "                    False, False, False, False, False, False, False, False,\n",
       "                    False, False, False, False, False, False, False, False,\n",
       "                    False, False, False, False, False, False, False, False,\n",
       "                    False, False, False, False, False, False, False, False,\n",
       "                    False, False, False, False, False, False, False, False,\n",
       "                    False, False, False, False, False, False, False, False,\n",
       "                    False, False, False, False, False, False, False, False,\n",
       "                    False, False, False, False, False, False, False, False,\n",
       "                    False, False, False, False, False, False, False, False,\n",
       "                    False, False, False, False, False, False, False, False,\n",
       "                    False, False, False, False, False, False, False, False,\n",
       "                    False, False, False, False, False, False, False, False,\n",
       "                    False, False, False, False, False, False, False, False,\n",
       "                    False, False, False, False, False, False, False, False,\n",
       "                    False, False, False, False, False, False, False, False,\n",
       "                    False, False, False, False, False, False, False, False,\n",
       "                    False, False, False, False, False, False, False, False,\n",
       "                    False, False, False, False, False, False, False, False,\n",
       "                    False, False, False, False, False, False, False, False,\n",
       "                    False, False, False, False, False, False, False, False,\n",
       "                    False, False, False, False, False, False, False, False,\n",
       "                    False, False, False, False, False, False, False, False],\n",
       "        fill_value='?',\n",
       "             dtype=object),\n",
       " 'param_penalty': masked_array(data=['l1', 'l2', 'l1', 'l2', 'l1', 'l2', 'l1', 'l2', 'l1',\n",
       "                    'l2', 'l1', 'l2', 'l1', 'l2', 'l1', 'l2', 'l1', 'l2',\n",
       "                    'l1', 'l2', 'l1', 'l2', 'l1', 'l2', 'l1', 'l2', 'l1',\n",
       "                    'l2', 'l1', 'l2', 'l1', 'l2', 'l1', 'l2', 'l1', 'l2',\n",
       "                    'l1', 'l2', 'l1', 'l2', 'l1', 'l2', 'l1', 'l2', 'l1',\n",
       "                    'l2', 'l1', 'l2', 'l1', 'l2', 'l1', 'l2', 'l1', 'l2',\n",
       "                    'l1', 'l2', 'l1', 'l2', 'l1', 'l2', 'l1', 'l2', 'l1',\n",
       "                    'l2', 'l1', 'l2', 'l1', 'l2', 'l1', 'l2', 'l1', 'l2',\n",
       "                    'l1', 'l2', 'l1', 'l2', 'l1', 'l2', 'l1', 'l2', 'l1',\n",
       "                    'l2', 'l1', 'l2', 'l1', 'l2', 'l1', 'l2', 'l1', 'l2',\n",
       "                    'l1', 'l2', 'l1', 'l2', 'l1', 'l2', 'l1', 'l2', 'l1',\n",
       "                    'l2', 'l1', 'l2', 'l1', 'l2', 'l1', 'l2', 'l1', 'l2',\n",
       "                    'l1', 'l2', 'l1', 'l2', 'l1', 'l2', 'l1', 'l2', 'l1',\n",
       "                    'l2', 'l1', 'l2', 'l1', 'l2', 'l1', 'l2', 'l1', 'l2',\n",
       "                    'l1', 'l2', 'l1', 'l2', 'l1', 'l2', 'l1', 'l2', 'l1',\n",
       "                    'l2', 'l1', 'l2', 'l1', 'l2', 'l1', 'l2', 'l1', 'l2',\n",
       "                    'l1', 'l2', 'l1', 'l2', 'l1', 'l2', 'l1', 'l2', 'l1',\n",
       "                    'l2', 'l1', 'l2', 'l1', 'l2', 'l1', 'l2', 'l1', 'l2',\n",
       "                    'l1', 'l2', 'l1', 'l2', 'l1', 'l2', 'l1', 'l2', 'l1',\n",
       "                    'l2', 'l1', 'l2', 'l1', 'l2', 'l1', 'l2', 'l1', 'l2',\n",
       "                    'l1', 'l2', 'l1', 'l2', 'l1', 'l2', 'l1', 'l2', 'l1',\n",
       "                    'l2', 'l1', 'l2', 'l1', 'l2', 'l1', 'l2', 'l1', 'l2',\n",
       "                    'l1', 'l2'],\n",
       "              mask=[False, False, False, False, False, False, False, False,\n",
       "                    False, False, False, False, False, False, False, False,\n",
       "                    False, False, False, False, False, False, False, False,\n",
       "                    False, False, False, False, False, False, False, False,\n",
       "                    False, False, False, False, False, False, False, False,\n",
       "                    False, False, False, False, False, False, False, False,\n",
       "                    False, False, False, False, False, False, False, False,\n",
       "                    False, False, False, False, False, False, False, False,\n",
       "                    False, False, False, False, False, False, False, False,\n",
       "                    False, False, False, False, False, False, False, False,\n",
       "                    False, False, False, False, False, False, False, False,\n",
       "                    False, False, False, False, False, False, False, False,\n",
       "                    False, False, False, False, False, False, False, False,\n",
       "                    False, False, False, False, False, False, False, False,\n",
       "                    False, False, False, False, False, False, False, False,\n",
       "                    False, False, False, False, False, False, False, False,\n",
       "                    False, False, False, False, False, False, False, False,\n",
       "                    False, False, False, False, False, False, False, False,\n",
       "                    False, False, False, False, False, False, False, False,\n",
       "                    False, False, False, False, False, False, False, False,\n",
       "                    False, False, False, False, False, False, False, False,\n",
       "                    False, False, False, False, False, False, False, False,\n",
       "                    False, False, False, False, False, False, False, False,\n",
       "                    False, False, False, False, False, False, False, False,\n",
       "                    False, False, False, False, False, False, False, False],\n",
       "        fill_value='?',\n",
       "             dtype=object),\n",
       " 'param_solver': masked_array(data=['liblinear', 'liblinear', 'liblinear', 'liblinear',\n",
       "                    'liblinear', 'liblinear', 'liblinear', 'liblinear',\n",
       "                    'liblinear', 'liblinear', 'liblinear', 'liblinear',\n",
       "                    'liblinear', 'liblinear', 'liblinear', 'liblinear',\n",
       "                    'liblinear', 'liblinear', 'liblinear', 'liblinear',\n",
       "                    'liblinear', 'liblinear', 'liblinear', 'liblinear',\n",
       "                    'liblinear', 'liblinear', 'liblinear', 'liblinear',\n",
       "                    'liblinear', 'liblinear', 'liblinear', 'liblinear',\n",
       "                    'liblinear', 'liblinear', 'liblinear', 'liblinear',\n",
       "                    'liblinear', 'liblinear', 'liblinear', 'liblinear',\n",
       "                    'liblinear', 'liblinear', 'liblinear', 'liblinear',\n",
       "                    'liblinear', 'liblinear', 'liblinear', 'liblinear',\n",
       "                    'liblinear', 'liblinear', 'liblinear', 'liblinear',\n",
       "                    'liblinear', 'liblinear', 'liblinear', 'liblinear',\n",
       "                    'liblinear', 'liblinear', 'liblinear', 'liblinear',\n",
       "                    'liblinear', 'liblinear', 'liblinear', 'liblinear',\n",
       "                    'liblinear', 'liblinear', 'liblinear', 'liblinear',\n",
       "                    'liblinear', 'liblinear', 'liblinear', 'liblinear',\n",
       "                    'liblinear', 'liblinear', 'liblinear', 'liblinear',\n",
       "                    'liblinear', 'liblinear', 'liblinear', 'liblinear',\n",
       "                    'liblinear', 'liblinear', 'liblinear', 'liblinear',\n",
       "                    'liblinear', 'liblinear', 'liblinear', 'liblinear',\n",
       "                    'liblinear', 'liblinear', 'liblinear', 'liblinear',\n",
       "                    'liblinear', 'liblinear', 'liblinear', 'liblinear',\n",
       "                    'liblinear', 'liblinear', 'liblinear', 'liblinear',\n",
       "                    'liblinear', 'liblinear', 'liblinear', 'liblinear',\n",
       "                    'liblinear', 'liblinear', 'liblinear', 'liblinear',\n",
       "                    'liblinear', 'liblinear', 'liblinear', 'liblinear',\n",
       "                    'liblinear', 'liblinear', 'liblinear', 'liblinear',\n",
       "                    'liblinear', 'liblinear', 'liblinear', 'liblinear',\n",
       "                    'liblinear', 'liblinear', 'liblinear', 'liblinear',\n",
       "                    'liblinear', 'liblinear', 'liblinear', 'liblinear',\n",
       "                    'liblinear', 'liblinear', 'liblinear', 'liblinear',\n",
       "                    'liblinear', 'liblinear', 'liblinear', 'liblinear',\n",
       "                    'liblinear', 'liblinear', 'liblinear', 'liblinear',\n",
       "                    'liblinear', 'liblinear', 'liblinear', 'liblinear',\n",
       "                    'liblinear', 'liblinear', 'liblinear', 'liblinear',\n",
       "                    'liblinear', 'liblinear', 'liblinear', 'liblinear',\n",
       "                    'liblinear', 'liblinear', 'liblinear', 'liblinear',\n",
       "                    'liblinear', 'liblinear', 'liblinear', 'liblinear',\n",
       "                    'liblinear', 'liblinear', 'liblinear', 'liblinear',\n",
       "                    'liblinear', 'liblinear', 'liblinear', 'liblinear',\n",
       "                    'liblinear', 'liblinear', 'liblinear', 'liblinear',\n",
       "                    'liblinear', 'liblinear', 'liblinear', 'liblinear',\n",
       "                    'liblinear', 'liblinear', 'liblinear', 'liblinear',\n",
       "                    'liblinear', 'liblinear', 'liblinear', 'liblinear',\n",
       "                    'liblinear', 'liblinear', 'liblinear', 'liblinear',\n",
       "                    'liblinear', 'liblinear', 'liblinear', 'liblinear',\n",
       "                    'liblinear', 'liblinear', 'liblinear', 'liblinear',\n",
       "                    'liblinear', 'liblinear', 'liblinear', 'liblinear'],\n",
       "              mask=[False, False, False, False, False, False, False, False,\n",
       "                    False, False, False, False, False, False, False, False,\n",
       "                    False, False, False, False, False, False, False, False,\n",
       "                    False, False, False, False, False, False, False, False,\n",
       "                    False, False, False, False, False, False, False, False,\n",
       "                    False, False, False, False, False, False, False, False,\n",
       "                    False, False, False, False, False, False, False, False,\n",
       "                    False, False, False, False, False, False, False, False,\n",
       "                    False, False, False, False, False, False, False, False,\n",
       "                    False, False, False, False, False, False, False, False,\n",
       "                    False, False, False, False, False, False, False, False,\n",
       "                    False, False, False, False, False, False, False, False,\n",
       "                    False, False, False, False, False, False, False, False,\n",
       "                    False, False, False, False, False, False, False, False,\n",
       "                    False, False, False, False, False, False, False, False,\n",
       "                    False, False, False, False, False, False, False, False,\n",
       "                    False, False, False, False, False, False, False, False,\n",
       "                    False, False, False, False, False, False, False, False,\n",
       "                    False, False, False, False, False, False, False, False,\n",
       "                    False, False, False, False, False, False, False, False,\n",
       "                    False, False, False, False, False, False, False, False,\n",
       "                    False, False, False, False, False, False, False, False,\n",
       "                    False, False, False, False, False, False, False, False,\n",
       "                    False, False, False, False, False, False, False, False,\n",
       "                    False, False, False, False, False, False, False, False],\n",
       "        fill_value='?',\n",
       "             dtype=object),\n",
       " 'params': [{'C': 1e-05, 'penalty': 'l1', 'solver': 'liblinear'},\n",
       "  {'C': 1e-05, 'penalty': 'l2', 'solver': 'liblinear'},\n",
       "  {'C': 1.1233240329780266e-05, 'penalty': 'l1', 'solver': 'liblinear'},\n",
       "  {'C': 1.1233240329780266e-05, 'penalty': 'l2', 'solver': 'liblinear'},\n",
       "  {'C': 1.2618568830660211e-05, 'penalty': 'l1', 'solver': 'liblinear'},\n",
       "  {'C': 1.2618568830660211e-05, 'penalty': 'l2', 'solver': 'liblinear'},\n",
       "  {'C': 1.4174741629268048e-05, 'penalty': 'l1', 'solver': 'liblinear'},\n",
       "  {'C': 1.4174741629268048e-05, 'penalty': 'l2', 'solver': 'liblinear'},\n",
       "  {'C': 1.5922827933410938e-05, 'penalty': 'l1', 'solver': 'liblinear'},\n",
       "  {'C': 1.5922827933410938e-05, 'penalty': 'l2', 'solver': 'liblinear'},\n",
       "  {'C': 1.7886495290574353e-05, 'penalty': 'l1', 'solver': 'liblinear'},\n",
       "  {'C': 1.7886495290574353e-05, 'penalty': 'l2', 'solver': 'liblinear'},\n",
       "  {'C': 2.0092330025650458e-05, 'penalty': 'l1', 'solver': 'liblinear'},\n",
       "  {'C': 2.0092330025650458e-05, 'penalty': 'l2', 'solver': 'liblinear'},\n",
       "  {'C': 2.2570197196339216e-05, 'penalty': 'l1', 'solver': 'liblinear'},\n",
       "  {'C': 2.2570197196339216e-05, 'penalty': 'l2', 'solver': 'liblinear'},\n",
       "  {'C': 2.5353644939701114e-05, 'penalty': 'l1', 'solver': 'liblinear'},\n",
       "  {'C': 2.5353644939701114e-05, 'penalty': 'l2', 'solver': 'liblinear'},\n",
       "  {'C': 2.848035868435799e-05, 'penalty': 'l1', 'solver': 'liblinear'},\n",
       "  {'C': 2.848035868435799e-05, 'penalty': 'l2', 'solver': 'liblinear'},\n",
       "  {'C': 3.199267137797385e-05, 'penalty': 'l1', 'solver': 'liblinear'},\n",
       "  {'C': 3.199267137797385e-05, 'penalty': 'l2', 'solver': 'liblinear'},\n",
       "  {'C': 3.5938136638046256e-05, 'penalty': 'l1', 'solver': 'liblinear'},\n",
       "  {'C': 3.5938136638046256e-05, 'penalty': 'l2', 'solver': 'liblinear'},\n",
       "  {'C': 4.037017258596558e-05, 'penalty': 'l1', 'solver': 'liblinear'},\n",
       "  {'C': 4.037017258596558e-05, 'penalty': 'l2', 'solver': 'liblinear'},\n",
       "  {'C': 4.534878508128582e-05, 'penalty': 'l1', 'solver': 'liblinear'},\n",
       "  {'C': 4.534878508128582e-05, 'penalty': 'l2', 'solver': 'liblinear'},\n",
       "  {'C': 5.0941380148163754e-05, 'penalty': 'l1', 'solver': 'liblinear'},\n",
       "  {'C': 5.0941380148163754e-05, 'penalty': 'l2', 'solver': 'liblinear'},\n",
       "  {'C': 5.72236765935022e-05, 'penalty': 'l1', 'solver': 'liblinear'},\n",
       "  {'C': 5.72236765935022e-05, 'penalty': 'l2', 'solver': 'liblinear'},\n",
       "  {'C': 6.428073117284319e-05, 'penalty': 'l1', 'solver': 'liblinear'},\n",
       "  {'C': 6.428073117284319e-05, 'penalty': 'l2', 'solver': 'liblinear'},\n",
       "  {'C': 7.220809018385456e-05, 'penalty': 'l1', 'solver': 'liblinear'},\n",
       "  {'C': 7.220809018385456e-05, 'penalty': 'l2', 'solver': 'liblinear'},\n",
       "  {'C': 8.111308307896872e-05, 'penalty': 'l1', 'solver': 'liblinear'},\n",
       "  {'C': 8.111308307896872e-05, 'penalty': 'l2', 'solver': 'liblinear'},\n",
       "  {'C': 9.111627561154887e-05, 'penalty': 'l1', 'solver': 'liblinear'},\n",
       "  {'C': 9.111627561154887e-05, 'penalty': 'l2', 'solver': 'liblinear'},\n",
       "  {'C': 0.00010235310218990269, 'penalty': 'l1', 'solver': 'liblinear'},\n",
       "  {'C': 0.00010235310218990269, 'penalty': 'l2', 'solver': 'liblinear'},\n",
       "  {'C': 0.00011497569953977356, 'penalty': 'l1', 'solver': 'liblinear'},\n",
       "  {'C': 0.00011497569953977356, 'penalty': 'l2', 'solver': 'liblinear'},\n",
       "  {'C': 0.0001291549665014884, 'penalty': 'l1', 'solver': 'liblinear'},\n",
       "  {'C': 0.0001291549665014884, 'penalty': 'l2', 'solver': 'liblinear'},\n",
       "  {'C': 0.000145082877849594, 'penalty': 'l1', 'solver': 'liblinear'},\n",
       "  {'C': 0.000145082877849594, 'penalty': 'l2', 'solver': 'liblinear'},\n",
       "  {'C': 0.00016297508346206434, 'penalty': 'l1', 'solver': 'liblinear'},\n",
       "  {'C': 0.00016297508346206434, 'penalty': 'l2', 'solver': 'liblinear'},\n",
       "  {'C': 0.0001830738280295368, 'penalty': 'l1', 'solver': 'liblinear'},\n",
       "  {'C': 0.0001830738280295368, 'penalty': 'l2', 'solver': 'liblinear'},\n",
       "  {'C': 0.00020565123083486514, 'penalty': 'l1', 'solver': 'liblinear'},\n",
       "  {'C': 0.00020565123083486514, 'penalty': 'l2', 'solver': 'liblinear'},\n",
       "  {'C': 0.0002310129700083158, 'penalty': 'l1', 'solver': 'liblinear'},\n",
       "  {'C': 0.0002310129700083158, 'penalty': 'l2', 'solver': 'liblinear'},\n",
       "  {'C': 0.00025950242113997375, 'penalty': 'l1', 'solver': 'liblinear'},\n",
       "  {'C': 0.00025950242113997375, 'penalty': 'l2', 'solver': 'liblinear'},\n",
       "  {'C': 0.0002915053062825176, 'penalty': 'l1', 'solver': 'liblinear'},\n",
       "  {'C': 0.0002915053062825176, 'penalty': 'l2', 'solver': 'liblinear'},\n",
       "  {'C': 0.00032745491628777284, 'penalty': 'l1', 'solver': 'liblinear'},\n",
       "  {'C': 0.00032745491628777284, 'penalty': 'l2', 'solver': 'liblinear'},\n",
       "  {'C': 0.0003678379771828634, 'penalty': 'l1', 'solver': 'liblinear'},\n",
       "  {'C': 0.0003678379771828634, 'penalty': 'l2', 'solver': 'liblinear'},\n",
       "  {'C': 0.00041320124001153346, 'penalty': 'l1', 'solver': 'liblinear'},\n",
       "  {'C': 0.00041320124001153346, 'penalty': 'l2', 'solver': 'liblinear'},\n",
       "  {'C': 0.0004641588833612782, 'penalty': 'l1', 'solver': 'liblinear'},\n",
       "  {'C': 0.0004641588833612782, 'penalty': 'l2', 'solver': 'liblinear'},\n",
       "  {'C': 0.0005214008287999684, 'penalty': 'l1', 'solver': 'liblinear'},\n",
       "  {'C': 0.0005214008287999684, 'penalty': 'l2', 'solver': 'liblinear'},\n",
       "  {'C': 0.0005857020818056667, 'penalty': 'l1', 'solver': 'liblinear'},\n",
       "  {'C': 0.0005857020818056667, 'penalty': 'l2', 'solver': 'liblinear'},\n",
       "  {'C': 0.0006579332246575682, 'penalty': 'l1', 'solver': 'liblinear'},\n",
       "  {'C': 0.0006579332246575682, 'penalty': 'l2', 'solver': 'liblinear'},\n",
       "  {'C': 0.0007390722033525775, 'penalty': 'l1', 'solver': 'liblinear'},\n",
       "  {'C': 0.0007390722033525775, 'penalty': 'l2', 'solver': 'liblinear'},\n",
       "  {'C': 0.0008302175681319744, 'penalty': 'l1', 'solver': 'liblinear'},\n",
       "  {'C': 0.0008302175681319744, 'penalty': 'l2', 'solver': 'liblinear'},\n",
       "  {'C': 0.0009326033468832199, 'penalty': 'l1', 'solver': 'liblinear'},\n",
       "  {'C': 0.0009326033468832199, 'penalty': 'l2', 'solver': 'liblinear'},\n",
       "  {'C': 0.001047615752789665, 'penalty': 'l1', 'solver': 'liblinear'},\n",
       "  {'C': 0.001047615752789665, 'penalty': 'l2', 'solver': 'liblinear'},\n",
       "  {'C': 0.0011768119524349979, 'penalty': 'l1', 'solver': 'liblinear'},\n",
       "  {'C': 0.0011768119524349979, 'penalty': 'l2', 'solver': 'liblinear'},\n",
       "  {'C': 0.0013219411484660286, 'penalty': 'l1', 'solver': 'liblinear'},\n",
       "  {'C': 0.0013219411484660286, 'penalty': 'l2', 'solver': 'liblinear'},\n",
       "  {'C': 0.001484968262254465, 'penalty': 'l1', 'solver': 'liblinear'},\n",
       "  {'C': 0.001484968262254465, 'penalty': 'l2', 'solver': 'liblinear'},\n",
       "  {'C': 0.0016681005372000592, 'penalty': 'l1', 'solver': 'liblinear'},\n",
       "  {'C': 0.0016681005372000592, 'penalty': 'l2', 'solver': 'liblinear'},\n",
       "  {'C': 0.001873817422860383, 'penalty': 'l1', 'solver': 'liblinear'},\n",
       "  {'C': 0.001873817422860383, 'penalty': 'l2', 'solver': 'liblinear'},\n",
       "  {'C': 0.00210490414451202, 'penalty': 'l1', 'solver': 'liblinear'},\n",
       "  {'C': 0.00210490414451202, 'penalty': 'l2', 'solver': 'liblinear'},\n",
       "  {'C': 0.002364489412645407, 'penalty': 'l1', 'solver': 'liblinear'},\n",
       "  {'C': 0.002364489412645407, 'penalty': 'l2', 'solver': 'liblinear'},\n",
       "  {'C': 0.0026560877829466868, 'penalty': 'l1', 'solver': 'liblinear'},\n",
       "  {'C': 0.0026560877829466868, 'penalty': 'l2', 'solver': 'liblinear'},\n",
       "  {'C': 0.0029836472402833404, 'penalty': 'l1', 'solver': 'liblinear'},\n",
       "  {'C': 0.0029836472402833404, 'penalty': 'l2', 'solver': 'liblinear'},\n",
       "  {'C': 0.003351602650938841, 'penalty': 'l1', 'solver': 'liblinear'},\n",
       "  {'C': 0.003351602650938841, 'penalty': 'l2', 'solver': 'liblinear'},\n",
       "  {'C': 0.0037649358067924675, 'penalty': 'l1', 'solver': 'liblinear'},\n",
       "  {'C': 0.0037649358067924675, 'penalty': 'l2', 'solver': 'liblinear'},\n",
       "  {'C': 0.0042292428743894986, 'penalty': 'l1', 'solver': 'liblinear'},\n",
       "  {'C': 0.0042292428743894986, 'penalty': 'l2', 'solver': 'liblinear'},\n",
       "  {'C': 0.0047508101621027985, 'penalty': 'l1', 'solver': 'liblinear'},\n",
       "  {'C': 0.0047508101621027985, 'penalty': 'l2', 'solver': 'liblinear'},\n",
       "  {'C': 0.005336699231206307, 'penalty': 'l1', 'solver': 'liblinear'},\n",
       "  {'C': 0.005336699231206307, 'penalty': 'l2', 'solver': 'liblinear'},\n",
       "  {'C': 0.005994842503189409, 'penalty': 'l1', 'solver': 'liblinear'},\n",
       "  {'C': 0.005994842503189409, 'penalty': 'l2', 'solver': 'liblinear'},\n",
       "  {'C': 0.006734150657750821, 'penalty': 'l1', 'solver': 'liblinear'},\n",
       "  {'C': 0.006734150657750821, 'penalty': 'l2', 'solver': 'liblinear'},\n",
       "  {'C': 0.007564633275546291, 'penalty': 'l1', 'solver': 'liblinear'},\n",
       "  {'C': 0.007564633275546291, 'penalty': 'l2', 'solver': 'liblinear'},\n",
       "  {'C': 0.008497534359086439, 'penalty': 'l1', 'solver': 'liblinear'},\n",
       "  {'C': 0.008497534359086439, 'penalty': 'l2', 'solver': 'liblinear'},\n",
       "  {'C': 0.009545484566618337, 'penalty': 'l1', 'solver': 'liblinear'},\n",
       "  {'C': 0.009545484566618337, 'penalty': 'l2', 'solver': 'liblinear'},\n",
       "  {'C': 0.010722672220103232, 'penalty': 'l1', 'solver': 'liblinear'},\n",
       "  {'C': 0.010722672220103232, 'penalty': 'l2', 'solver': 'liblinear'},\n",
       "  {'C': 0.012045035402587823, 'penalty': 'l1', 'solver': 'liblinear'},\n",
       "  {'C': 0.012045035402587823, 'penalty': 'l2', 'solver': 'liblinear'},\n",
       "  {'C': 0.013530477745798061, 'penalty': 'l1', 'solver': 'liblinear'},\n",
       "  {'C': 0.013530477745798061, 'penalty': 'l2', 'solver': 'liblinear'},\n",
       "  {'C': 0.01519911082952933, 'penalty': 'l1', 'solver': 'liblinear'},\n",
       "  {'C': 0.01519911082952933, 'penalty': 'l2', 'solver': 'liblinear'},\n",
       "  {'C': 0.017073526474706904, 'penalty': 'l1', 'solver': 'liblinear'},\n",
       "  {'C': 0.017073526474706904, 'penalty': 'l2', 'solver': 'liblinear'},\n",
       "  {'C': 0.019179102616724886, 'penalty': 'l1', 'solver': 'liblinear'},\n",
       "  {'C': 0.019179102616724886, 'penalty': 'l2', 'solver': 'liblinear'},\n",
       "  {'C': 0.021544346900318846, 'penalty': 'l1', 'solver': 'liblinear'},\n",
       "  {'C': 0.021544346900318846, 'penalty': 'l2', 'solver': 'liblinear'},\n",
       "  {'C': 0.02420128264794381, 'penalty': 'l1', 'solver': 'liblinear'},\n",
       "  {'C': 0.02420128264794381, 'penalty': 'l2', 'solver': 'liblinear'},\n",
       "  {'C': 0.027185882427329403, 'penalty': 'l1', 'solver': 'liblinear'},\n",
       "  {'C': 0.027185882427329403, 'penalty': 'l2', 'solver': 'liblinear'},\n",
       "  {'C': 0.030538555088334154, 'penalty': 'l1', 'solver': 'liblinear'},\n",
       "  {'C': 0.030538555088334154, 'penalty': 'l2', 'solver': 'liblinear'},\n",
       "  {'C': 0.03430469286314919, 'penalty': 'l1', 'solver': 'liblinear'},\n",
       "  {'C': 0.03430469286314919, 'penalty': 'l2', 'solver': 'liblinear'},\n",
       "  {'C': 0.03853528593710527, 'penalty': 'l1', 'solver': 'liblinear'},\n",
       "  {'C': 0.03853528593710527, 'penalty': 'l2', 'solver': 'liblinear'},\n",
       "  {'C': 0.04328761281083057, 'penalty': 'l1', 'solver': 'liblinear'},\n",
       "  {'C': 0.04328761281083057, 'penalty': 'l2', 'solver': 'liblinear'},\n",
       "  {'C': 0.04862601580065353, 'penalty': 'l1', 'solver': 'liblinear'},\n",
       "  {'C': 0.04862601580065353, 'penalty': 'l2', 'solver': 'liblinear'},\n",
       "  {'C': 0.05462277217684343, 'penalty': 'l1', 'solver': 'liblinear'},\n",
       "  {'C': 0.05462277217684343, 'penalty': 'l2', 'solver': 'liblinear'},\n",
       "  {'C': 0.061359072734131694, 'penalty': 'l1', 'solver': 'liblinear'},\n",
       "  {'C': 0.061359072734131694, 'penalty': 'l2', 'solver': 'liblinear'},\n",
       "  {'C': 0.06892612104349695, 'penalty': 'l1', 'solver': 'liblinear'},\n",
       "  {'C': 0.06892612104349695, 'penalty': 'l2', 'solver': 'liblinear'},\n",
       "  {'C': 0.0774263682681127, 'penalty': 'l1', 'solver': 'liblinear'},\n",
       "  {'C': 0.0774263682681127, 'penalty': 'l2', 'solver': 'liblinear'},\n",
       "  {'C': 0.08697490026177834, 'penalty': 'l1', 'solver': 'liblinear'},\n",
       "  {'C': 0.08697490026177834, 'penalty': 'l2', 'solver': 'liblinear'},\n",
       "  {'C': 0.09770099572992247, 'penalty': 'l1', 'solver': 'liblinear'},\n",
       "  {'C': 0.09770099572992247, 'penalty': 'l2', 'solver': 'liblinear'},\n",
       "  {'C': 0.10974987654930568, 'penalty': 'l1', 'solver': 'liblinear'},\n",
       "  {'C': 0.10974987654930568, 'penalty': 'l2', 'solver': 'liblinear'},\n",
       "  {'C': 0.12328467394420659, 'penalty': 'l1', 'solver': 'liblinear'},\n",
       "  {'C': 0.12328467394420659, 'penalty': 'l2', 'solver': 'liblinear'},\n",
       "  {'C': 0.13848863713938717, 'penalty': 'l1', 'solver': 'liblinear'},\n",
       "  {'C': 0.13848863713938717, 'penalty': 'l2', 'solver': 'liblinear'},\n",
       "  {'C': 0.15556761439304723, 'penalty': 'l1', 'solver': 'liblinear'},\n",
       "  {'C': 0.15556761439304723, 'penalty': 'l2', 'solver': 'liblinear'},\n",
       "  {'C': 0.1747528400007683, 'penalty': 'l1', 'solver': 'liblinear'},\n",
       "  {'C': 0.1747528400007683, 'penalty': 'l2', 'solver': 'liblinear'},\n",
       "  {'C': 0.19630406500402725, 'penalty': 'l1', 'solver': 'liblinear'},\n",
       "  {'C': 0.19630406500402725, 'penalty': 'l2', 'solver': 'liblinear'},\n",
       "  {'C': 0.22051307399030456, 'penalty': 'l1', 'solver': 'liblinear'},\n",
       "  {'C': 0.22051307399030456, 'penalty': 'l2', 'solver': 'liblinear'},\n",
       "  {'C': 0.2477076355991709, 'penalty': 'l1', 'solver': 'liblinear'},\n",
       "  {'C': 0.2477076355991709, 'penalty': 'l2', 'solver': 'liblinear'},\n",
       "  {'C': 0.2782559402207126, 'penalty': 'l1', 'solver': 'liblinear'},\n",
       "  {'C': 0.2782559402207126, 'penalty': 'l2', 'solver': 'liblinear'},\n",
       "  {'C': 0.31257158496882353, 'penalty': 'l1', 'solver': 'liblinear'},\n",
       "  {'C': 0.31257158496882353, 'penalty': 'l2', 'solver': 'liblinear'},\n",
       "  {'C': 0.3511191734215127, 'penalty': 'l1', 'solver': 'liblinear'},\n",
       "  {'C': 0.3511191734215127, 'penalty': 'l2', 'solver': 'liblinear'},\n",
       "  {'C': 0.3944206059437656, 'penalty': 'l1', 'solver': 'liblinear'},\n",
       "  {'C': 0.3944206059437656, 'penalty': 'l2', 'solver': 'liblinear'},\n",
       "  {'C': 0.44306214575838776, 'penalty': 'l1', 'solver': 'liblinear'},\n",
       "  {'C': 0.44306214575838776, 'penalty': 'l2', 'solver': 'liblinear'},\n",
       "  {'C': 0.49770235643321137, 'penalty': 'l1', 'solver': 'liblinear'},\n",
       "  {'C': 0.49770235643321137, 'penalty': 'l2', 'solver': 'liblinear'},\n",
       "  {'C': 0.5590810182512223, 'penalty': 'l1', 'solver': 'liblinear'},\n",
       "  {'C': 0.5590810182512223, 'penalty': 'l2', 'solver': 'liblinear'},\n",
       "  {'C': 0.6280291441834247, 'penalty': 'l1', 'solver': 'liblinear'},\n",
       "  {'C': 0.6280291441834247, 'penalty': 'l2', 'solver': 'liblinear'},\n",
       "  {'C': 0.7054802310718645, 'penalty': 'l1', 'solver': 'liblinear'},\n",
       "  {'C': 0.7054802310718645, 'penalty': 'l2', 'solver': 'liblinear'},\n",
       "  {'C': 0.7924828983539169, 'penalty': 'l1', 'solver': 'liblinear'},\n",
       "  {'C': 0.7924828983539169, 'penalty': 'l2', 'solver': 'liblinear'},\n",
       "  {'C': 0.8902150854450392, 'penalty': 'l1', 'solver': 'liblinear'},\n",
       "  {'C': 0.8902150854450392, 'penalty': 'l2', 'solver': 'liblinear'},\n",
       "  {'C': 1.0, 'penalty': 'l1', 'solver': 'liblinear'},\n",
       "  {'C': 1.0, 'penalty': 'l2', 'solver': 'liblinear'}],\n",
       " 'split0_test_score': array([0.88733762, 0.88733762, 0.88733762, 0.88733762, 0.88733762,\n",
       "        0.88733762, 0.88733762, 0.88733762, 0.88733762, 0.88733762,\n",
       "        0.88733762, 0.88733762, 0.88733762, 0.88733762, 0.88733762,\n",
       "        0.88733762, 0.88733762, 0.88733762, 0.88733762, 0.88733762,\n",
       "        0.88733762, 0.88733762, 0.88733762, 0.88733762, 0.88733762,\n",
       "        0.88733762, 0.88733762, 0.88733762, 0.88733762, 0.88733762,\n",
       "        0.88733762, 0.88733762, 0.88733762, 0.88733762, 0.88733762,\n",
       "        0.88733762, 0.88733762, 0.88733762, 0.88733762, 0.88733762,\n",
       "        0.88733762, 0.88733762, 0.88733762, 0.88733762, 0.88733762,\n",
       "        0.88733762, 0.88733762, 0.88733762, 0.88733762, 0.88733762,\n",
       "        0.88733762, 0.88733762, 0.88733762, 0.88733762, 0.88733762,\n",
       "        0.88733762, 0.88733762, 0.88733762, 0.88733762, 0.88733762,\n",
       "        0.88733762, 0.88733762, 0.88733762, 0.88733762, 0.88733762,\n",
       "        0.88733762, 0.88733762, 0.88733762, 0.88733762, 0.88733762,\n",
       "        0.88733762, 0.88733762, 0.88733762, 0.88733762, 0.88733762,\n",
       "        0.88733762, 0.88733762, 0.88733762, 0.88733762, 0.88733762,\n",
       "        0.88733762, 0.88733762, 0.88733762, 0.88733762, 0.88733762,\n",
       "        0.88733762, 0.88733762, 0.88733762, 0.88733762, 0.88733762,\n",
       "        0.88733762, 0.88733762, 0.88733762, 0.88733762, 0.88733762,\n",
       "        0.88733762, 0.88733762, 0.88733762, 0.88733762, 0.88733762,\n",
       "        0.88733762, 0.88733762, 0.88733762, 0.88733762, 0.88733762,\n",
       "        0.88733762, 0.88733762, 0.88733762, 0.88733762, 0.88733762,\n",
       "        0.88733762, 0.88733762, 0.88733762, 0.88733762, 0.88733762,\n",
       "        0.88733762, 0.88733762, 0.88733762, 0.88733762, 0.88733762,\n",
       "        0.88733762, 0.88733762, 0.88733762, 0.88733762, 0.88733762,\n",
       "        0.88733762, 0.88733762, 0.88733762, 0.88733762, 0.88733762,\n",
       "        0.88733762, 0.88733762, 0.88733762, 0.88733762, 0.88733762,\n",
       "        0.88733762, 0.88733762, 0.88733762, 0.88733762, 0.88733762,\n",
       "        0.88733762, 0.88733762, 0.88733762, 0.88733762, 0.88733762,\n",
       "        0.88733762, 0.88733762, 0.88733762, 0.88733762, 0.88733762,\n",
       "        0.88733762, 0.88733762, 0.88733762, 0.88733762, 0.88733762,\n",
       "        0.88733762, 0.88733762, 0.88733762, 0.88733762, 0.88733762,\n",
       "        0.88733762, 0.88733762, 0.88733762, 0.88733762, 0.88733762,\n",
       "        0.88733762, 0.88733762, 0.88733762, 0.88733762, 0.88733762,\n",
       "        0.88733762, 0.88733762, 0.88733762, 0.88733762, 0.88733762,\n",
       "        0.88733762, 0.88733762, 0.88733762, 0.88733762, 0.88733762,\n",
       "        0.88733762, 0.88733762, 0.88733762, 0.88733762, 0.88733762,\n",
       "        0.88733762, 0.88733762, 0.88733762, 0.88733762, 0.88733762,\n",
       "        0.88733762, 0.88733762, 0.88733762, 0.88733762, 0.88733762,\n",
       "        0.88733762, 0.88733762, 0.88733762, 0.88733762, 0.88733762]),\n",
       " 'split1_test_score': array([0.88733762, 0.89146534, 0.88733762, 0.89146534, 0.88733762,\n",
       "        0.89146534, 0.88733762, 0.89146534, 0.88733762, 0.89146534,\n",
       "        0.88733762, 0.89146534, 0.88733762, 0.89146534, 0.88733762,\n",
       "        0.89146534, 0.88733762, 0.89146534, 0.88733762, 0.89146534,\n",
       "        0.88733762, 0.89146534, 0.88733762, 0.89146534, 0.88733762,\n",
       "        0.89146534, 0.88733762, 0.89146534, 0.88733762, 0.89146534,\n",
       "        0.88733762, 0.89146534, 0.88733762, 0.89146534, 0.88733762,\n",
       "        0.89146534, 0.88733762, 0.89146534, 0.88733762, 0.89146534,\n",
       "        0.88733762, 0.89146534, 0.88733762, 0.89146534, 0.88733762,\n",
       "        0.89146534, 0.88733762, 0.89146534, 0.88733762, 0.89146534,\n",
       "        0.88733762, 0.89146534, 0.88733762, 0.89146534, 0.88733762,\n",
       "        0.89146534, 0.88733762, 0.89146534, 0.88733762, 0.89146534,\n",
       "        0.88733762, 0.89146534, 0.88733762, 0.89146534, 0.88733762,\n",
       "        0.89146534, 0.88733762, 0.89146534, 0.88733762, 0.89122253,\n",
       "        0.88733762, 0.89085832, 0.88733762, 0.89073692, 0.88733762,\n",
       "        0.89073692, 0.88733762, 0.89073692, 0.88988709, 0.89073692,\n",
       "        0.88733762, 0.89073692, 0.88733762, 0.89025131, 0.88733762,\n",
       "        0.88988709, 0.88733762, 0.88988709, 0.88733762, 0.88976569,\n",
       "        0.88733762, 0.88952288, 0.88733762, 0.88915867, 0.88733762,\n",
       "        0.88879446, 0.88733762, 0.88867306, 0.88733762, 0.88867306,\n",
       "        0.88733762, 0.88843025, 0.88733762, 0.88830885, 0.88733762,\n",
       "        0.88818745, 0.88733762, 0.88818745, 0.88733762, 0.88806604,\n",
       "        0.88733762, 0.88782324, 0.88733762, 0.88782324, 0.88733762,\n",
       "        0.88770183, 0.88733762, 0.88770183, 0.88733762, 0.88770183,\n",
       "        0.88733762, 0.88770183, 0.88733762, 0.88770183, 0.88733762,\n",
       "        0.88770183, 0.88733762, 0.88770183, 0.88733762, 0.88758043,\n",
       "        0.88733762, 0.88758043, 0.88733762, 0.88758043, 0.88733762,\n",
       "        0.88758043, 0.88733762, 0.88758043, 0.88733762, 0.88758043,\n",
       "        0.88733762, 0.88758043, 0.88745903, 0.88758043, 0.88745903,\n",
       "        0.88758043, 0.88745903, 0.88758043, 0.88745903, 0.88758043,\n",
       "        0.88758043, 0.88758043, 0.88758043, 0.88758043, 0.88758043,\n",
       "        0.88758043, 0.88758043, 0.88758043, 0.88758043, 0.88758043,\n",
       "        0.88758043, 0.88758043, 0.88758043, 0.88758043, 0.88758043,\n",
       "        0.88758043, 0.88758043, 0.88758043, 0.88758043, 0.88758043,\n",
       "        0.88758043, 0.88758043, 0.88758043, 0.88758043, 0.88758043,\n",
       "        0.88758043, 0.88758043, 0.88758043, 0.88758043, 0.88758043,\n",
       "        0.88758043, 0.88758043, 0.88758043, 0.88758043, 0.88758043,\n",
       "        0.88758043, 0.88758043, 0.88758043, 0.88758043, 0.88758043,\n",
       "        0.88758043, 0.88758043, 0.88758043, 0.88758043, 0.88758043,\n",
       "        0.88758043, 0.88758043, 0.88758043, 0.88758043, 0.88758043]),\n",
       " 'split2_test_score': array([0.88733762, 0.90190603, 0.88733762, 0.90190603, 0.88733762,\n",
       "        0.90190603, 0.88733762, 0.90190603, 0.88733762, 0.90178463,\n",
       "        0.88733762, 0.90178463, 0.88733762, 0.90166323, 0.88733762,\n",
       "        0.90166323, 0.88733762, 0.90166323, 0.88733762, 0.90166323,\n",
       "        0.88733762, 0.90166323, 0.88733762, 0.90154182, 0.88733762,\n",
       "        0.90154182, 0.88733762, 0.90142042, 0.88733762, 0.90142042,\n",
       "        0.88733762, 0.90142042, 0.88733762, 0.90129902, 0.88733762,\n",
       "        0.90129902, 0.88733762, 0.90129902, 0.88733762, 0.90129902,\n",
       "        0.88733762, 0.90117761, 0.88733762, 0.90117761, 0.88733762,\n",
       "        0.90117761, 0.88733762, 0.90117761, 0.88733762, 0.90093481,\n",
       "        0.88733762, 0.900692  , 0.88733762, 0.900692  , 0.88733762,\n",
       "        0.9005706 , 0.88733762, 0.90020639, 0.88733762, 0.89984218,\n",
       "        0.88733762, 0.89923516, 0.88733762, 0.89838533, 0.88733762,\n",
       "        0.89777832, 0.88733762, 0.8972927 , 0.88733762, 0.89680709,\n",
       "        0.88733762, 0.89656428, 0.88733762, 0.89595727, 0.88733762,\n",
       "        0.89583586, 0.88818745, 0.89571446, 0.88915867, 0.89571446,\n",
       "        0.88915867, 0.89547165, 0.88915867, 0.89547165, 0.89450042,\n",
       "        0.89522885, 0.89450042, 0.89498604, 0.89450042, 0.89498604,\n",
       "        0.89450042, 0.89498604, 0.89450042, 0.89498604, 0.89450042,\n",
       "        0.89498604, 0.89450042, 0.89498604, 0.89450042, 0.89498604,\n",
       "        0.89450042, 0.89486464, 0.89450042, 0.89486464, 0.89450042,\n",
       "        0.89474323, 0.89450042, 0.89462183, 0.89450042, 0.89425762,\n",
       "        0.89450042, 0.89425762, 0.89450042, 0.89413621, 0.89450042,\n",
       "        0.89401481, 0.89450042, 0.89401481, 0.89450042, 0.89401481,\n",
       "        0.89450042, 0.89401481, 0.89450042, 0.89389341, 0.89450042,\n",
       "        0.89389341, 0.89462183, 0.89389341, 0.89450042, 0.893772  ,\n",
       "        0.89450042, 0.8936506 , 0.89462183, 0.8936506 , 0.89450042,\n",
       "        0.8936506 , 0.89450042, 0.8935292 , 0.89425762, 0.8935292 ,\n",
       "        0.89401481, 0.8935292 , 0.89401481, 0.8935292 , 0.89401481,\n",
       "        0.8935292 , 0.89389341, 0.8935292 , 0.89389341, 0.8935292 ,\n",
       "        0.89389341, 0.8935292 , 0.89389341, 0.8935292 , 0.89389341,\n",
       "        0.8935292 , 0.8936506 , 0.8935292 , 0.8936506 , 0.8935292 ,\n",
       "        0.8936506 , 0.8935292 , 0.8935292 , 0.8935292 , 0.8935292 ,\n",
       "        0.8935292 , 0.8935292 , 0.8935292 , 0.8935292 , 0.8935292 ,\n",
       "        0.8935292 , 0.8935292 , 0.8935292 , 0.8935292 , 0.8935292 ,\n",
       "        0.8935292 , 0.8935292 , 0.8935292 , 0.8935292 , 0.8935292 ,\n",
       "        0.8935292 , 0.8935292 , 0.8935292 , 0.8935292 , 0.8935292 ,\n",
       "        0.8935292 , 0.8935292 , 0.8935292 , 0.8935292 , 0.8935292 ,\n",
       "        0.8935292 , 0.8935292 , 0.8935292 , 0.8935292 , 0.8935292 ,\n",
       "        0.8935292 , 0.8935292 , 0.8935292 , 0.8935292 , 0.8935292 ]),\n",
       " 'split3_test_score': array([0.88733762, 0.77977419, 0.88733762, 0.78244506, 0.88733762,\n",
       "        0.78450892, 0.88733762, 0.78632997, 0.88733762, 0.78924366,\n",
       "        0.88733762, 0.79106471, 0.88733762, 0.794464  , 0.88733762,\n",
       "        0.79677067, 0.88733762, 0.80356926, 0.88733762, 0.81449557,\n",
       "        0.88733762, 0.83197766, 0.88733762, 0.85358747, 0.88733762,\n",
       "        0.87738254, 0.88733762, 0.89789972, 0.88733762, 0.90870463,\n",
       "        0.88733762, 0.91441059, 0.88733762, 0.91598883, 0.88733762,\n",
       "        0.91732427, 0.88733762, 0.91793129, 0.88733762, 0.91805269,\n",
       "        0.88733762, 0.91756708, 0.88733762, 0.91756708, 0.88733762,\n",
       "        0.91720287, 0.88733762, 0.91708146, 0.88733762, 0.91708146,\n",
       "        0.88733762, 0.91683865, 0.88733762, 0.91647444, 0.88733762,\n",
       "        0.91623164, 0.88733762, 0.91574602, 0.88733762, 0.9150176 ,\n",
       "        0.88733762, 0.9148962 , 0.88733762, 0.91428918, 0.88733762,\n",
       "        0.91331796, 0.88733762, 0.91234673, 0.88733762, 0.91052568,\n",
       "        0.88733762, 0.90882603, 0.88733762, 0.90676217, 0.88733762,\n",
       "        0.90494112, 0.88733762, 0.90336287, 0.88733762, 0.90129902,\n",
       "        0.88733762, 0.90129902, 0.88733762, 0.90044919, 0.88733762,\n",
       "        0.89923516, 0.88478815, 0.89826393, 0.88102464, 0.8972927 ,\n",
       "        0.88102464, 0.89559306, 0.88102464, 0.89510744, 0.88151026,\n",
       "        0.89486464, 0.88733762, 0.89462183, 0.88758043, 0.89474323,\n",
       "        0.88745903, 0.89474323, 0.88745903, 0.89437902, 0.88758043,\n",
       "        0.89401481, 0.88782324, 0.8936506 , 0.88673061, 0.8935292 ,\n",
       "        0.88539517, 0.8935292 , 0.88575938, 0.89328639, 0.88612359,\n",
       "        0.89340779, 0.88733762, 0.89316499, 0.88830885, 0.89316499,\n",
       "        0.88830885, 0.89304358, 0.88879446, 0.89292218, 0.88903727,\n",
       "        0.89292218, 0.88928008, 0.89255797, 0.88976569, 0.89255797,\n",
       "        0.8901299 , 0.89243657, 0.89049411, 0.89231516, 0.89061552,\n",
       "        0.89207236, 0.89073692, 0.89207236, 0.89085832, 0.89195095,\n",
       "        0.89097973, 0.89182955, 0.89122253, 0.89182955, 0.89122253,\n",
       "        0.89195095, 0.89110113, 0.89195095, 0.89134394, 0.89195095,\n",
       "        0.89158674, 0.89195095, 0.89146534, 0.89195095, 0.89158674,\n",
       "        0.89195095, 0.89158674, 0.89195095, 0.89182955, 0.89195095,\n",
       "        0.89195095, 0.89195095, 0.89195095, 0.89182955, 0.89207236,\n",
       "        0.89195095, 0.89195095, 0.89195095, 0.89195095, 0.89207236,\n",
       "        0.89195095, 0.89207236, 0.89195095, 0.89207236, 0.89195095,\n",
       "        0.89207236, 0.89195095, 0.89207236, 0.89195095, 0.89207236,\n",
       "        0.89207236, 0.89207236, 0.89207236, 0.89207236, 0.89207236,\n",
       "        0.89207236, 0.89207236, 0.89207236, 0.89207236, 0.89207236,\n",
       "        0.89207236, 0.89207236, 0.89207236, 0.89207236, 0.89207236,\n",
       "        0.89207236, 0.89207236, 0.89207236, 0.89207236, 0.89207236]),\n",
       " 'split4_test_score': array([0.88732394, 0.51092763, 0.88732394, 0.51675571, 0.88732394,\n",
       "        0.52258378, 0.88732394, 0.52950461, 0.88732394, 0.53472559,\n",
       "        0.88732394, 0.54164643, 0.88732394, 0.55184556, 0.88732394,\n",
       "        0.56058766, 0.88732394, 0.57102963, 0.88732394, 0.58365712,\n",
       "        0.88732394, 0.59470617, 0.88732394, 0.601627  , 0.88732394,\n",
       "        0.60271977, 0.88732394, 0.60308402, 0.88732394, 0.59980573,\n",
       "        0.88732394, 0.5955561 , 0.88732394, 0.5915493 , 0.88732394,\n",
       "        0.5875425 , 0.88732394, 0.58305002, 0.88732394, 0.57977173,\n",
       "        0.88732394, 0.5768577 , 0.88732394, 0.57430792, 0.88732394,\n",
       "        0.57212239, 0.88732394, 0.56920835, 0.88732394, 0.56872268,\n",
       "        0.88732394, 0.57066537, 0.88732394, 0.57248664, 0.88732394,\n",
       "        0.5808645 , 0.88732394, 0.58742108, 0.88732394, 0.5942205 ,\n",
       "        0.88732394, 0.60101991, 0.88732394, 0.61194755, 0.88732394,\n",
       "        0.6390238 , 0.88732394, 0.6597863 , 0.88732394, 0.67702768,\n",
       "        0.88732394, 0.69305488, 0.89011656, 0.70592521, 0.9037154 ,\n",
       "        0.70968917, 0.75412822, 0.70762506, 0.72753764, 0.70361826,\n",
       "        0.71369597, 0.70009713, 0.71406022, 0.69633317, 0.71406022,\n",
       "        0.69390481, 0.71406022, 0.69354055, 0.71406022, 0.6918407 ,\n",
       "        0.71308888, 0.68880525, 0.71308888, 0.68625546, 0.71308888,\n",
       "        0.68346285, 0.71223895, 0.68127732, 0.70847499, 0.67872754,\n",
       "        0.67010685, 0.67739194, 0.66852841, 0.67678485, 0.66682856,\n",
       "        0.67654201, 0.66537154, 0.67593492, 0.66537154, 0.67496357,\n",
       "        0.66415736, 0.67423507, 0.66403594, 0.67338514, 0.66452161,\n",
       "        0.67302088, 0.6651287 , 0.6731423 , 0.66525012, 0.67265663,\n",
       "        0.66549296, 0.67265663, 0.6664643 , 0.67253521, 0.66767848,\n",
       "        0.67253521, 0.66755707, 0.67241379, 0.6677999 , 0.67204954,\n",
       "        0.66852841, 0.67192812, 0.66852841, 0.67144245, 0.66889267,\n",
       "        0.67144245, 0.6691355 , 0.67095678, 0.6691355 , 0.67083536,\n",
       "        0.66925692, 0.6704711 , 0.66925692, 0.67034968, 0.66949976,\n",
       "        0.67010685, 0.66962118, 0.67010685, 0.66974259, 0.6704711 ,\n",
       "        0.66962118, 0.6704711 , 0.66974259, 0.67059252, 0.66986401,\n",
       "        0.67059252, 0.67022827, 0.67059252, 0.67034968, 0.6704711 ,\n",
       "        0.6704711 , 0.67034968, 0.6704711 , 0.67034968, 0.67034968,\n",
       "        0.67034968, 0.6704711 , 0.67034968, 0.6704711 , 0.67034968,\n",
       "        0.6704711 , 0.67034968, 0.6704711 , 0.6704711 , 0.6704711 ,\n",
       "        0.6704711 , 0.6704711 , 0.6704711 , 0.6704711 , 0.6704711 ,\n",
       "        0.67034968, 0.6704711 , 0.67022827, 0.6704711 , 0.67022827,\n",
       "        0.6704711 , 0.67022827, 0.67059252, 0.67022827, 0.67059252,\n",
       "        0.67022827, 0.67071394, 0.67034968, 0.67071394, 0.67034968,\n",
       "        0.67071394, 0.67034968, 0.67071394, 0.67034968, 0.67071394]),\n",
       " 'mean_test_score': array([0.88733489, 0.79428904, 0.88733489, 0.79598873, 0.88733489,\n",
       "        0.79756702, 0.88733489, 0.79931527, 0.88733489, 0.80091783,\n",
       "        0.88733489, 0.80266608, 0.88733489, 0.80536131, 0.88733489,\n",
       "        0.8075709 , 0.88733489, 0.81101884, 0.88733489, 0.81572941,\n",
       "        0.88733489, 0.82143551, 0.88733489, 0.82711733, 0.88733489,\n",
       "        0.83209499, 0.88733489, 0.83624709, 0.88733489, 0.83775253,\n",
       "        0.88733489, 0.8380439 , 0.88733489, 0.83753399, 0.88733489,\n",
       "        0.83699981, 0.88733489, 0.8362228 , 0.88733489, 0.83559149,\n",
       "        0.88733489, 0.83488733, 0.88733489, 0.83437743, 0.88733489,\n",
       "        0.83386752, 0.88733489, 0.83326049, 0.88733489, 0.8331148 ,\n",
       "        0.88733489, 0.83340618, 0.88733489, 0.83369755, 0.88733489,\n",
       "        0.83530012, 0.88733489, 0.83644134, 0.88733489, 0.83758256,\n",
       "        0.88733489, 0.83879662, 0.88733489, 0.84069056, 0.88733489,\n",
       "        0.84578963, 0.88733489, 0.84965035, 0.88733489, 0.85258838,\n",
       "        0.88733489, 0.85533217, 0.88789336, 0.85734751, 0.89061286,\n",
       "        0.85771173, 0.8608683 , 0.85695901, 0.85625486, 0.85574495,\n",
       "        0.85297688, 0.85499223, 0.85304973, 0.85397242, 0.8541181 ,\n",
       "        0.85312257, 0.8536082 , 0.85280692, 0.85285548, 0.85224845,\n",
       "        0.85266123, 0.85125291, 0.85266123, 0.85057304, 0.85275835,\n",
       "        0.84989316, 0.85375389, 0.84938326, 0.85304973, 0.84889763,\n",
       "        0.84535256, 0.84855769, 0.84503691, 0.84833916, 0.84472125,\n",
       "        0.84816919, 0.84447844, 0.84795066, 0.84425991, 0.847635  ,\n",
       "        0.84375   , 0.84744075, 0.84379856, 0.84719794, 0.84396853,\n",
       "        0.84710082, 0.84433275, 0.84707653, 0.84455128, 0.84697941,\n",
       "        0.84459984, 0.84695513, 0.84489122, 0.84688228, 0.8451826 ,\n",
       "        0.84688228, 0.84523116, 0.84678516, 0.84535256, 0.84666375,\n",
       "        0.8455711 , 0.84659091, 0.84566822, 0.8464695 , 0.84574106,\n",
       "        0.84642094, 0.84581391, 0.84629953, 0.84578963, 0.84625097,\n",
       "        0.84578963, 0.84615385, 0.84586247, 0.84612956, 0.84591103,\n",
       "        0.84610528, 0.84588675, 0.84610528, 0.8459596 , 0.84617813,\n",
       "        0.84600816, 0.84617813, 0.84600816, 0.84620241, 0.84605672,\n",
       "        0.84620241, 0.846081  , 0.84620241, 0.84615385, 0.84617813,\n",
       "        0.84620241, 0.84615385, 0.84617813, 0.84612956, 0.84617813,\n",
       "        0.84615385, 0.84617813, 0.84615385, 0.84617813, 0.84617813,\n",
       "        0.84617813, 0.84617813, 0.84617813, 0.84620241, 0.84617813,\n",
       "        0.84620241, 0.84617813, 0.84620241, 0.84617813, 0.84620241,\n",
       "        0.84617813, 0.84620241, 0.84615385, 0.84620241, 0.84615385,\n",
       "        0.84620241, 0.84615385, 0.84622669, 0.84615385, 0.84622669,\n",
       "        0.84615385, 0.84625097, 0.84617813, 0.84625097, 0.84617813,\n",
       "        0.84625097, 0.84617813, 0.84625097, 0.84617813, 0.84625097]),\n",
       " 'std_test_score': array([5.47150430e-06, 1.48445265e-01, 5.47150430e-06, 1.46168751e-01,\n",
       "        5.47150430e-06, 1.43904077e-01, 5.47150430e-06, 1.41226362e-01,\n",
       "        5.47150430e-06, 1.39161550e-01, 5.47150430e-06, 1.36483629e-01,\n",
       "        5.47150430e-06, 1.32507658e-01, 5.47150430e-06, 1.29125021e-01,\n",
       "        5.47150430e-06, 1.25026258e-01, 5.47150430e-06, 1.20085447e-01,\n",
       "        5.47150430e-06, 1.15927973e-01, 5.47150430e-06, 1.13884251e-01,\n",
       "        5.47150430e-06, 1.14942265e-01, 5.47150430e-06, 1.16677313e-01,\n",
       "        5.47150430e-06, 1.19201575e-01, 5.47150430e-06, 1.21595368e-01,\n",
       "        5.47150430e-06, 1.23379986e-01, 5.47150430e-06, 1.25147987e-01,\n",
       "        5.47150430e-06, 1.27016759e-01, 5.47150430e-06, 1.28339144e-01,\n",
       "        5.47150430e-06, 1.29426186e-01, 5.47150430e-06, 1.30442784e-01,\n",
       "        5.47150430e-06, 1.31267876e-01, 5.47150430e-06, 1.32414521e-01,\n",
       "        5.47150430e-06, 1.32583328e-01, 5.47150430e-06, 1.31753015e-01,\n",
       "        5.47150430e-06, 1.30980596e-01, 5.47150430e-06, 1.27596381e-01,\n",
       "        5.47150430e-06, 1.24882939e-01, 5.47150430e-06, 1.22041860e-01,\n",
       "        5.47150430e-06, 1.19253353e-01, 5.47150430e-06, 1.14732805e-01,\n",
       "        5.47150430e-06, 1.03753198e-01, 5.47150430e-06, 9.53042872e-02,\n",
       "        5.47150430e-06, 8.81259230e-02, 5.47150430e-06, 8.14612346e-02,\n",
       "        1.11153492e-03, 7.59913323e-02, 6.55087054e-03, 7.42443384e-02,\n",
       "        5.33678156e-02, 7.48568128e-02, 6.43625339e-02, 7.62045856e-02,\n",
       "        6.96398019e-02, 7.75849443e-02, 6.94941129e-02, 7.89424389e-02,\n",
       "        7.00796202e-02, 7.97114783e-02, 6.98449385e-02, 7.97197519e-02,\n",
       "        6.95244000e-02, 8.02777488e-02, 6.99121961e-02, 8.12799786e-02,\n",
       "        6.99121961e-02, 8.22120692e-02, 6.99518584e-02, 8.32679157e-02,\n",
       "        7.08075375e-02, 8.41039819e-02, 7.23350569e-02, 8.51362476e-02,\n",
       "        8.76609631e-02, 8.56343274e-02, 8.82920040e-02, 8.58265093e-02,\n",
       "        8.89832742e-02, 8.58601153e-02, 8.95892305e-02, 8.60508408e-02,\n",
       "        8.94845062e-02, 8.63754834e-02, 8.98446089e-02, 8.66440399e-02,\n",
       "        8.99270234e-02, 8.69449203e-02, 8.97669683e-02, 8.70790063e-02,\n",
       "        8.96395225e-02, 8.70046905e-02, 8.96849634e-02, 8.71988570e-02,\n",
       "        8.95878756e-02, 8.71860088e-02, 8.92471052e-02, 8.72086265e-02,\n",
       "        8.87856010e-02, 8.72086265e-02, 8.88716643e-02, 8.72188275e-02,\n",
       "        8.88094660e-02, 8.73399714e-02, 8.85547409e-02, 8.73626775e-02,\n",
       "        8.86049095e-02, 8.75441300e-02, 8.84581798e-02, 8.75187486e-02,\n",
       "        8.83734225e-02, 8.76998447e-02, 8.83590904e-02, 8.77357312e-02,\n",
       "        8.82963700e-02, 8.78687383e-02, 8.83326959e-02, 8.79172857e-02,\n",
       "        8.82356037e-02, 8.80270142e-02, 8.81613665e-02, 8.80270142e-02,\n",
       "        8.81377758e-02, 8.78813726e-02, 8.82228070e-02, 8.78813726e-02,\n",
       "        8.81617285e-02, 8.78328255e-02, 8.81257143e-02, 8.78328255e-02,\n",
       "        8.79537606e-02, 8.78328255e-02, 8.79303891e-02, 8.78813726e-02,\n",
       "        8.78944680e-02, 8.79299198e-02, 8.78813726e-02, 8.79172857e-02,\n",
       "        8.79425788e-02, 8.79299198e-02, 8.78813726e-02, 8.79299198e-02,\n",
       "        8.78813726e-02, 8.79425788e-02, 8.78813726e-02, 8.79425788e-02,\n",
       "        8.78813726e-02, 8.78940320e-02, 8.78813726e-02, 8.78940320e-02,\n",
       "        8.78813726e-02, 8.78940320e-02, 8.78813726e-02, 8.78940320e-02,\n",
       "        8.79425788e-02, 8.78940320e-02, 8.79911257e-02, 8.78940320e-02,\n",
       "        8.79911257e-02, 8.78940320e-02, 8.79911257e-02, 8.78454851e-02,\n",
       "        8.79911257e-02, 8.78454851e-02, 8.79911257e-02, 8.77969383e-02,\n",
       "        8.79425788e-02, 8.77969383e-02, 8.79425788e-02, 8.77969383e-02,\n",
       "        8.79425788e-02, 8.77969383e-02, 8.79425788e-02, 8.77969383e-02]),\n",
       " 'rank_test_score': array([  3, 200,   3, 199,   3, 198,   3, 197,   3, 196,   3, 195,   3,\n",
       "        194,   3, 193,   3, 192,   3, 191,   3, 190,   3, 189,   3, 188,\n",
       "          3, 177,   3, 172,   3, 171,   3, 174,   3, 175,   3, 178,   3,\n",
       "        179,   3, 181,   3, 182,   3, 183,   3, 186,   3, 187,   3, 185,\n",
       "          3, 184,   3, 180,   3, 176,   3, 173,   3, 170,   3, 169,   3,\n",
       "        148,   3,  65,   3,  60,   3,  45,   2,  41,   1,  40,  39,  42,\n",
       "         43,  44,  54,  46,  52,  48,  47,  51,  50,  56,  55,  61,  58,\n",
       "         62,  58,  63,  57,  64,  49,  66,  52,  67, 154,  68, 158,  69,\n",
       "        160,  70, 163,  71, 165,  72, 168,  73, 167,  74, 166,  75, 164,\n",
       "         76, 162,  77, 161,  78, 159,  79, 157,  79, 156,  81, 154,  82,\n",
       "        153,  83, 152,  84, 151,  85, 147,  86, 148,  87, 148, 125, 146,\n",
       "        135, 144, 137, 145, 137, 143, 106, 141, 106, 141,  95, 140,  95,\n",
       "        139,  95, 125, 106,  95, 125, 106, 135, 106, 125, 106, 125, 106,\n",
       "        106, 106, 106, 106,  95, 106,  95, 106,  95, 106,  95, 106,  95,\n",
       "        125,  95, 125,  95, 125,  93, 125,  93, 125,  87, 106,  87, 106,\n",
       "         87, 106,  87, 106,  87]),\n",
       " 'split0_train_score': array([0.8873342 , 0.89416335, 0.8873342 , 0.89443652, 0.8873342 ,\n",
       "        0.89474004, 0.8873342 , 0.89480074, 0.8873342 , 0.89519531,\n",
       "        0.8873342 , 0.89549883, 0.8873342 , 0.89580235, 0.8873342 ,\n",
       "        0.895772  , 0.8873342 , 0.89595411, 0.8873342 , 0.89631833,\n",
       "        0.8873342 , 0.89653079, 0.8873342 , 0.89668255, 0.8873342 ,\n",
       "        0.89668255, 0.8873342 , 0.89707712, 0.8873342 , 0.89725923,\n",
       "        0.8873342 , 0.89744135, 0.8873342 , 0.89777521, 0.8873342 ,\n",
       "        0.89807873, 0.8873342 , 0.89838225, 0.8873342 , 0.89862506,\n",
       "        0.8873342 , 0.89892858, 0.8873342 , 0.8991714 , 0.8873342 ,\n",
       "        0.8992321 , 0.8873342 , 0.89920175, 0.8873342 , 0.89935351,\n",
       "        0.8873342 , 0.89932316, 0.8873342 , 0.89938386, 0.8873342 ,\n",
       "        0.89956597, 0.8873342 , 0.89956597, 0.8873342 , 0.89956597,\n",
       "        0.8873342 , 0.89956597, 0.8873342 , 0.89953562, 0.8873342 ,\n",
       "        0.89971773, 0.8873342 , 0.89993019, 0.8873342 , 0.90002125,\n",
       "        0.8873342 , 0.90008195, 0.89419371, 0.90008195, 0.90084074,\n",
       "        0.89999089, 0.90090145, 0.89996054, 0.90096215, 0.89996054,\n",
       "        0.90138708, 0.89996054, 0.90138708, 0.90014265, 0.90138708,\n",
       "        0.9001123 , 0.90138708, 0.9001123 , 0.90138708, 0.9001123 ,\n",
       "        0.90138708, 0.90002125, 0.90138708, 0.90008195, 0.90138708,\n",
       "        0.9000516 , 0.90138708, 0.90029441, 0.90138708, 0.90041582,\n",
       "        0.90138708, 0.90062828, 0.90153884, 0.9009318 , 0.90156919,\n",
       "        0.9009925 , 0.90172095, 0.90108356, 0.90184235, 0.90108356,\n",
       "        0.90150848, 0.90126567, 0.90190306, 0.90126567, 0.90190306,\n",
       "        0.90138708, 0.90199411, 0.90132637, 0.90202446, 0.90105321,\n",
       "        0.90205482, 0.90117461, 0.90196376, 0.90123532, 0.9018727 ,\n",
       "        0.90135672, 0.90184235, 0.90123532, 0.9017513 , 0.90129602,\n",
       "        0.90162989, 0.90138708, 0.90153884, 0.90138708, 0.90144778,\n",
       "        0.90147813, 0.90150848, 0.90147813, 0.90141743, 0.90147813,\n",
       "        0.90144778, 0.90144778, 0.90166024, 0.90144778, 0.90156919,\n",
       "        0.90147813, 0.90156919, 0.90144778, 0.90150848, 0.90150848,\n",
       "        0.90153884, 0.90150848, 0.90153884, 0.90150848, 0.90156919,\n",
       "        0.90150848, 0.90153884, 0.90144778, 0.90147813, 0.90141743,\n",
       "        0.90147813, 0.90138708, 0.90141743, 0.90141743, 0.90141743,\n",
       "        0.90138708, 0.90141743, 0.90138708, 0.90138708, 0.90147813,\n",
       "        0.90141743, 0.90147813, 0.90135672, 0.90141743, 0.90135672,\n",
       "        0.90141743, 0.90141743, 0.90138708, 0.90135672, 0.90132637,\n",
       "        0.90135672, 0.90129602, 0.90132637, 0.90126567, 0.90126567,\n",
       "        0.90126567, 0.90129602, 0.90126567, 0.90129602, 0.90123532,\n",
       "        0.90129602, 0.90123532, 0.90126567, 0.90123532, 0.90126567,\n",
       "        0.90123532, 0.90126567, 0.90123532, 0.90126567, 0.90123532]),\n",
       " 'split1_train_score': array([0.8873342 , 0.8984126 , 0.8873342 , 0.89853401, 0.8873342 ,\n",
       "        0.89859471, 0.8873342 , 0.89859471, 0.8873342 , 0.89865542,\n",
       "        0.8873342 , 0.89871612, 0.8873342 , 0.89877682, 0.8873342 ,\n",
       "        0.89883753, 0.8873342 , 0.89895893, 0.8873342 , 0.89895893,\n",
       "        0.8873342 , 0.89895893, 0.8873342 , 0.89895893, 0.8873342 ,\n",
       "        0.89895893, 0.8873342 , 0.89898929, 0.8873342 , 0.89898929,\n",
       "        0.8873342 , 0.89901964, 0.8873342 , 0.89901964, 0.8873342 ,\n",
       "        0.89901964, 0.8873342 , 0.89901964, 0.8873342 , 0.89901964,\n",
       "        0.8873342 , 0.89901964, 0.8873342 , 0.89901964, 0.8873342 ,\n",
       "        0.89901964, 0.8873342 , 0.89901964, 0.8873342 , 0.89901964,\n",
       "        0.8873342 , 0.89901964, 0.8873342 , 0.89901964, 0.8873342 ,\n",
       "        0.89901964, 0.8873342 , 0.89901964, 0.8873342 , 0.89901964,\n",
       "        0.8873342 , 0.89904999, 0.8873342 , 0.89908034, 0.8873342 ,\n",
       "        0.89911069, 0.8873342 , 0.8992928 , 0.8873342 , 0.89971773,\n",
       "        0.8873342 , 0.89999089, 0.8873342 , 0.90008195, 0.88988375,\n",
       "        0.90014265, 0.90199411, 0.90014265, 0.90056758, 0.90017301,\n",
       "        0.90178165, 0.90023371, 0.90147813, 0.90044617, 0.90138708,\n",
       "        0.90020336, 0.90138708, 0.90050687, 0.90138708, 0.90044617,\n",
       "        0.90138708, 0.90032476, 0.90138708, 0.90062828, 0.90138708,\n",
       "        0.90071934, 0.90138708, 0.90078004, 0.90138708, 0.9009318 ,\n",
       "        0.90138708, 0.90084074, 0.90138708, 0.90102285, 0.90138708,\n",
       "        0.90102285, 0.90138708, 0.90105321, 0.90138708, 0.90114426,\n",
       "        0.90138708, 0.90114426, 0.90138708, 0.90102285, 0.90138708,\n",
       "        0.90111391, 0.90138708, 0.90114426, 0.90138708, 0.90117461,\n",
       "        0.90141743, 0.90123532, 0.90132637, 0.90126567, 0.90123532,\n",
       "        0.90123532, 0.90120497, 0.90123532, 0.90114426, 0.90126567,\n",
       "        0.90111391, 0.90123532, 0.90108356, 0.90114426, 0.90114426,\n",
       "        0.90114426, 0.90102285, 0.90117461, 0.9009925 , 0.90117461,\n",
       "        0.90105321, 0.90117461, 0.90111391, 0.90114426, 0.90108356,\n",
       "        0.90114426, 0.90108356, 0.90114426, 0.90105321, 0.90114426,\n",
       "        0.90108356, 0.90111391, 0.90111391, 0.90111391, 0.90108356,\n",
       "        0.90111391, 0.90108356, 0.90111391, 0.90105321, 0.90114426,\n",
       "        0.90111391, 0.90114426, 0.90108356, 0.90114426, 0.90108356,\n",
       "        0.90114426, 0.90108356, 0.90114426, 0.90111391, 0.90114426,\n",
       "        0.90111391, 0.90114426, 0.90111391, 0.90114426, 0.90111391,\n",
       "        0.90114426, 0.90114426, 0.90114426, 0.90114426, 0.90114426,\n",
       "        0.90114426, 0.90114426, 0.90114426, 0.90114426, 0.90114426,\n",
       "        0.90114426, 0.90114426, 0.90114426, 0.90114426, 0.90114426,\n",
       "        0.90114426, 0.90114426, 0.90114426, 0.90114426, 0.90114426,\n",
       "        0.90114426, 0.90114426, 0.90114426, 0.90114426, 0.90114426]),\n",
       " 'split2_train_score': array([0.8873342 , 0.88894285, 0.8873342 , 0.88970164, 0.8873342 ,\n",
       "        0.89049079, 0.8873342 , 0.89097642, 0.8873342 , 0.89124958,\n",
       "        0.8873342 , 0.89146205, 0.8873342 , 0.89170486, 0.8873342 ,\n",
       "        0.89219049, 0.8873342 , 0.8924333 , 0.8873342 , 0.89279752,\n",
       "        0.8873342 , 0.89328315, 0.8873342 , 0.8940723 , 0.8873342 ,\n",
       "        0.89449722, 0.8873342 , 0.89464898, 0.8873342 , 0.89467933,\n",
       "        0.8873342 , 0.89516496, 0.8873342 , 0.89549883, 0.8873342 ,\n",
       "        0.89565059, 0.8873342 , 0.89565059, 0.8873342 , 0.89571129,\n",
       "        0.8873342 , 0.89604516, 0.8873342 , 0.89619692, 0.8873342 ,\n",
       "        0.89625763, 0.8873342 , 0.89647009, 0.8873342 , 0.8966522 ,\n",
       "        0.8873342 , 0.89677361, 0.8873342 , 0.89695572, 0.8873342 ,\n",
       "        0.89683431, 0.8873342 , 0.89698607, 0.8873342 , 0.89735029,\n",
       "        0.8873342 , 0.89762346, 0.8873342 , 0.89792697, 0.8873342 ,\n",
       "        0.89798768, 0.8873342 , 0.89813944, 0.8873342 , 0.89813944,\n",
       "        0.8873342 , 0.89807873, 0.8873342 , 0.89810908, 0.8873342 ,\n",
       "        0.89804838, 0.8899141 , 0.89810908, 0.89367772, 0.89813944,\n",
       "        0.89713783, 0.89813944, 0.89953562, 0.89820014, 0.89874647,\n",
       "        0.8983519 , 0.89883753, 0.89850366, 0.89886788, 0.89853401,\n",
       "        0.89886788, 0.89859471, 0.89889823, 0.89865542, 0.89889823,\n",
       "        0.89871612, 0.89889823, 0.89874647, 0.89892858, 0.89865542,\n",
       "        0.89892858, 0.89856436, 0.89892858, 0.89865542, 0.89892858,\n",
       "        0.89874647, 0.89892858, 0.89880718, 0.89898929, 0.89877682,\n",
       "        0.89895893, 0.89874647, 0.89889823, 0.89877682, 0.89886788,\n",
       "        0.89874647, 0.89886788, 0.89868577, 0.89892858, 0.89868577,\n",
       "        0.89889823, 0.89865542, 0.89883753, 0.89862506, 0.89877682,\n",
       "        0.89859471, 0.89874647, 0.89859471, 0.89871612, 0.89856436,\n",
       "        0.89871612, 0.89856436, 0.89871612, 0.89853401, 0.89853401,\n",
       "        0.89850366, 0.89865542, 0.89850366, 0.89871612, 0.89850366,\n",
       "        0.89874647, 0.89850366, 0.89880718, 0.89850366, 0.89880718,\n",
       "        0.89847331, 0.89862506, 0.89850366, 0.89865542, 0.89856436,\n",
       "        0.89865542, 0.89862506, 0.89865542, 0.89862506, 0.89853401,\n",
       "        0.89859471, 0.89853401, 0.89859471, 0.89850366, 0.89859471,\n",
       "        0.89850366, 0.89862506, 0.89844295, 0.89862506, 0.89847331,\n",
       "        0.89862506, 0.89847331, 0.89862506, 0.89850366, 0.89862506,\n",
       "        0.89856436, 0.89862506, 0.89859471, 0.89859471, 0.89856436,\n",
       "        0.89859471, 0.89862506, 0.89856436, 0.89862506, 0.89856436,\n",
       "        0.89862506, 0.89856436, 0.89862506, 0.89856436, 0.89862506,\n",
       "        0.89856436, 0.89859471, 0.89856436, 0.89853401, 0.89856436,\n",
       "        0.89853401, 0.89856436, 0.89853401, 0.89856436, 0.89856436,\n",
       "        0.89856436, 0.89856436, 0.89856436, 0.89859471, 0.89856436]),\n",
       " 'split3_train_score': array([0.8873342 , 0.84508453, 0.8873342 , 0.84581297, 0.8873342 ,\n",
       "        0.84660212, 0.8873342 , 0.84760373, 0.8873342 , 0.84851428,\n",
       "        0.8873342 , 0.84948554, 0.8873342 , 0.85112453, 0.8873342 ,\n",
       "        0.85246001, 0.8873342 , 0.85431147, 0.8873342 , 0.85716454,\n",
       "        0.8873342 , 0.85992655, 0.8873342 , 0.8641758 , 0.8873342 ,\n",
       "        0.87012475, 0.8873342 , 0.87665038, 0.8873342 , 0.88220475,\n",
       "        0.8873342 , 0.88517923, 0.8873342 , 0.88754667, 0.8873342 ,\n",
       "        0.88863933, 0.8873342 , 0.88988375, 0.8873342 , 0.89052114,\n",
       "        0.8873342 , 0.8906729 , 0.8873342 , 0.8906729 , 0.8873342 ,\n",
       "        0.89094606, 0.8873342 , 0.89097642, 0.8873342 , 0.89109782,\n",
       "        0.8873342 , 0.89115853, 0.8873342 , 0.89137099, 0.8873342 ,\n",
       "        0.8914924 , 0.8873342 , 0.89167451, 0.8873342 , 0.89191732,\n",
       "        0.8873342 , 0.89234225, 0.8873342 , 0.89246365, 0.8873342 ,\n",
       "        0.89267612, 0.8873342 , 0.89288858, 0.8873342 , 0.89304034,\n",
       "        0.8873342 , 0.89310104, 0.8873342 , 0.89346526, 0.8873342 ,\n",
       "        0.89367772, 0.8873342 , 0.89385984, 0.8873342 , 0.89404195,\n",
       "        0.8873342 , 0.89431511, 0.8873342 , 0.89458828, 0.88845722,\n",
       "        0.89461863, 0.88936777, 0.89461863, 0.89225119, 0.89470969,\n",
       "        0.89261541, 0.89486144, 0.89592376, 0.8948918 , 0.89607552,\n",
       "        0.8950132 , 0.89613622, 0.89504355, 0.89625763, 0.89519531,\n",
       "        0.89628798, 0.89519531, 0.89631833, 0.89519531, 0.89622727,\n",
       "        0.89513461, 0.89622727, 0.89510426, 0.89628798, 0.89504355,\n",
       "        0.89613622, 0.8949525 , 0.89604516, 0.8950132 , 0.89595411,\n",
       "        0.89492215, 0.89586305, 0.8950132 , 0.8958934 , 0.89504355,\n",
       "        0.8958327 , 0.8950132 , 0.89565059, 0.89498285, 0.89555954,\n",
       "        0.89492215, 0.89540778, 0.89492215, 0.89531672, 0.89486144,\n",
       "        0.89525602, 0.89492215, 0.89528637, 0.89492215, 0.89522567,\n",
       "        0.8949525 , 0.89519531, 0.8949525 , 0.89519531, 0.89498285,\n",
       "        0.89516496, 0.8949525 , 0.89510426, 0.89498285, 0.89513461,\n",
       "        0.89498285, 0.89510426, 0.89504355, 0.89510426, 0.89504355,\n",
       "        0.89516496, 0.89507391, 0.89510426, 0.89507391, 0.89510426,\n",
       "        0.89504355, 0.8950132 , 0.89504355, 0.8950132 , 0.89504355,\n",
       "        0.8949525 , 0.89504355, 0.8949525 , 0.89504355, 0.89498285,\n",
       "        0.89504355, 0.89498285, 0.8950132 , 0.89498285, 0.8950132 ,\n",
       "        0.89498285, 0.8950132 , 0.8950132 , 0.8950132 , 0.89498285,\n",
       "        0.8950132 , 0.8949525 , 0.89504355, 0.89498285, 0.89504355,\n",
       "        0.89504355, 0.89504355, 0.89507391, 0.89504355, 0.89510426,\n",
       "        0.89504355, 0.89510426, 0.89504355, 0.89510426, 0.89504355,\n",
       "        0.89510426, 0.89504355, 0.89510426, 0.89504355, 0.89510426,\n",
       "        0.89504355, 0.89510426, 0.89504355, 0.89510426, 0.89504355]),\n",
       " 'split4_train_score': array([0.88733762, 0.88266359, 0.88733762, 0.88405973, 0.88733762,\n",
       "        0.88533447, 0.88733762, 0.88645745, 0.88733762, 0.88764113,\n",
       "        0.88733762, 0.88818745, 0.88733762, 0.88928008, 0.88733762,\n",
       "        0.89113148, 0.88733762, 0.89292218, 0.88733762, 0.8935292 ,\n",
       "        0.88733762, 0.89386306, 0.88733762, 0.89416657, 0.88733762,\n",
       "        0.89443972, 0.88733762, 0.89465218, 0.88733762, 0.89516814,\n",
       "        0.88733762, 0.89586621, 0.88733762, 0.89665534, 0.88733762,\n",
       "        0.89732305, 0.88733762, 0.89814253, 0.88733762, 0.8988406 ,\n",
       "        0.88733762, 0.89926551, 0.88733762, 0.89947797, 0.88733762,\n",
       "        0.90011533, 0.88733762, 0.90099551, 0.88733762, 0.90178463,\n",
       "        0.88733762, 0.90251305, 0.88733762, 0.90375744, 0.88733762,\n",
       "        0.90573024, 0.88733762, 0.90742989, 0.88733762, 0.90976691,\n",
       "        0.88733762, 0.91186111, 0.88733762, 0.91626199, 0.88733762,\n",
       "        0.91787058, 0.88733762, 0.91872041, 0.88733762, 0.920329  ,\n",
       "        0.88733762, 0.92093602, 0.89237586, 0.92114848, 0.89796042,\n",
       "        0.92163409, 0.91777953, 0.9221197 , 0.91935778, 0.92230181,\n",
       "        0.92054146, 0.92284812, 0.92102707, 0.92348549, 0.92078427,\n",
       "        0.92381935, 0.92066286, 0.92403181, 0.92063251, 0.92427461,\n",
       "        0.92072356, 0.92445672, 0.92072356, 0.92469953, 0.92072356,\n",
       "        0.92500304, 0.92072356, 0.9253976 , 0.92102707, 0.9256404 ,\n",
       "        0.92649023, 0.92591356, 0.92694549, 0.92600461, 0.92700619,\n",
       "        0.92612602, 0.92706689, 0.92621707, 0.92706689, 0.92621707,\n",
       "        0.92715795, 0.92630812, 0.92715795, 0.92630812, 0.92715795,\n",
       "        0.92636882, 0.92712759, 0.92636882, 0.92709724, 0.92645988,\n",
       "        0.92706689, 0.92649023, 0.92697584, 0.92649023, 0.92685444,\n",
       "        0.92649023, 0.92679374, 0.92652058, 0.92667233, 0.92645988,\n",
       "        0.92667233, 0.92649023, 0.92664198, 0.92649023, 0.92664198,\n",
       "        0.92649023, 0.92661163, 0.92645988, 0.92661163, 0.92649023,\n",
       "        0.92661163, 0.92649023, 0.92661163, 0.92655093, 0.92661163,\n",
       "        0.92655093, 0.92661163, 0.92655093, 0.92661163, 0.92655093,\n",
       "        0.92661163, 0.92655093, 0.92661163, 0.92655093, 0.92658128,\n",
       "        0.92658128, 0.92658128, 0.92658128, 0.92658128, 0.92658128,\n",
       "        0.92655093, 0.92658128, 0.92655093, 0.92658128, 0.92652058,\n",
       "        0.92658128, 0.92652058, 0.92658128, 0.92652058, 0.92658128,\n",
       "        0.92652058, 0.92658128, 0.92652058, 0.92655093, 0.92652058,\n",
       "        0.92655093, 0.92655093, 0.92655093, 0.92655093, 0.92655093,\n",
       "        0.92658128, 0.92655093, 0.92658128, 0.92655093, 0.92658128,\n",
       "        0.92655093, 0.92658128, 0.92655093, 0.92658128, 0.92655093,\n",
       "        0.92658128, 0.92655093, 0.92658128, 0.92655093, 0.92658128,\n",
       "        0.92655093, 0.92655093, 0.92655093, 0.92658128, 0.92655093]),\n",
       " 'mean_train_score': array([0.88733489, 0.88185338, 0.88733489, 0.88250897, 0.88733489,\n",
       "        0.88315242, 0.88733489, 0.88368661, 0.88733489, 0.88425114,\n",
       "        0.88733489, 0.88467   , 0.88733489, 0.88533773, 0.88733489,\n",
       "        0.8860783 , 0.88733489, 0.886916  , 0.88733489, 0.8877537 ,\n",
       "        0.88733489, 0.8885125 , 0.88733489, 0.88961123, 0.88733489,\n",
       "        0.89094064, 0.88733489, 0.89240359, 0.88733489, 0.89366015,\n",
       "        0.88733489, 0.89453428, 0.88733489, 0.89529914, 0.88733489,\n",
       "        0.89574227, 0.88733489, 0.89621575, 0.88733489, 0.89654355,\n",
       "        0.88733489, 0.89678636, 0.88733489, 0.89690776, 0.88733489,\n",
       "        0.89711415, 0.88733489, 0.89733268, 0.88733489, 0.89758156,\n",
       "        0.88733489, 0.8977576 , 0.88733489, 0.89809753, 0.88733489,\n",
       "        0.89852851, 0.88733489, 0.89893521, 0.88733489, 0.89952402,\n",
       "        0.88733489, 0.90008856, 0.88733489, 0.90105371, 0.88733489,\n",
       "        0.90147256, 0.88733489, 0.90179428, 0.88733489, 0.90224955,\n",
       "        0.88733489, 0.90243773, 0.88971444, 0.90257734, 0.89267067,\n",
       "        0.90269875, 0.89958468, 0.90283836, 0.90037989, 0.90292335,\n",
       "        0.90163644, 0.90309938, 0.90215242, 0.90337255, 0.90215242,\n",
       "        0.90342111, 0.90232846, 0.90355465, 0.90290515, 0.90361536,\n",
       "        0.9029962 , 0.90365178, 0.90366394, 0.90379139, 0.90369429,\n",
       "        0.90390066, 0.90370643, 0.90405242, 0.90379749, 0.90416775,\n",
       "        0.90489619, 0.90422845, 0.90502366, 0.904362  , 0.90502366,\n",
       "        0.90440449, 0.90506615, 0.90445305, 0.90511472, 0.90445305,\n",
       "        0.90502973, 0.9044834 , 0.90507829, 0.90447733, 0.90505401,\n",
       "        0.90450769, 0.90504794, 0.90450769, 0.90506615, 0.9044834 ,\n",
       "        0.90505401, 0.90451376, 0.90495082, 0.90451983, 0.90485976,\n",
       "        0.90451983, 0.90479906, 0.90450161, 0.90472015, 0.90448947,\n",
       "        0.90467765, 0.90451983, 0.90465337, 0.90449554, 0.90459874,\n",
       "        0.90451376, 0.90459874, 0.90451376, 0.9045866 , 0.9045259 ,\n",
       "        0.90460481, 0.90451376, 0.90465944, 0.9045259 , 0.90464123,\n",
       "        0.9045259 , 0.90459874, 0.90453804, 0.9045866 , 0.90456232,\n",
       "        0.90461088, 0.90457446, 0.90460481, 0.90457446, 0.90457446,\n",
       "        0.90456839, 0.90455018, 0.90455625, 0.9045259 , 0.90455625,\n",
       "        0.90451983, 0.90455625, 0.90448947, 0.90456232, 0.90449554,\n",
       "        0.90455625, 0.90449554, 0.90455018, 0.90450161, 0.90456839,\n",
       "        0.90451983, 0.90456839, 0.90451983, 0.90454411, 0.90450768,\n",
       "        0.90454411, 0.90453804, 0.90453804, 0.90453197, 0.9045259 ,\n",
       "        0.90455018, 0.90451983, 0.90455018, 0.90451376, 0.90454411,\n",
       "        0.90451376, 0.90454411, 0.90451376, 0.90453197, 0.90450768,\n",
       "        0.90453197, 0.90450768, 0.9045259 , 0.90450768, 0.90453197,\n",
       "        0.90450768, 0.9045259 , 0.90450768, 0.90453804, 0.90450768]),\n",
       " 'std_train_score': array([1.36780134e-06, 1.91238522e-02, 1.36780134e-06, 1.89726326e-02,\n",
       "        1.36780134e-06, 1.88003978e-02, 1.36780134e-06, 1.84855007e-02,\n",
       "        1.36780134e-06, 1.82474737e-02, 1.36780134e-06, 1.79499738e-02,\n",
       "        1.36780134e-06, 1.74169042e-02, 1.36780134e-06, 1.70284963e-02,\n",
       "        1.36780134e-06, 1.64699111e-02, 1.36780134e-06, 1.54492949e-02,\n",
       "        1.36780134e-06, 1.44358247e-02, 1.36780134e-06, 1.28452060e-02,\n",
       "        1.36780134e-06, 1.05399895e-02, 1.36780134e-06, 8.04331943e-03,\n",
       "        1.36780134e-06, 5.93113811e-03, 1.36780134e-06, 4.86329681e-03,\n",
       "        1.36780134e-06, 4.04853176e-03, 1.36780134e-06, 3.71911923e-03,\n",
       "        1.36780134e-06, 3.36694450e-03, 1.36780134e-06, 3.24660472e-03,\n",
       "        1.36780134e-06, 3.27556423e-03, 1.36780134e-06, 3.33373111e-03,\n",
       "        1.36780134e-06, 3.34372857e-03, 1.36780134e-06, 3.49003437e-03,\n",
       "        1.36780134e-06, 3.62701561e-03, 1.36780134e-06, 3.77290391e-03,\n",
       "        1.36780134e-06, 4.02714641e-03, 1.36780134e-06, 4.59477245e-03,\n",
       "        1.36780134e-06, 5.08097468e-03, 1.36780134e-06, 5.79240579e-03,\n",
       "        1.36780134e-06, 6.41914134e-03, 1.36780134e-06, 8.01319004e-03,\n",
       "        1.36780134e-06, 8.56825386e-03, 1.36780134e-06, 8.81924509e-03,\n",
       "        1.36780134e-06, 9.38024221e-03, 1.36780134e-06, 9.59060031e-03,\n",
       "        2.97131543e-03, 9.59516877e-03, 5.64719848e-03, 9.75108245e-03,\n",
       "        1.07906076e-02, 9.90251317e-03, 1.07298030e-02, 9.93612058e-03,\n",
       "        1.07914272e-02, 1.00979372e-02, 1.08048150e-02, 1.02707705e-02,\n",
       "        1.04639973e-02, 1.03977976e-02, 1.01792806e-02, 1.04481354e-02,\n",
       "        9.47285436e-03, 1.05285435e-02, 9.42594070e-03, 1.05824313e-02,\n",
       "        8.76380548e-03, 1.06442132e-02, 8.73716858e-03, 1.07341760e-02,\n",
       "        8.72660928e-03, 1.08605744e-02, 8.82082232e-03, 1.09225787e-02,\n",
       "        1.09603271e-02, 1.10305145e-02, 1.11253595e-02, 1.10264420e-02,\n",
       "        1.11616862e-02, 1.10710946e-02, 1.11763513e-02, 1.10982949e-02,\n",
       "        1.11528826e-02, 1.11061446e-02, 1.12363263e-02, 1.11496415e-02,\n",
       "        1.12339564e-02, 1.11435821e-02, 1.12519805e-02, 1.11735347e-02,\n",
       "        1.12498379e-02, 1.11658645e-02, 1.12246652e-02, 1.12107360e-02,\n",
       "        1.12224159e-02, 1.12200175e-02, 1.12341204e-02, 1.12229956e-02,\n",
       "        1.12189234e-02, 1.12313323e-02, 1.12272474e-02, 1.12501539e-02,\n",
       "        1.12068927e-02, 1.12347279e-02, 1.12255256e-02, 1.12328414e-02,\n",
       "        1.12154764e-02, 1.12414373e-02, 1.12463500e-02, 1.12345244e-02,\n",
       "        1.12307748e-02, 1.12208377e-02, 1.12314019e-02, 1.12275452e-02,\n",
       "        1.12277490e-02, 1.12343604e-02, 1.12161948e-02, 1.12547712e-02,\n",
       "        1.12178874e-02, 1.12563754e-02, 1.12421708e-02, 1.12444985e-02,\n",
       "        1.12441574e-02, 1.12346816e-02, 1.12303641e-02, 1.12249420e-02,\n",
       "        1.12387054e-02, 1.12249420e-02, 1.12400172e-02, 1.12451863e-02,\n",
       "        1.12570267e-02, 1.12485156e-02, 1.12654079e-02, 1.12483518e-02,\n",
       "        1.12601037e-02, 1.12468448e-02, 1.12717328e-02, 1.12451407e-02,\n",
       "        1.12514643e-02, 1.12468448e-02, 1.12514643e-02, 1.12519845e-02,\n",
       "        1.12480574e-02, 1.12469229e-02, 1.12399259e-02, 1.12469229e-02,\n",
       "        1.12349580e-02, 1.12416075e-02, 1.12433026e-02, 1.12416075e-02,\n",
       "        1.12487251e-02, 1.12413848e-02, 1.12469595e-02, 1.12448136e-02,\n",
       "        1.12485617e-02, 1.12465472e-02, 1.12451706e-02, 1.12482937e-02,\n",
       "        1.12435749e-02, 1.12482937e-02, 1.12450169e-02, 1.12482937e-02,\n",
       "        1.12514645e-02, 1.12500530e-02, 1.12514645e-02, 1.12500530e-02,\n",
       "        1.12532168e-02, 1.12500530e-02, 1.12499906e-02, 1.12500530e-02,\n",
       "        1.12380937e-02, 1.12500530e-02, 1.12467767e-02, 1.12500530e-02])}"
      ]
     },
     "execution_count": 80,
     "metadata": {},
     "output_type": "execute_result"
    }
   ],
   "source": [
    "lr_gridsearch.cv_results_"
   ]
  },
  {
   "cell_type": "code",
   "execution_count": 81,
   "metadata": {},
   "outputs": [
    {
     "data": {
      "text/plain": [
       "<bound method BaseEstimator.get_params of GridSearchCV(cv=5, error_score='raise-deprecating',\n",
       "       estimator=LogisticRegression(C=1.0, class_weight=None, dual=False, fit_intercept=True,\n",
       "          intercept_scaling=1, max_iter=100, multi_class='warn',\n",
       "          n_jobs=None, penalty='l2', random_state=None, solver='warn',\n",
       "          tol=0.0001, verbose=0, warm_start=False),\n",
       "       fit_params=None, iid='warn', n_jobs=None,\n",
       "       param_grid={'penalty': ['l1', 'l2'], 'solver': ['liblinear'], 'C': array([1.00000e-05, 1.12332e-05, ..., 8.90215e-01, 1.00000e+00])},\n",
       "       pre_dispatch='2*n_jobs', refit=True, return_train_score='warn',\n",
       "       scoring=None, verbose=1)>"
      ]
     },
     "execution_count": 81,
     "metadata": {},
     "output_type": "execute_result"
    }
   ],
   "source": [
    "lr_gridsearch.get_params"
   ]
  },
  {
   "cell_type": "code",
   "execution_count": 82,
   "metadata": {},
   "outputs": [
    {
     "data": {
      "text/plain": [
       "'raise-deprecating'"
      ]
     },
     "execution_count": 82,
     "metadata": {},
     "output_type": "execute_result"
    }
   ],
   "source": [
    "lr_gridsearch.error_score"
   ]
  },
  {
   "cell_type": "code",
   "execution_count": 86,
   "metadata": {},
   "outputs": [],
   "source": [
    "best_lr_grid = lr_gridsearch.best_estimator_"
   ]
  },
  {
   "cell_type": "code",
   "execution_count": 87,
   "metadata": {},
   "outputs": [
    {
     "data": {
      "text/plain": [
       "LogisticRegression(C=0.0007390722033525775, class_weight=None, dual=False,\n",
       "          fit_intercept=True, intercept_scaling=1, max_iter=100,\n",
       "          multi_class='warn', n_jobs=None, penalty='l1', random_state=None,\n",
       "          solver='liblinear', tol=0.0001, verbose=0, warm_start=False)"
      ]
     },
     "execution_count": 87,
     "metadata": {},
     "output_type": "execute_result"
    }
   ],
   "source": [
    "best_lr_grid.fit(X_train, y_train)"
   ]
  },
  {
   "cell_type": "code",
   "execution_count": 88,
   "metadata": {},
   "outputs": [
    {
     "data": {
      "text/plain": [
       "0.8873519240673975"
      ]
     },
     "execution_count": 88,
     "metadata": {},
     "output_type": "execute_result"
    }
   ],
   "source": [
    "best_lr_grid.score(X_test, y_test)"
   ]
  },
  {
   "cell_type": "code",
   "execution_count": 90,
   "metadata": {},
   "outputs": [
    {
     "data": {
      "text/plain": [
       "0.8906128593628594"
      ]
     },
     "execution_count": 90,
     "metadata": {},
     "output_type": "execute_result"
    }
   ],
   "source": [
    "lr_gridsearch.best_score_"
   ]
  },
  {
   "cell_type": "code",
   "execution_count": null,
   "metadata": {},
   "outputs": [],
   "source": [
    "rt = RandomForestClassifier()\n",
    "rt.fit(X_train, y_train)"
   ]
  },
  {
   "cell_type": "code",
   "execution_count": 92,
   "metadata": {},
   "outputs": [],
   "source": [
    "scores = cross_val_score(rt, X_train, y_train, cv = 5)"
   ]
  },
  {
   "cell_type": "code",
   "execution_count": 93,
   "metadata": {},
   "outputs": [
    {
     "data": {
      "text/plain": [
       "array([0.8738902 , 0.87552093, 0.87533974, 0.87642689, 0.874207  ])"
      ]
     },
     "execution_count": 93,
     "metadata": {},
     "output_type": "execute_result"
    }
   ],
   "source": [
    "scores\n"
   ]
  },
  {
   "cell_type": "code",
   "execution_count": 94,
   "metadata": {},
   "outputs": [
    {
     "data": {
      "text/plain": [
       "0.8750769492296833"
      ]
     },
     "execution_count": 94,
     "metadata": {},
     "output_type": "execute_result"
    }
   ],
   "source": [
    "np.mean(scores)"
   ]
  },
  {
   "cell_type": "code",
   "execution_count": 95,
   "metadata": {},
   "outputs": [
    {
     "data": {
      "text/plain": [
       "0.8752851151497314"
      ]
     },
     "execution_count": 95,
     "metadata": {},
     "output_type": "execute_result"
    }
   ],
   "source": [
    "rt.score(X_test, y_test)"
   ]
  },
  {
   "cell_type": "code",
   "execution_count": 98,
   "metadata": {},
   "outputs": [],
   "source": [
    "scores1 = cross_val_score(rt, Xs_train, y_train, cv = 5)"
   ]
  },
  {
   "cell_type": "code",
   "execution_count": 99,
   "metadata": {},
   "outputs": [
    {
     "data": {
      "text/plain": [
       "array([0.88965392, 0.89146585, 0.89055988, 0.89182823, 0.89015769])"
      ]
     },
     "execution_count": 99,
     "metadata": {},
     "output_type": "execute_result"
    }
   ],
   "source": [
    "scores1"
   ]
  },
  {
   "cell_type": "code",
   "execution_count": 100,
   "metadata": {},
   "outputs": [
    {
     "data": {
      "text/plain": [
       "0.8907331152523573"
      ]
     },
     "execution_count": 100,
     "metadata": {},
     "output_type": "execute_result"
    }
   ],
   "source": [
    "scores1.mean()"
   ]
  },
  {
   "cell_type": "code",
   "execution_count": null,
   "metadata": {},
   "outputs": [],
   "source": [
    "#from kbest top 10 features\n",
    "pdays\t4860.56\n",
    "15\teuribor_3_month\t4309.92\n",
    "13\tpoutcome\t3247.65\n",
    "12\tprevious\t2303.84\n",
    "7\tcontact\t881.811\n",
    "4\tdefault\t410.715\n",
    "10\tcampaign\t182.024\n",
    "14\tcons_conf_idx\t124.383\n",
    "2\tmarital\t88.0162\n",
    "8\tmonth\t56.9755"
   ]
  },
  {
   "cell_type": "code",
   "execution_count": 125,
   "metadata": {},
   "outputs": [],
   "source": [
    "d = ['pdays', 'euribor_3_month', 'poutcome', 'contact', 'default', 'campaign', 'cons_conf_idx', 'marital', 'month']"
   ]
  },
  {
   "cell_type": "code",
   "execution_count": 126,
   "metadata": {},
   "outputs": [],
   "source": [
    "X = data[d]"
   ]
  },
  {
   "cell_type": "code",
   "execution_count": 127,
   "metadata": {},
   "outputs": [],
   "source": [
    "y = data.deposit"
   ]
  },
  {
   "cell_type": "code",
   "execution_count": 128,
   "metadata": {},
   "outputs": [
    {
     "name": "stderr",
     "output_type": "stream",
     "text": [
      "C:\\Users\\r_ani\\Anaconda3\\lib\\site-packages\\sklearn\\preprocessing\\data.py:625: DataConversionWarning: Data with input dtype int64, float64 were all converted to float64 by StandardScaler.\n",
      "  return self.partial_fit(X, y)\n",
      "C:\\Users\\r_ani\\Anaconda3\\lib\\site-packages\\sklearn\\base.py:462: DataConversionWarning: Data with input dtype int64, float64 were all converted to float64 by StandardScaler.\n",
      "  return self.fit(X, **fit_params).transform(X)\n"
     ]
    }
   ],
   "source": [
    "sn = StandardScaler()\n",
    "Xs = sn.fit_transform(X)"
   ]
  },
  {
   "cell_type": "code",
   "execution_count": 129,
   "metadata": {},
   "outputs": [],
   "source": [
    "Xs_train, Xs_test, y_train, y_test = train_test_split(Xs, y, random_state = 42, stratify = y, test_size = 0.33)"
   ]
  },
  {
   "cell_type": "code",
   "execution_count": 130,
   "metadata": {},
   "outputs": [
    {
     "name": "stderr",
     "output_type": "stream",
     "text": [
      "C:\\Users\\r_ani\\Anaconda3\\lib\\site-packages\\sklearn\\ensemble\\forest.py:246: FutureWarning: The default value of n_estimators will change from 10 in version 0.20 to 100 in 0.22.\n",
      "  \"10 in version 0.20 to 100 in 0.22.\", FutureWarning)\n"
     ]
    },
    {
     "data": {
      "text/plain": [
       "RandomForestClassifier(bootstrap=True, class_weight=None, criterion='gini',\n",
       "            max_depth=None, max_features='auto', max_leaf_nodes=None,\n",
       "            min_impurity_decrease=0.0, min_impurity_split=None,\n",
       "            min_samples_leaf=1, min_samples_split=2,\n",
       "            min_weight_fraction_leaf=0.0, n_estimators=10, n_jobs=None,\n",
       "            oob_score=False, random_state=None, verbose=0,\n",
       "            warm_start=False)"
      ]
     },
     "execution_count": 130,
     "metadata": {},
     "output_type": "execute_result"
    }
   ],
   "source": [
    "rt = RandomForestClassifier()\n",
    "rt.fit(Xs_train, y_train)\n"
   ]
  },
  {
   "cell_type": "code",
   "execution_count": 131,
   "metadata": {},
   "outputs": [
    {
     "data": {
      "text/plain": [
       "0.9340774834197079"
      ]
     },
     "execution_count": 131,
     "metadata": {},
     "output_type": "execute_result"
    }
   ],
   "source": [
    "rt.score(Xs_train, y_train)"
   ]
  },
  {
   "cell_type": "code",
   "execution_count": 132,
   "metadata": {},
   "outputs": [
    {
     "data": {
      "text/plain": [
       "DecisionTreeClassifier(class_weight=None, criterion='gini', max_depth=None,\n",
       "            max_features=None, max_leaf_nodes=None,\n",
       "            min_impurity_decrease=0.0, min_impurity_split=None,\n",
       "            min_samples_leaf=1, min_samples_split=2,\n",
       "            min_weight_fraction_leaf=0.0, presort=False, random_state=None,\n",
       "            splitter='best')"
      ]
     },
     "execution_count": 132,
     "metadata": {},
     "output_type": "execute_result"
    }
   ],
   "source": [
    "dt.fit(Xs_train, y_train)"
   ]
  },
  {
   "cell_type": "code",
   "execution_count": 133,
   "metadata": {},
   "outputs": [
    {
     "data": {
      "text/plain": [
       "0.9369767694705179"
      ]
     },
     "execution_count": 133,
     "metadata": {},
     "output_type": "execute_result"
    }
   ],
   "source": [
    "dt.score(Xs_train, y_train)"
   ]
  },
  {
   "cell_type": "code",
   "execution_count": 134,
   "metadata": {},
   "outputs": [
    {
     "data": {
      "text/plain": [
       "BaggingClassifier(base_estimator=None, bootstrap=True,\n",
       "         bootstrap_features=False, max_features=1.0, max_samples=1.0,\n",
       "         n_estimators=10, n_jobs=None, oob_score=False, random_state=None,\n",
       "         verbose=0, warm_start=False)"
      ]
     },
     "execution_count": 134,
     "metadata": {},
     "output_type": "execute_result"
    }
   ],
   "source": [
    "bc = BaggingClassifier()\n",
    "bc.fit(Xs_train, y_train)"
   ]
  },
  {
   "cell_type": "code",
   "execution_count": 135,
   "metadata": {},
   "outputs": [
    {
     "data": {
      "text/plain": [
       "0.9340050012684377"
      ]
     },
     "execution_count": 135,
     "metadata": {},
     "output_type": "execute_result"
    }
   ],
   "source": [
    "bc.score(Xs_train, y_train)"
   ]
  },
  {
   "cell_type": "code",
   "execution_count": 136,
   "metadata": {},
   "outputs": [
    {
     "name": "stderr",
     "output_type": "stream",
     "text": [
      "C:\\Users\\r_ani\\Anaconda3\\lib\\site-packages\\sklearn\\ensemble\\forest.py:246: FutureWarning: The default value of n_estimators will change from 10 in version 0.20 to 100 in 0.22.\n",
      "  \"10 in version 0.20 to 100 in 0.22.\", FutureWarning)\n"
     ]
    },
    {
     "data": {
      "text/plain": [
       "ExtraTreesClassifier(bootstrap=False, class_weight=None, criterion='gini',\n",
       "           max_depth=None, max_features='auto', max_leaf_nodes=None,\n",
       "           min_impurity_decrease=0.0, min_impurity_split=None,\n",
       "           min_samples_leaf=1, min_samples_split=2,\n",
       "           min_weight_fraction_leaf=0.0, n_estimators=10, n_jobs=None,\n",
       "           oob_score=False, random_state=None, verbose=0, warm_start=False)"
      ]
     },
     "execution_count": 136,
     "metadata": {},
     "output_type": "execute_result"
    }
   ],
   "source": [
    "et = ExtraTreesClassifier()\n",
    "et.fit(Xs_train, y_train)"
   ]
  },
  {
   "cell_type": "code",
   "execution_count": 137,
   "metadata": {},
   "outputs": [
    {
     "data": {
      "text/plain": [
       "0.9369767694705179"
      ]
     },
     "execution_count": 137,
     "metadata": {},
     "output_type": "execute_result"
    }
   ],
   "source": [
    "et.score(Xs_train, y_train)"
   ]
  },
  {
   "cell_type": "code",
   "execution_count": 140,
   "metadata": {},
   "outputs": [],
   "source": [
    "#predictions of logistic, decision tree, random forest, extra tree, bagging \n",
    "y_hat1 = lg.predict(Xs_test)\n",
    "y_hat2 = dt.predict(Xs_test)\n",
    "y_hat3 = rt.predict(Xs_test)\n",
    "y_hat4 = et.predict(Xs_test)\n",
    "y_hat5 = bc.predict(Xs_test)"
   ]
  },
  {
   "cell_type": "code",
   "execution_count": 142,
   "metadata": {},
   "outputs": [],
   "source": [
    "from sklearn.metrics import confusion_matrix, classification_report"
   ]
  },
  {
   "cell_type": "code",
   "execution_count": 143,
   "metadata": {},
   "outputs": [
    {
     "name": "stdout",
     "output_type": "stream",
     "text": [
      "Logistic Confusion Matrix\n",
      " [[11916   144]\n",
      " [ 1237   294]]\n",
      "Decision Tree Confusion Matrix\n",
      " [[11648   412]\n",
      " [ 1114   417]]\n",
      "Random Forest Confusion Matrix\n",
      " [[11689   371]\n",
      " [ 1093   438]]\n",
      "Extra Tree Regressor Confusion Matrix\n",
      " [[11689   371]\n",
      " [ 1115   416]]\n",
      "Bagging Classifier Confusion Matrix\n",
      " [[11666   394]\n",
      " [ 1100   431]]\n"
     ]
    }
   ],
   "source": [
    "print('Logistic Confusion Matrix\\n', confusion_matrix(y_test, y_hat1))\n",
    "print('Decision Tree Confusion Matrix\\n', confusion_matrix(y_test, y_hat2))\n",
    "print('Random Forest Confusion Matrix\\n', confusion_matrix(y_test, y_hat3))\n",
    "print('Extra Tree Regressor Confusion Matrix\\n', confusion_matrix(y_test, y_hat4))\n",
    "print('Bagging Classifier Confusion Matrix\\n', confusion_matrix(y_test, y_hat5))"
   ]
  },
  {
   "cell_type": "code",
   "execution_count": 144,
   "metadata": {},
   "outputs": [
    {
     "name": "stdout",
     "output_type": "stream",
     "text": [
      "Logistic Report\n",
      "               precision    recall  f1-score   support\n",
      "\n",
      "           0       0.91      0.99      0.95     12060\n",
      "           1       0.67      0.19      0.30      1531\n",
      "\n",
      "   micro avg       0.90      0.90      0.90     13591\n",
      "   macro avg       0.79      0.59      0.62     13591\n",
      "weighted avg       0.88      0.90      0.87     13591\n",
      "\n",
      "Decision Tree Report\n",
      "               precision    recall  f1-score   support\n",
      "\n",
      "           0       0.91      0.97      0.94     12060\n",
      "           1       0.50      0.27      0.35      1531\n",
      "\n",
      "   micro avg       0.89      0.89      0.89     13591\n",
      "   macro avg       0.71      0.62      0.65     13591\n",
      "weighted avg       0.87      0.89      0.87     13591\n",
      "\n",
      "Random Forest Report\n",
      "               precision    recall  f1-score   support\n",
      "\n",
      "           0       0.91      0.97      0.94     12060\n",
      "           1       0.54      0.29      0.37      1531\n",
      "\n",
      "   micro avg       0.89      0.89      0.89     13591\n",
      "   macro avg       0.73      0.63      0.66     13591\n",
      "weighted avg       0.87      0.89      0.88     13591\n",
      "\n",
      "Extra Tree Regressor Report\n",
      "               precision    recall  f1-score   support\n",
      "\n",
      "           0       0.91      0.97      0.94     12060\n",
      "           1       0.53      0.27      0.36      1531\n",
      "\n",
      "   micro avg       0.89      0.89      0.89     13591\n",
      "   macro avg       0.72      0.62      0.65     13591\n",
      "weighted avg       0.87      0.89      0.87     13591\n",
      "\n",
      "Bagging Classifier Report\n",
      "               precision    recall  f1-score   support\n",
      "\n",
      "           0       0.91      0.97      0.94     12060\n",
      "           1       0.52      0.28      0.37      1531\n",
      "\n",
      "   micro avg       0.89      0.89      0.89     13591\n",
      "   macro avg       0.72      0.62      0.65     13591\n",
      "weighted avg       0.87      0.89      0.88     13591\n",
      "\n"
     ]
    }
   ],
   "source": [
    "print('Logistic Report\\n', classification_report(y_test, y_hat1))\n",
    "print('Decision Tree Report\\n', classification_report(y_test, y_hat2))\n",
    "print('Random Forest Report\\n', classification_report(y_test, y_hat3))\n",
    "print('Extra Tree Regressor Report\\n', classification_report(y_test, y_hat4))\n",
    "print('Bagging Classifier Report\\n', classification_report(y_test, y_hat5))"
   ]
  },
  {
   "cell_type": "code",
   "execution_count": 116,
   "metadata": {},
   "outputs": [],
   "source": [
    "d =cross_val_score(dt, Xs_train, y_train, cv = 5)\n",
    "r =cross_val_score(rt, Xs_train, y_train, cv = 5)\n",
    "b =cross_val_score(bc, Xs_train, y_train, cv = 5)\n",
    "k =cross_val_score(KNeighborsClassifier(n_neighbors =21, metric = 'euclidean'), Xs_train, y_train, cv = 5)\n",
    "e =cross_val_score(et, Xs_train, y_train, cv = 5)\n",
    "l =cross_val_score(LogisticRegression(penalty = 'l1', solver = 'liblinear'), Xs_train, y_train, cv = 5)"
   ]
  },
  {
   "cell_type": "code",
   "execution_count": 117,
   "metadata": {},
   "outputs": [
    {
     "name": "stdout",
     "output_type": "stream",
     "text": [
      "0.887833658359444\n",
      "0.8898269569723102\n",
      "0.8888846653393687\n",
      "0.8984888790098555\n",
      "0.8907691303721391\n",
      "0.8984887345027179\n"
     ]
    }
   ],
   "source": [
    "print(np.mean(d))\n",
    "print(np.mean(r))\n",
    "print(np.mean(b))\n",
    "print(np.mean(k))\n",
    "print(np.mean(e))\n",
    "print(np.mean(l))\n",
    "\n"
   ]
  },
  {
   "cell_type": "code",
   "execution_count": 121,
   "metadata": {},
   "outputs": [
    {
     "name": "stderr",
     "output_type": "stream",
     "text": [
      "C:\\Users\\r_ani\\Anaconda3\\lib\\site-packages\\sklearn\\linear_model\\logistic.py:433: FutureWarning: Default solver will be changed to 'lbfgs' in 0.22. Specify a solver to silence this warning.\n",
      "  FutureWarning)\n"
     ]
    },
    {
     "data": {
      "text/plain": [
       "LogisticRegression(C=1.0, class_weight=None, dual=False, fit_intercept=True,\n",
       "          intercept_scaling=1, max_iter=100, multi_class='warn',\n",
       "          n_jobs=None, penalty='l2', random_state=None, solver='warn',\n",
       "          tol=0.0001, verbose=0, warm_start=False)"
      ]
     },
     "execution_count": 121,
     "metadata": {},
     "output_type": "execute_result"
    }
   ],
   "source": [
    "lg.fit(Xs_train, y_train)"
   ]
  },
  {
   "cell_type": "code",
   "execution_count": 124,
   "metadata": {},
   "outputs": [
    {
     "data": {
      "text/plain": [
       "0.8987786757510963"
      ]
     },
     "execution_count": 124,
     "metadata": {},
     "output_type": "execute_result"
    }
   ],
   "source": [
    "lg.score(Xs_train, y_train)"
   ]
  },
  {
   "cell_type": "code",
   "execution_count": 122,
   "metadata": {},
   "outputs": [
    {
     "data": {
      "text/plain": [
       "0.8983886395408727"
      ]
     },
     "execution_count": 122,
     "metadata": {},
     "output_type": "execute_result"
    }
   ],
   "source": [
    "lg.score(Xs_test, y_test)"
   ]
  },
  {
   "cell_type": "code",
   "execution_count": 145,
   "metadata": {},
   "outputs": [
    {
     "data": {
      "text/plain": [
       "0.8873519240673975"
      ]
     },
     "execution_count": 145,
     "metadata": {},
     "output_type": "execute_result"
    }
   ],
   "source": [
    "dt.score(Xs_test, y_test)"
   ]
  },
  {
   "cell_type": "code",
   "execution_count": 208,
   "metadata": {},
   "outputs": [
    {
     "data": {
      "text/plain": [
       "0.8936796409388565"
      ]
     },
     "execution_count": 208,
     "metadata": {},
     "output_type": "execute_result"
    }
   ],
   "source": [
    "rt.score(Xs_test, y_test)"
   ]
  },
  {
   "cell_type": "code",
   "execution_count": 207,
   "metadata": {},
   "outputs": [
    {
     "data": {
      "text/plain": [
       "0.8913251416378486"
      ]
     },
     "execution_count": 207,
     "metadata": {},
     "output_type": "execute_result"
    }
   ],
   "source": [
    "et.score(Xs_test, y_test)"
   ]
  },
  {
   "cell_type": "code",
   "execution_count": null,
   "metadata": {},
   "outputs": [],
   "source": [
    "ridge_coefs\n",
    "euribor_3_month\t0.174001\n",
    "pdays\t0.159475\n",
    "poutcome\t0.062715\n",
    "cons_conf_idx\t0.062324\n",
    "contact\t0.056144"
   ]
  },
  {
   "cell_type": "code",
   "execution_count": 148,
   "metadata": {},
   "outputs": [],
   "source": [
    "rid = ['euribor_3_month', 'pdays', 'poutcome', 'cons_conf_idx', 'contact']"
   ]
  },
  {
   "cell_type": "code",
   "execution_count": 149,
   "metadata": {},
   "outputs": [],
   "source": [
    "X = data[rid]"
   ]
  },
  {
   "cell_type": "code",
   "execution_count": 193,
   "metadata": {},
   "outputs": [],
   "source": [
    "y= data.deposit"
   ]
  },
  {
   "cell_type": "code",
   "execution_count": 192,
   "metadata": {},
   "outputs": [
    {
     "name": "stderr",
     "output_type": "stream",
     "text": [
      "C:\\Users\\r_ani\\Anaconda3\\lib\\site-packages\\sklearn\\preprocessing\\data.py:625: DataConversionWarning: Data with input dtype int64, float64 were all converted to float64 by StandardScaler.\n",
      "  return self.partial_fit(X, y)\n",
      "C:\\Users\\r_ani\\Anaconda3\\lib\\site-packages\\sklearn\\base.py:462: DataConversionWarning: Data with input dtype int64, float64 were all converted to float64 by StandardScaler.\n",
      "  return self.fit(X, **fit_params).transform(X)\n"
     ]
    }
   ],
   "source": [
    "Xs = sn.fit_transform(X)"
   ]
  },
  {
   "cell_type": "code",
   "execution_count": 152,
   "metadata": {},
   "outputs": [],
   "source": [
    "Xs_train, Xs_test, y_train, y_test = train_test_split(Xs, y, random_state = 42, stratify = y, test_size = 0.33)"
   ]
  },
  {
   "cell_type": "code",
   "execution_count": 194,
   "metadata": {},
   "outputs": [
    {
     "name": "stderr",
     "output_type": "stream",
     "text": [
      "C:\\Users\\r_ani\\Anaconda3\\lib\\site-packages\\sklearn\\linear_model\\logistic.py:433: FutureWarning: Default solver will be changed to 'lbfgs' in 0.22. Specify a solver to silence this warning.\n",
      "  FutureWarning)\n",
      "C:\\Users\\r_ani\\Anaconda3\\lib\\site-packages\\sklearn\\linear_model\\logistic.py:433: FutureWarning: Default solver will be changed to 'lbfgs' in 0.22. Specify a solver to silence this warning.\n",
      "  FutureWarning)\n",
      "C:\\Users\\r_ani\\Anaconda3\\lib\\site-packages\\sklearn\\linear_model\\logistic.py:433: FutureWarning: Default solver will be changed to 'lbfgs' in 0.22. Specify a solver to silence this warning.\n",
      "  FutureWarning)\n",
      "C:\\Users\\r_ani\\Anaconda3\\lib\\site-packages\\sklearn\\linear_model\\logistic.py:433: FutureWarning: Default solver will be changed to 'lbfgs' in 0.22. Specify a solver to silence this warning.\n",
      "  FutureWarning)\n",
      "C:\\Users\\r_ani\\Anaconda3\\lib\\site-packages\\sklearn\\linear_model\\logistic.py:433: FutureWarning: Default solver will be changed to 'lbfgs' in 0.22. Specify a solver to silence this warning.\n",
      "  FutureWarning)\n"
     ]
    }
   ],
   "source": [
    "dc = cross_val_score(dt,Xs_train, y_train, cv =5)\n",
    "ec = cross_val_score(et, Xs_train, y_train, cv = 5)\n",
    "bg = cross_val_score(bc,Xs_train, y_train, cv =5)\n",
    "lc = cross_val_score(lg, Xs_train, y_train, cv = 5)\n",
    "kc = cross_val_score(knn,Xs_train, y_train, cv =5)\n",
    "rc = cross_val_score(rt, Xs_train, y_train, cv = 5)"
   ]
  },
  {
   "cell_type": "code",
   "execution_count": 154,
   "metadata": {},
   "outputs": [
    {
     "name": "stdout",
     "output_type": "stream",
     "text": [
      "[0.89237181 0.89472731 0.8994383  0.89871354 0.89541417]\n"
     ]
    }
   ],
   "source": [
    "print(dc)"
   ]
  },
  {
   "cell_type": "code",
   "execution_count": 155,
   "metadata": {},
   "outputs": [
    {
     "name": "stdout",
     "output_type": "stream",
     "text": [
      "[0.89309658 0.89309658 0.89798877 0.89871354 0.89342034]\n"
     ]
    }
   ],
   "source": [
    "print(ec)"
   ]
  },
  {
   "cell_type": "code",
   "execution_count": 156,
   "metadata": {},
   "outputs": [
    {
     "name": "stdout",
     "output_type": "stream",
     "text": [
      "[0.892553   0.89527088 0.89907592 0.89653923 0.89215153]\n"
     ]
    }
   ],
   "source": [
    "print(bg)"
   ]
  },
  {
   "cell_type": "code",
   "execution_count": 158,
   "metadata": {},
   "outputs": [
    {
     "name": "stdout",
     "output_type": "stream",
     "text": [
      "[0.892553   0.89128465 0.89907592 0.89635804 0.89287656]\n"
     ]
    }
   ],
   "source": [
    "print(rc)"
   ]
  },
  {
   "cell_type": "code",
   "execution_count": 159,
   "metadata": {},
   "outputs": [
    {
     "name": "stdout",
     "output_type": "stream",
     "text": [
      "[0.8949085  0.89925711 0.89744519 0.90052546 0.8970455 ]\n"
     ]
    }
   ],
   "source": [
    "print(lc)"
   ]
  },
  {
   "cell_type": "code",
   "execution_count": 160,
   "metadata": {},
   "outputs": [
    {
     "name": "stdout",
     "output_type": "stream",
     "text": [
      "[0.89037869 0.89400254 0.89563327 0.89400254 0.89378285]\n"
     ]
    }
   ],
   "source": [
    "print(kc)"
   ]
  },
  {
   "cell_type": "code",
   "execution_count": 195,
   "metadata": {},
   "outputs": [
    {
     "data": {
      "text/plain": [
       "0.8880873800504547"
      ]
     },
     "execution_count": 195,
     "metadata": {},
     "output_type": "execute_result"
    }
   ],
   "source": [
    "np.mean(dc)"
   ]
  },
  {
   "cell_type": "code",
   "execution_count": 196,
   "metadata": {},
   "outputs": [
    {
     "data": {
      "text/plain": [
       "0.8915303611302337"
      ]
     },
     "execution_count": 196,
     "metadata": {},
     "output_type": "execute_result"
    }
   ],
   "source": [
    "np.mean(ec)"
   ]
  },
  {
   "cell_type": "code",
   "execution_count": 197,
   "metadata": {},
   "outputs": [
    {
     "data": {
      "text/plain": [
       "0.889573379788437"
      ]
     },
     "execution_count": 197,
     "metadata": {},
     "output_type": "execute_result"
    }
   ],
   "source": [
    "np.mean(bg)"
   ]
  },
  {
   "cell_type": "code",
   "execution_count": 198,
   "metadata": {},
   "outputs": [
    {
     "data": {
      "text/plain": [
       "0.8925450639761016"
      ]
     },
     "execution_count": 198,
     "metadata": {},
     "output_type": "execute_result"
    }
   ],
   "source": [
    "np.mean(kc)"
   ]
  },
  {
   "cell_type": "code",
   "execution_count": 199,
   "metadata": {},
   "outputs": [
    {
     "data": {
      "text/plain": [
       "0.8985249729517124"
      ]
     },
     "execution_count": 199,
     "metadata": {},
     "output_type": "execute_result"
    }
   ],
   "source": [
    "np.mean(lc)"
   ]
  },
  {
   "cell_type": "code",
   "execution_count": 200,
   "metadata": {},
   "outputs": [
    {
     "data": {
      "text/plain": [
       "DecisionTreeClassifier(class_weight=None, criterion='gini', max_depth=None,\n",
       "            max_features=None, max_leaf_nodes=None,\n",
       "            min_impurity_decrease=0.0, min_impurity_split=None,\n",
       "            min_samples_leaf=1, min_samples_split=2,\n",
       "            min_weight_fraction_leaf=0.0, presort=False, random_state=None,\n",
       "            splitter='best')"
      ]
     },
     "execution_count": 200,
     "metadata": {},
     "output_type": "execute_result"
    }
   ],
   "source": [
    "dt.fit(Xs_train, y_train)"
   ]
  },
  {
   "cell_type": "code",
   "execution_count": 201,
   "metadata": {},
   "outputs": [
    {
     "data": {
      "text/plain": [
       "0.8879405488926495"
      ]
     },
     "execution_count": 201,
     "metadata": {},
     "output_type": "execute_result"
    }
   ],
   "source": [
    "dt.score(Xs_test, y_test)"
   ]
  },
  {
   "cell_type": "code",
   "execution_count": 202,
   "metadata": {},
   "outputs": [
    {
     "name": "stderr",
     "output_type": "stream",
     "text": [
      "C:\\Users\\r_ani\\Anaconda3\\lib\\site-packages\\sklearn\\linear_model\\logistic.py:433: FutureWarning: Default solver will be changed to 'lbfgs' in 0.22. Specify a solver to silence this warning.\n",
      "  FutureWarning)\n"
     ]
    },
    {
     "data": {
      "text/plain": [
       "LogisticRegression(C=1.0, class_weight=None, dual=False, fit_intercept=True,\n",
       "          intercept_scaling=1, max_iter=100, multi_class='warn',\n",
       "          n_jobs=None, penalty='l2', random_state=None, solver='warn',\n",
       "          tol=0.0001, verbose=0, warm_start=False)"
      ]
     },
     "execution_count": 202,
     "metadata": {},
     "output_type": "execute_result"
    }
   ],
   "source": [
    "lg.fit(Xs_train, y_train)"
   ]
  },
  {
   "cell_type": "code",
   "execution_count": 203,
   "metadata": {},
   "outputs": [
    {
     "data": {
      "text/plain": [
       "0.8983886395408727"
      ]
     },
     "execution_count": 203,
     "metadata": {},
     "output_type": "execute_result"
    }
   ],
   "source": [
    "lg.score(Xs_test, y_test)"
   ]
  },
  {
   "cell_type": "code",
   "execution_count": 172,
   "metadata": {},
   "outputs": [
    {
     "data": {
      "text/plain": [
       "RandomForestClassifier(bootstrap=True, class_weight=None, criterion='gini',\n",
       "            max_depth=None, max_features='auto', max_leaf_nodes=None,\n",
       "            min_impurity_decrease=0.0, min_impurity_split=None,\n",
       "            min_samples_leaf=1, min_samples_split=2,\n",
       "            min_weight_fraction_leaf=0.0, n_estimators=10, n_jobs=None,\n",
       "            oob_score=False, random_state=None, verbose=0,\n",
       "            warm_start=False)"
      ]
     },
     "execution_count": 172,
     "metadata": {},
     "output_type": "execute_result"
    }
   ],
   "source": [
    "rt.fit(Xs_train, y_train)"
   ]
  },
  {
   "cell_type": "code",
   "execution_count": 173,
   "metadata": {},
   "outputs": [
    {
     "data": {
      "text/plain": [
       "0.8941946876609521"
      ]
     },
     "execution_count": 173,
     "metadata": {},
     "output_type": "execute_result"
    }
   ],
   "source": [
    "rt.score(Xs_test, y_test)"
   ]
  },
  {
   "cell_type": "code",
   "execution_count": 174,
   "metadata": {},
   "outputs": [
    {
     "data": {
      "text/plain": [
       "ExtraTreesClassifier(bootstrap=False, class_weight=None, criterion='gini',\n",
       "           max_depth=None, max_features='auto', max_leaf_nodes=None,\n",
       "           min_impurity_decrease=0.0, min_impurity_split=None,\n",
       "           min_samples_leaf=1, min_samples_split=2,\n",
       "           min_weight_fraction_leaf=0.0, n_estimators=10, n_jobs=None,\n",
       "           oob_score=False, random_state=None, verbose=0, warm_start=False)"
      ]
     },
     "execution_count": 174,
     "metadata": {},
     "output_type": "execute_result"
    }
   ],
   "source": [
    "et.fit(X_train, y_train)"
   ]
  },
  {
   "cell_type": "code",
   "execution_count": 175,
   "metadata": {},
   "outputs": [
    {
     "data": {
      "text/plain": [
       "0.8604959164152748"
      ]
     },
     "execution_count": 175,
     "metadata": {},
     "output_type": "execute_result"
    }
   ],
   "source": [
    "et.score(X_test, y_test)"
   ]
  },
  {
   "cell_type": "code",
   "execution_count": null,
   "metadata": {},
   "outputs": [],
   "source": [
    "#logistic is good"
   ]
  },
  {
   "cell_type": "code",
   "execution_count": 176,
   "metadata": {},
   "outputs": [
    {
     "data": {
      "text/html": [
       "<div>\n",
       "<style scoped>\n",
       "    .dataframe tbody tr th:only-of-type {\n",
       "        vertical-align: middle;\n",
       "    }\n",
       "\n",
       "    .dataframe tbody tr th {\n",
       "        vertical-align: top;\n",
       "    }\n",
       "\n",
       "    .dataframe thead th {\n",
       "        text-align: right;\n",
       "    }\n",
       "</style>\n",
       "<table border=\"1\" class=\"dataframe\">\n",
       "  <thead>\n",
       "    <tr style=\"text-align: right;\">\n",
       "      <th></th>\n",
       "      <th>euribor_3_month</th>\n",
       "      <th>pdays</th>\n",
       "      <th>poutcome</th>\n",
       "      <th>cons_conf_idx</th>\n",
       "      <th>contact</th>\n",
       "    </tr>\n",
       "  </thead>\n",
       "  <tbody>\n",
       "    <tr>\n",
       "      <th>euribor_3_month</th>\n",
       "      <td>1.000000</td>\n",
       "      <td>0.296921</td>\n",
       "      <td>-0.478726</td>\n",
       "      <td>0.277603</td>\n",
       "      <td>-0.399755</td>\n",
       "    </tr>\n",
       "    <tr>\n",
       "      <th>pdays</th>\n",
       "      <td>0.296921</td>\n",
       "      <td>1.000000</td>\n",
       "      <td>-0.744679</td>\n",
       "      <td>-0.091344</td>\n",
       "      <td>-0.117980</td>\n",
       "    </tr>\n",
       "    <tr>\n",
       "      <th>poutcome</th>\n",
       "      <td>-0.478726</td>\n",
       "      <td>-0.744679</td>\n",
       "      <td>1.000000</td>\n",
       "      <td>-0.041739</td>\n",
       "      <td>0.226833</td>\n",
       "    </tr>\n",
       "    <tr>\n",
       "      <th>cons_conf_idx</th>\n",
       "      <td>0.277603</td>\n",
       "      <td>-0.091344</td>\n",
       "      <td>-0.041739</td>\n",
       "      <td>1.000000</td>\n",
       "      <td>-0.251581</td>\n",
       "    </tr>\n",
       "    <tr>\n",
       "      <th>contact</th>\n",
       "      <td>-0.399755</td>\n",
       "      <td>-0.117980</td>\n",
       "      <td>0.226833</td>\n",
       "      <td>-0.251581</td>\n",
       "      <td>1.000000</td>\n",
       "    </tr>\n",
       "  </tbody>\n",
       "</table>\n",
       "</div>"
      ],
      "text/plain": [
       "                 euribor_3_month     pdays  poutcome  cons_conf_idx   contact\n",
       "euribor_3_month         1.000000  0.296921 -0.478726       0.277603 -0.399755\n",
       "pdays                   0.296921  1.000000 -0.744679      -0.091344 -0.117980\n",
       "poutcome               -0.478726 -0.744679  1.000000      -0.041739  0.226833\n",
       "cons_conf_idx           0.277603 -0.091344 -0.041739       1.000000 -0.251581\n",
       "contact                -0.399755 -0.117980  0.226833      -0.251581  1.000000"
      ]
     },
     "execution_count": 176,
     "metadata": {},
     "output_type": "execute_result"
    }
   ],
   "source": [
    "X.corr()"
   ]
  },
  {
   "cell_type": "code",
   "execution_count": 177,
   "metadata": {},
   "outputs": [
    {
     "data": {
      "text/html": [
       "<div>\n",
       "<style scoped>\n",
       "    .dataframe tbody tr th:only-of-type {\n",
       "        vertical-align: middle;\n",
       "    }\n",
       "\n",
       "    .dataframe tbody tr th {\n",
       "        vertical-align: top;\n",
       "    }\n",
       "\n",
       "    .dataframe thead th {\n",
       "        text-align: right;\n",
       "    }\n",
       "</style>\n",
       "<table border=\"1\" class=\"dataframe\">\n",
       "  <thead>\n",
       "    <tr style=\"text-align: right;\">\n",
       "      <th></th>\n",
       "      <th>age</th>\n",
       "      <th>job</th>\n",
       "      <th>marital</th>\n",
       "      <th>education</th>\n",
       "      <th>default</th>\n",
       "      <th>housing</th>\n",
       "      <th>loan</th>\n",
       "      <th>contact</th>\n",
       "      <th>month</th>\n",
       "      <th>day_of_week</th>\n",
       "      <th>campaign</th>\n",
       "      <th>pdays</th>\n",
       "      <th>previous</th>\n",
       "      <th>poutcome</th>\n",
       "      <th>cons_conf_idx</th>\n",
       "      <th>euribor_3_month</th>\n",
       "      <th>deposit</th>\n",
       "    </tr>\n",
       "  </thead>\n",
       "  <tbody>\n",
       "    <tr>\n",
       "      <th>age</th>\n",
       "      <td>1.000000</td>\n",
       "      <td>0.001251</td>\n",
       "      <td>0.389734</td>\n",
       "      <td>-0.161195</td>\n",
       "      <td>0.165005</td>\n",
       "      <td>-0.001694</td>\n",
       "      <td>-0.007346</td>\n",
       "      <td>-0.007065</td>\n",
       "      <td>0.077263</td>\n",
       "      <td>-0.018532</td>\n",
       "      <td>0.004468</td>\n",
       "      <td>-0.034381</td>\n",
       "      <td>0.024384</td>\n",
       "      <td>0.026392</td>\n",
       "      <td>0.129366</td>\n",
       "      <td>0.010745</td>\n",
       "      <td>0.030419</td>\n",
       "    </tr>\n",
       "    <tr>\n",
       "      <th>job</th>\n",
       "      <td>0.001251</td>\n",
       "      <td>1.000000</td>\n",
       "      <td>-0.027852</td>\n",
       "      <td>0.114367</td>\n",
       "      <td>-0.028309</td>\n",
       "      <td>0.006982</td>\n",
       "      <td>-0.010236</td>\n",
       "      <td>0.025127</td>\n",
       "      <td>0.044803</td>\n",
       "      <td>-0.004977</td>\n",
       "      <td>-0.006917</td>\n",
       "      <td>-0.028457</td>\n",
       "      <td>0.020945</td>\n",
       "      <td>0.021103</td>\n",
       "      <td>0.052737</td>\n",
       "      <td>-0.007912</td>\n",
       "      <td>0.025102</td>\n",
       "    </tr>\n",
       "    <tr>\n",
       "      <th>marital</th>\n",
       "      <td>0.389734</td>\n",
       "      <td>-0.027852</td>\n",
       "      <td>1.000000</td>\n",
       "      <td>-0.087581</td>\n",
       "      <td>0.079490</td>\n",
       "      <td>-0.010517</td>\n",
       "      <td>-0.005758</td>\n",
       "      <td>-0.054543</td>\n",
       "      <td>0.018721</td>\n",
       "      <td>-0.014521</td>\n",
       "      <td>0.007214</td>\n",
       "      <td>0.037930</td>\n",
       "      <td>-0.038668</td>\n",
       "      <td>-0.040395</td>\n",
       "      <td>0.033849</td>\n",
       "      <td>0.092005</td>\n",
       "      <td>-0.046181</td>\n",
       "    </tr>\n",
       "    <tr>\n",
       "      <th>education</th>\n",
       "      <td>-0.161195</td>\n",
       "      <td>0.114367</td>\n",
       "      <td>-0.087581</td>\n",
       "      <td>1.000000</td>\n",
       "      <td>-0.208313</td>\n",
       "      <td>0.022568</td>\n",
       "      <td>0.010496</td>\n",
       "      <td>0.103720</td>\n",
       "      <td>0.112959</td>\n",
       "      <td>-0.003564</td>\n",
       "      <td>-0.001585</td>\n",
       "      <td>-0.019032</td>\n",
       "      <td>0.012232</td>\n",
       "      <td>0.018353</td>\n",
       "      <td>0.040410</td>\n",
       "      <td>-0.022484</td>\n",
       "      <td>0.027014</td>\n",
       "    </tr>\n",
       "    <tr>\n",
       "      <th>default</th>\n",
       "      <td>0.165005</td>\n",
       "      <td>-0.028309</td>\n",
       "      <td>0.079490</td>\n",
       "      <td>-0.208313</td>\n",
       "      <td>1.000000</td>\n",
       "      <td>-0.015794</td>\n",
       "      <td>-0.003805</td>\n",
       "      <td>-0.135233</td>\n",
       "      <td>-0.084354</td>\n",
       "      <td>-0.004303</td>\n",
       "      <td>0.032867</td>\n",
       "      <td>0.080073</td>\n",
       "      <td>-0.102436</td>\n",
       "      <td>-0.108180</td>\n",
       "      <td>0.026514</td>\n",
       "      <td>0.195336</td>\n",
       "      <td>-0.099371</td>\n",
       "    </tr>\n",
       "    <tr>\n",
       "      <th>housing</th>\n",
       "      <td>-0.001694</td>\n",
       "      <td>0.006982</td>\n",
       "      <td>-0.010517</td>\n",
       "      <td>0.022568</td>\n",
       "      <td>-0.015794</td>\n",
       "      <td>1.000000</td>\n",
       "      <td>0.044317</td>\n",
       "      <td>0.082208</td>\n",
       "      <td>0.031878</td>\n",
       "      <td>-0.009041</td>\n",
       "      <td>-0.011094</td>\n",
       "      <td>-0.010559</td>\n",
       "      <td>0.021330</td>\n",
       "      <td>0.023758</td>\n",
       "      <td>-0.033891</td>\n",
       "      <td>-0.059324</td>\n",
       "      <td>0.011567</td>\n",
       "    </tr>\n",
       "    <tr>\n",
       "      <th>loan</th>\n",
       "      <td>-0.007346</td>\n",
       "      <td>-0.010236</td>\n",
       "      <td>-0.005758</td>\n",
       "      <td>0.010496</td>\n",
       "      <td>-0.003805</td>\n",
       "      <td>0.044317</td>\n",
       "      <td>1.000000</td>\n",
       "      <td>0.008567</td>\n",
       "      <td>-0.004217</td>\n",
       "      <td>0.002371</td>\n",
       "      <td>0.005201</td>\n",
       "      <td>0.000354</td>\n",
       "      <td>-0.001343</td>\n",
       "      <td>-0.000482</td>\n",
       "      <td>-0.012034</td>\n",
       "      <td>0.000114</td>\n",
       "      <td>-0.004924</td>\n",
       "    </tr>\n",
       "    <tr>\n",
       "      <th>contact</th>\n",
       "      <td>-0.007065</td>\n",
       "      <td>0.025127</td>\n",
       "      <td>-0.054543</td>\n",
       "      <td>0.103720</td>\n",
       "      <td>-0.135233</td>\n",
       "      <td>0.082208</td>\n",
       "      <td>0.008567</td>\n",
       "      <td>1.000000</td>\n",
       "      <td>0.324342</td>\n",
       "      <td>-0.019595</td>\n",
       "      <td>-0.077410</td>\n",
       "      <td>-0.117980</td>\n",
       "      <td>0.212866</td>\n",
       "      <td>0.226833</td>\n",
       "      <td>-0.251581</td>\n",
       "      <td>-0.399755</td>\n",
       "      <td>0.144788</td>\n",
       "    </tr>\n",
       "    <tr>\n",
       "      <th>month</th>\n",
       "      <td>0.077263</td>\n",
       "      <td>0.044803</td>\n",
       "      <td>0.018721</td>\n",
       "      <td>0.112959</td>\n",
       "      <td>-0.084354</td>\n",
       "      <td>0.031878</td>\n",
       "      <td>-0.004217</td>\n",
       "      <td>0.324342</td>\n",
       "      <td>1.000000</td>\n",
       "      <td>-0.006944</td>\n",
       "      <td>-0.030672</td>\n",
       "      <td>-0.079549</td>\n",
       "      <td>0.063739</td>\n",
       "      <td>0.060825</td>\n",
       "      <td>0.264187</td>\n",
       "      <td>0.163364</td>\n",
       "      <td>0.037170</td>\n",
       "    </tr>\n",
       "    <tr>\n",
       "      <th>day_of_week</th>\n",
       "      <td>-0.018532</td>\n",
       "      <td>-0.004977</td>\n",
       "      <td>-0.014521</td>\n",
       "      <td>-0.003564</td>\n",
       "      <td>-0.004303</td>\n",
       "      <td>-0.009041</td>\n",
       "      <td>0.002371</td>\n",
       "      <td>-0.019595</td>\n",
       "      <td>-0.006944</td>\n",
       "      <td>1.000000</td>\n",
       "      <td>0.015142</td>\n",
       "      <td>0.006772</td>\n",
       "      <td>0.004002</td>\n",
       "      <td>0.003267</td>\n",
       "      <td>-0.000061</td>\n",
       "      <td>-0.005530</td>\n",
       "      <td>0.010040</td>\n",
       "    </tr>\n",
       "    <tr>\n",
       "      <th>campaign</th>\n",
       "      <td>0.004468</td>\n",
       "      <td>-0.006917</td>\n",
       "      <td>0.007214</td>\n",
       "      <td>-0.001585</td>\n",
       "      <td>0.032867</td>\n",
       "      <td>-0.011094</td>\n",
       "      <td>0.005201</td>\n",
       "      <td>-0.077410</td>\n",
       "      <td>-0.030672</td>\n",
       "      <td>0.015142</td>\n",
       "      <td>1.000000</td>\n",
       "      <td>0.052574</td>\n",
       "      <td>-0.079122</td>\n",
       "      <td>-0.086063</td>\n",
       "      <td>-0.013809</td>\n",
       "      <td>0.135091</td>\n",
       "      <td>-0.066337</td>\n",
       "    </tr>\n",
       "    <tr>\n",
       "      <th>pdays</th>\n",
       "      <td>-0.034381</td>\n",
       "      <td>-0.028457</td>\n",
       "      <td>0.037930</td>\n",
       "      <td>-0.019032</td>\n",
       "      <td>0.080073</td>\n",
       "      <td>-0.010559</td>\n",
       "      <td>0.000354</td>\n",
       "      <td>-0.117980</td>\n",
       "      <td>-0.079549</td>\n",
       "      <td>0.006772</td>\n",
       "      <td>0.052574</td>\n",
       "      <td>1.000000</td>\n",
       "      <td>-0.587512</td>\n",
       "      <td>-0.744679</td>\n",
       "      <td>-0.091344</td>\n",
       "      <td>0.296921</td>\n",
       "      <td>-0.324910</td>\n",
       "    </tr>\n",
       "    <tr>\n",
       "      <th>previous</th>\n",
       "      <td>0.024384</td>\n",
       "      <td>0.020945</td>\n",
       "      <td>-0.038668</td>\n",
       "      <td>0.012232</td>\n",
       "      <td>-0.102436</td>\n",
       "      <td>0.021330</td>\n",
       "      <td>-0.001343</td>\n",
       "      <td>0.212866</td>\n",
       "      <td>0.063739</td>\n",
       "      <td>0.004002</td>\n",
       "      <td>-0.079122</td>\n",
       "      <td>-0.587512</td>\n",
       "      <td>1.000000</td>\n",
       "      <td>0.868538</td>\n",
       "      <td>-0.050947</td>\n",
       "      <td>-0.454530</td>\n",
       "      <td>0.230172</td>\n",
       "    </tr>\n",
       "    <tr>\n",
       "      <th>poutcome</th>\n",
       "      <td>0.026392</td>\n",
       "      <td>0.021103</td>\n",
       "      <td>-0.040395</td>\n",
       "      <td>0.018353</td>\n",
       "      <td>-0.108180</td>\n",
       "      <td>0.023758</td>\n",
       "      <td>-0.000482</td>\n",
       "      <td>0.226833</td>\n",
       "      <td>0.060825</td>\n",
       "      <td>0.003267</td>\n",
       "      <td>-0.086063</td>\n",
       "      <td>-0.744679</td>\n",
       "      <td>0.868538</td>\n",
       "      <td>1.000000</td>\n",
       "      <td>-0.041739</td>\n",
       "      <td>-0.478726</td>\n",
       "      <td>0.270364</td>\n",
       "    </tr>\n",
       "    <tr>\n",
       "      <th>cons_conf_idx</th>\n",
       "      <td>0.129366</td>\n",
       "      <td>0.052737</td>\n",
       "      <td>0.033849</td>\n",
       "      <td>0.040410</td>\n",
       "      <td>0.026514</td>\n",
       "      <td>-0.033891</td>\n",
       "      <td>-0.012034</td>\n",
       "      <td>-0.251581</td>\n",
       "      <td>0.264187</td>\n",
       "      <td>-0.000061</td>\n",
       "      <td>-0.013809</td>\n",
       "      <td>-0.091344</td>\n",
       "      <td>-0.050947</td>\n",
       "      <td>-0.041739</td>\n",
       "      <td>1.000000</td>\n",
       "      <td>0.277603</td>\n",
       "      <td>0.054875</td>\n",
       "    </tr>\n",
       "    <tr>\n",
       "      <th>euribor_3_month</th>\n",
       "      <td>0.010745</td>\n",
       "      <td>-0.007912</td>\n",
       "      <td>0.092005</td>\n",
       "      <td>-0.022484</td>\n",
       "      <td>0.195336</td>\n",
       "      <td>-0.059324</td>\n",
       "      <td>0.000114</td>\n",
       "      <td>-0.399755</td>\n",
       "      <td>0.163364</td>\n",
       "      <td>-0.005530</td>\n",
       "      <td>0.135091</td>\n",
       "      <td>0.296921</td>\n",
       "      <td>-0.454530</td>\n",
       "      <td>-0.478726</td>\n",
       "      <td>0.277603</td>\n",
       "      <td>1.000000</td>\n",
       "      <td>-0.307799</td>\n",
       "    </tr>\n",
       "    <tr>\n",
       "      <th>deposit</th>\n",
       "      <td>0.030419</td>\n",
       "      <td>0.025102</td>\n",
       "      <td>-0.046181</td>\n",
       "      <td>0.027014</td>\n",
       "      <td>-0.099371</td>\n",
       "      <td>0.011567</td>\n",
       "      <td>-0.004924</td>\n",
       "      <td>0.144788</td>\n",
       "      <td>0.037170</td>\n",
       "      <td>0.010040</td>\n",
       "      <td>-0.066337</td>\n",
       "      <td>-0.324910</td>\n",
       "      <td>0.230172</td>\n",
       "      <td>0.270364</td>\n",
       "      <td>0.054875</td>\n",
       "      <td>-0.307799</td>\n",
       "      <td>1.000000</td>\n",
       "    </tr>\n",
       "  </tbody>\n",
       "</table>\n",
       "</div>"
      ],
      "text/plain": [
       "                      age       job   marital  education   default   housing  \\\n",
       "age              1.000000  0.001251  0.389734  -0.161195  0.165005 -0.001694   \n",
       "job              0.001251  1.000000 -0.027852   0.114367 -0.028309  0.006982   \n",
       "marital          0.389734 -0.027852  1.000000  -0.087581  0.079490 -0.010517   \n",
       "education       -0.161195  0.114367 -0.087581   1.000000 -0.208313  0.022568   \n",
       "default          0.165005 -0.028309  0.079490  -0.208313  1.000000 -0.015794   \n",
       "housing         -0.001694  0.006982 -0.010517   0.022568 -0.015794  1.000000   \n",
       "loan            -0.007346 -0.010236 -0.005758   0.010496 -0.003805  0.044317   \n",
       "contact         -0.007065  0.025127 -0.054543   0.103720 -0.135233  0.082208   \n",
       "month            0.077263  0.044803  0.018721   0.112959 -0.084354  0.031878   \n",
       "day_of_week     -0.018532 -0.004977 -0.014521  -0.003564 -0.004303 -0.009041   \n",
       "campaign         0.004468 -0.006917  0.007214  -0.001585  0.032867 -0.011094   \n",
       "pdays           -0.034381 -0.028457  0.037930  -0.019032  0.080073 -0.010559   \n",
       "previous         0.024384  0.020945 -0.038668   0.012232 -0.102436  0.021330   \n",
       "poutcome         0.026392  0.021103 -0.040395   0.018353 -0.108180  0.023758   \n",
       "cons_conf_idx    0.129366  0.052737  0.033849   0.040410  0.026514 -0.033891   \n",
       "euribor_3_month  0.010745 -0.007912  0.092005  -0.022484  0.195336 -0.059324   \n",
       "deposit          0.030419  0.025102 -0.046181   0.027014 -0.099371  0.011567   \n",
       "\n",
       "                     loan   contact     month  day_of_week  campaign  \\\n",
       "age             -0.007346 -0.007065  0.077263    -0.018532  0.004468   \n",
       "job             -0.010236  0.025127  0.044803    -0.004977 -0.006917   \n",
       "marital         -0.005758 -0.054543  0.018721    -0.014521  0.007214   \n",
       "education        0.010496  0.103720  0.112959    -0.003564 -0.001585   \n",
       "default         -0.003805 -0.135233 -0.084354    -0.004303  0.032867   \n",
       "housing          0.044317  0.082208  0.031878    -0.009041 -0.011094   \n",
       "loan             1.000000  0.008567 -0.004217     0.002371  0.005201   \n",
       "contact          0.008567  1.000000  0.324342    -0.019595 -0.077410   \n",
       "month           -0.004217  0.324342  1.000000    -0.006944 -0.030672   \n",
       "day_of_week      0.002371 -0.019595 -0.006944     1.000000  0.015142   \n",
       "campaign         0.005201 -0.077410 -0.030672     0.015142  1.000000   \n",
       "pdays            0.000354 -0.117980 -0.079549     0.006772  0.052574   \n",
       "previous        -0.001343  0.212866  0.063739     0.004002 -0.079122   \n",
       "poutcome        -0.000482  0.226833  0.060825     0.003267 -0.086063   \n",
       "cons_conf_idx   -0.012034 -0.251581  0.264187    -0.000061 -0.013809   \n",
       "euribor_3_month  0.000114 -0.399755  0.163364    -0.005530  0.135091   \n",
       "deposit         -0.004924  0.144788  0.037170     0.010040 -0.066337   \n",
       "\n",
       "                    pdays  previous  poutcome  cons_conf_idx  euribor_3_month  \\\n",
       "age             -0.034381  0.024384  0.026392       0.129366         0.010745   \n",
       "job             -0.028457  0.020945  0.021103       0.052737        -0.007912   \n",
       "marital          0.037930 -0.038668 -0.040395       0.033849         0.092005   \n",
       "education       -0.019032  0.012232  0.018353       0.040410        -0.022484   \n",
       "default          0.080073 -0.102436 -0.108180       0.026514         0.195336   \n",
       "housing         -0.010559  0.021330  0.023758      -0.033891        -0.059324   \n",
       "loan             0.000354 -0.001343 -0.000482      -0.012034         0.000114   \n",
       "contact         -0.117980  0.212866  0.226833      -0.251581        -0.399755   \n",
       "month           -0.079549  0.063739  0.060825       0.264187         0.163364   \n",
       "day_of_week      0.006772  0.004002  0.003267      -0.000061        -0.005530   \n",
       "campaign         0.052574 -0.079122 -0.086063      -0.013809         0.135091   \n",
       "pdays            1.000000 -0.587512 -0.744679      -0.091344         0.296921   \n",
       "previous        -0.587512  1.000000  0.868538      -0.050947        -0.454530   \n",
       "poutcome        -0.744679  0.868538  1.000000      -0.041739        -0.478726   \n",
       "cons_conf_idx   -0.091344 -0.050947 -0.041739       1.000000         0.277603   \n",
       "euribor_3_month  0.296921 -0.454530 -0.478726       0.277603         1.000000   \n",
       "deposit         -0.324910  0.230172  0.270364       0.054875        -0.307799   \n",
       "\n",
       "                  deposit  \n",
       "age              0.030419  \n",
       "job              0.025102  \n",
       "marital         -0.046181  \n",
       "education        0.027014  \n",
       "default         -0.099371  \n",
       "housing          0.011567  \n",
       "loan            -0.004924  \n",
       "contact          0.144788  \n",
       "month            0.037170  \n",
       "day_of_week      0.010040  \n",
       "campaign        -0.066337  \n",
       "pdays           -0.324910  \n",
       "previous         0.230172  \n",
       "poutcome         0.270364  \n",
       "cons_conf_idx    0.054875  \n",
       "euribor_3_month -0.307799  \n",
       "deposit          1.000000  "
      ]
     },
     "execution_count": 177,
     "metadata": {},
     "output_type": "execute_result"
    }
   ],
   "source": [
    "data.corr()"
   ]
  },
  {
   "cell_type": "code",
   "execution_count": 230,
   "metadata": {},
   "outputs": [
    {
     "data": {
      "text/html": [
       "<div>\n",
       "<style scoped>\n",
       "    .dataframe tbody tr th:only-of-type {\n",
       "        vertical-align: middle;\n",
       "    }\n",
       "\n",
       "    .dataframe tbody tr th {\n",
       "        vertical-align: top;\n",
       "    }\n",
       "\n",
       "    .dataframe thead th {\n",
       "        text-align: right;\n",
       "    }\n",
       "</style>\n",
       "<table border=\"1\" class=\"dataframe\">\n",
       "  <thead>\n",
       "    <tr style=\"text-align: right;\">\n",
       "      <th></th>\n",
       "      <th>age</th>\n",
       "      <th>job</th>\n",
       "      <th>marital</th>\n",
       "      <th>education</th>\n",
       "      <th>default</th>\n",
       "      <th>housing</th>\n",
       "      <th>loan</th>\n",
       "      <th>contact</th>\n",
       "      <th>month</th>\n",
       "      <th>day_of_week</th>\n",
       "      <th>campaign</th>\n",
       "      <th>pdays</th>\n",
       "      <th>cons_conf_idx</th>\n",
       "      <th>euribor_3_month</th>\n",
       "    </tr>\n",
       "  </thead>\n",
       "  <tbody>\n",
       "    <tr>\n",
       "      <th>0</th>\n",
       "      <td>56</td>\n",
       "      <td>3</td>\n",
       "      <td>2</td>\n",
       "      <td>2</td>\n",
       "      <td>0</td>\n",
       "      <td>0</td>\n",
       "      <td>0</td>\n",
       "      <td>1</td>\n",
       "      <td>5</td>\n",
       "      <td>1</td>\n",
       "      <td>1</td>\n",
       "      <td>999</td>\n",
       "      <td>-36.4</td>\n",
       "      <td>4.857</td>\n",
       "    </tr>\n",
       "    <tr>\n",
       "      <th>1</th>\n",
       "      <td>57</td>\n",
       "      <td>7</td>\n",
       "      <td>2</td>\n",
       "      <td>3</td>\n",
       "      <td>1</td>\n",
       "      <td>0</td>\n",
       "      <td>0</td>\n",
       "      <td>1</td>\n",
       "      <td>5</td>\n",
       "      <td>1</td>\n",
       "      <td>1</td>\n",
       "      <td>999</td>\n",
       "      <td>-36.4</td>\n",
       "      <td>4.857</td>\n",
       "    </tr>\n",
       "    <tr>\n",
       "      <th>2</th>\n",
       "      <td>37</td>\n",
       "      <td>7</td>\n",
       "      <td>2</td>\n",
       "      <td>3</td>\n",
       "      <td>0</td>\n",
       "      <td>2</td>\n",
       "      <td>0</td>\n",
       "      <td>1</td>\n",
       "      <td>5</td>\n",
       "      <td>1</td>\n",
       "      <td>1</td>\n",
       "      <td>999</td>\n",
       "      <td>-36.4</td>\n",
       "      <td>4.857</td>\n",
       "    </tr>\n",
       "    <tr>\n",
       "      <th>3</th>\n",
       "      <td>40</td>\n",
       "      <td>0</td>\n",
       "      <td>2</td>\n",
       "      <td>2</td>\n",
       "      <td>0</td>\n",
       "      <td>0</td>\n",
       "      <td>0</td>\n",
       "      <td>1</td>\n",
       "      <td>5</td>\n",
       "      <td>1</td>\n",
       "      <td>1</td>\n",
       "      <td>999</td>\n",
       "      <td>-36.4</td>\n",
       "      <td>4.857</td>\n",
       "    </tr>\n",
       "    <tr>\n",
       "      <th>4</th>\n",
       "      <td>56</td>\n",
       "      <td>7</td>\n",
       "      <td>2</td>\n",
       "      <td>3</td>\n",
       "      <td>0</td>\n",
       "      <td>0</td>\n",
       "      <td>2</td>\n",
       "      <td>1</td>\n",
       "      <td>5</td>\n",
       "      <td>1</td>\n",
       "      <td>1</td>\n",
       "      <td>999</td>\n",
       "      <td>-36.4</td>\n",
       "      <td>4.857</td>\n",
       "    </tr>\n",
       "  </tbody>\n",
       "</table>\n",
       "</div>"
      ],
      "text/plain": [
       "   age  job  marital  education  default  housing  loan  contact  month  \\\n",
       "0   56    3        2          2        0        0     0        1      5   \n",
       "1   57    7        2          3        1        0     0        1      5   \n",
       "2   37    7        2          3        0        2     0        1      5   \n",
       "3   40    0        2          2        0        0     0        1      5   \n",
       "4   56    7        2          3        0        0     2        1      5   \n",
       "\n",
       "   day_of_week  campaign  pdays  cons_conf_idx  euribor_3_month  \n",
       "0            1         1    999          -36.4            4.857  \n",
       "1            1         1    999          -36.4            4.857  \n",
       "2            1         1    999          -36.4            4.857  \n",
       "3            1         1    999          -36.4            4.857  \n",
       "4            1         1    999          -36.4            4.857  "
      ]
     },
     "execution_count": 230,
     "metadata": {},
     "output_type": "execute_result"
    }
   ],
   "source": [
    "X.head()"
   ]
  },
  {
   "cell_type": "code",
   "execution_count": 209,
   "metadata": {},
   "outputs": [
    {
     "data": {
      "text/plain": [
       "Index(['age', 'job', 'marital', 'education', 'default', 'housing', 'loan',\n",
       "       'contact', 'month', 'day_of_week', 'campaign', 'pdays', 'previous',\n",
       "       'poutcome', 'cons_conf_idx', 'euribor_3_month', 'deposit'],\n",
       "      dtype='object')"
      ]
     },
     "execution_count": 209,
     "metadata": {},
     "output_type": "execute_result"
    }
   ],
   "source": [
    "data.columns"
   ]
  },
  {
   "cell_type": "code",
   "execution_count": 211,
   "metadata": {},
   "outputs": [],
   "source": [
    "X = data.drop(columns = ['previous', 'poutcome'], axis =1)"
   ]
  },
  {
   "cell_type": "code",
   "execution_count": 227,
   "metadata": {},
   "outputs": [],
   "source": [
    "X.drop(columns = ['deposit'], inplace = True, axis =1)"
   ]
  },
  {
   "cell_type": "code",
   "execution_count": 231,
   "metadata": {},
   "outputs": [
    {
     "data": {
      "text/html": [
       "<div>\n",
       "<style scoped>\n",
       "    .dataframe tbody tr th:only-of-type {\n",
       "        vertical-align: middle;\n",
       "    }\n",
       "\n",
       "    .dataframe tbody tr th {\n",
       "        vertical-align: top;\n",
       "    }\n",
       "\n",
       "    .dataframe thead th {\n",
       "        text-align: right;\n",
       "    }\n",
       "</style>\n",
       "<table border=\"1\" class=\"dataframe\">\n",
       "  <thead>\n",
       "    <tr style=\"text-align: right;\">\n",
       "      <th></th>\n",
       "      <th>age</th>\n",
       "      <th>job</th>\n",
       "      <th>marital</th>\n",
       "      <th>education</th>\n",
       "      <th>default</th>\n",
       "      <th>housing</th>\n",
       "      <th>loan</th>\n",
       "      <th>contact</th>\n",
       "      <th>month</th>\n",
       "      <th>day_of_week</th>\n",
       "      <th>campaign</th>\n",
       "      <th>pdays</th>\n",
       "      <th>cons_conf_idx</th>\n",
       "      <th>euribor_3_month</th>\n",
       "    </tr>\n",
       "  </thead>\n",
       "  <tbody>\n",
       "    <tr>\n",
       "      <th>0</th>\n",
       "      <td>56</td>\n",
       "      <td>3</td>\n",
       "      <td>2</td>\n",
       "      <td>2</td>\n",
       "      <td>0</td>\n",
       "      <td>0</td>\n",
       "      <td>0</td>\n",
       "      <td>1</td>\n",
       "      <td>5</td>\n",
       "      <td>1</td>\n",
       "      <td>1</td>\n",
       "      <td>999</td>\n",
       "      <td>-36.4</td>\n",
       "      <td>4.857</td>\n",
       "    </tr>\n",
       "    <tr>\n",
       "      <th>1</th>\n",
       "      <td>57</td>\n",
       "      <td>7</td>\n",
       "      <td>2</td>\n",
       "      <td>3</td>\n",
       "      <td>1</td>\n",
       "      <td>0</td>\n",
       "      <td>0</td>\n",
       "      <td>1</td>\n",
       "      <td>5</td>\n",
       "      <td>1</td>\n",
       "      <td>1</td>\n",
       "      <td>999</td>\n",
       "      <td>-36.4</td>\n",
       "      <td>4.857</td>\n",
       "    </tr>\n",
       "    <tr>\n",
       "      <th>2</th>\n",
       "      <td>37</td>\n",
       "      <td>7</td>\n",
       "      <td>2</td>\n",
       "      <td>3</td>\n",
       "      <td>0</td>\n",
       "      <td>2</td>\n",
       "      <td>0</td>\n",
       "      <td>1</td>\n",
       "      <td>5</td>\n",
       "      <td>1</td>\n",
       "      <td>1</td>\n",
       "      <td>999</td>\n",
       "      <td>-36.4</td>\n",
       "      <td>4.857</td>\n",
       "    </tr>\n",
       "    <tr>\n",
       "      <th>3</th>\n",
       "      <td>40</td>\n",
       "      <td>0</td>\n",
       "      <td>2</td>\n",
       "      <td>2</td>\n",
       "      <td>0</td>\n",
       "      <td>0</td>\n",
       "      <td>0</td>\n",
       "      <td>1</td>\n",
       "      <td>5</td>\n",
       "      <td>1</td>\n",
       "      <td>1</td>\n",
       "      <td>999</td>\n",
       "      <td>-36.4</td>\n",
       "      <td>4.857</td>\n",
       "    </tr>\n",
       "    <tr>\n",
       "      <th>4</th>\n",
       "      <td>56</td>\n",
       "      <td>7</td>\n",
       "      <td>2</td>\n",
       "      <td>3</td>\n",
       "      <td>0</td>\n",
       "      <td>0</td>\n",
       "      <td>2</td>\n",
       "      <td>1</td>\n",
       "      <td>5</td>\n",
       "      <td>1</td>\n",
       "      <td>1</td>\n",
       "      <td>999</td>\n",
       "      <td>-36.4</td>\n",
       "      <td>4.857</td>\n",
       "    </tr>\n",
       "  </tbody>\n",
       "</table>\n",
       "</div>"
      ],
      "text/plain": [
       "   age  job  marital  education  default  housing  loan  contact  month  \\\n",
       "0   56    3        2          2        0        0     0        1      5   \n",
       "1   57    7        2          3        1        0     0        1      5   \n",
       "2   37    7        2          3        0        2     0        1      5   \n",
       "3   40    0        2          2        0        0     0        1      5   \n",
       "4   56    7        2          3        0        0     2        1      5   \n",
       "\n",
       "   day_of_week  campaign  pdays  cons_conf_idx  euribor_3_month  \n",
       "0            1         1    999          -36.4            4.857  \n",
       "1            1         1    999          -36.4            4.857  \n",
       "2            1         1    999          -36.4            4.857  \n",
       "3            1         1    999          -36.4            4.857  \n",
       "4            1         1    999          -36.4            4.857  "
      ]
     },
     "execution_count": 231,
     "metadata": {},
     "output_type": "execute_result"
    }
   ],
   "source": [
    "X.head()"
   ]
  },
  {
   "cell_type": "code",
   "execution_count": 233,
   "metadata": {},
   "outputs": [
    {
     "name": "stderr",
     "output_type": "stream",
     "text": [
      "C:\\Users\\r_ani\\Anaconda3\\lib\\site-packages\\sklearn\\preprocessing\\data.py:625: DataConversionWarning: Data with input dtype int64, float64 were all converted to float64 by StandardScaler.\n",
      "  return self.partial_fit(X, y)\n",
      "C:\\Users\\r_ani\\Anaconda3\\lib\\site-packages\\sklearn\\base.py:462: DataConversionWarning: Data with input dtype int64, float64 were all converted to float64 by StandardScaler.\n",
      "  return self.fit(X, **fit_params).transform(X)\n"
     ]
    }
   ],
   "source": [
    "snn = StandardScaler()\n",
    "Xs = snn.fit_transform(X)"
   ]
  },
  {
   "cell_type": "code",
   "execution_count": 234,
   "metadata": {},
   "outputs": [],
   "source": [
    "y = data.deposit\n"
   ]
  },
  {
   "cell_type": "code",
   "execution_count": 240,
   "metadata": {},
   "outputs": [],
   "source": [
    "Xs_train, Xs_test, y_train, y_test = train_test_split(Xs, y, test_size = 0.20, random_state = 42, stratify = y)"
   ]
  },
  {
   "cell_type": "code",
   "execution_count": 241,
   "metadata": {},
   "outputs": [
    {
     "name": "stderr",
     "output_type": "stream",
     "text": [
      "C:\\Users\\r_ani\\Anaconda3\\lib\\site-packages\\sklearn\\linear_model\\logistic.py:433: FutureWarning: Default solver will be changed to 'lbfgs' in 0.22. Specify a solver to silence this warning.\n",
      "  FutureWarning)\n",
      "C:\\Users\\r_ani\\Anaconda3\\lib\\site-packages\\sklearn\\linear_model\\logistic.py:433: FutureWarning: Default solver will be changed to 'lbfgs' in 0.22. Specify a solver to silence this warning.\n",
      "  FutureWarning)\n",
      "C:\\Users\\r_ani\\Anaconda3\\lib\\site-packages\\sklearn\\linear_model\\logistic.py:433: FutureWarning: Default solver will be changed to 'lbfgs' in 0.22. Specify a solver to silence this warning.\n",
      "  FutureWarning)\n",
      "C:\\Users\\r_ani\\Anaconda3\\lib\\site-packages\\sklearn\\linear_model\\logistic.py:433: FutureWarning: Default solver will be changed to 'lbfgs' in 0.22. Specify a solver to silence this warning.\n",
      "  FutureWarning)\n",
      "C:\\Users\\r_ani\\Anaconda3\\lib\\site-packages\\sklearn\\linear_model\\logistic.py:433: FutureWarning: Default solver will be changed to 'lbfgs' in 0.22. Specify a solver to silence this warning.\n",
      "  FutureWarning)\n"
     ]
    }
   ],
   "source": [
    "dc = cross_val_score(dt,Xs_train, y_train, cv =5)\n",
    "ec = cross_val_score(et, Xs_train, y_train, cv = 5)\n",
    "bg = cross_val_score(bc,Xs_train, y_train, cv =5)\n",
    "lc = cross_val_score(lg, Xs_train, y_train, cv = 5)\n",
    "kc = cross_val_score(knn,Xs_train, y_train, cv =5)\n",
    "rc = cross_val_score(rt, Xs_train, y_train, cv = 5)"
   ]
  },
  {
   "cell_type": "code",
   "execution_count": 242,
   "metadata": {},
   "outputs": [
    {
     "name": "stdout",
     "output_type": "stream",
     "text": [
      "0.8365858718409379\n",
      "0.8884875629613065\n",
      "0.8847845871781059\n",
      "0.8889732439060734\n",
      "0.8845112940567935\n",
      "0.8988374932147684\n"
     ]
    }
   ],
   "source": [
    "print(np.mean(dc))\n",
    "print(np.mean(rc))\n",
    "print(np.mean(bg))\n",
    "print(np.mean(kc))\n",
    "print(np.mean(ec))\n",
    "print(np.mean(lc))"
   ]
  },
  {
   "cell_type": "code",
   "execution_count": 243,
   "metadata": {},
   "outputs": [
    {
     "data": {
      "text/plain": [
       "DecisionTreeClassifier(class_weight=None, criterion='gini', max_depth=None,\n",
       "            max_features=None, max_leaf_nodes=None,\n",
       "            min_impurity_decrease=0.0, min_impurity_split=None,\n",
       "            min_samples_leaf=1, min_samples_split=2,\n",
       "            min_weight_fraction_leaf=0.0, presort=False, random_state=None,\n",
       "            splitter='best')"
      ]
     },
     "execution_count": 243,
     "metadata": {},
     "output_type": "execute_result"
    }
   ],
   "source": [
    "dt.fit(Xs_train, y_train)"
   ]
  },
  {
   "cell_type": "code",
   "execution_count": 239,
   "metadata": {},
   "outputs": [
    {
     "data": {
      "text/plain": [
       "0.9934440161471454"
      ]
     },
     "execution_count": 239,
     "metadata": {},
     "output_type": "execute_result"
    }
   ],
   "source": [
    "dt.score(Xs_train, y_train)"
   ]
  },
  {
   "cell_type": "code",
   "execution_count": 244,
   "metadata": {},
   "outputs": [
    {
     "data": {
      "text/plain": [
       "0.8359839747480879"
      ]
     },
     "execution_count": 244,
     "metadata": {},
     "output_type": "execute_result"
    }
   ],
   "source": [
    "dt.score(Xs_test, y_test)"
   ]
  },
  {
   "cell_type": "code",
   "execution_count": 245,
   "metadata": {},
   "outputs": [
    {
     "data": {
      "text/plain": [
       "0.981151546423043"
      ]
     },
     "execution_count": 245,
     "metadata": {},
     "output_type": "execute_result"
    }
   ],
   "source": [
    "rt.fit(Xs_train, y_train)\n",
    "rt.score(Xs_train, y_train)"
   ]
  },
  {
   "cell_type": "code",
   "execution_count": 246,
   "metadata": {},
   "outputs": [
    {
     "data": {
      "text/plain": [
       "0.9934440161471454"
      ]
     },
     "execution_count": 246,
     "metadata": {},
     "output_type": "execute_result"
    }
   ],
   "source": [
    "et.fit(Xs_train, y_train)\n",
    "et.score(Xs_train, y_train)"
   ]
  },
  {
   "cell_type": "code",
   "execution_count": 247,
   "metadata": {},
   "outputs": [
    {
     "data": {
      "text/plain": [
       "0.9813033053085258"
      ]
     },
     "execution_count": 247,
     "metadata": {},
     "output_type": "execute_result"
    }
   ],
   "source": [
    "bc.fit(Xs_train, y_train)\n",
    "bc.score(Xs_train, y_train)"
   ]
  },
  {
   "cell_type": "code",
   "execution_count": 248,
   "metadata": {},
   "outputs": [
    {
     "data": {
      "text/plain": [
       "0.9118280875345252"
      ]
     },
     "execution_count": 248,
     "metadata": {},
     "output_type": "execute_result"
    }
   ],
   "source": [
    "knn.fit(Xs_train, y_train)\n",
    "knn.score(Xs_train, y_train)"
   ]
  },
  {
   "cell_type": "code",
   "execution_count": 249,
   "metadata": {},
   "outputs": [
    {
     "name": "stderr",
     "output_type": "stream",
     "text": [
      "C:\\Users\\r_ani\\Anaconda3\\lib\\site-packages\\sklearn\\linear_model\\logistic.py:433: FutureWarning: Default solver will be changed to 'lbfgs' in 0.22. Specify a solver to silence this warning.\n",
      "  FutureWarning)\n"
     ]
    },
    {
     "data": {
      "text/plain": [
       "0.8989285822684918"
      ]
     },
     "execution_count": 249,
     "metadata": {},
     "output_type": "execute_result"
    }
   ],
   "source": [
    "lg.fit(Xs_train, y_train)\n",
    "lg.score(Xs_train, y_train)"
   ]
  },
  {
   "cell_type": "code",
   "execution_count": 251,
   "metadata": {},
   "outputs": [
    {
     "data": {
      "text/plain": [
       "0.8832099065193638"
      ]
     },
     "execution_count": 251,
     "metadata": {},
     "output_type": "execute_result"
    }
   ],
   "source": [
    "lg.score(Xs_test, y_test)\n",
    "et.score(Xs_test, y_test)\n",
    "rt.score(Xs_test, y_test)\n",
    "dt.score(Xs_test, y_test)\n",
    "knn.score(Xs_test, y_test)\n",
    "bc.score(Xs_test, y_test)"
   ]
  },
  {
   "cell_type": "code",
   "execution_count": 252,
   "metadata": {},
   "outputs": [
    {
     "data": {
      "text/plain": [
       "0.8974141070778195"
      ]
     },
     "execution_count": 252,
     "metadata": {},
     "output_type": "execute_result"
    }
   ],
   "source": [
    "lg.score(Xs_test, y_test)"
   ]
  },
  {
   "cell_type": "code",
   "execution_count": 253,
   "metadata": {},
   "outputs": [
    {
     "data": {
      "text/plain": [
       "0.8830885030957873"
      ]
     },
     "execution_count": 253,
     "metadata": {},
     "output_type": "execute_result"
    }
   ],
   "source": [
    "et.score(Xs_test, y_test)"
   ]
  },
  {
   "cell_type": "code",
   "execution_count": 254,
   "metadata": {},
   "outputs": [
    {
     "data": {
      "text/plain": [
       "0.8912225324754158"
      ]
     },
     "execution_count": 254,
     "metadata": {},
     "output_type": "execute_result"
    }
   ],
   "source": [
    "rt.score(Xs_test, y_test)"
   ]
  },
  {
   "cell_type": "code",
   "execution_count": 229,
   "metadata": {},
   "outputs": [
    {
     "data": {
      "text/html": [
       "<div>\n",
       "<style scoped>\n",
       "    .dataframe tbody tr th:only-of-type {\n",
       "        vertical-align: middle;\n",
       "    }\n",
       "\n",
       "    .dataframe tbody tr th {\n",
       "        vertical-align: top;\n",
       "    }\n",
       "\n",
       "    .dataframe thead th {\n",
       "        text-align: right;\n",
       "    }\n",
       "</style>\n",
       "<table border=\"1\" class=\"dataframe\">\n",
       "  <thead>\n",
       "    <tr style=\"text-align: right;\">\n",
       "      <th></th>\n",
       "      <th>age</th>\n",
       "      <th>job</th>\n",
       "      <th>marital</th>\n",
       "      <th>education</th>\n",
       "      <th>default</th>\n",
       "      <th>housing</th>\n",
       "      <th>loan</th>\n",
       "      <th>contact</th>\n",
       "      <th>month</th>\n",
       "      <th>day_of_week</th>\n",
       "      <th>campaign</th>\n",
       "      <th>pdays</th>\n",
       "      <th>cons_conf_idx</th>\n",
       "      <th>euribor_3_month</th>\n",
       "    </tr>\n",
       "  </thead>\n",
       "  <tbody>\n",
       "    <tr>\n",
       "      <th>0</th>\n",
       "      <td>56</td>\n",
       "      <td>3</td>\n",
       "      <td>2</td>\n",
       "      <td>2</td>\n",
       "      <td>0</td>\n",
       "      <td>0</td>\n",
       "      <td>0</td>\n",
       "      <td>1</td>\n",
       "      <td>5</td>\n",
       "      <td>1</td>\n",
       "      <td>1</td>\n",
       "      <td>999</td>\n",
       "      <td>-36.4</td>\n",
       "      <td>4.857</td>\n",
       "    </tr>\n",
       "    <tr>\n",
       "      <th>1</th>\n",
       "      <td>57</td>\n",
       "      <td>7</td>\n",
       "      <td>2</td>\n",
       "      <td>3</td>\n",
       "      <td>1</td>\n",
       "      <td>0</td>\n",
       "      <td>0</td>\n",
       "      <td>1</td>\n",
       "      <td>5</td>\n",
       "      <td>1</td>\n",
       "      <td>1</td>\n",
       "      <td>999</td>\n",
       "      <td>-36.4</td>\n",
       "      <td>4.857</td>\n",
       "    </tr>\n",
       "    <tr>\n",
       "      <th>2</th>\n",
       "      <td>37</td>\n",
       "      <td>7</td>\n",
       "      <td>2</td>\n",
       "      <td>3</td>\n",
       "      <td>0</td>\n",
       "      <td>2</td>\n",
       "      <td>0</td>\n",
       "      <td>1</td>\n",
       "      <td>5</td>\n",
       "      <td>1</td>\n",
       "      <td>1</td>\n",
       "      <td>999</td>\n",
       "      <td>-36.4</td>\n",
       "      <td>4.857</td>\n",
       "    </tr>\n",
       "    <tr>\n",
       "      <th>3</th>\n",
       "      <td>40</td>\n",
       "      <td>0</td>\n",
       "      <td>2</td>\n",
       "      <td>2</td>\n",
       "      <td>0</td>\n",
       "      <td>0</td>\n",
       "      <td>0</td>\n",
       "      <td>1</td>\n",
       "      <td>5</td>\n",
       "      <td>1</td>\n",
       "      <td>1</td>\n",
       "      <td>999</td>\n",
       "      <td>-36.4</td>\n",
       "      <td>4.857</td>\n",
       "    </tr>\n",
       "    <tr>\n",
       "      <th>4</th>\n",
       "      <td>56</td>\n",
       "      <td>7</td>\n",
       "      <td>2</td>\n",
       "      <td>3</td>\n",
       "      <td>0</td>\n",
       "      <td>0</td>\n",
       "      <td>2</td>\n",
       "      <td>1</td>\n",
       "      <td>5</td>\n",
       "      <td>1</td>\n",
       "      <td>1</td>\n",
       "      <td>999</td>\n",
       "      <td>-36.4</td>\n",
       "      <td>4.857</td>\n",
       "    </tr>\n",
       "  </tbody>\n",
       "</table>\n",
       "</div>"
      ],
      "text/plain": [
       "   age  job  marital  education  default  housing  loan  contact  month  \\\n",
       "0   56    3        2          2        0        0     0        1      5   \n",
       "1   57    7        2          3        1        0     0        1      5   \n",
       "2   37    7        2          3        0        2     0        1      5   \n",
       "3   40    0        2          2        0        0     0        1      5   \n",
       "4   56    7        2          3        0        0     2        1      5   \n",
       "\n",
       "   day_of_week  campaign  pdays  cons_conf_idx  euribor_3_month  \n",
       "0            1         1    999          -36.4            4.857  \n",
       "1            1         1    999          -36.4            4.857  \n",
       "2            1         1    999          -36.4            4.857  \n",
       "3            1         1    999          -36.4            4.857  \n",
       "4            1         1    999          -36.4            4.857  "
      ]
     },
     "execution_count": 229,
     "metadata": {},
     "output_type": "execute_result"
    }
   ],
   "source": [
    "X.head()"
   ]
  },
  {
   "cell_type": "code",
   "execution_count": 255,
   "metadata": {},
   "outputs": [
    {
     "data": {
      "text/plain": [
       "0.8359839747480879"
      ]
     },
     "execution_count": 255,
     "metadata": {},
     "output_type": "execute_result"
    }
   ],
   "source": [
    "dt.score(Xs_test, y_test)"
   ]
  },
  {
   "cell_type": "code",
   "execution_count": 256,
   "metadata": {},
   "outputs": [
    {
     "data": {
      "text/plain": [
       "0.8908583222046862"
      ]
     },
     "execution_count": 256,
     "metadata": {},
     "output_type": "execute_result"
    }
   ],
   "source": [
    "knn.score(Xs_test, y_test)"
   ]
  },
  {
   "cell_type": "code",
   "execution_count": 257,
   "metadata": {},
   "outputs": [
    {
     "data": {
      "text/plain": [
       "0.8832099065193638"
      ]
     },
     "execution_count": 257,
     "metadata": {},
     "output_type": "execute_result"
    }
   ],
   "source": [
    "bc.score(Xs_test, y_test)"
   ]
  },
  {
   "cell_type": "code",
   "execution_count": 260,
   "metadata": {},
   "outputs": [
    {
     "data": {
      "text/plain": [
       "0.8873348873348873"
      ]
     },
     "execution_count": 260,
     "metadata": {},
     "output_type": "execute_result"
    }
   ],
   "source": [
    "1. - np.mean(data.deposit)"
   ]
  },
  {
   "cell_type": "code",
   "execution_count": 42,
   "metadata": {},
   "outputs": [
    {
     "data": {
      "text/plain": [
       "Index(['age', 'job', 'marital', 'education', 'default', 'housing', 'loan',\n",
       "       'contact', 'month', 'day_of_week', 'campaign', 'pdays', 'cons_conf_idx',\n",
       "       'euribor_3_month', 'deposit'],\n",
       "      dtype='object')"
      ]
     },
     "execution_count": 42,
     "metadata": {},
     "output_type": "execute_result"
    }
   ],
   "source": [
    "data.columns"
   ]
  },
  {
   "cell_type": "code",
   "execution_count": 44,
   "metadata": {},
   "outputs": [],
   "source": [
    "#Dropped pdays and model as it has some correlation with other features like euribor interest.\n",
    "data.drop(columns = ['pdays'], inplace = True, axis = 1)"
   ]
  },
  {
   "cell_type": "code",
   "execution_count": null,
   "metadata": {},
   "outputs": [],
   "source": [
    "#### Trying to group by and see the subscription patterns:"
   ]
  },
  {
   "cell_type": "code",
   "execution_count": 46,
   "metadata": {},
   "outputs": [
    {
     "data": {
      "text/plain": [
       "loan  deposit\n",
       "0     0          30096\n",
       "      1           3850\n",
       "1     0            883\n",
       "      1            107\n",
       "2     0           5565\n",
       "      1            683\n",
       "Name: deposit, dtype: int64"
      ]
     },
     "execution_count": 46,
     "metadata": {},
     "output_type": "execute_result"
    }
   ],
   "source": [
    "data.groupby('loan').deposit.value_counts()"
   ]
  },
  {
   "cell_type": "code",
   "execution_count": 47,
   "metadata": {},
   "outputs": [
    {
     "data": {
      "text/plain": [
       "housing  deposit\n",
       "0        0          16595\n",
       "         1           2026\n",
       "1        0            883\n",
       "         1            107\n",
       "2        0          19066\n",
       "         1           2507\n",
       "Name: deposit, dtype: int64"
      ]
     },
     "execution_count": 47,
     "metadata": {},
     "output_type": "execute_result"
    }
   ],
   "source": [
    "data.groupby('housing').deposit.value_counts()"
   ]
  },
  {
   "cell_type": "code",
   "execution_count": 48,
   "metadata": {},
   "outputs": [
    {
     "data": {
      "text/plain": [
       "marital  deposit\n",
       "0        0             68\n",
       "         1             12\n",
       "1        0           9948\n",
       "         1           1620\n",
       "2        0          22393\n",
       "         1           2532\n",
       "3        0           4135\n",
       "         1            476\n",
       "Name: deposit, dtype: int64"
      ]
     },
     "execution_count": 48,
     "metadata": {},
     "output_type": "execute_result"
    }
   ],
   "source": [
    "data.groupby('marital').deposit.value_counts()"
   ]
  },
  {
   "cell_type": "code",
   "execution_count": 50,
   "metadata": {},
   "outputs": [
    {
     "data": {
      "text/plain": [
       "education  deposit\n",
       "0          0             14\n",
       "           1              4\n",
       "1          0           1480\n",
       "           1            251\n",
       "2          0           5852\n",
       "           1            616\n",
       "3          0          14053\n",
       "           1           1504\n",
       "4          0          15145\n",
       "           1           2265\n",
       "Name: deposit, dtype: int64"
      ]
     },
     "execution_count": 50,
     "metadata": {},
     "output_type": "execute_result"
    }
   ],
   "source": [
    "data.groupby('education').deposit.value_counts()"
   ]
  },
  {
   "cell_type": "code",
   "execution_count": 51,
   "metadata": {},
   "outputs": [
    {
     "data": {
      "text/plain": [
       "Index(['age', 'job', 'marital', 'education', 'default', 'housing', 'loan',\n",
       "       'contact', 'month', 'day_of_week', 'campaign', 'cons_conf_idx',\n",
       "       'euribor_3_month', 'deposit'],\n",
       "      dtype='object')"
      ]
     },
     "execution_count": 51,
     "metadata": {},
     "output_type": "execute_result"
    }
   ],
   "source": [
    "data.columns"
   ]
  },
  {
   "cell_type": "code",
   "execution_count": 52,
   "metadata": {},
   "outputs": [
    {
     "name": "stdout",
     "output_type": "stream",
     "text": [
      "<class 'pandas.core.frame.DataFrame'>\n",
      "RangeIndex: 41184 entries, 0 to 41183\n",
      "Data columns (total 14 columns):\n",
      "age                41184 non-null int64\n",
      "job                41184 non-null int64\n",
      "marital            41184 non-null int64\n",
      "education          41184 non-null int64\n",
      "default            41184 non-null int64\n",
      "housing            41184 non-null int64\n",
      "loan               41184 non-null int64\n",
      "contact            41184 non-null int64\n",
      "month              41184 non-null int64\n",
      "day_of_week        41184 non-null int64\n",
      "campaign           41184 non-null int64\n",
      "cons_conf_idx      41184 non-null float64\n",
      "euribor_3_month    41184 non-null float64\n",
      "deposit            41184 non-null int64\n",
      "dtypes: float64(2), int64(12)\n",
      "memory usage: 4.4 MB\n"
     ]
    }
   ],
   "source": [
    "data.info()"
   ]
  },
  {
   "cell_type": "code",
   "execution_count": 53,
   "metadata": {},
   "outputs": [],
   "source": [
    "X = data.iloc[:, :-1]"
   ]
  },
  {
   "cell_type": "code",
   "execution_count": 54,
   "metadata": {},
   "outputs": [],
   "source": [
    "y = data.deposit"
   ]
  },
  {
   "cell_type": "code",
   "execution_count": 56,
   "metadata": {},
   "outputs": [],
   "source": [
    "snn = StandardScaler()\n"
   ]
  },
  {
   "cell_type": "code",
   "execution_count": 61,
   "metadata": {},
   "outputs": [
    {
     "data": {
      "text/plain": [
       "Index(['age', 'job', 'marital', 'education', 'default', 'housing', 'loan',\n",
       "       'contact', 'month', 'day_of_week', 'campaign', 'cons_conf_idx',\n",
       "       'euribor_3_month'],\n",
       "      dtype='object')"
      ]
     },
     "execution_count": 61,
     "metadata": {},
     "output_type": "execute_result"
    }
   ],
   "source": [
    "X.columns"
   ]
  },
  {
   "cell_type": "code",
   "execution_count": 57,
   "metadata": {},
   "outputs": [
    {
     "name": "stderr",
     "output_type": "stream",
     "text": [
      "C:\\Users\\r_ani\\Anaconda3\\lib\\site-packages\\sklearn\\preprocessing\\data.py:625: DataConversionWarning: Data with input dtype int64, float64 were all converted to float64 by StandardScaler.\n",
      "  return self.partial_fit(X, y)\n",
      "C:\\Users\\r_ani\\Anaconda3\\lib\\site-packages\\sklearn\\base.py:462: DataConversionWarning: Data with input dtype int64, float64 were all converted to float64 by StandardScaler.\n",
      "  return self.fit(X, **fit_params).transform(X)\n"
     ]
    }
   ],
   "source": [
    "Xs = snn.fit_transform(X)"
   ]
  },
  {
   "cell_type": "code",
   "execution_count": 58,
   "metadata": {},
   "outputs": [],
   "source": [
    "X_train, X_test, y_train, y_test = train_test_split(Xs, y, test_size = 0.33, random_state = 42, stratify = y)"
   ]
  },
  {
   "cell_type": "code",
   "execution_count": 59,
   "metadata": {},
   "outputs": [],
   "source": [
    "lg = LogisticRegression()\n",
    "rt = RandomForestClassifier()\n",
    "et = ExtraTreesClassifier()\n",
    "knn = KNeighborsClassifier()"
   ]
  },
  {
   "cell_type": "code",
   "execution_count": 60,
   "metadata": {},
   "outputs": [
    {
     "name": "stderr",
     "output_type": "stream",
     "text": [
      "C:\\Users\\r_ani\\Anaconda3\\lib\\site-packages\\sklearn\\linear_model\\logistic.py:433: FutureWarning: Default solver will be changed to 'lbfgs' in 0.22. Specify a solver to silence this warning.\n",
      "  FutureWarning)\n",
      "C:\\Users\\r_ani\\Anaconda3\\lib\\site-packages\\sklearn\\linear_model\\logistic.py:433: FutureWarning: Default solver will be changed to 'lbfgs' in 0.22. Specify a solver to silence this warning.\n",
      "  FutureWarning)\n",
      "C:\\Users\\r_ani\\Anaconda3\\lib\\site-packages\\sklearn\\linear_model\\logistic.py:433: FutureWarning: Default solver will be changed to 'lbfgs' in 0.22. Specify a solver to silence this warning.\n",
      "  FutureWarning)\n",
      "C:\\Users\\r_ani\\Anaconda3\\lib\\site-packages\\sklearn\\linear_model\\logistic.py:433: FutureWarning: Default solver will be changed to 'lbfgs' in 0.22. Specify a solver to silence this warning.\n",
      "  FutureWarning)\n",
      "C:\\Users\\r_ani\\Anaconda3\\lib\\site-packages\\sklearn\\linear_model\\logistic.py:433: FutureWarning: Default solver will be changed to 'lbfgs' in 0.22. Specify a solver to silence this warning.\n",
      "  FutureWarning)\n",
      "C:\\Users\\r_ani\\Anaconda3\\lib\\site-packages\\sklearn\\ensemble\\forest.py:246: FutureWarning: The default value of n_estimators will change from 10 in version 0.20 to 100 in 0.22.\n",
      "  \"10 in version 0.20 to 100 in 0.22.\", FutureWarning)\n"
     ]
    },
    {
     "name": "stdout",
     "output_type": "stream",
     "text": [
      "logistic:  0.8859130468367665\n"
     ]
    },
    {
     "name": "stderr",
     "output_type": "stream",
     "text": [
      "C:\\Users\\r_ani\\Anaconda3\\lib\\site-packages\\sklearn\\ensemble\\forest.py:246: FutureWarning: The default value of n_estimators will change from 10 in version 0.20 to 100 in 0.22.\n",
      "  \"10 in version 0.20 to 100 in 0.22.\", FutureWarning)\n",
      "C:\\Users\\r_ani\\Anaconda3\\lib\\site-packages\\sklearn\\ensemble\\forest.py:246: FutureWarning: The default value of n_estimators will change from 10 in version 0.20 to 100 in 0.22.\n",
      "  \"10 in version 0.20 to 100 in 0.22.\", FutureWarning)\n",
      "C:\\Users\\r_ani\\Anaconda3\\lib\\site-packages\\sklearn\\ensemble\\forest.py:246: FutureWarning: The default value of n_estimators will change from 10 in version 0.20 to 100 in 0.22.\n",
      "  \"10 in version 0.20 to 100 in 0.22.\", FutureWarning)\n",
      "C:\\Users\\r_ani\\Anaconda3\\lib\\site-packages\\sklearn\\ensemble\\forest.py:246: FutureWarning: The default value of n_estimators will change from 10 in version 0.20 to 100 in 0.22.\n",
      "  \"10 in version 0.20 to 100 in 0.22.\", FutureWarning)\n"
     ]
    },
    {
     "name": "stdout",
     "output_type": "stream",
     "text": [
      "Random:  0.885949180189661\n"
     ]
    },
    {
     "name": "stderr",
     "output_type": "stream",
     "text": [
      "C:\\Users\\r_ani\\Anaconda3\\lib\\site-packages\\sklearn\\ensemble\\forest.py:246: FutureWarning: The default value of n_estimators will change from 10 in version 0.20 to 100 in 0.22.\n",
      "  \"10 in version 0.20 to 100 in 0.22.\", FutureWarning)\n",
      "C:\\Users\\r_ani\\Anaconda3\\lib\\site-packages\\sklearn\\ensemble\\forest.py:246: FutureWarning: The default value of n_estimators will change from 10 in version 0.20 to 100 in 0.22.\n",
      "  \"10 in version 0.20 to 100 in 0.22.\", FutureWarning)\n",
      "C:\\Users\\r_ani\\Anaconda3\\lib\\site-packages\\sklearn\\ensemble\\forest.py:246: FutureWarning: The default value of n_estimators will change from 10 in version 0.20 to 100 in 0.22.\n",
      "  \"10 in version 0.20 to 100 in 0.22.\", FutureWarning)\n",
      "C:\\Users\\r_ani\\Anaconda3\\lib\\site-packages\\sklearn\\ensemble\\forest.py:246: FutureWarning: The default value of n_estimators will change from 10 in version 0.20 to 100 in 0.22.\n",
      "  \"10 in version 0.20 to 100 in 0.22.\", FutureWarning)\n",
      "C:\\Users\\r_ani\\Anaconda3\\lib\\site-packages\\sklearn\\ensemble\\forest.py:246: FutureWarning: The default value of n_estimators will change from 10 in version 0.20 to 100 in 0.22.\n",
      "  \"10 in version 0.20 to 100 in 0.22.\", FutureWarning)\n"
     ]
    },
    {
     "name": "stdout",
     "output_type": "stream",
     "text": [
      "Extra Tree Regressor:  0.8800055359370695\n",
      "Kneighbors:  0.8831223709758991\n"
     ]
    }
   ],
   "source": [
    "print(\"logistic: \", np.mean(cross_val_score(lg, X_train, y_train, cv = 5)))\n",
    "print(\"Random: \", np.mean(cross_val_score(rt, X_train, y_train, cv = 5)))\n",
    "print(\"Extra Tree Regressor: \", np.mean(cross_val_score(et, X_train, y_train, cv = 5)))\n",
    "print(\"Kneighbors: \", np.mean(cross_val_score(knn, X_train, y_train, cv = 5)))"
   ]
  },
  {
   "cell_type": "code",
   "execution_count": 146,
   "metadata": {},
   "outputs": [],
   "source": [
    "### until here with feature selection and models it is found that the models are representing the majority class as 90% data which has 'no'\n",
    "### as target response. Minority class is the 'yes' as response. Next step should be sampling techniques."
   ]
  },
  {
   "cell_type": "code",
   "execution_count": null,
   "metadata": {},
   "outputs": [],
   "source": []
  }
 ],
 "metadata": {
  "kernelspec": {
   "display_name": "Python 3",
   "language": "python",
   "name": "python3"
  },
  "language_info": {
   "codemirror_mode": {
    "name": "ipython",
    "version": 3
   },
   "file_extension": ".py",
   "mimetype": "text/x-python",
   "name": "python",
   "nbconvert_exporter": "python",
   "pygments_lexer": "ipython3",
   "version": "3.7.1"
  }
 },
 "nbformat": 4,
 "nbformat_minor": 2
}
